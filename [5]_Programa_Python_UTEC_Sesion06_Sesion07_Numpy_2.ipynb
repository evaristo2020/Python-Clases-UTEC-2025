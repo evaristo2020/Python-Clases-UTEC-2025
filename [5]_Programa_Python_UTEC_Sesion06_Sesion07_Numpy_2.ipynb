{
  "nbformat": 4,
  "nbformat_minor": 0,
  "metadata": {
    "colab": {
      "provenance": [],
      "include_colab_link": true
    },
    "kernelspec": {
      "name": "python3",
      "display_name": "Python 3"
    },
    "language_info": {
      "name": "python"
    }
  },
  "cells": [
    {
      "cell_type": "markdown",
      "metadata": {
        "id": "view-in-github",
        "colab_type": "text"
      },
      "source": [
        "<a href=\"https://colab.research.google.com/github/evaristo2020/Python-Clases-UTEC-2025/blob/main/%5B5%5D_Programa_Python_UTEC_Sesion06_Sesion07_Numpy_2.ipynb\" target=\"_parent\"><img src=\"https://colab.research.google.com/assets/colab-badge.svg\" alt=\"Open In Colab\"/></a>"
      ]
    },
    {
      "cell_type": "markdown",
      "source": [
        "# Numpy"
      ],
      "metadata": {
        "id": "ngUlICI8jd0i"
      }
    },
    {
      "cell_type": "markdown",
      "source": [
        "## [1] Crear un arreglo NumPy"
      ],
      "metadata": {
        "id": "iZYH84wxjgsj"
      }
    },
    {
      "cell_type": "code",
      "execution_count": 1,
      "metadata": {
        "id": "04KfkbAkjGKM"
      },
      "outputs": [],
      "source": [
        "# Llamar a la librería\n",
        "\n",
        "import numpy as np"
      ]
    },
    {
      "cell_type": "code",
      "source": [
        "# Crear un arreglo en numpy\n",
        "\n",
        "arr_1 = np.array([2,4,6])\n",
        "\n",
        "print(f\"El arreglo es \\n{arr_1}\")\n",
        "print(f\"El tipo de objeto es \\n{type(arr_1)}\")"
      ],
      "metadata": {
        "colab": {
          "base_uri": "https://localhost:8080/"
        },
        "id": "aItRCQLRje7C",
        "outputId": "a7714524-1609-4979-993a-b70d6514f2a0"
      },
      "execution_count": 2,
      "outputs": [
        {
          "output_type": "stream",
          "name": "stdout",
          "text": [
            "El arreglo es \n",
            "[2 4 6]\n",
            "El tipo de objeto es \n",
            "<class 'numpy.ndarray'>\n"
          ]
        }
      ]
    },
    {
      "cell_type": "code",
      "source": [
        "# Lista de listas\n",
        "\n",
        "lista_1 = [[0,1,2,3],[4,5,6,7],[8,9,10,11]]\n",
        "\n",
        "print(f\"La lista es \\n{lista_1}\")\n",
        "print(f\"El tipo de dato es {type(lista_1)}\")\n"
      ],
      "metadata": {
        "colab": {
          "base_uri": "https://localhost:8080/"
        },
        "id": "ymKxqB7ekLWP",
        "outputId": "aa01d324-c5a5-46c8-90ae-ff531c2e57ab"
      },
      "execution_count": 3,
      "outputs": [
        {
          "output_type": "stream",
          "name": "stdout",
          "text": [
            "La lista es \n",
            "[[0, 1, 2, 3], [4, 5, 6, 7], [8, 9, 10, 11]]\n",
            "El tipo de dato es <class 'list'>\n"
          ]
        }
      ]
    },
    {
      "cell_type": "code",
      "source": [
        "arr_2 = np.array([[0, 1, 2, 3], [4, 5, 6, 7], [8, 9, 10, 11]])\n",
        "\n",
        "print(f\"El arreglo es \\n{arr_2}\")\n",
        "print(f\"El tipo de objeto es {type(arr_2)}\")"
      ],
      "metadata": {
        "colab": {
          "base_uri": "https://localhost:8080/"
        },
        "id": "sKi5XI3ckLhz",
        "outputId": "19a72659-fb6f-4b38-d5b1-4ea9579b0281"
      },
      "execution_count": 4,
      "outputs": [
        {
          "output_type": "stream",
          "name": "stdout",
          "text": [
            "El arreglo es \n",
            "[[ 0  1  2  3]\n",
            " [ 4  5  6  7]\n",
            " [ 8  9 10 11]]\n",
            "El tipo de objeto es <class 'numpy.ndarray'>\n"
          ]
        }
      ]
    },
    {
      "cell_type": "code",
      "source": [
        "print(f\"La lista es \\n{lista_1}\")\n",
        "print(f\"El primer elemento de la lista de listas es \\n{lista_1[0]}\")\n",
        "\n",
        "print(\"\\n***Operaciones matemática con la lista***\")\n",
        "\n",
        "print(f\"\\nEl valor mínimo es {min(lista_1[0])}\")\n",
        "print(f\"El valor máximo es {max(lista_1[0])}\")\n",
        "print(f\"El valor total es {sum(lista_1[0])}\")\n",
        "print(f\"La cantidad de elementos es {len(lista_1[0])}\")\n",
        "print(f\"El valor promedio es {sum(lista_1[0])/len(lista_1[0])}\")\n"
      ],
      "metadata": {
        "colab": {
          "base_uri": "https://localhost:8080/"
        },
        "id": "ziYARa9bkLny",
        "outputId": "f5f3b6b9-4dec-4522-d66c-53859807202b"
      },
      "execution_count": 5,
      "outputs": [
        {
          "output_type": "stream",
          "name": "stdout",
          "text": [
            "La lista es \n",
            "[[0, 1, 2, 3], [4, 5, 6, 7], [8, 9, 10, 11]]\n",
            "El primer elemento de la lista de listas es \n",
            "[0, 1, 2, 3]\n",
            "\n",
            "***Operaciones matemática con la lista***\n",
            "\n",
            "El valor mínimo es 0\n",
            "El valor máximo es 3\n",
            "El valor total es 6\n",
            "La cantidad de elementos es 4\n",
            "El valor promedio es 1.5\n"
          ]
        }
      ]
    },
    {
      "cell_type": "code",
      "source": [
        "## Operaciones con 2 listas\n",
        "\n",
        "l1 = [1,2,3]\n",
        "l2 = [4,5,6]\n",
        "\n",
        "print(f\"El resultado de trabajar con 2 listas y el símbolo + es \\n{l1+l2}\")\n",
        "print(f\"\\nEl resultado de sumar ambas listas es \\n{sum(l1)+sum(l2)}\")"
      ],
      "metadata": {
        "colab": {
          "base_uri": "https://localhost:8080/"
        },
        "id": "IDV_LpNMkMBR",
        "outputId": "7e56c56c-85c7-4079-ee54-648432426c9f"
      },
      "execution_count": 6,
      "outputs": [
        {
          "output_type": "stream",
          "name": "stdout",
          "text": [
            "El resultado de trabajar con 2 listas y el símbolo + es \n",
            "[1, 2, 3, 4, 5, 6]\n",
            "\n",
            "El resultado de sumar ambas listas es \n",
            "21\n"
          ]
        }
      ]
    },
    {
      "cell_type": "code",
      "source": [
        "print(f\"Operaciones con arreglos de NumPy\")\n",
        "print(f\"\\nEl arreglo de numpy es {arr_1}\")"
      ],
      "metadata": {
        "colab": {
          "base_uri": "https://localhost:8080/"
        },
        "id": "6Hq3LtQ5nN8z",
        "outputId": "7d64a7a5-a328-4f42-f72c-5a42070f196e"
      },
      "execution_count": 7,
      "outputs": [
        {
          "output_type": "stream",
          "name": "stdout",
          "text": [
            "Operaciones con arreglos de NumPy\n",
            "\n",
            "El arreglo de numpy es [2 4 6]\n"
          ]
        }
      ]
    },
    {
      "cell_type": "code",
      "source": [
        "arr_3 = arr_1 + 5\n",
        "print(f\"El arreglo resultante es \\n{arr_3}\")"
      ],
      "metadata": {
        "colab": {
          "base_uri": "https://localhost:8080/"
        },
        "id": "_fpH2imtj7zM",
        "outputId": "782df6dc-259c-4e2f-d957-439bf8aca77c"
      },
      "execution_count": 8,
      "outputs": [
        {
          "output_type": "stream",
          "name": "stdout",
          "text": [
            "El arreglo resultante es \n",
            "[ 7  9 11]\n"
          ]
        }
      ]
    },
    {
      "cell_type": "code",
      "source": [
        "# Operaciones matemáticas con arreglos de NumPy\n",
        "arr_4 = np.array([1,2,3,4,5])\n",
        "arr_5 = np.array([10,20,30,40,50])\n",
        "\n",
        "print(f\"El primer arreglo es \\n{arr_4}\")\n",
        "print(f\"\\nEl segundo arreglo es \\n{arr_5}\")\n"
      ],
      "metadata": {
        "colab": {
          "base_uri": "https://localhost:8080/"
        },
        "id": "huZ5aiYxn1Bn",
        "outputId": "84e42905-8100-4526-ab3e-ad801d9a5ecb"
      },
      "execution_count": 9,
      "outputs": [
        {
          "output_type": "stream",
          "name": "stdout",
          "text": [
            "El primer arreglo es \n",
            "[1 2 3 4 5]\n",
            "\n",
            "El segundo arreglo es \n",
            "[10 20 30 40 50]\n"
          ]
        }
      ]
    },
    {
      "cell_type": "code",
      "source": [
        "arr_r1 = arr_4 + arr_5\n",
        "arr_r2 = arr_5 - arr_4\n",
        "\n",
        "print(f\"La suma de ambos arreglos es \\n{arr_r1}\")\n",
        "print(f\"\\nLa diferencia de ambos arreglos es \\n{arr_r2}\")"
      ],
      "metadata": {
        "colab": {
          "base_uri": "https://localhost:8080/"
        },
        "id": "CVmuH7y1okMW",
        "outputId": "04372f85-5fa0-411d-b38c-b99ba7943c3b"
      },
      "execution_count": 10,
      "outputs": [
        {
          "output_type": "stream",
          "name": "stdout",
          "text": [
            "La suma de ambos arreglos es \n",
            "[11 22 33 44 55]\n",
            "\n",
            "La diferencia de ambos arreglos es \n",
            "[ 9 18 27 36 45]\n"
          ]
        }
      ]
    },
    {
      "cell_type": "markdown",
      "source": [
        "## Actividad N034"
      ],
      "metadata": {
        "id": "px3D_4cVqJa5"
      }
    },
    {
      "cell_type": "markdown",
      "source": [
        "Crear un arreglo en NumPy a partir de la información de la siguiente tabla y nombrarlo como data_array."
      ],
      "metadata": {
        "id": "umFoxemYqLzc"
      }
    },
    {
      "cell_type": "code",
      "source": [
        "from google.colab import files\n",
        "\n",
        "uploaded = files.upload()"
      ],
      "metadata": {
        "colab": {
          "base_uri": "https://localhost:8080/",
          "height": 39
        },
        "id": "3hJimzGUpB84",
        "outputId": "45f0c0f5-9078-442e-922d-fabc9e6bc13e"
      },
      "execution_count": null,
      "outputs": [
        {
          "output_type": "display_data",
          "data": {
            "text/plain": [
              "<IPython.core.display.HTML object>"
            ],
            "text/html": [
              "\n",
              "     <input type=\"file\" id=\"files-aae35235-ccf7-4efe-ba23-dbad8ca76f98\" name=\"files[]\" multiple disabled\n",
              "        style=\"border:none\" />\n",
              "     <output id=\"result-aae35235-ccf7-4efe-ba23-dbad8ca76f98\">\n",
              "      Upload widget is only available when the cell has been executed in the\n",
              "      current browser session. Please rerun this cell to enable.\n",
              "      </output>\n",
              "      <script>// Copyright 2017 Google LLC\n",
              "//\n",
              "// Licensed under the Apache License, Version 2.0 (the \"License\");\n",
              "// you may not use this file except in compliance with the License.\n",
              "// You may obtain a copy of the License at\n",
              "//\n",
              "//      http://www.apache.org/licenses/LICENSE-2.0\n",
              "//\n",
              "// Unless required by applicable law or agreed to in writing, software\n",
              "// distributed under the License is distributed on an \"AS IS\" BASIS,\n",
              "// WITHOUT WARRANTIES OR CONDITIONS OF ANY KIND, either express or implied.\n",
              "// See the License for the specific language governing permissions and\n",
              "// limitations under the License.\n",
              "\n",
              "/**\n",
              " * @fileoverview Helpers for google.colab Python module.\n",
              " */\n",
              "(function(scope) {\n",
              "function span(text, styleAttributes = {}) {\n",
              "  const element = document.createElement('span');\n",
              "  element.textContent = text;\n",
              "  for (const key of Object.keys(styleAttributes)) {\n",
              "    element.style[key] = styleAttributes[key];\n",
              "  }\n",
              "  return element;\n",
              "}\n",
              "\n",
              "// Max number of bytes which will be uploaded at a time.\n",
              "const MAX_PAYLOAD_SIZE = 100 * 1024;\n",
              "\n",
              "function _uploadFiles(inputId, outputId) {\n",
              "  const steps = uploadFilesStep(inputId, outputId);\n",
              "  const outputElement = document.getElementById(outputId);\n",
              "  // Cache steps on the outputElement to make it available for the next call\n",
              "  // to uploadFilesContinue from Python.\n",
              "  outputElement.steps = steps;\n",
              "\n",
              "  return _uploadFilesContinue(outputId);\n",
              "}\n",
              "\n",
              "// This is roughly an async generator (not supported in the browser yet),\n",
              "// where there are multiple asynchronous steps and the Python side is going\n",
              "// to poll for completion of each step.\n",
              "// This uses a Promise to block the python side on completion of each step,\n",
              "// then passes the result of the previous step as the input to the next step.\n",
              "function _uploadFilesContinue(outputId) {\n",
              "  const outputElement = document.getElementById(outputId);\n",
              "  const steps = outputElement.steps;\n",
              "\n",
              "  const next = steps.next(outputElement.lastPromiseValue);\n",
              "  return Promise.resolve(next.value.promise).then((value) => {\n",
              "    // Cache the last promise value to make it available to the next\n",
              "    // step of the generator.\n",
              "    outputElement.lastPromiseValue = value;\n",
              "    return next.value.response;\n",
              "  });\n",
              "}\n",
              "\n",
              "/**\n",
              " * Generator function which is called between each async step of the upload\n",
              " * process.\n",
              " * @param {string} inputId Element ID of the input file picker element.\n",
              " * @param {string} outputId Element ID of the output display.\n",
              " * @return {!Iterable<!Object>} Iterable of next steps.\n",
              " */\n",
              "function* uploadFilesStep(inputId, outputId) {\n",
              "  const inputElement = document.getElementById(inputId);\n",
              "  inputElement.disabled = false;\n",
              "\n",
              "  const outputElement = document.getElementById(outputId);\n",
              "  outputElement.innerHTML = '';\n",
              "\n",
              "  const pickedPromise = new Promise((resolve) => {\n",
              "    inputElement.addEventListener('change', (e) => {\n",
              "      resolve(e.target.files);\n",
              "    });\n",
              "  });\n",
              "\n",
              "  const cancel = document.createElement('button');\n",
              "  inputElement.parentElement.appendChild(cancel);\n",
              "  cancel.textContent = 'Cancel upload';\n",
              "  const cancelPromise = new Promise((resolve) => {\n",
              "    cancel.onclick = () => {\n",
              "      resolve(null);\n",
              "    };\n",
              "  });\n",
              "\n",
              "  // Wait for the user to pick the files.\n",
              "  const files = yield {\n",
              "    promise: Promise.race([pickedPromise, cancelPromise]),\n",
              "    response: {\n",
              "      action: 'starting',\n",
              "    }\n",
              "  };\n",
              "\n",
              "  cancel.remove();\n",
              "\n",
              "  // Disable the input element since further picks are not allowed.\n",
              "  inputElement.disabled = true;\n",
              "\n",
              "  if (!files) {\n",
              "    return {\n",
              "      response: {\n",
              "        action: 'complete',\n",
              "      }\n",
              "    };\n",
              "  }\n",
              "\n",
              "  for (const file of files) {\n",
              "    const li = document.createElement('li');\n",
              "    li.append(span(file.name, {fontWeight: 'bold'}));\n",
              "    li.append(span(\n",
              "        `(${file.type || 'n/a'}) - ${file.size} bytes, ` +\n",
              "        `last modified: ${\n",
              "            file.lastModifiedDate ? file.lastModifiedDate.toLocaleDateString() :\n",
              "                                    'n/a'} - `));\n",
              "    const percent = span('0% done');\n",
              "    li.appendChild(percent);\n",
              "\n",
              "    outputElement.appendChild(li);\n",
              "\n",
              "    const fileDataPromise = new Promise((resolve) => {\n",
              "      const reader = new FileReader();\n",
              "      reader.onload = (e) => {\n",
              "        resolve(e.target.result);\n",
              "      };\n",
              "      reader.readAsArrayBuffer(file);\n",
              "    });\n",
              "    // Wait for the data to be ready.\n",
              "    let fileData = yield {\n",
              "      promise: fileDataPromise,\n",
              "      response: {\n",
              "        action: 'continue',\n",
              "      }\n",
              "    };\n",
              "\n",
              "    // Use a chunked sending to avoid message size limits. See b/62115660.\n",
              "    let position = 0;\n",
              "    do {\n",
              "      const length = Math.min(fileData.byteLength - position, MAX_PAYLOAD_SIZE);\n",
              "      const chunk = new Uint8Array(fileData, position, length);\n",
              "      position += length;\n",
              "\n",
              "      const base64 = btoa(String.fromCharCode.apply(null, chunk));\n",
              "      yield {\n",
              "        response: {\n",
              "          action: 'append',\n",
              "          file: file.name,\n",
              "          data: base64,\n",
              "        },\n",
              "      };\n",
              "\n",
              "      let percentDone = fileData.byteLength === 0 ?\n",
              "          100 :\n",
              "          Math.round((position / fileData.byteLength) * 100);\n",
              "      percent.textContent = `${percentDone}% done`;\n",
              "\n",
              "    } while (position < fileData.byteLength);\n",
              "  }\n",
              "\n",
              "  // All done.\n",
              "  yield {\n",
              "    response: {\n",
              "      action: 'complete',\n",
              "    }\n",
              "  };\n",
              "}\n",
              "\n",
              "scope.google = scope.google || {};\n",
              "scope.google.colab = scope.google.colab || {};\n",
              "scope.google.colab._files = {\n",
              "  _uploadFiles,\n",
              "  _uploadFilesContinue,\n",
              "};\n",
              "})(self);\n",
              "</script> "
            ]
          },
          "metadata": {}
        }
      ]
    },
    {
      "cell_type": "code",
      "source": [
        "from IPython.display import Image,display\n",
        "\n",
        "display(Image(filename='data_array.png'))"
      ],
      "metadata": {
        "id": "XVYNyGMjqfvG"
      },
      "execution_count": null,
      "outputs": []
    },
    {
      "cell_type": "code",
      "source": [
        "data_array = np.array([\n",
        "    [35, 10, 1, 3500, 12000],\n",
        "    [50, 25, 3, 6000, 30000],\n",
        "    [23,  2, 0,   50,  1500],\n",
        "    [42, 15, 2, 1000,  2800]\n",
        "])\n",
        "print(data_array)"
      ],
      "metadata": {
        "id": "M0zm5V3_qvlB"
      },
      "execution_count": null,
      "outputs": []
    },
    {
      "cell_type": "code",
      "source": [
        "type(data_array)"
      ],
      "metadata": {
        "id": "6O_EvIuVrEsf"
      },
      "execution_count": null,
      "outputs": []
    },
    {
      "cell_type": "markdown",
      "source": [
        "## [2] Características de un arreglo en NumPy"
      ],
      "metadata": {
        "id": "fc6lH_H84Wv_"
      }
    },
    {
      "cell_type": "code",
      "source": [
        "arreglo_1 = np.array([[0,1,2,3],[4,5,6,7],[8,9,10,11]])\n",
        "\n",
        "print(f\"El arreglo es \\n{arreglo_1}\")"
      ],
      "metadata": {
        "id": "467PXbJ0rIQe"
      },
      "execution_count": null,
      "outputs": []
    },
    {
      "cell_type": "markdown",
      "source": [
        "¿Cuántas dimensiones tiene el arreglo?"
      ],
      "metadata": {
        "id": "-TG2_STA4w4I"
      }
    },
    {
      "cell_type": "code",
      "source": [
        "print(f\"El número de dimensiones del arreglo es {arreglo_1.ndim}\")"
      ],
      "metadata": {
        "id": "qFFZmzuY4sMm"
      },
      "execution_count": null,
      "outputs": []
    },
    {
      "cell_type": "markdown",
      "source": [
        "¿Cuánto es el tamaño de cada dimensión?"
      ],
      "metadata": {
        "id": "OHlWjwl05DBW"
      }
    },
    {
      "cell_type": "code",
      "source": [],
      "metadata": {
        "id": "ZuUmj9Nr47Pm"
      },
      "execution_count": null,
      "outputs": []
    }
  ]
}