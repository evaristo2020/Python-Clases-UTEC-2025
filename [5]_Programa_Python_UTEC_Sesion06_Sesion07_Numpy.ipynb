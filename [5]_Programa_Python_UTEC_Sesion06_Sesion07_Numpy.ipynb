{
  "nbformat": 4,
  "nbformat_minor": 0,
  "metadata": {
    "colab": {
      "provenance": [],
      "include_colab_link": true
    },
    "kernelspec": {
      "name": "python3",
      "display_name": "Python 3"
    },
    "language_info": {
      "name": "python"
    }
  },
  "cells": [
    {
      "cell_type": "markdown",
      "metadata": {
        "id": "view-in-github",
        "colab_type": "text"
      },
      "source": [
        "<a href=\"https://colab.research.google.com/github/evaristo2020/Python-Clases-UTEC-2025/blob/main/%5B5%5D_Programa_Python_UTEC_Sesion06_Sesion07_Numpy.ipynb\" target=\"_parent\"><img src=\"https://colab.research.google.com/assets/colab-badge.svg\" alt=\"Open In Colab\"/></a>"
      ]
    },
    {
      "cell_type": "markdown",
      "source": [
        "# Numpy"
      ],
      "metadata": {
        "id": "ngUlICI8jd0i"
      }
    },
    {
      "cell_type": "markdown",
      "source": [
        "## [1] Crear un arreglo NumPy"
      ],
      "metadata": {
        "id": "iZYH84wxjgsj"
      }
    },
    {
      "cell_type": "code",
      "execution_count": null,
      "metadata": {
        "id": "04KfkbAkjGKM"
      },
      "outputs": [],
      "source": [
        "# Llamar a la librería\n",
        "\n",
        "import numpy as np"
      ]
    },
    {
      "cell_type": "code",
      "source": [
        "# Crear un arreglo en numpy\n",
        "\n",
        "arr_1 = np.array([2,4,6])\n",
        "\n",
        "print(f\"El arreglo es \\n{arr_1}\")\n",
        "print(f\"El tipo de objeto es \\n{type(arr_1)}\")"
      ],
      "metadata": {
        "colab": {
          "base_uri": "https://localhost:8080/"
        },
        "id": "aItRCQLRje7C",
        "outputId": "91b42651-8733-4f39-9f67-8c7385188d38"
      },
      "execution_count": null,
      "outputs": [
        {
          "output_type": "stream",
          "name": "stdout",
          "text": [
            "El arreglo es \n",
            "[2 4 6]\n",
            "El tipo de objeto es \n",
            "<class 'numpy.ndarray'>\n"
          ]
        }
      ]
    },
    {
      "cell_type": "code",
      "source": [
        "# Lista de listas\n",
        "\n",
        "lista_1 = [[0,1,2,3],[4,5,6,7],[8,9,10,11]]\n",
        "\n",
        "print(f\"La lista es \\n{lista_1}\")\n",
        "print(f\"El tipo de dato es {type(lista_1)}\")\n"
      ],
      "metadata": {
        "colab": {
          "base_uri": "https://localhost:8080/"
        },
        "id": "ymKxqB7ekLWP",
        "outputId": "9c145ffd-b562-42ad-93f3-dee8a0e23664"
      },
      "execution_count": null,
      "outputs": [
        {
          "output_type": "stream",
          "name": "stdout",
          "text": [
            "La lista es \n",
            "[[0, 1, 2, 3], [4, 5, 6, 7], [8, 9, 10, 11]]\n",
            "El tipo de dato es <class 'list'>\n"
          ]
        }
      ]
    },
    {
      "cell_type": "code",
      "source": [
        "arr_2 = np.array([[0, 1, 2, 3], [4, 5, 6, 7], [8, 9, 10, 11]])\n",
        "\n",
        "print(f\"El arreglo es \\n{arr_2}\")\n",
        "print(f\"El tipo de objeto es {type(arr_2)}\")"
      ],
      "metadata": {
        "colab": {
          "base_uri": "https://localhost:8080/"
        },
        "id": "sKi5XI3ckLhz",
        "outputId": "bb706163-b6f7-44f9-e65d-f0e1e23f843d"
      },
      "execution_count": null,
      "outputs": [
        {
          "output_type": "stream",
          "name": "stdout",
          "text": [
            "El arreglo es \n",
            "[[ 0  1  2  3]\n",
            " [ 4  5  6  7]\n",
            " [ 8  9 10 11]]\n",
            "El tipo de objeto es <class 'numpy.ndarray'>\n"
          ]
        }
      ]
    },
    {
      "cell_type": "code",
      "source": [
        "print(f\"La lista es \\n{lista_1}\")\n",
        "print(f\"El primer elemento de la lista de listas es \\n{lista_1[0]}\")\n",
        "\n",
        "print(\"\\n***Operaciones matemática con la lista***\")\n",
        "\n",
        "print(f\"\\nEl valor mínimo es {min(lista_1[0])}\")\n",
        "print(f\"El valor máximo es {max(lista_1[0])}\")\n",
        "print(f\"El valor total es {sum(lista_1[0])}\")\n",
        "print(f\"La cantidad de elementos es {len(lista_1[0])}\")\n",
        "print(f\"El valor promedio es {sum(lista_1[0])/len(lista_1[0])}\")\n"
      ],
      "metadata": {
        "colab": {
          "base_uri": "https://localhost:8080/"
        },
        "id": "ziYARa9bkLny",
        "outputId": "30991e57-b13a-404c-f36e-9e44f5b4eca9"
      },
      "execution_count": null,
      "outputs": [
        {
          "output_type": "stream",
          "name": "stdout",
          "text": [
            "La lista es \n",
            "[[0, 1, 2, 3], [4, 5, 6, 7], [8, 9, 10, 11]]\n",
            "El primer elemento de la lista de listas es \n",
            "[0, 1, 2, 3]\n",
            "\n",
            "***Operaciones matemática con la lista***\n",
            "\n",
            "El valor mínimo es 0\n",
            "El valor máximo es 3\n",
            "El valor total es 6\n",
            "La cantidad de elementos es 4\n",
            "El valor promedio es 1.5\n"
          ]
        }
      ]
    },
    {
      "cell_type": "code",
      "source": [
        "## Operaciones con 2 listas\n",
        "\n",
        "l1 = [1,2,3]\n",
        "l2 = [4,5,6]\n",
        "\n",
        "print(f\"El resultado de trabajar con 2 listas y el símbolo + es \\n{l1+l2}\")\n",
        "print(f\"\\nEl resultado de sumar ambas listas es \\n{sum(l1)+sum(l2)}\")"
      ],
      "metadata": {
        "colab": {
          "base_uri": "https://localhost:8080/"
        },
        "id": "IDV_LpNMkMBR",
        "outputId": "ca0ab666-5605-42dd-b33c-ee35ff76215c"
      },
      "execution_count": null,
      "outputs": [
        {
          "output_type": "stream",
          "name": "stdout",
          "text": [
            "El resultado de trabajar con 2 listas y el símbolo + es \n",
            "[1, 2, 3, 4, 5, 6]\n",
            "\n",
            "El resultado de sumar ambas listas es \n",
            "21\n"
          ]
        }
      ]
    },
    {
      "cell_type": "code",
      "source": [
        "print(f\"Operaciones con arreglos de NumPy\")\n",
        "print(f\"\\nEl arreglo de numpy es {arr_1}\")"
      ],
      "metadata": {
        "colab": {
          "base_uri": "https://localhost:8080/"
        },
        "id": "6Hq3LtQ5nN8z",
        "outputId": "35b17e62-f99b-4171-979d-cabffe34081a"
      },
      "execution_count": null,
      "outputs": [
        {
          "output_type": "stream",
          "name": "stdout",
          "text": [
            "Operaciones con arreglos de NumPy\n",
            "\n",
            "El arreglo de numpy es [2 4 6]\n"
          ]
        }
      ]
    },
    {
      "cell_type": "code",
      "source": [
        "arr_3 = arr_1 + 5\n",
        "print(f\"El arreglo resultante es \\n{arr_3}\")"
      ],
      "metadata": {
        "colab": {
          "base_uri": "https://localhost:8080/"
        },
        "id": "_fpH2imtj7zM",
        "outputId": "094ebd18-0ba5-4759-b8d8-85db188fa410"
      },
      "execution_count": null,
      "outputs": [
        {
          "output_type": "stream",
          "name": "stdout",
          "text": [
            "El arreglo resultante es \n",
            "[ 7  9 11]\n"
          ]
        }
      ]
    },
    {
      "cell_type": "code",
      "source": [
        "# Operaciones matemáticas con arreglos de NumPy\n",
        "arr_4 = np.array([1,2,3,4,5])\n",
        "arr_5 = np.array([10,20,30,40,50])\n",
        "\n",
        "print(f\"El primer arreglo es \\n{arr_4}\")\n",
        "print(f\"\\nEl segundo arreglo es \\n{arr_5}\")\n"
      ],
      "metadata": {
        "colab": {
          "base_uri": "https://localhost:8080/"
        },
        "id": "huZ5aiYxn1Bn",
        "outputId": "cdce3a99-c2f3-4c60-ed3d-b2dd361725a5"
      },
      "execution_count": null,
      "outputs": [
        {
          "output_type": "stream",
          "name": "stdout",
          "text": [
            "El primer arreglo es \n",
            "[1 2 3 4 5]\n",
            "\n",
            "El segundo arreglo es \n",
            "[10 20 30 40 50]\n"
          ]
        }
      ]
    },
    {
      "cell_type": "code",
      "source": [
        "arr_r1 = arr_4 + arr_5\n",
        "arr_r2 = arr_5 - arr_4\n",
        "\n",
        "print(f\"La suma de ambos arreglos es \\n{arr_r1}\")\n",
        "print(f\"\\nLa diferencia de ambos arreglos es \\n{arr_r2}\")"
      ],
      "metadata": {
        "colab": {
          "base_uri": "https://localhost:8080/"
        },
        "id": "CVmuH7y1okMW",
        "outputId": "1edf147d-cde0-497c-d964-640f6d2ca380"
      },
      "execution_count": null,
      "outputs": [
        {
          "output_type": "stream",
          "name": "stdout",
          "text": [
            "La suma de ambos arreglos es \n",
            "[11 22 33 44 55]\n",
            "\n",
            "La diferencia de ambos arreglos es \n",
            "[ 9 18 27 36 45]\n"
          ]
        }
      ]
    },
    {
      "cell_type": "markdown",
      "source": [
        "## Actividad N034"
      ],
      "metadata": {
        "id": "px3D_4cVqJa5"
      }
    },
    {
      "cell_type": "markdown",
      "source": [
        "Crear un arreglo en NumPy a partir de la información de la siguiente tabla y nombrarlo como data_array."
      ],
      "metadata": {
        "id": "umFoxemYqLzc"
      }
    },
    {
      "cell_type": "code",
      "source": [
        "from google.colab import files\n",
        "\n",
        "uploaded = files.upload()"
      ],
      "metadata": {
        "colab": {
          "base_uri": "https://localhost:8080/",
          "height": 73
        },
        "id": "3hJimzGUpB84",
        "outputId": "667d5b41-33e3-47d9-ce8a-09391117b029"
      },
      "execution_count": null,
      "outputs": [
        {
          "output_type": "display_data",
          "data": {
            "text/plain": [
              "<IPython.core.display.HTML object>"
            ],
            "text/html": [
              "\n",
              "     <input type=\"file\" id=\"files-11211859-9f2e-46ba-9f77-d8f17bd5e833\" name=\"files[]\" multiple disabled\n",
              "        style=\"border:none\" />\n",
              "     <output id=\"result-11211859-9f2e-46ba-9f77-d8f17bd5e833\">\n",
              "      Upload widget is only available when the cell has been executed in the\n",
              "      current browser session. Please rerun this cell to enable.\n",
              "      </output>\n",
              "      <script>// Copyright 2017 Google LLC\n",
              "//\n",
              "// Licensed under the Apache License, Version 2.0 (the \"License\");\n",
              "// you may not use this file except in compliance with the License.\n",
              "// You may obtain a copy of the License at\n",
              "//\n",
              "//      http://www.apache.org/licenses/LICENSE-2.0\n",
              "//\n",
              "// Unless required by applicable law or agreed to in writing, software\n",
              "// distributed under the License is distributed on an \"AS IS\" BASIS,\n",
              "// WITHOUT WARRANTIES OR CONDITIONS OF ANY KIND, either express or implied.\n",
              "// See the License for the specific language governing permissions and\n",
              "// limitations under the License.\n",
              "\n",
              "/**\n",
              " * @fileoverview Helpers for google.colab Python module.\n",
              " */\n",
              "(function(scope) {\n",
              "function span(text, styleAttributes = {}) {\n",
              "  const element = document.createElement('span');\n",
              "  element.textContent = text;\n",
              "  for (const key of Object.keys(styleAttributes)) {\n",
              "    element.style[key] = styleAttributes[key];\n",
              "  }\n",
              "  return element;\n",
              "}\n",
              "\n",
              "// Max number of bytes which will be uploaded at a time.\n",
              "const MAX_PAYLOAD_SIZE = 100 * 1024;\n",
              "\n",
              "function _uploadFiles(inputId, outputId) {\n",
              "  const steps = uploadFilesStep(inputId, outputId);\n",
              "  const outputElement = document.getElementById(outputId);\n",
              "  // Cache steps on the outputElement to make it available for the next call\n",
              "  // to uploadFilesContinue from Python.\n",
              "  outputElement.steps = steps;\n",
              "\n",
              "  return _uploadFilesContinue(outputId);\n",
              "}\n",
              "\n",
              "// This is roughly an async generator (not supported in the browser yet),\n",
              "// where there are multiple asynchronous steps and the Python side is going\n",
              "// to poll for completion of each step.\n",
              "// This uses a Promise to block the python side on completion of each step,\n",
              "// then passes the result of the previous step as the input to the next step.\n",
              "function _uploadFilesContinue(outputId) {\n",
              "  const outputElement = document.getElementById(outputId);\n",
              "  const steps = outputElement.steps;\n",
              "\n",
              "  const next = steps.next(outputElement.lastPromiseValue);\n",
              "  return Promise.resolve(next.value.promise).then((value) => {\n",
              "    // Cache the last promise value to make it available to the next\n",
              "    // step of the generator.\n",
              "    outputElement.lastPromiseValue = value;\n",
              "    return next.value.response;\n",
              "  });\n",
              "}\n",
              "\n",
              "/**\n",
              " * Generator function which is called between each async step of the upload\n",
              " * process.\n",
              " * @param {string} inputId Element ID of the input file picker element.\n",
              " * @param {string} outputId Element ID of the output display.\n",
              " * @return {!Iterable<!Object>} Iterable of next steps.\n",
              " */\n",
              "function* uploadFilesStep(inputId, outputId) {\n",
              "  const inputElement = document.getElementById(inputId);\n",
              "  inputElement.disabled = false;\n",
              "\n",
              "  const outputElement = document.getElementById(outputId);\n",
              "  outputElement.innerHTML = '';\n",
              "\n",
              "  const pickedPromise = new Promise((resolve) => {\n",
              "    inputElement.addEventListener('change', (e) => {\n",
              "      resolve(e.target.files);\n",
              "    });\n",
              "  });\n",
              "\n",
              "  const cancel = document.createElement('button');\n",
              "  inputElement.parentElement.appendChild(cancel);\n",
              "  cancel.textContent = 'Cancel upload';\n",
              "  const cancelPromise = new Promise((resolve) => {\n",
              "    cancel.onclick = () => {\n",
              "      resolve(null);\n",
              "    };\n",
              "  });\n",
              "\n",
              "  // Wait for the user to pick the files.\n",
              "  const files = yield {\n",
              "    promise: Promise.race([pickedPromise, cancelPromise]),\n",
              "    response: {\n",
              "      action: 'starting',\n",
              "    }\n",
              "  };\n",
              "\n",
              "  cancel.remove();\n",
              "\n",
              "  // Disable the input element since further picks are not allowed.\n",
              "  inputElement.disabled = true;\n",
              "\n",
              "  if (!files) {\n",
              "    return {\n",
              "      response: {\n",
              "        action: 'complete',\n",
              "      }\n",
              "    };\n",
              "  }\n",
              "\n",
              "  for (const file of files) {\n",
              "    const li = document.createElement('li');\n",
              "    li.append(span(file.name, {fontWeight: 'bold'}));\n",
              "    li.append(span(\n",
              "        `(${file.type || 'n/a'}) - ${file.size} bytes, ` +\n",
              "        `last modified: ${\n",
              "            file.lastModifiedDate ? file.lastModifiedDate.toLocaleDateString() :\n",
              "                                    'n/a'} - `));\n",
              "    const percent = span('0% done');\n",
              "    li.appendChild(percent);\n",
              "\n",
              "    outputElement.appendChild(li);\n",
              "\n",
              "    const fileDataPromise = new Promise((resolve) => {\n",
              "      const reader = new FileReader();\n",
              "      reader.onload = (e) => {\n",
              "        resolve(e.target.result);\n",
              "      };\n",
              "      reader.readAsArrayBuffer(file);\n",
              "    });\n",
              "    // Wait for the data to be ready.\n",
              "    let fileData = yield {\n",
              "      promise: fileDataPromise,\n",
              "      response: {\n",
              "        action: 'continue',\n",
              "      }\n",
              "    };\n",
              "\n",
              "    // Use a chunked sending to avoid message size limits. See b/62115660.\n",
              "    let position = 0;\n",
              "    do {\n",
              "      const length = Math.min(fileData.byteLength - position, MAX_PAYLOAD_SIZE);\n",
              "      const chunk = new Uint8Array(fileData, position, length);\n",
              "      position += length;\n",
              "\n",
              "      const base64 = btoa(String.fromCharCode.apply(null, chunk));\n",
              "      yield {\n",
              "        response: {\n",
              "          action: 'append',\n",
              "          file: file.name,\n",
              "          data: base64,\n",
              "        },\n",
              "      };\n",
              "\n",
              "      let percentDone = fileData.byteLength === 0 ?\n",
              "          100 :\n",
              "          Math.round((position / fileData.byteLength) * 100);\n",
              "      percent.textContent = `${percentDone}% done`;\n",
              "\n",
              "    } while (position < fileData.byteLength);\n",
              "  }\n",
              "\n",
              "  // All done.\n",
              "  yield {\n",
              "    response: {\n",
              "      action: 'complete',\n",
              "    }\n",
              "  };\n",
              "}\n",
              "\n",
              "scope.google = scope.google || {};\n",
              "scope.google.colab = scope.google.colab || {};\n",
              "scope.google.colab._files = {\n",
              "  _uploadFiles,\n",
              "  _uploadFilesContinue,\n",
              "};\n",
              "})(self);\n",
              "</script> "
            ]
          },
          "metadata": {}
        },
        {
          "output_type": "stream",
          "name": "stdout",
          "text": [
            "Saving data_array.png to data_array.png\n"
          ]
        }
      ]
    },
    {
      "cell_type": "code",
      "source": [
        "from IPython.display import Image,display\n",
        "\n",
        "display(Image(filename='data_array.png'))"
      ],
      "metadata": {
        "colab": {
          "base_uri": "https://localhost:8080/",
          "height": 190
        },
        "id": "XVYNyGMjqfvG",
        "outputId": "a8c36a69-7b35-4b01-814c-0c0bfdf0857c"
      },
      "execution_count": null,
      "outputs": [
        {
          "output_type": "display_data",
          "data": {
            "image/png": "[encoded data removed]",
            "text/plain": [
              "<IPython.core.display.Image object>"
            ]
          },
          "metadata": {}
        }
      ]
    },
    {
      "cell_type": "code",
      "source": [
        "data_array = np.array([\n",
        "    [35, 10, 1, 3500, 12000],\n",
        "    [50, 25, 3, 6000, 30000],\n",
        "    [23,  2, 0,   50,  1500],\n",
        "    [42, 15, 2, 1000,  2800]\n",
        "])\n",
        "print(data_array)"
      ],
      "metadata": {
        "colab": {
          "base_uri": "https://localhost:8080/"
        },
        "id": "M0zm5V3_qvlB",
        "outputId": "f3b04e50-7f80-408d-a270-5a7bc10aadec"
      },
      "execution_count": null,
      "outputs": [
        {
          "output_type": "stream",
          "name": "stdout",
          "text": [
            "[[   35    10     1  3500 12000]\n",
            " [   50    25     3  6000 30000]\n",
            " [   23     2     0    50  1500]\n",
            " [   42    15     2  1000  2800]]\n"
          ]
        }
      ]
    },
    {
      "cell_type": "code",
      "source": [
        "type(data_array)"
      ],
      "metadata": {
        "id": "6O_EvIuVrEsf",
        "outputId": "ed584ae8-fccc-4266-8971-6fc9b1299d4e",
        "colab": {
          "base_uri": "https://localhost:8080/"
        }
      },
      "execution_count": null,
      "outputs": [
        {
          "output_type": "execute_result",
          "data": {
            "text/plain": [
              "numpy.ndarray"
            ]
          },
          "metadata": {},
          "execution_count": 24
        }
      ]
    },
    {
      "cell_type": "markdown",
      "source": [
        "## [2] Características de un arreglo en NumPy"
      ],
      "metadata": {
        "id": "fc6lH_H84Wv_"
      }
    },
    {
      "cell_type": "code",
      "source": [
        "arreglo_1 = np.array([[0,1,2,3],[4,5,6,7],[8,9,10,11]])\n",
        "\n",
        "print(f\"El arreglo es \\n{arreglo_1}\")"
      ],
      "metadata": {
        "id": "467PXbJ0rIQe",
        "colab": {
          "base_uri": "https://localhost:8080/"
        },
        "outputId": "336e82ce-46fb-4ec2-bdee-7ca4488b54e2"
      },
      "execution_count": null,
      "outputs": [
        {
          "output_type": "stream",
          "name": "stdout",
          "text": [
            "El arreglo es \n",
            "[[ 0  1  2  3]\n",
            " [ 4  5  6  7]\n",
            " [ 8  9 10 11]]\n"
          ]
        }
      ]
    },
    {
      "cell_type": "markdown",
      "source": [
        "¿Cuántas dimensiones tiene el arreglo?"
      ],
      "metadata": {
        "id": "-TG2_STA4w4I"
      }
    },
    {
      "cell_type": "code",
      "source": [
        "print(f\"El número de dimensiones del arreglo es {arreglo_1.ndim}\")"
      ],
      "metadata": {
        "colab": {
          "base_uri": "https://localhost:8080/"
        },
        "id": "qFFZmzuY4sMm",
        "outputId": "b0d3e372-5c1b-4366-8074-467459f66bb9"
      },
      "execution_count": null,
      "outputs": [
        {
          "output_type": "stream",
          "name": "stdout",
          "text": [
            "El número de dimensiones del arreglo es 2\n"
          ]
        }
      ]
    },
    {
      "cell_type": "markdown",
      "source": [
        "¿Cuánto es el tamaño de cada dimensión?"
      ],
      "metadata": {
        "id": "OHlWjwl05DBW"
      }
    },
    {
      "cell_type": "code",
      "source": [
        "print(f\"El tamaño de las dimensiones del arreglo son {arreglo_1.shape}\")\n",
        "print(f\"El tipo de objeto es {type(arreglo_1.shape)}\")"
      ],
      "metadata": {
        "colab": {
          "base_uri": "https://localhost:8080/"
        },
        "id": "ZuUmj9Nr47Pm",
        "outputId": "39c167aa-0b1c-4dcc-c4ed-0dd2acde14d0"
      },
      "execution_count": null,
      "outputs": [
        {
          "output_type": "stream",
          "name": "stdout",
          "text": [
            "El tamaño de las dimensiones del arreglo son (3, 4)\n",
            "El tipo de objeto es <class 'tuple'>\n"
          ]
        }
      ]
    },
    {
      "cell_type": "markdown",
      "source": [
        "¿Cuántos elementos tiene el arreglo?"
      ],
      "metadata": {
        "id": "gcsVz-3p5iAy"
      }
    },
    {
      "cell_type": "code",
      "source": [
        "print(f\"El número de elementos del arreglo es {arreglo_1.size}\")\n"
      ],
      "metadata": {
        "colab": {
          "base_uri": "https://localhost:8080/"
        },
        "id": "N6YPrIbq5PKO",
        "outputId": "d3767bcf-d202-48cd-d61f-813571725247"
      },
      "execution_count": null,
      "outputs": [
        {
          "output_type": "stream",
          "name": "stdout",
          "text": [
            "El número de elementos del arreglo es 12\n"
          ]
        }
      ]
    },
    {
      "cell_type": "markdown",
      "source": [
        "¿Qué tipo de dato contiene el arreglo?"
      ],
      "metadata": {
        "id": "qPNmZOs-5xwH"
      }
    },
    {
      "cell_type": "code",
      "source": [
        "print(f\"El tipo de dato del arreglo es {arreglo_1.dtype.name}\")\n"
      ],
      "metadata": {
        "colab": {
          "base_uri": "https://localhost:8080/"
        },
        "id": "M1zIa_so5rim",
        "outputId": "41a44f2e-e62e-415c-b370-743cd093dc13"
      },
      "execution_count": null,
      "outputs": [
        {
          "output_type": "stream",
          "name": "stdout",
          "text": [
            "El tipo de dato del arreglo es int64\n"
          ]
        }
      ]
    },
    {
      "cell_type": "markdown",
      "source": [
        "## Actividad N035"
      ],
      "metadata": {
        "id": "4qzQoeB96MP-"
      }
    },
    {
      "cell_type": "code",
      "source": [
        "data_array = np.array([\n",
        "    [35, 10, 1, 3500, 12000],\n",
        "    [50, 25, 3, 6000, 30000],\n",
        "    [23,  2, 0,   50,  1500],\n",
        "    [42, 15, 2, 1000,  2800]\n",
        "])\n",
        "\n",
        "print(f\"El arreglo es \\n{data_array}\")\n",
        "print(f\"\\nEl número de dimensiones del arreglo es \\n{data_array.ndim}\")\n",
        "print(f\"\\nEl tamaño de las dimensiones del arreglo son \\n{data_array.shape}\")\n",
        "print(f\"\\nEl total de elementos del arreglo es \\n{data_array.size}\")"
      ],
      "metadata": {
        "colab": {
          "base_uri": "https://localhost:8080/"
        },
        "id": "NxW8ZTio56bH",
        "outputId": "a5dc721e-a106-4289-90e2-8e5410a9e7cb"
      },
      "execution_count": null,
      "outputs": [
        {
          "output_type": "stream",
          "name": "stdout",
          "text": [
            "El arreglo es \n",
            "[[   35    10     1  3500 12000]\n",
            " [   50    25     3  6000 30000]\n",
            " [   23     2     0    50  1500]\n",
            " [   42    15     2  1000  2800]]\n",
            "\n",
            "El número de dimensiones del arreglo es \n",
            "2\n",
            "\n",
            "El tamaño de las dimensiones del arreglo son \n",
            "(4, 5)\n",
            "\n",
            "El total de elementos del arreglo es \n",
            "20\n"
          ]
        }
      ]
    },
    {
      "cell_type": "markdown",
      "source": [
        "## [3] Operaciones matemáticas con arreglos NumPy"
      ],
      "metadata": {
        "id": "ZYF6LOlL65oz"
      }
    },
    {
      "cell_type": "code",
      "source": [
        "# Arreglos con las mismas dimensiones\n",
        "arreglo_2 = np.array([11,12,13,14])\n",
        "arreglo_3 = np.array([1,2,3,4])"
      ],
      "metadata": {
        "id": "vxbbWUaZ6p7d"
      },
      "execution_count": null,
      "outputs": []
    },
    {
      "cell_type": "code",
      "source": [
        "# Suma de arreglos\n",
        "arreglo_4 = arreglo_2 + arreglo_3\n",
        "print(f\"El resultado de la suma de ambos arreglos es \\n{arreglo_4}\")"
      ],
      "metadata": {
        "colab": {
          "base_uri": "https://localhost:8080/"
        },
        "id": "qX2Qjrmi7JpJ",
        "outputId": "cb15c8c5-4cd6-4966-f5e7-7d3d57d040cb"
      },
      "execution_count": null,
      "outputs": [
        {
          "output_type": "stream",
          "name": "stdout",
          "text": [
            "El resultado de la suma de ambos arreglos es \n",
            "[12 14 16 18]\n"
          ]
        }
      ]
    },
    {
      "cell_type": "code",
      "source": [
        "# len() => cuantificar la cantidad de elementos en una lista\n",
        "# size => cuantificar la cantidad de elementos en un arreglo NumPy\n",
        "if arreglo_2.size == arreglo_3.size:\n",
        "  arreglo_4 = np.add(arreglo_2,arreglo_3)\n",
        "else:\n",
        "  print(\"Los arreglos tienen distintos tamaños\")\n",
        "print(f\"La suma de los arreglos es \\n{arreglo_4}\")"
      ],
      "metadata": {
        "colab": {
          "base_uri": "https://localhost:8080/"
        },
        "id": "64dFg_cdIIm0",
        "outputId": "8dfd522a-671a-4b1e-8e14-5a2d9aa933f7"
      },
      "execution_count": null,
      "outputs": [
        {
          "output_type": "stream",
          "name": "stdout",
          "text": [
            "La suma de los arreglos es \n",
            "[12 14 16 18]\n"
          ]
        }
      ]
    },
    {
      "cell_type": "code",
      "source": [
        "# Arreglos con las distintas dimensiones\n",
        "arreglo_2_ = np.array([11,12,13,14])\n",
        "arreglo_3_ = np.array([1,2,3,4,5])\n",
        "# Suma de arreglos\n",
        "arreglo_5 = arreglo_2_ + arreglo_3_\n",
        "print(f\"El resultado de la suma de ambos arreglos es \\n{arreglo_5}\")"
      ],
      "metadata": {
        "colab": {
          "base_uri": "https://localhost:8080/",
          "height": 198
        },
        "id": "IKDnK20l7UJB",
        "outputId": "0483d9e9-5991-4b0e-9ab2-8059d20b9c04"
      },
      "execution_count": null,
      "outputs": [
        {
          "output_type": "error",
          "ename": "ValueError",
          "evalue": "operands could not be broadcast together with shapes (4,) (5,) ",
          "traceback": [
            "\u001b[0;31m---------------------------------------------------------------------------\u001b[0m",
            "\u001b[0;31mValueError\u001b[0m                                Traceback (most recent call last)",
            "\u001b[0;32m/tmp/ipython-input-1523029092.py\u001b[0m in \u001b[0;36m<cell line: 0>\u001b[0;34m()\u001b[0m\n\u001b[1;32m      3\u001b[0m \u001b[0marreglo_3_\u001b[0m \u001b[0;34m=\u001b[0m \u001b[0mnp\u001b[0m\u001b[0;34m.\u001b[0m\u001b[0marray\u001b[0m\u001b[0;34m(\u001b[0m\u001b[0;34m[\u001b[0m\u001b[0;36m1\u001b[0m\u001b[0;34m,\u001b[0m\u001b[0;36m2\u001b[0m\u001b[0;34m,\u001b[0m\u001b[0;36m3\u001b[0m\u001b[0;34m,\u001b[0m\u001b[0;36m4\u001b[0m\u001b[0;34m,\u001b[0m\u001b[0;36m5\u001b[0m\u001b[0;34m]\u001b[0m\u001b[0;34m)\u001b[0m\u001b[0;34m\u001b[0m\u001b[0;34m\u001b[0m\u001b[0m\n\u001b[1;32m      4\u001b[0m \u001b[0;31m# Suma de arreglos\u001b[0m\u001b[0;34m\u001b[0m\u001b[0;34m\u001b[0m\u001b[0m\n\u001b[0;32m----> 5\u001b[0;31m \u001b[0marreglo_5\u001b[0m \u001b[0;34m=\u001b[0m \u001b[0marreglo_2_\u001b[0m \u001b[0;34m+\u001b[0m \u001b[0marreglo_3_\u001b[0m\u001b[0;34m\u001b[0m\u001b[0;34m\u001b[0m\u001b[0m\n\u001b[0m\u001b[1;32m      6\u001b[0m \u001b[0mprint\u001b[0m\u001b[0;34m(\u001b[0m\u001b[0;34mf\"El resultado de la suma de ambos arreglos es \\n{arreglo_5}\"\u001b[0m\u001b[0;34m)\u001b[0m\u001b[0;34m\u001b[0m\u001b[0;34m\u001b[0m\u001b[0m\n",
            "\u001b[0;31mValueError\u001b[0m: operands could not be broadcast together with shapes (4,) (5,) "
          ]
        }
      ]
    },
    {
      "cell_type": "code",
      "source": [
        "# len() => cuantificar la cantidad de elementos en una lista\n",
        "# size => cuantificar la cantidad de elementos en un arreglo NumPy\n",
        "if arreglo_2_.size == arreglo_3_.size:\n",
        "  arreglo_4_ = np.add(arreglo_2_,arreglo_3_)\n",
        "else:\n",
        "  print(\"Los arreglos tienen distintos tamaños\")\n",
        "#print(f\"La suma de los arreglos es \\n{arreglo_4_}\")"
      ],
      "metadata": {
        "colab": {
          "base_uri": "https://localhost:8080/"
        },
        "id": "GTMmdLb6JXpI",
        "outputId": "aafee9ec-ae9d-4d83-cad5-34ce9876290a"
      },
      "execution_count": null,
      "outputs": [
        {
          "output_type": "stream",
          "name": "stdout",
          "text": [
            "Los arreglos tienen distintos tamaños\n"
          ]
        }
      ]
    },
    {
      "cell_type": "code",
      "source": [
        "# Arreglos con las mismas dimensiones\n",
        "arreglo_2 = np.array([11,12,13,14])\n",
        "arreglo_3 = np.array([1,2,3,4])\n",
        "\n",
        "arreglo_5 = arreglo_2 - arreglo_3\n",
        "print(f\"El resultado de la diferencia de arreglos es \\n{arreglo_5}\")"
      ],
      "metadata": {
        "colab": {
          "base_uri": "https://localhost:8080/"
        },
        "id": "WfN3mvto8BVi",
        "outputId": "f22215a6-e2ed-4b2e-98e3-94f5b9476b55"
      },
      "execution_count": null,
      "outputs": [
        {
          "output_type": "stream",
          "name": "stdout",
          "text": [
            "El resultado de la diferencia de arreglos es \n",
            "[10 10 10 10]\n"
          ]
        }
      ]
    },
    {
      "cell_type": "code",
      "source": [
        "# Potencia de arreglos\n",
        "\n",
        "arreglo_6 = arreglo_3 ** 2\n",
        "\n",
        "print(f\"El arreglo original es \\n{arreglo_3}\")\n",
        "print(f\"El arreglo resultante es \\n{arreglo_6}\")"
      ],
      "metadata": {
        "colab": {
          "base_uri": "https://localhost:8080/"
        },
        "id": "KDFA9q2l70YD",
        "outputId": "423e1f9c-4592-458e-fa06-ffde265ae8e4"
      },
      "execution_count": null,
      "outputs": [
        {
          "output_type": "stream",
          "name": "stdout",
          "text": [
            "El arreglo original es \n",
            "[1 2 3 4]\n",
            "El arreglo resultante es \n",
            "[ 1  4  9 16]\n"
          ]
        }
      ]
    },
    {
      "cell_type": "code",
      "source": [
        "# Multiplicación de matrices\n",
        "\n",
        "mat_A = np.array([[1,1],[0,1]])\n",
        "mat_B = np.array([[2,0],[3,4]])\n",
        "\n",
        "print(f\"La primera matriz a multiplicar es \\n{mat_A}\")\n",
        "print(f\"\\nLa segunda matriz a multiplicar es \\n{mat_B}\")"
      ],
      "metadata": {
        "colab": {
          "base_uri": "https://localhost:8080/"
        },
        "id": "u8Uv-fda8i_Q",
        "outputId": "97bf3988-f496-49b5-e3bf-84215be28d16"
      },
      "execution_count": null,
      "outputs": [
        {
          "output_type": "stream",
          "name": "stdout",
          "text": [
            "La primera matriz a multiplicar es \n",
            "[[1 1]\n",
            " [0 1]]\n",
            "\n",
            "La segunda matriz a multiplicar es \n",
            "[[2 0]\n",
            " [3 4]]\n"
          ]
        }
      ]
    },
    {
      "cell_type": "code",
      "source": [
        "# Para multiplicar matrices es importante conocer el tamaño de sus dimensiones\n",
        "# Verificar el tamaño de las dimensiones de las matrices\n",
        "\n",
        "t_dim_mA = mat_A.shape\n",
        "t_dim_mB = mat_B.shape\n",
        "\n",
        "print(f\"El tamaño de las dimensiones de la matriz A es {t_dim_mA}\")\n",
        "print(f\"\\nEl tamaño de las dimensiones de la matriz B es {t_dim_mB}\")"
      ],
      "metadata": {
        "colab": {
          "base_uri": "https://localhost:8080/"
        },
        "id": "rPyV1zpvKBaM",
        "outputId": "052f4bf5-76fc-469e-b5e3-4f22c1fd2e7b"
      },
      "execution_count": null,
      "outputs": [
        {
          "output_type": "stream",
          "name": "stdout",
          "text": [
            "El tamaño de las dimensiones de la matriz A es (2, 2)\n",
            "\n",
            "El tamaño de las dimensiones de la matriz B es (2, 2)\n"
          ]
        }
      ]
    },
    {
      "cell_type": "code",
      "source": [
        "# Para la multiplicación de matrices\n",
        "# Verificar las dimensiones de ambas matrices\n",
        "if t_dim_mA[1]==t_dim_mB[0]:\n",
        "  mat_C = np.dot(mat_A,mat_B)\n",
        "  print(f\"El resultado de la multiplicación de matrices es \\n{mat_C}\")\n",
        "else:\n",
        "  print(\"No es posible multiplicar las matrices\")"
      ],
      "metadata": {
        "colab": {
          "base_uri": "https://localhost:8080/"
        },
        "id": "qtTb4Tu1-Bfn",
        "outputId": "e1f989ce-2d2c-457f-eeaa-c3a614e80305"
      },
      "execution_count": null,
      "outputs": [
        {
          "output_type": "stream",
          "name": "stdout",
          "text": [
            "El resultado de la multiplicación de matrices es \n",
            "[[5 4]\n",
            " [3 4]]\n"
          ]
        }
      ]
    },
    {
      "cell_type": "code",
      "source": [
        "print(f\"La tupla con las dimensiones de la matriz A es \\n{t_dim_mA}\")\n",
        "print(f\"La tupla con las dimensiones de la matriz B es \\n{t_dim_mB}\")"
      ],
      "metadata": {
        "colab": {
          "base_uri": "https://localhost:8080/"
        },
        "id": "MbVGfknBMRy0",
        "outputId": "a962e8e7-78a3-4954-abbd-adcbdac6b81d"
      },
      "execution_count": null,
      "outputs": [
        {
          "output_type": "stream",
          "name": "stdout",
          "text": [
            "La tupla con las dimensiones de la matriz A es \n",
            "(2, 2)\n",
            "La tupla con las dimensiones de la matriz B es \n",
            "(2, 2)\n"
          ]
        }
      ]
    },
    {
      "cell_type": "code",
      "source": [
        "# Para multiplicar elmentos de 2 matrices en función de su posición\n",
        "# Verificar las dimensiones de ambas matrices\n",
        "if t_dim_mA==t_dim_mB:\n",
        "  mat_C_ = mat_A * mat_B\n",
        "  print(f\"El resultado de la multiplicación de matrices es \\n{mat_C_}\")\n",
        "else:\n",
        "  print(\"No es posible multiplicar las matrices por posiciones por diferencia de dimensiones\")"
      ],
      "metadata": {
        "id": "KoXHy2Ms9y39",
        "colab": {
          "base_uri": "https://localhost:8080/"
        },
        "outputId": "2bb11e78-72d1-464a-f4df-879f413e8738"
      },
      "execution_count": null,
      "outputs": [
        {
          "output_type": "stream",
          "name": "stdout",
          "text": [
            "El resultado de la multiplicación de matrices es \n",
            "[[2 0]\n",
            " [0 4]]\n"
          ]
        }
      ]
    },
    {
      "cell_type": "markdown",
      "source": [
        "Ejemplo 2"
      ],
      "metadata": {
        "id": "oHml5De0OHX1"
      }
    },
    {
      "cell_type": "code",
      "source": [
        "m_A = np.array([[1,0,2],[3,1,1],[2,1,1]])\n",
        "m_B = np.array([[1,0],[3,1],[2,1]])\n",
        "\n",
        "print(f\"La matriz A es \\n{m_A}\")\n",
        "print(f\"\\nLa matriz B es \\n{m_B}\")"
      ],
      "metadata": {
        "colab": {
          "base_uri": "https://localhost:8080/"
        },
        "id": "wgc_uzkjMsi0",
        "outputId": "abd833d7-06ff-400c-f778-b43b414af110"
      },
      "execution_count": null,
      "outputs": [
        {
          "output_type": "stream",
          "name": "stdout",
          "text": [
            "La matriz A es \n",
            "[[1 0 2]\n",
            " [3 1 1]\n",
            " [2 1 1]]\n",
            "\n",
            "La matriz B es \n",
            "[[1 0]\n",
            " [3 1]\n",
            " [2 1]]\n"
          ]
        }
      ]
    },
    {
      "cell_type": "code",
      "source": [
        "# Para la multiplicación de matrices\n",
        "# Verificar las dimensiones de ambas matrices\n",
        "t_dim_m_A = m_A.shape\n",
        "t_dim_m_B = m_B.shape\n",
        "if t_dim_m_A[1]==t_dim_m_B[0]:\n",
        "  mat_C = np.dot(m_A,m_B)\n",
        "  print(f\"El resultado de la multiplicación de matrices es \\n{mat_C}\")\n",
        "else:\n",
        "  print(\"No es posible multiplicar las matrices\")"
      ],
      "metadata": {
        "colab": {
          "base_uri": "https://localhost:8080/"
        },
        "id": "c9UDzinHOiDa",
        "outputId": "22ddc395-9ff3-462e-8f39-918a4fb385cb"
      },
      "execution_count": null,
      "outputs": [
        {
          "output_type": "stream",
          "name": "stdout",
          "text": [
            "El resultado de la multiplicación de matrices es \n",
            "[[5 2]\n",
            " [8 2]\n",
            " [7 2]]\n"
          ]
        }
      ]
    },
    {
      "cell_type": "code",
      "source": [
        "print(f\"La matriz resultante tiene {mat_C.ndim} dimensiones\")\n",
        "print(f\"El tamaño de las dimensiones es {mat_C.shape}\")"
      ],
      "metadata": {
        "colab": {
          "base_uri": "https://localhost:8080/"
        },
        "id": "Kc6B6HRxRLfd",
        "outputId": "de65f015-db8a-424b-fa11-25c28baaa927"
      },
      "execution_count": null,
      "outputs": [
        {
          "output_type": "stream",
          "name": "stdout",
          "text": [
            "La matriz resultante tiene 2 dimensiones\n",
            "El tamaño de las dimensiones es (3, 2)\n"
          ]
        }
      ]
    },
    {
      "cell_type": "code",
      "source": [
        "# Para multiplicar elmentos de 2 matrices en función de su posición\n",
        "# Verificar las dimensiones de ambas matrices\n",
        "if t_dim_m_A==t_dim_m_B:\n",
        "  mat_C_ = m_A * m_B\n",
        "  print(f\"El resultado de la multiplicación de matrices es \\n{mat_C_}\")\n",
        "else:\n",
        "  print(\"No es posible multiplicar las matrices por posiciones por diferencia de dimensiones\")"
      ],
      "metadata": {
        "colab": {
          "base_uri": "https://localhost:8080/"
        },
        "id": "j5gw4m17PCHa",
        "outputId": "d673ae9c-93af-4a08-972c-db8d09a29410"
      },
      "execution_count": null,
      "outputs": [
        {
          "output_type": "stream",
          "name": "stdout",
          "text": [
            "No es posible multiplicar las matrices por posiciones por diferencia de dimensiones\n"
          ]
        }
      ]
    },
    {
      "cell_type": "markdown",
      "source": [
        "Ejemplo 3"
      ],
      "metadata": {
        "id": "j9benwlHQfP6"
      }
    },
    {
      "cell_type": "code",
      "source": [
        "# Crear un arreglo con la función .arange() de 1 dimensión\n",
        "mat_7 = np.arange(15)\n",
        "\n",
        "print(f\"El arreglo es \\n{mat_7}\")\n",
        "print(f\"\\nLa matriz resultante tiene {mat_7.ndim} dimensiones\")\n",
        "print(f\"\\nEl tamaño de las dimensiones es {mat_7.shape}\")\n",
        "print(f\"\\nLa cantidad de elementos de la matriz es {mat_7.size}\")"
      ],
      "metadata": {
        "colab": {
          "base_uri": "https://localhost:8080/"
        },
        "id": "KUKpU01dQCE5",
        "outputId": "523e1582-7a35-4218-a039-888d27662e97"
      },
      "execution_count": null,
      "outputs": [
        {
          "output_type": "stream",
          "name": "stdout",
          "text": [
            "El arreglo es \n",
            "[ 0  1  2  3  4  5  6  7  8  9 10 11 12 13 14]\n",
            "\n",
            "La matriz resultante tiene 1 dimensiones\n",
            "\n",
            "El tamaño de las dimensiones es (15,)\n",
            "\n",
            "La cantidad de elementos de la matriz es 15\n"
          ]
        }
      ]
    },
    {
      "cell_type": "code",
      "source": [
        "# Matriz de 1 Dimensión convertir en una matriz de distinta dimensionalidad\n",
        "\n",
        "mat_7 = mat_7.reshape(3,5)"
      ],
      "metadata": {
        "id": "61GH8WTUQ_5H"
      },
      "execution_count": null,
      "outputs": []
    },
    {
      "cell_type": "code",
      "source": [
        "print(f\"El arreglo es \\n{mat_7}\")\n",
        "print(f\"\\nLa matriz resultante tiene {mat_7.ndim} dimensiones\")\n",
        "print(f\"\\nEl tamaño de las dimensiones es {mat_7.shape}\")\n",
        "print(f\"\\nLa cantidad de elementos de la matriz es {mat_7.size}\")"
      ],
      "metadata": {
        "colab": {
          "base_uri": "https://localhost:8080/"
        },
        "id": "gxLa5mD8SewC",
        "outputId": "1fb54ac2-cded-4671-a4fe-4b9162bfb5a5"
      },
      "execution_count": null,
      "outputs": [
        {
          "output_type": "stream",
          "name": "stdout",
          "text": [
            "El arreglo es \n",
            "[[ 0  1  2  3  4]\n",
            " [ 5  6  7  8  9]\n",
            " [10 11 12 13 14]]\n",
            "\n",
            "La matriz resultante tiene 2 dimensiones\n",
            "\n",
            "El tamaño de las dimensiones es (3, 5)\n",
            "\n",
            "La cantidad de elementos de la matriz es 15\n"
          ]
        }
      ]
    },
    {
      "cell_type": "markdown",
      "source": [
        "Ejemplo 4"
      ],
      "metadata": {
        "id": "0-EpZM9OSz8z"
      }
    },
    {
      "cell_type": "code",
      "source": [
        "mat_9 = np.zeros((4,4))\n",
        "\n",
        "print(f\"El arreglo es \\n{mat_9}\")\n",
        "print(f\"\\nLa matriz resultante tiene {mat_9.ndim} dimensiones\")\n",
        "print(f\"\\nEl tamaño de las dimensiones es {mat_9.shape}\")\n",
        "print(f\"\\nLa cantidad de elementos de la matriz es {mat_9.size}\")\n"
      ],
      "metadata": {
        "colab": {
          "base_uri": "https://localhost:8080/"
        },
        "id": "fYhkKV9QSk6P",
        "outputId": "d976bc0b-d616-4f89-f519-2a524d1f5cbf"
      },
      "execution_count": null,
      "outputs": [
        {
          "output_type": "stream",
          "name": "stdout",
          "text": [
            "El arreglo es \n",
            "[[0. 0. 0. 0.]\n",
            " [0. 0. 0. 0.]\n",
            " [0. 0. 0. 0.]\n",
            " [0. 0. 0. 0.]]\n",
            "\n",
            "La matriz resultante tiene 2 dimensiones\n",
            "\n",
            "El tamaño de las dimensiones es (4, 4)\n",
            "\n",
            "La cantidad de elementos de la matriz es 16\n"
          ]
        }
      ]
    },
    {
      "cell_type": "markdown",
      "source": [
        "Ejemplo 5"
      ],
      "metadata": {
        "id": "QyWtZoXZTRJI"
      }
    },
    {
      "cell_type": "code",
      "source": [
        "# Crear un arreglo con la función .linspace()\n",
        "# 50 => pto de partida (incluído)\n",
        "# 60 => pto de llegada (incluído)\n",
        "# 20 => cantidad de elementos\n",
        "mat_10 = np.linspace(50,60,20)\n",
        "\n",
        "print(f\"El arreglo es \\n{mat_10}\")\n",
        "print(f\"\\nLa matriz resultante tiene {mat_10.ndim} dimensiones\")\n",
        "print(f\"\\nEl tamaño de las dimensiones es {mat_10.shape}\")\n",
        "print(f\"\\nLa cantidad de elementos de la matriz es {mat_10.size}\")"
      ],
      "metadata": {
        "colab": {
          "base_uri": "https://localhost:8080/"
        },
        "id": "0OY658MMTB1Y",
        "outputId": "87942fcc-1ae9-47fd-aea7-5ba4be97da5d"
      },
      "execution_count": null,
      "outputs": [
        {
          "output_type": "stream",
          "name": "stdout",
          "text": [
            "El arreglo es \n",
            "[50.         50.52631579 51.05263158 51.57894737 52.10526316 52.63157895\n",
            " 53.15789474 53.68421053 54.21052632 54.73684211 55.26315789 55.78947368\n",
            " 56.31578947 56.84210526 57.36842105 57.89473684 58.42105263 58.94736842\n",
            " 59.47368421 60.        ]\n",
            "\n",
            "La matriz resultante tiene 1 dimensiones\n",
            "\n",
            "El tamaño de las dimensiones es (20,)\n",
            "\n",
            "La cantidad de elementos de la matriz es 20\n"
          ]
        }
      ]
    },
    {
      "cell_type": "code",
      "source": [
        "mat_10 = mat_10.reshape(4,5)\n",
        "print(f\"El arreglo es \\n{mat_10}\")\n",
        "print(f\"\\nLa matriz resultante tiene {mat_10.ndim} dimensiones\")\n",
        "print(f\"\\nEl tamaño de las dimensiones es {mat_10.shape}\")\n",
        "print(f\"\\nLa cantidad de elementos de la matriz es {mat_10.size}\")"
      ],
      "metadata": {
        "colab": {
          "base_uri": "https://localhost:8080/"
        },
        "id": "iCirdcQ9T17w",
        "outputId": "ef3f9827-f2d6-407b-e051-ceb589b02251"
      },
      "execution_count": null,
      "outputs": [
        {
          "output_type": "stream",
          "name": "stdout",
          "text": [
            "El arreglo es \n",
            "[[50.         50.52631579 51.05263158 51.57894737 52.10526316]\n",
            " [52.63157895 53.15789474 53.68421053 54.21052632 54.73684211]\n",
            " [55.26315789 55.78947368 56.31578947 56.84210526 57.36842105]\n",
            " [57.89473684 58.42105263 58.94736842 59.47368421 60.        ]]\n",
            "\n",
            "La matriz resultante tiene 2 dimensiones\n",
            "\n",
            "El tamaño de las dimensiones es (4, 5)\n",
            "\n",
            "La cantidad de elementos de la matriz es 20\n"
          ]
        }
      ]
    },
    {
      "cell_type": "code",
      "source": [
        "# .ravel me permite llevar un arreglo de cualquier dimensionalidad a una dimensionalidad de 1\n",
        "mat_10 = mat_10.ravel()\n",
        "print(f\"El arreglo es \\n{mat_10}\")\n",
        "print(f\"\\nLa matriz resultante tiene {mat_10.ndim} dimensiones\")\n",
        "print(f\"\\nEl tamaño de las dimensiones es {mat_10.shape}\")\n",
        "print(f\"\\nLa cantidad de elementos de la matriz es {mat_10.size}\")"
      ],
      "metadata": {
        "colab": {
          "base_uri": "https://localhost:8080/"
        },
        "id": "3cX6G9_VTuQg",
        "outputId": "5d813587-dd6d-49c2-9ccd-b070479620d5"
      },
      "execution_count": null,
      "outputs": [
        {
          "output_type": "stream",
          "name": "stdout",
          "text": [
            "El arreglo es \n",
            "[50.         50.52631579 51.05263158 51.57894737 52.10526316 52.63157895\n",
            " 53.15789474 53.68421053 54.21052632 54.73684211 55.26315789 55.78947368\n",
            " 56.31578947 56.84210526 57.36842105 57.89473684 58.42105263 58.94736842\n",
            " 59.47368421 60.        ]\n",
            "\n",
            "La matriz resultante tiene 1 dimensiones\n",
            "\n",
            "El tamaño de las dimensiones es (20,)\n",
            "\n",
            "La cantidad de elementos de la matriz es 20\n"
          ]
        }
      ]
    },
    {
      "cell_type": "markdown",
      "source": [
        "Ejemplo 6"
      ],
      "metadata": {
        "id": "717gJGVwVLYB"
      }
    },
    {
      "cell_type": "code",
      "source": [
        "# Crear un arreglo con 30 elementos usando .arange\n",
        "# Cambiar la dimensionalidad a (2,3,5)\n",
        "# 1er elemento = # matrices\n",
        "# 2do elemento = # filas de c/matriz\n",
        "# 3er elemento = # columnas de c/matriz\n",
        "\n",
        "import numpy as np\n",
        "\n",
        "mat_11 = np.arange(30).reshape(2,3,5)\n",
        "print(f\"El arreglo es \\n{mat_11}\")\n",
        "print(f\"\\nLa matriz resultante tiene {mat_11.ndim} dimensiones\")\n",
        "print(f\"\\nEl tamaño de las dimensiones es {mat_11.shape}\")\n",
        "print(f\"\\nLa cantidad de elementos de la matriz es {mat_11.size}\")"
      ],
      "metadata": {
        "colab": {
          "base_uri": "https://localhost:8080/"
        },
        "id": "eTet-Ee2Ucnr",
        "outputId": "c38f74d0-ecdf-4cc9-f794-58a45c29fe9a"
      },
      "execution_count": null,
      "outputs": [
        {
          "output_type": "stream",
          "name": "stdout",
          "text": [
            "El arreglo es \n",
            "[[[ 0  1  2  3  4]\n",
            "  [ 5  6  7  8  9]\n",
            "  [10 11 12 13 14]]\n",
            "\n",
            " [[15 16 17 18 19]\n",
            "  [20 21 22 23 24]\n",
            "  [25 26 27 28 29]]]\n",
            "\n",
            "La matriz resultante tiene 3 dimensiones\n",
            "\n",
            "El tamaño de las dimensiones es (2, 3, 5)\n",
            "\n",
            "La cantidad de elementos de la matriz es 30\n"
          ]
        }
      ]
    },
    {
      "cell_type": "markdown",
      "source": [
        "Ejercicio Propuesto:\n",
        "\n",
        "Crear un arreglo con 3 dimensiones, el arreglo debe estar compuesto por valores 0s y las dimensiones deben tener los siguientes tamaños (6,2,3)"
      ],
      "metadata": {
        "id": "4S1ac6KgWZE2"
      }
    },
    {
      "cell_type": "code",
      "source": [
        "mat_12 = np.zeros((6,2,3))\n",
        "print(f\"El arreglo es: \\n{mat_12}\")\n",
        "print(f\"\\nLa matriz resultante tiene {mat_12.ndim} dimensiones\")\n",
        "print(f\"\\nEl tamaño de las dimensiones es: \\n{mat_12.shape}\")\n",
        "print(f\"\\nLa cantidad de elementos de la matriz es {mat_12.size}\")"
      ],
      "metadata": {
        "colab": {
          "base_uri": "https://localhost:8080/"
        },
        "id": "Ogfwsix7Vwz2",
        "outputId": "65482a82-127d-4628-da56-db90e46ac8c1"
      },
      "execution_count": null,
      "outputs": [
        {
          "output_type": "stream",
          "name": "stdout",
          "text": [
            "El arreglo es: \n",
            "[[[0. 0. 0.]\n",
            "  [0. 0. 0.]]\n",
            "\n",
            " [[0. 0. 0.]\n",
            "  [0. 0. 0.]]\n",
            "\n",
            " [[0. 0. 0.]\n",
            "  [0. 0. 0.]]\n",
            "\n",
            " [[0. 0. 0.]\n",
            "  [0. 0. 0.]]\n",
            "\n",
            " [[0. 0. 0.]\n",
            "  [0. 0. 0.]]\n",
            "\n",
            " [[0. 0. 0.]\n",
            "  [0. 0. 0.]]]\n",
            "\n",
            "La matriz resultante tiene 3 dimensiones\n",
            "\n",
            "El tamaño de las dimensiones es: \n",
            "(6, 2, 3)\n",
            "\n",
            "La cantidad de elementos de la matriz es 36\n"
          ]
        }
      ]
    },
    {
      "cell_type": "markdown",
      "source": [
        "Ejemplo 7"
      ],
      "metadata": {
        "id": "LUkkpHqhXRzJ"
      }
    },
    {
      "cell_type": "code",
      "source": [
        "mat_13 = np.arange(36).reshape(6,2,3)\n",
        "print(f\"El arreglo es: \\n{mat_13}\")\n",
        "print(f\"\\nLa matriz resultante tiene {mat_13.ndim} dimensiones\")\n",
        "print(f\"\\nEl tamaño de las dimensiones es: \\n{mat_13.shape}\")\n",
        "print(f\"\\nLa cantidad de elementos de la matriz es {mat_13.size}\")"
      ],
      "metadata": {
        "colab": {
          "base_uri": "https://localhost:8080/"
        },
        "id": "8mGrp_DxYEq0",
        "outputId": "32b990da-5ee0-409b-ea2e-a852918bb84b"
      },
      "execution_count": null,
      "outputs": [
        {
          "output_type": "stream",
          "name": "stdout",
          "text": [
            "El arreglo es: \n",
            "[[[ 0  1  2]\n",
            "  [ 3  4  5]]\n",
            "\n",
            " [[ 6  7  8]\n",
            "  [ 9 10 11]]\n",
            "\n",
            " [[12 13 14]\n",
            "  [15 16 17]]\n",
            "\n",
            " [[18 19 20]\n",
            "  [21 22 23]]\n",
            "\n",
            " [[24 25 26]\n",
            "  [27 28 29]]\n",
            "\n",
            " [[30 31 32]\n",
            "  [33 34 35]]]\n",
            "\n",
            "La matriz resultante tiene 3 dimensiones\n",
            "\n",
            "El tamaño de las dimensiones es: \n",
            "(6, 2, 3)\n",
            "\n",
            "La cantidad de elementos de la matriz es 36\n"
          ]
        }
      ]
    },
    {
      "cell_type": "markdown",
      "source": [
        "## Actividad N036"
      ],
      "metadata": {
        "id": "TG4DrU0sY4LE"
      }
    },
    {
      "cell_type": "markdown",
      "source": [
        "Crear los arreglos A y B, realice el cálculo de multiplicación de matrices (A.B) y de (B.A)"
      ],
      "metadata": {
        "id": "fAUw0LmQY67y"
      }
    },
    {
      "cell_type": "code",
      "source": [
        "from google.colab import files\n",
        "\n",
        "uploaded = files.upload()"
      ],
      "metadata": {
        "colab": {
          "base_uri": "https://localhost:8080/",
          "height": 73
        },
        "id": "shmxa0p6XSo5",
        "outputId": "cea1e124-be56-40db-db00-74d478cc1609"
      },
      "execution_count": null,
      "outputs": [
        {
          "output_type": "display_data",
          "data": {
            "text/plain": [
              "<IPython.core.display.HTML object>"
            ],
            "text/html": [
              "\n",
              "     <input type=\"file\" id=\"files-1058b359-d588-4a02-8217-3785b975df73\" name=\"files[]\" multiple disabled\n",
              "        style=\"border:none\" />\n",
              "     <output id=\"result-1058b359-d588-4a02-8217-3785b975df73\">\n",
              "      Upload widget is only available when the cell has been executed in the\n",
              "      current browser session. Please rerun this cell to enable.\n",
              "      </output>\n",
              "      <script>// Copyright 2017 Google LLC\n",
              "//\n",
              "// Licensed under the Apache License, Version 2.0 (the \"License\");\n",
              "// you may not use this file except in compliance with the License.\n",
              "// You may obtain a copy of the License at\n",
              "//\n",
              "//      http://www.apache.org/licenses/LICENSE-2.0\n",
              "//\n",
              "// Unless required by applicable law or agreed to in writing, software\n",
              "// distributed under the License is distributed on an \"AS IS\" BASIS,\n",
              "// WITHOUT WARRANTIES OR CONDITIONS OF ANY KIND, either express or implied.\n",
              "// See the License for the specific language governing permissions and\n",
              "// limitations under the License.\n",
              "\n",
              "/**\n",
              " * @fileoverview Helpers for google.colab Python module.\n",
              " */\n",
              "(function(scope) {\n",
              "function span(text, styleAttributes = {}) {\n",
              "  const element = document.createElement('span');\n",
              "  element.textContent = text;\n",
              "  for (const key of Object.keys(styleAttributes)) {\n",
              "    element.style[key] = styleAttributes[key];\n",
              "  }\n",
              "  return element;\n",
              "}\n",
              "\n",
              "// Max number of bytes which will be uploaded at a time.\n",
              "const MAX_PAYLOAD_SIZE = 100 * 1024;\n",
              "\n",
              "function _uploadFiles(inputId, outputId) {\n",
              "  const steps = uploadFilesStep(inputId, outputId);\n",
              "  const outputElement = document.getElementById(outputId);\n",
              "  // Cache steps on the outputElement to make it available for the next call\n",
              "  // to uploadFilesContinue from Python.\n",
              "  outputElement.steps = steps;\n",
              "\n",
              "  return _uploadFilesContinue(outputId);\n",
              "}\n",
              "\n",
              "// This is roughly an async generator (not supported in the browser yet),\n",
              "// where there are multiple asynchronous steps and the Python side is going\n",
              "// to poll for completion of each step.\n",
              "// This uses a Promise to block the python side on completion of each step,\n",
              "// then passes the result of the previous step as the input to the next step.\n",
              "function _uploadFilesContinue(outputId) {\n",
              "  const outputElement = document.getElementById(outputId);\n",
              "  const steps = outputElement.steps;\n",
              "\n",
              "  const next = steps.next(outputElement.lastPromiseValue);\n",
              "  return Promise.resolve(next.value.promise).then((value) => {\n",
              "    // Cache the last promise value to make it available to the next\n",
              "    // step of the generator.\n",
              "    outputElement.lastPromiseValue = value;\n",
              "    return next.value.response;\n",
              "  });\n",
              "}\n",
              "\n",
              "/**\n",
              " * Generator function which is called between each async step of the upload\n",
              " * process.\n",
              " * @param {string} inputId Element ID of the input file picker element.\n",
              " * @param {string} outputId Element ID of the output display.\n",
              " * @return {!Iterable<!Object>} Iterable of next steps.\n",
              " */\n",
              "function* uploadFilesStep(inputId, outputId) {\n",
              "  const inputElement = document.getElementById(inputId);\n",
              "  inputElement.disabled = false;\n",
              "\n",
              "  const outputElement = document.getElementById(outputId);\n",
              "  outputElement.innerHTML = '';\n",
              "\n",
              "  const pickedPromise = new Promise((resolve) => {\n",
              "    inputElement.addEventListener('change', (e) => {\n",
              "      resolve(e.target.files);\n",
              "    });\n",
              "  });\n",
              "\n",
              "  const cancel = document.createElement('button');\n",
              "  inputElement.parentElement.appendChild(cancel);\n",
              "  cancel.textContent = 'Cancel upload';\n",
              "  const cancelPromise = new Promise((resolve) => {\n",
              "    cancel.onclick = () => {\n",
              "      resolve(null);\n",
              "    };\n",
              "  });\n",
              "\n",
              "  // Wait for the user to pick the files.\n",
              "  const files = yield {\n",
              "    promise: Promise.race([pickedPromise, cancelPromise]),\n",
              "    response: {\n",
              "      action: 'starting',\n",
              "    }\n",
              "  };\n",
              "\n",
              "  cancel.remove();\n",
              "\n",
              "  // Disable the input element since further picks are not allowed.\n",
              "  inputElement.disabled = true;\n",
              "\n",
              "  if (!files) {\n",
              "    return {\n",
              "      response: {\n",
              "        action: 'complete',\n",
              "      }\n",
              "    };\n",
              "  }\n",
              "\n",
              "  for (const file of files) {\n",
              "    const li = document.createElement('li');\n",
              "    li.append(span(file.name, {fontWeight: 'bold'}));\n",
              "    li.append(span(\n",
              "        `(${file.type || 'n/a'}) - ${file.size} bytes, ` +\n",
              "        `last modified: ${\n",
              "            file.lastModifiedDate ? file.lastModifiedDate.toLocaleDateString() :\n",
              "                                    'n/a'} - `));\n",
              "    const percent = span('0% done');\n",
              "    li.appendChild(percent);\n",
              "\n",
              "    outputElement.appendChild(li);\n",
              "\n",
              "    const fileDataPromise = new Promise((resolve) => {\n",
              "      const reader = new FileReader();\n",
              "      reader.onload = (e) => {\n",
              "        resolve(e.target.result);\n",
              "      };\n",
              "      reader.readAsArrayBuffer(file);\n",
              "    });\n",
              "    // Wait for the data to be ready.\n",
              "    let fileData = yield {\n",
              "      promise: fileDataPromise,\n",
              "      response: {\n",
              "        action: 'continue',\n",
              "      }\n",
              "    };\n",
              "\n",
              "    // Use a chunked sending to avoid message size limits. See b/62115660.\n",
              "    let position = 0;\n",
              "    do {\n",
              "      const length = Math.min(fileData.byteLength - position, MAX_PAYLOAD_SIZE);\n",
              "      const chunk = new Uint8Array(fileData, position, length);\n",
              "      position += length;\n",
              "\n",
              "      const base64 = btoa(String.fromCharCode.apply(null, chunk));\n",
              "      yield {\n",
              "        response: {\n",
              "          action: 'append',\n",
              "          file: file.name,\n",
              "          data: base64,\n",
              "        },\n",
              "      };\n",
              "\n",
              "      let percentDone = fileData.byteLength === 0 ?\n",
              "          100 :\n",
              "          Math.round((position / fileData.byteLength) * 100);\n",
              "      percent.textContent = `${percentDone}% done`;\n",
              "\n",
              "    } while (position < fileData.byteLength);\n",
              "  }\n",
              "\n",
              "  // All done.\n",
              "  yield {\n",
              "    response: {\n",
              "      action: 'complete',\n",
              "    }\n",
              "  };\n",
              "}\n",
              "\n",
              "scope.google = scope.google || {};\n",
              "scope.google.colab = scope.google.colab || {};\n",
              "scope.google.colab._files = {\n",
              "  _uploadFiles,\n",
              "  _uploadFilesContinue,\n",
              "};\n",
              "})(self);\n",
              "</script> "
            ]
          },
          "metadata": {}
        },
        {
          "output_type": "stream",
          "name": "stdout",
          "text": [
            "Saving mult_arreglos.png to mult_arreglos.png\n"
          ]
        }
      ]
    },
    {
      "cell_type": "code",
      "source": [
        "from IPython.display import Image,display\n",
        "display(Image(filename=\"mult_arreglos.png\"))"
      ],
      "metadata": {
        "colab": {
          "base_uri": "https://localhost:8080/",
          "height": 233
        },
        "id": "uGk7mN58ZFO5",
        "outputId": "6f271c44-c3ae-49c0-8016-321a05f90927"
      },
      "execution_count": null,
      "outputs": [
        {
          "output_type": "display_data",
          "data": {
            "image/png": "[encoded data removed]",
            "text/plain": [
              "<IPython.core.display.Image object>"
            ]
          },
          "metadata": {}
        }
      ]
    },
    {
      "cell_type": "code",
      "source": [
        "# Definimos las matrices\n",
        "mat_A = np.array([[1,2,3],[3,2,1]])\n",
        "mat_B = np.array([[0,2],[1,-1],[0,1]])\n",
        "\n",
        "# Definir el tamaño de las dimensiones de las matrices\n",
        "t_dim_mA = mat_A.shape\n",
        "t_dim_mB = mat_B.shape\n",
        "\n",
        "# Cálculo de las matrices (A*B)\n",
        "if t_dim_mA[1]==t_dim_mB[0]:\n",
        "  mat_C = np.dot(mat_A,mat_B)\n",
        "  print(f\"El resultado de la multiplicación de matrices A*B es \\n{mat_C}\")\n",
        "else:\n",
        "  print(\"No es posible multiplicar las matrices\")\n",
        "\n",
        "# Cálculo de las matrices (B*A)\n",
        "if t_dim_mB[1]==t_dim_mA[0]:\n",
        "  mat_C_ = np.dot(mat_B,mat_A)\n",
        "  print(f\"El resultado de la multiplicación de matrices B*A es \\n{mat_C_}\")\n",
        "else:\n",
        "  print(\"No es posible multiplicar las matrices\")"
      ],
      "metadata": {
        "colab": {
          "base_uri": "https://localhost:8080/"
        },
        "id": "P3rrW5U5betw",
        "outputId": "c04ea60f-f6ad-4280-928a-296b1adf5972"
      },
      "execution_count": null,
      "outputs": [
        {
          "output_type": "stream",
          "name": "stdout",
          "text": [
            "El resultado de la multiplicación de matrices A*B es \n",
            "[[2 3]\n",
            " [2 5]]\n",
            "El resultado de la multiplicación de matrices B*A es \n",
            "[[ 6  4  2]\n",
            " [-2  0  2]\n",
            " [ 3  2  1]]\n"
          ]
        }
      ]
    },
    {
      "cell_type": "markdown",
      "source": [
        "Otro método para crear arreglos en NumPy"
      ],
      "metadata": {
        "id": "_ODF2cUCc6rB"
      }
    },
    {
      "cell_type": "code",
      "source": [
        "nf = int(input(\"Ingrese la cantidad de filas de la matriz:\"))\n",
        "nc = int(input(\"Ingrese la cantidad de columnas de la matriz:\"))\n",
        "tmp = np.zeros((nf,nc))"
      ],
      "metadata": {
        "colab": {
          "base_uri": "https://localhost:8080/"
        },
        "id": "Tb5cODwDZXTD",
        "outputId": "d752e43c-f09a-40be-a703-d3d590ace60e"
      },
      "execution_count": null,
      "outputs": [
        {
          "name": "stdout",
          "output_type": "stream",
          "text": [
            "Ingrese la cantidad de filas de la matriz:2\n",
            "Ingrese la cantidad de columnas de la matriz:3\n"
          ]
        }
      ]
    },
    {
      "cell_type": "code",
      "source": [
        "print(f\"La matriz resultante es \\n{tmp}\")"
      ],
      "metadata": {
        "colab": {
          "base_uri": "https://localhost:8080/"
        },
        "id": "1SiGdwwCdN3Y",
        "outputId": "e801d5e9-f686-42ee-e267-2e20164adaee"
      },
      "execution_count": null,
      "outputs": [
        {
          "output_type": "stream",
          "name": "stdout",
          "text": [
            "La matriz resultante es \n",
            "[[0. 0. 0.]\n",
            " [0. 0. 0.]]\n"
          ]
        }
      ]
    },
    {
      "cell_type": "code",
      "source": [
        "for i in range(tmp.shape[0]):\n",
        "  for j in range(tmp.shape[1]):\n",
        "    tmp[i][j]=int(input(\"Ingrese el valor:\"))\n",
        "print(f\"La matriz resultante es \\n{tmp}\")"
      ],
      "metadata": {
        "colab": {
          "base_uri": "https://localhost:8080/"
        },
        "id": "HqHpX-jQalaC",
        "outputId": "9c0bbb21-12a5-4072-c1d0-a8ed30556b8c"
      },
      "execution_count": null,
      "outputs": [
        {
          "output_type": "stream",
          "name": "stdout",
          "text": [
            "Ingrese el valor:1\n",
            "Ingrese el valor:2\n",
            "Ingrese el valor:3\n",
            "Ingrese el valor:3\n",
            "Ingrese el valor:2\n",
            "Ingrese el valor:1\n",
            "La matriz resultante es \n",
            "[[1. 2. 3.]\n",
            " [3. 2. 1.]]\n"
          ]
        }
      ]
    },
    {
      "cell_type": "markdown",
      "source": [
        "## [4] Selección de elementos de un arreglo y concatenación"
      ],
      "metadata": {
        "id": "-RdcT4cPg0Sv"
      }
    },
    {
      "cell_type": "code",
      "source": [
        "print(f\"Dado el siguiente arreglo: \\n{mat_11}\")\n",
        "print(f\"\\n\\nQue tiene {mat_11.ndim} dimensiones\")\n",
        "print(f\"\\nCuyos tamaños de dimensiones son: {mat_11.shape}\")\n",
        "print(f\"\\nY tiene {mat_11.size} elementos\")"
      ],
      "metadata": {
        "colab": {
          "base_uri": "https://localhost:8080/"
        },
        "id": "mjujDATbg-2I",
        "outputId": "91babf14-ee11-450d-9b01-dcbd1a20d569"
      },
      "execution_count": null,
      "outputs": [
        {
          "output_type": "stream",
          "name": "stdout",
          "text": [
            "Dado el siguiente arreglo: \n",
            "[[[ 0  1  2  3  4]\n",
            "  [ 5  6  7  8  9]\n",
            "  [10 11 12 13 14]]\n",
            "\n",
            " [[15 16 17 18 19]\n",
            "  [20 21 22 23 24]\n",
            "  [25 26 27 28 29]]]\n",
            "\n",
            "\n",
            "Que tiene 3 dimensiones\n",
            "\n",
            "Cuyos tamaños de dimensiones son: (2, 3, 5)\n",
            "\n",
            "Y tiene 30 elementos\n"
          ]
        }
      ]
    },
    {
      "cell_type": "code",
      "source": [
        "print(f\"La segunda matriz del arreglo es \\n{mat_11[1]}\")\n",
        "print(f\"\\nLa segunda fila de la segunda matriz del arreglo es \\n{mat_11[1][1]}\")\n",
        "print(f\"\\nEl cuarto elemento de la segunda fila de la segunda matriz del arreglo es \\n{mat_11[1][1][3]}\")"
      ],
      "metadata": {
        "colab": {
          "base_uri": "https://localhost:8080/"
        },
        "id": "ZL0XzKhmh0BH",
        "outputId": "982f080d-c7b7-4de7-d976-95b83aa5b5e1"
      },
      "execution_count": null,
      "outputs": [
        {
          "output_type": "stream",
          "name": "stdout",
          "text": [
            "La segunda matriz del arreglo es \n",
            "[[15 16 17 18 19]\n",
            " [20 21 22 23 24]\n",
            " [25 26 27 28 29]]\n",
            "\n",
            "La segunda fila de la segunda matriz del arreglo es \n",
            "[20 21 22 23 24]\n",
            "\n",
            "El cuarto elemento de la segunda fila de la segunda matriz del arreglo es \n",
            "23\n"
          ]
        }
      ]
    },
    {
      "cell_type": "code",
      "source": [
        "# Primera matriz, tercera fila, elementos 11, 12 y 13\n",
        "mat_11[0][2][1:4]"
      ],
      "metadata": {
        "colab": {
          "base_uri": "https://localhost:8080/"
        },
        "id": "WkAcIuYdh0Eu",
        "outputId": "8f70b7ab-6fd0-48aa-b0e8-f7279b4a1040"
      },
      "execution_count": null,
      "outputs": [
        {
          "output_type": "execute_result",
          "data": {
            "text/plain": [
              "array([11, 12, 13])"
            ]
          },
          "metadata": {},
          "execution_count": 101
        }
      ]
    },
    {
      "cell_type": "code",
      "source": [
        "# Primera matriz, tercera fila, elementos 11, 12 (Matriz 1D)\n",
        "tmp_1 = mat_11[0][2][1:3]\n",
        "# Primera matriz, tercera fila, elementos 13,14 (Matriz 1D)\n",
        "tmp_2 = mat_11[0][2][3:]\n",
        "\n",
        "print(type(tmp_1))\n",
        "print(type(tmp_2))"
      ],
      "metadata": {
        "colab": {
          "base_uri": "https://localhost:8080/"
        },
        "id": "7cuCOJsFk9vA",
        "outputId": "f850b296-5857-4d4d-8eec-77c04b079609"
      },
      "execution_count": null,
      "outputs": [
        {
          "output_type": "stream",
          "name": "stdout",
          "text": [
            "<class 'numpy.ndarray'>\n",
            "<class 'numpy.ndarray'>\n"
          ]
        }
      ]
    },
    {
      "cell_type": "code",
      "source": [
        "tmp_1"
      ],
      "metadata": {
        "colab": {
          "base_uri": "https://localhost:8080/"
        },
        "id": "xhW30eQ_lpFK",
        "outputId": "452dbf68-5cc2-4c46-c670-95d75a37dc9e"
      },
      "execution_count": null,
      "outputs": [
        {
          "output_type": "execute_result",
          "data": {
            "text/plain": [
              "array([11, 12])"
            ]
          },
          "metadata": {},
          "execution_count": 124
        }
      ]
    },
    {
      "cell_type": "code",
      "source": [
        "tmp_2"
      ],
      "metadata": {
        "colab": {
          "base_uri": "https://localhost:8080/"
        },
        "id": "U178_t4blrjl",
        "outputId": "f1fb8f43-e3fb-4093-bae7-1e96f6fc2885"
      },
      "execution_count": null,
      "outputs": [
        {
          "output_type": "execute_result",
          "data": {
            "text/plain": [
              "array([13, 14])"
            ]
          },
          "metadata": {},
          "execution_count": 125
        }
      ]
    },
    {
      "cell_type": "code",
      "source": [
        "# Concatenar 2 matriz de 1D y el resultado será (Matriz 1D)\n",
        "np.concatenate([tmp_1,tmp_2],axis=0)"
      ],
      "metadata": {
        "colab": {
          "base_uri": "https://localhost:8080/"
        },
        "id": "oddFZbN4le22",
        "outputId": "64146f64-6fdb-4654-dc88-d473f82dbca6"
      },
      "execution_count": null,
      "outputs": [
        {
          "output_type": "execute_result",
          "data": {
            "text/plain": [
              "array([11, 12, 13, 14])"
            ]
          },
          "metadata": {},
          "execution_count": 126
        }
      ]
    },
    {
      "cell_type": "code",
      "source": [
        "tmp_3 = np.concatenate([tmp_1,tmp_2],axis=0)\n",
        "for i in tmp_3:\n",
        "  if i != 13:\n",
        "    print(i)\n",
        "  else:\n",
        "    print(\"Fuera de rango\")"
      ],
      "metadata": {
        "colab": {
          "base_uri": "https://localhost:8080/"
        },
        "id": "SkUBcuv9m9JH",
        "outputId": "271cde64-1256-46ac-8818-ebcb120fd056"
      },
      "execution_count": null,
      "outputs": [
        {
          "output_type": "stream",
          "name": "stdout",
          "text": [
            "11\n",
            "12\n",
            "Fuera de rango\n",
            "14\n"
          ]
        }
      ]
    },
    {
      "cell_type": "code",
      "source": [
        "# Concatenar en función de selecciones múltiples\n",
        "np.concatenate([mat_11[0][2,1:3],mat_11[0][2,-1].reshape(1,)],axis=0)"
      ],
      "metadata": {
        "colab": {
          "base_uri": "https://localhost:8080/"
        },
        "id": "JtdpOrIjwJjv",
        "outputId": "b6db2485-79be-4bba-9c59-9495f2d7d846"
      },
      "execution_count": null,
      "outputs": [
        {
          "output_type": "execute_result",
          "data": {
            "text/plain": [
              "array([11, 12, 14])"
            ]
          },
          "metadata": {},
          "execution_count": 6
        }
      ]
    },
    {
      "cell_type": "code",
      "source": [
        "mat_11[0][2,1:3].shape # Matriz 1D"
      ],
      "metadata": {
        "colab": {
          "base_uri": "https://localhost:8080/"
        },
        "id": "rjKL5Go9xPWs",
        "outputId": "0074aec8-d29f-4b06-d70e-f72c47635699"
      },
      "execution_count": null,
      "outputs": [
        {
          "output_type": "execute_result",
          "data": {
            "text/plain": [
              "(2,)"
            ]
          },
          "metadata": {},
          "execution_count": 7
        }
      ]
    },
    {
      "cell_type": "code",
      "source": [
        "mat_11[0][2,-1].shape # no es Matriz"
      ],
      "metadata": {
        "colab": {
          "base_uri": "https://localhost:8080/"
        },
        "id": "BeDns80axSjl",
        "outputId": "7c93bb56-d202-406e-ceaf-24abd7d9163c"
      },
      "execution_count": null,
      "outputs": [
        {
          "output_type": "execute_result",
          "data": {
            "text/plain": [
              "()"
            ]
          },
          "metadata": {},
          "execution_count": 8
        }
      ]
    },
    {
      "cell_type": "code",
      "source": [
        "# Dos matrices 2D\n",
        "m1 = np.array([[1,2],[2,3]])\n",
        "m2 = np.array([[10,20],[20,30]])\n",
        "\n",
        "print(m1)\n",
        "print(m1.ndim)\n",
        "print(m2)\n",
        "print(m2.ndim)"
      ],
      "metadata": {
        "colab": {
          "base_uri": "https://localhost:8080/"
        },
        "id": "CZ4tp5lUoGWc",
        "outputId": "0f1728ab-c5a9-4948-b48b-dc755ec040bc"
      },
      "execution_count": null,
      "outputs": [
        {
          "output_type": "stream",
          "name": "stdout",
          "text": [
            "[[1 2]\n",
            " [2 3]]\n",
            "2\n",
            "[[10 20]\n",
            " [20 30]]\n",
            "2\n"
          ]
        }
      ]
    },
    {
      "cell_type": "code",
      "source": [
        "np.concatenate([m1,m2],axis=0) # Matriz 2D / m1 encima m2"
      ],
      "metadata": {
        "colab": {
          "base_uri": "https://localhost:8080/"
        },
        "id": "sMmqHn6mm9kQ",
        "outputId": "132fb4a6-87ed-48aa-8e6a-387494e90397"
      },
      "execution_count": null,
      "outputs": [
        {
          "output_type": "execute_result",
          "data": {
            "text/plain": [
              "array([[ 1,  2],\n",
              "       [ 2,  3],\n",
              "       [10, 20],\n",
              "       [20, 30]])"
            ]
          },
          "metadata": {},
          "execution_count": 132
        }
      ]
    },
    {
      "cell_type": "code",
      "source": [
        "np.concatenate([m1,m2],axis=1) # Matriz 2D / m1 al lado m2"
      ],
      "metadata": {
        "colab": {
          "base_uri": "https://localhost:8080/"
        },
        "id": "sXjsj6KyoqaY",
        "outputId": "68c5e4fd-2cd8-4b4e-b88f-1d975b0ae3ff"
      },
      "execution_count": null,
      "outputs": [
        {
          "output_type": "execute_result",
          "data": {
            "text/plain": [
              "array([[ 1,  2, 10, 20],\n",
              "       [ 2,  3, 20, 30]])"
            ]
          },
          "metadata": {},
          "execution_count": 134
        }
      ]
    },
    {
      "cell_type": "markdown",
      "source": [
        "## Actividad N037"
      ],
      "metadata": {
        "id": "dOeB2f1UpLGD"
      }
    },
    {
      "cell_type": "code",
      "source": [
        "import pandas as pd\n",
        "\n",
        "# Diccionario\n",
        "d_tmp = {\n",
        "    'edad':[35,50,23,42],\n",
        "    'exp':[10,25,2,15],\n",
        "    'nhijos':[1,3,0,2],\n",
        "    'imp':[3500,6000,50,1000],\n",
        "    'ing':[12000,30000,1500,2800]\n",
        "}\n",
        "\n",
        "# Convierto el Diccionario en un DataFrame (Base de datos)\n",
        "df_tmp = pd.DataFrame(d_tmp)\n",
        "df_tmp.head(2)"
      ],
      "metadata": {
        "colab": {
          "base_uri": "https://localhost:8080/",
          "height": 112
        },
        "id": "vfHcONBHbaiF",
        "outputId": "cfaf09ff-5f11-4225-ce6b-e49fa9aae6bf"
      },
      "execution_count": null,
      "outputs": [
        {
          "output_type": "execute_result",
          "data": {
            "text/plain": [
              "   edad  exp  nhijos   imp    ing\n",
              "0    35   10       1  3500  12000\n",
              "1    50   25       3  6000  30000"
            ],
            "text/html": [
              "\n",
              "  <div id=\"df-a66fcded-52a6-4709-ba5f-4781d4fbb977\" class=\"colab-df-container\">\n",
              "    <div>\n",
              "<style scoped>\n",
              "    .dataframe tbody tr th:only-of-type {\n",
              "        vertical-align: middle;\n",
              "    }\n",
              "\n",
              "    .dataframe tbody tr th {\n",
              "        vertical-align: top;\n",
              "    }\n",
              "\n",
              "    .dataframe thead th {\n",
              "        text-align: right;\n",
              "    }\n",
              "</style>\n",
              "<table border=\"1\" class=\"dataframe\">\n",
              "  <thead>\n",
              "    <tr style=\"text-align: right;\">\n",
              "      <th></th>\n",
              "      <th>edad</th>\n",
              "      <th>exp</th>\n",
              "      <th>nhijos</th>\n",
              "      <th>imp</th>\n",
              "      <th>ing</th>\n",
              "    </tr>\n",
              "  </thead>\n",
              "  <tbody>\n",
              "    <tr>\n",
              "      <th>0</th>\n",
              "      <td>35</td>\n",
              "      <td>10</td>\n",
              "      <td>1</td>\n",
              "      <td>3500</td>\n",
              "      <td>12000</td>\n",
              "    </tr>\n",
              "    <tr>\n",
              "      <th>1</th>\n",
              "      <td>50</td>\n",
              "      <td>25</td>\n",
              "      <td>3</td>\n",
              "      <td>6000</td>\n",
              "      <td>30000</td>\n",
              "    </tr>\n",
              "  </tbody>\n",
              "</table>\n",
              "</div>\n",
              "    <div class=\"colab-df-buttons\">\n",
              "\n",
              "  <div class=\"colab-df-container\">\n",
              "    <button class=\"colab-df-convert\" onclick=\"convertToInteractive('df-a66fcded-52a6-4709-ba5f-4781d4fbb977')\"\n",
              "            title=\"Convert this dataframe to an interactive table.\"\n",
              "            style=\"display:none;\">\n",
              "\n",
              "  <svg xmlns=\"http://www.w3.org/2000/svg\" height=\"24px\" viewBox=\"0 -960 960 960\">\n",
              "    <path d=\"M120-120v-720h720v720H120Zm60-500h600v-160H180v160Zm220 220h160v-160H400v160Zm0 220h160v-160H400v160ZM180-400h160v-160H180v160Zm440 0h160v-160H620v160ZM180-180h160v-160H180v160Zm440 0h160v-160H620v160Z\"/>\n",
              "  </svg>\n",
              "    </button>\n",
              "\n",
              "  <style>\n",
              "    .colab-df-container {\n",
              "      display:flex;\n",
              "      gap: 12px;\n",
              "    }\n",
              "\n",
              "    .colab-df-convert {\n",
              "      background-color: #E8F0FE;\n",
              "      border: none;\n",
              "      border-radius: 50%;\n",
              "      cursor: pointer;\n",
              "      display: none;\n",
              "      fill: #1967D2;\n",
              "      height: 32px;\n",
              "      padding: 0 0 0 0;\n",
              "      width: 32px;\n",
              "    }\n",
              "\n",
              "    .colab-df-convert:hover {\n",
              "      background-color: #E2EBFA;\n",
              "      box-shadow: 0px 1px 2px rgba(60, 64, 67, 0.3), 0px 1px 3px 1px rgba(60, 64, 67, 0.15);\n",
              "      fill: #174EA6;\n",
              "    }\n",
              "\n",
              "    .colab-df-buttons div {\n",
              "      margin-bottom: 4px;\n",
              "    }\n",
              "\n",
              "    [theme=dark] .colab-df-convert {\n",
              "      background-color: #3B4455;\n",
              "      fill: #D2E3FC;\n",
              "    }\n",
              "\n",
              "    [theme=dark] .colab-df-convert:hover {\n",
              "      background-color: #434B5C;\n",
              "      box-shadow: 0px 1px 3px 1px rgba(0, 0, 0, 0.15);\n",
              "      filter: drop-shadow(0px 1px 2px rgba(0, 0, 0, 0.3));\n",
              "      fill: #FFFFFF;\n",
              "    }\n",
              "  </style>\n",
              "\n",
              "    <script>\n",
              "      const buttonEl =\n",
              "        document.querySelector('#df-a66fcded-52a6-4709-ba5f-4781d4fbb977 button.colab-df-convert');\n",
              "      buttonEl.style.display =\n",
              "        google.colab.kernel.accessAllowed ? 'block' : 'none';\n",
              "\n",
              "      async function convertToInteractive(key) {\n",
              "        const element = document.querySelector('#df-a66fcded-52a6-4709-ba5f-4781d4fbb977');\n",
              "        const dataTable =\n",
              "          await google.colab.kernel.invokeFunction('convertToInteractive',\n",
              "                                                    [key], {});\n",
              "        if (!dataTable) return;\n",
              "\n",
              "        const docLinkHtml = 'Like what you see? Visit the ' +\n",
              "          '<a target=\"_blank\" href=https://colab.research.google.com/notebooks/data_table.ipynb>data table notebook</a>'\n",
              "          + ' to learn more about interactive tables.';\n",
              "        element.innerHTML = '';\n",
              "        dataTable['output_type'] = 'display_data';\n",
              "        await google.colab.output.renderOutput(dataTable, element);\n",
              "        const docLink = document.createElement('div');\n",
              "        docLink.innerHTML = docLinkHtml;\n",
              "        element.appendChild(docLink);\n",
              "      }\n",
              "    </script>\n",
              "  </div>\n",
              "\n",
              "\n",
              "    <div id=\"df-d8cb86a8-af12-4c36-8bad-5de9072a4d32\">\n",
              "      <button class=\"colab-df-quickchart\" onclick=\"quickchart('df-d8cb86a8-af12-4c36-8bad-5de9072a4d32')\"\n",
              "                title=\"Suggest charts\"\n",
              "                style=\"display:none;\">\n",
              "\n",
              "<svg xmlns=\"http://www.w3.org/2000/svg\" height=\"24px\"viewBox=\"0 0 24 24\"\n",
              "     width=\"24px\">\n",
              "    <g>\n",
              "        <path d=\"M19 3H5c-1.1 0-2 .9-2 2v14c0 1.1.9 2 2 2h14c1.1 0 2-.9 2-2V5c0-1.1-.9-2-2-2zM9 17H7v-7h2v7zm4 0h-2V7h2v10zm4 0h-2v-4h2v4z\"/>\n",
              "    </g>\n",
              "</svg>\n",
              "      </button>\n",
              "\n",
              "<style>\n",
              "  .colab-df-quickchart {\n",
              "      --bg-color: #E8F0FE;\n",
              "      --fill-color: #1967D2;\n",
              "      --hover-bg-color: #E2EBFA;\n",
              "      --hover-fill-color: #174EA6;\n",
              "      --disabled-fill-color: #AAA;\n",
              "      --disabled-bg-color: #DDD;\n",
              "  }\n",
              "\n",
              "  [theme=dark] .colab-df-quickchart {\n",
              "      --bg-color: #3B4455;\n",
              "      --fill-color: #D2E3FC;\n",
              "      --hover-bg-color: #434B5C;\n",
              "      --hover-fill-color: #FFFFFF;\n",
              "      --disabled-bg-color: #3B4455;\n",
              "      --disabled-fill-color: #666;\n",
              "  }\n",
              "\n",
              "  .colab-df-quickchart {\n",
              "    background-color: var(--bg-color);\n",
              "    border: none;\n",
              "    border-radius: 50%;\n",
              "    cursor: pointer;\n",
              "    display: none;\n",
              "    fill: var(--fill-color);\n",
              "    height: 32px;\n",
              "    padding: 0;\n",
              "    width: 32px;\n",
              "  }\n",
              "\n",
              "  .colab-df-quickchart:hover {\n",
              "    background-color: var(--hover-bg-color);\n",
              "    box-shadow: 0 1px 2px rgba(60, 64, 67, 0.3), 0 1px 3px 1px rgba(60, 64, 67, 0.15);\n",
              "    fill: var(--button-hover-fill-color);\n",
              "  }\n",
              "\n",
              "  .colab-df-quickchart-complete:disabled,\n",
              "  .colab-df-quickchart-complete:disabled:hover {\n",
              "    background-color: var(--disabled-bg-color);\n",
              "    fill: var(--disabled-fill-color);\n",
              "    box-shadow: none;\n",
              "  }\n",
              "\n",
              "  .colab-df-spinner {\n",
              "    border: 2px solid var(--fill-color);\n",
              "    border-color: transparent;\n",
              "    border-bottom-color: var(--fill-color);\n",
              "    animation:\n",
              "      spin 1s steps(1) infinite;\n",
              "  }\n",
              "\n",
              "  @keyframes spin {\n",
              "    0% {\n",
              "      border-color: transparent;\n",
              "      border-bottom-color: var(--fill-color);\n",
              "      border-left-color: var(--fill-color);\n",
              "    }\n",
              "    20% {\n",
              "      border-color: transparent;\n",
              "      border-left-color: var(--fill-color);\n",
              "      border-top-color: var(--fill-color);\n",
              "    }\n",
              "    30% {\n",
              "      border-color: transparent;\n",
              "      border-left-color: var(--fill-color);\n",
              "      border-top-color: var(--fill-color);\n",
              "      border-right-color: var(--fill-color);\n",
              "    }\n",
              "    40% {\n",
              "      border-color: transparent;\n",
              "      border-right-color: var(--fill-color);\n",
              "      border-top-color: var(--fill-color);\n",
              "    }\n",
              "    60% {\n",
              "      border-color: transparent;\n",
              "      border-right-color: var(--fill-color);\n",
              "    }\n",
              "    80% {\n",
              "      border-color: transparent;\n",
              "      border-right-color: var(--fill-color);\n",
              "      border-bottom-color: var(--fill-color);\n",
              "    }\n",
              "    90% {\n",
              "      border-color: transparent;\n",
              "      border-bottom-color: var(--fill-color);\n",
              "    }\n",
              "  }\n",
              "</style>\n",
              "\n",
              "      <script>\n",
              "        async function quickchart(key) {\n",
              "          const quickchartButtonEl =\n",
              "            document.querySelector('#' + key + ' button');\n",
              "          quickchartButtonEl.disabled = true;  // To prevent multiple clicks.\n",
              "          quickchartButtonEl.classList.add('colab-df-spinner');\n",
              "          try {\n",
              "            const charts = await google.colab.kernel.invokeFunction(\n",
              "                'suggestCharts', [key], {});\n",
              "          } catch (error) {\n",
              "            console.error('Error during call to suggestCharts:', error);\n",
              "          }\n",
              "          quickchartButtonEl.classList.remove('colab-df-spinner');\n",
              "          quickchartButtonEl.classList.add('colab-df-quickchart-complete');\n",
              "        }\n",
              "        (() => {\n",
              "          let quickchartButtonEl =\n",
              "            document.querySelector('#df-d8cb86a8-af12-4c36-8bad-5de9072a4d32 button');\n",
              "          quickchartButtonEl.style.display =\n",
              "            google.colab.kernel.accessAllowed ? 'block' : 'none';\n",
              "        })();\n",
              "      </script>\n",
              "    </div>\n",
              "\n",
              "    </div>\n",
              "  </div>\n"
            ],
            "application/vnd.google.colaboratory.intrinsic+json": {
              "type": "dataframe",
              "variable_name": "df_tmp",
              "summary": "{\n  \"name\": \"df_tmp\",\n  \"rows\": 4,\n  \"fields\": [\n    {\n      \"column\": \"edad\",\n      \"properties\": {\n        \"dtype\": \"number\",\n        \"std\": 11,\n        \"min\": 23,\n        \"max\": 50,\n        \"num_unique_values\": 4,\n        \"samples\": [\n          50,\n          42,\n          35\n        ],\n        \"semantic_type\": \"\",\n        \"description\": \"\"\n      }\n    },\n    {\n      \"column\": \"exp\",\n      \"properties\": {\n        \"dtype\": \"number\",\n        \"std\": 9,\n        \"min\": 2,\n        \"max\": 25,\n        \"num_unique_values\": 4,\n        \"samples\": [\n          25,\n          15,\n          10\n        ],\n        \"semantic_type\": \"\",\n        \"description\": \"\"\n      }\n    },\n    {\n      \"column\": \"nhijos\",\n      \"properties\": {\n        \"dtype\": \"number\",\n        \"std\": 1,\n        \"min\": 0,\n        \"max\": 3,\n        \"num_unique_values\": 4,\n        \"samples\": [\n          3,\n          2,\n          1\n        ],\n        \"semantic_type\": \"\",\n        \"description\": \"\"\n      }\n    },\n    {\n      \"column\": \"imp\",\n      \"properties\": {\n        \"dtype\": \"number\",\n        \"std\": 2672,\n        \"min\": 50,\n        \"max\": 6000,\n        \"num_unique_values\": 4,\n        \"samples\": [\n          6000,\n          1000,\n          3500\n        ],\n        \"semantic_type\": \"\",\n        \"description\": \"\"\n      }\n    },\n    {\n      \"column\": \"ing\",\n      \"properties\": {\n        \"dtype\": \"number\",\n        \"std\": 13142,\n        \"min\": 1500,\n        \"max\": 30000,\n        \"num_unique_values\": 4,\n        \"samples\": [\n          30000,\n          2800,\n          12000\n        ],\n        \"semantic_type\": \"\",\n        \"description\": \"\"\n      }\n    }\n  ]\n}"
            }
          },
          "metadata": {},
          "execution_count": 135
        }
      ]
    },
    {
      "cell_type": "code",
      "source": [
        "arr_tmp = df_tmp.values\n",
        "print(f\"El arreglo es \\n{arr_tmp}\")\n",
        "print(f\"El tipo de objeto es {type(arr_tmp)}\")\n",
        "print(f\"El arreglo tiene \\n{arr_tmp.ndim} dimensiones\")\n",
        "print(f\"El tamaño de las dimensiones es \\n{arr_tmp.shape}\")\n",
        "print(f\"La cantidad de elementos es \\n{arr_tmp.size}\")"
      ],
      "metadata": {
        "colab": {
          "base_uri": "https://localhost:8080/"
        },
        "id": "xehIUGOuf3MJ",
        "outputId": "5c4881c3-6540-400b-9255-322432069869"
      },
      "execution_count": null,
      "outputs": [
        {
          "output_type": "stream",
          "name": "stdout",
          "text": [
            "El arreglo es \n",
            "[[   35    10     1  3500 12000]\n",
            " [   50    25     3  6000 30000]\n",
            " [   23     2     0    50  1500]\n",
            " [   42    15     2  1000  2800]]\n",
            "El tipo de objeto es <class 'numpy.ndarray'>\n",
            "El arreglo tiene \n",
            "2 dimensiones\n",
            "El tamaño de las dimensiones es \n",
            "(4, 5)\n",
            "La cantidad de elementos es \n",
            "20\n"
          ]
        }
      ]
    },
    {
      "cell_type": "markdown",
      "source": [
        "La edad y los años de experiencia del primer y tercer registro"
      ],
      "metadata": {
        "id": "SV4zlgK1qUf1"
      }
    },
    {
      "cell_type": "code",
      "source": [
        "r1 = arr_tmp[0][:2]\n",
        "r3 = arr_tmp[2][:2]"
      ],
      "metadata": {
        "id": "7_vZ_S0kgA8v"
      },
      "execution_count": null,
      "outputs": []
    },
    {
      "cell_type": "code",
      "source": [
        "print(f\"La edad y los años de experiencia del primer registro son \\n{r1}\")\n",
        "print(f\"La edad y los años de experiencia del tercer registro son \\n{r3}\")"
      ],
      "metadata": {
        "colab": {
          "base_uri": "https://localhost:8080/"
        },
        "id": "POCClqbtqlzd",
        "outputId": "1d3efcae-2950-4a97-e2f3-1bd30e662f38"
      },
      "execution_count": null,
      "outputs": [
        {
          "output_type": "stream",
          "name": "stdout",
          "text": [
            "La edad y los años de experiencia del primer registro son \n",
            "[35 10]\n",
            "La edad y los años de experiencia del tercer registro son \n",
            "[23  2]\n"
          ]
        }
      ]
    },
    {
      "cell_type": "code",
      "source": [
        "np.concatenate([r1,r3]).reshape(2,2)"
      ],
      "metadata": {
        "colab": {
          "base_uri": "https://localhost:8080/"
        },
        "id": "HkJdsb4LqzW8",
        "outputId": "264c70d2-0115-4149-f459-922bc667a3c8"
      },
      "execution_count": null,
      "outputs": [
        {
          "output_type": "execute_result",
          "data": {
            "text/plain": [
              "array([[35, 10],\n",
              "       [23,  2]])"
            ]
          },
          "metadata": {},
          "execution_count": 143
        }
      ]
    },
    {
      "cell_type": "markdown",
      "source": [
        "## [5] Estadísticas a partir de arreglos NumPy"
      ],
      "metadata": {
        "id": "Wqof9D3HrcHt"
      }
    },
    {
      "cell_type": "code",
      "source": [
        "arr_tmp"
      ],
      "metadata": {
        "colab": {
          "base_uri": "https://localhost:8080/"
        },
        "id": "PTjLXPpJrJag",
        "outputId": "dd69dcb1-015d-4fdb-8ecd-a05ca2daebd9"
      },
      "execution_count": null,
      "outputs": [
        {
          "output_type": "execute_result",
          "data": {
            "text/plain": [
              "array([[   35,    10,     1,  3500, 12000],\n",
              "       [   50,    25,     3,  6000, 30000],\n",
              "       [   23,     2,     0,    50,  1500],\n",
              "       [   42,    15,     2,  1000,  2800]])"
            ]
          },
          "metadata": {},
          "execution_count": 144
        }
      ]
    },
    {
      "cell_type": "code",
      "source": [
        "# Valor mínimo\n",
        "arr_tmp[0].min()"
      ],
      "metadata": {
        "colab": {
          "base_uri": "https://localhost:8080/"
        },
        "id": "mu6THvgdrjN4",
        "outputId": "7b7a5900-5ed0-4d31-a210-ec0afc577f91"
      },
      "execution_count": null,
      "outputs": [
        {
          "output_type": "execute_result",
          "data": {
            "text/plain": [
              "np.int64(1)"
            ]
          },
          "metadata": {},
          "execution_count": 146
        }
      ]
    },
    {
      "cell_type": "code",
      "source": [
        "# Valor máximo\n",
        "arr_tmp[0].max()"
      ],
      "metadata": {
        "colab": {
          "base_uri": "https://localhost:8080/"
        },
        "id": "nyx4tZFZruN1",
        "outputId": "a78635be-6562-48e0-a706-24e9b5a65278"
      },
      "execution_count": null,
      "outputs": [
        {
          "output_type": "execute_result",
          "data": {
            "text/plain": [
              "np.int64(12000)"
            ]
          },
          "metadata": {},
          "execution_count": 147
        }
      ]
    },
    {
      "cell_type": "code",
      "source": [
        "# Valor total\n",
        "arr_tmp[0].sum()"
      ],
      "metadata": {
        "colab": {
          "base_uri": "https://localhost:8080/"
        },
        "id": "yQ_6SGMor9dm",
        "outputId": "53d08782-1155-4489-d39c-2631ae1a4004"
      },
      "execution_count": null,
      "outputs": [
        {
          "output_type": "execute_result",
          "data": {
            "text/plain": [
              "np.int64(15546)"
            ]
          },
          "metadata": {},
          "execution_count": 148
        }
      ]
    },
    {
      "cell_type": "code",
      "source": [
        "# Valor total\n",
        "arr_tmp[0].mean()"
      ],
      "metadata": {
        "colab": {
          "base_uri": "https://localhost:8080/"
        },
        "id": "nCHW_wr3sCJa",
        "outputId": "98744430-a3a2-4c40-f728-50082a1fad93"
      },
      "execution_count": null,
      "outputs": [
        {
          "output_type": "execute_result",
          "data": {
            "text/plain": [
              "np.float64(3109.2)"
            ]
          },
          "metadata": {},
          "execution_count": 149
        }
      ]
    },
    {
      "cell_type": "markdown",
      "source": [
        "¿Cómo calculamos el promedio de la primera columna?"
      ],
      "metadata": {
        "id": "ACpxnoZ3sR99"
      }
    },
    {
      "cell_type": "code",
      "source": [
        "arr_tmp[:,0] # : (toma todas las filas), 0 (primera columna)"
      ],
      "metadata": {
        "colab": {
          "base_uri": "https://localhost:8080/"
        },
        "id": "atJyDq8PsGE_",
        "outputId": "e51016ac-61f2-46a5-e56b-2b623b9fbf2b"
      },
      "execution_count": null,
      "outputs": [
        {
          "output_type": "execute_result",
          "data": {
            "text/plain": [
              "array([35, 50, 23, 42])"
            ]
          },
          "metadata": {},
          "execution_count": 150
        }
      ]
    },
    {
      "cell_type": "code",
      "source": [
        "arr_tmp[:,0].mean() # : (toma todas las filas), 0 (primera columna)"
      ],
      "metadata": {
        "colab": {
          "base_uri": "https://localhost:8080/"
        },
        "id": "HsrB_Z8BskXM",
        "outputId": "8b256455-5fcb-40f4-896f-03d637a97b91"
      },
      "execution_count": null,
      "outputs": [
        {
          "output_type": "execute_result",
          "data": {
            "text/plain": [
              "np.float64(37.5)"
            ]
          },
          "metadata": {},
          "execution_count": 151
        }
      ]
    },
    {
      "cell_type": "markdown",
      "source": [
        "¿Cuánto es el máximo ingreso de los registros?"
      ],
      "metadata": {
        "id": "W1zLpCVbs1nW"
      }
    },
    {
      "cell_type": "code",
      "source": [
        "arr_tmp[:,-1].max() # : (toma todas las filas), 0 (primera columna)"
      ],
      "metadata": {
        "colab": {
          "base_uri": "https://localhost:8080/"
        },
        "id": "J1F_H3fvsxgX",
        "outputId": "8650c509-e8bd-496b-d1cd-9d81bf948674"
      },
      "execution_count": null,
      "outputs": [
        {
          "output_type": "execute_result",
          "data": {
            "text/plain": [
              "np.int64(30000)"
            ]
          },
          "metadata": {},
          "execution_count": 152
        }
      ]
    },
    {
      "cell_type": "markdown",
      "source": [
        "## [6] Listas y arreglos NumPy"
      ],
      "metadata": {
        "id": "StkZXU0NtpmR"
      }
    },
    {
      "cell_type": "code",
      "source": [
        "lista_ = list(range(1_000_000)) # lista de 1 millón de valores\n",
        "\n",
        "array_ = np.array(lista_) # convertimos la lista en un arreglo de NumPy"
      ],
      "metadata": {
        "id": "lEIcJY0mtfhy"
      },
      "execution_count": null,
      "outputs": []
    },
    {
      "cell_type": "code",
      "source": [
        "import time\n",
        "\n",
        "start = time.time()\n",
        "[i*2 for i in lista_]\n",
        "print(\"Cálculo c/listas\",time.time()-start)"
      ],
      "metadata": {
        "colab": {
          "base_uri": "https://localhost:8080/"
        },
        "id": "lG2X0AG5t_22",
        "outputId": "469f9de0-8127-4d85-c31b-cb3cb2293115"
      },
      "execution_count": null,
      "outputs": [
        {
          "output_type": "stream",
          "name": "stdout",
          "text": [
            "Cálculo c/listas 0.08039498329162598\n"
          ]
        }
      ]
    },
    {
      "cell_type": "code",
      "source": [
        "start = time.time()\n",
        "array_*2\n",
        "print(\"Cálculo c/arreglos\",time.time()-start)"
      ],
      "metadata": {
        "colab": {
          "base_uri": "https://localhost:8080/"
        },
        "id": "AizlFbiSujot",
        "outputId": "d95d9347-f669-4c1a-f771-40ef6fe759db"
      },
      "execution_count": null,
      "outputs": [
        {
          "output_type": "stream",
          "name": "stdout",
          "text": [
            "Cálculo c/arreglos 0.005145549774169922\n"
          ]
        }
      ]
    },
    {
      "cell_type": "code",
      "source": [
        "0.08039498329162598 / 0.005145549774169922"
      ],
      "metadata": {
        "id": "H8wLnRL0uvHM",
        "outputId": "6c5dafdc-1bc2-4057-a782-df7f62d03b50",
        "colab": {
          "base_uri": "https://localhost:8080/"
        }
      },
      "execution_count": null,
      "outputs": [
        {
          "output_type": "execute_result",
          "data": {
            "text/plain": [
              "15.624177555370215"
            ]
          },
          "metadata": {},
          "execution_count": 156
        }
      ]
    },
    {
      "cell_type": "code",
      "source": [],
      "metadata": {
        "id": "sbRP2uc2ubQN"
      },
      "execution_count": null,
      "outputs": []
    }
  ]
}