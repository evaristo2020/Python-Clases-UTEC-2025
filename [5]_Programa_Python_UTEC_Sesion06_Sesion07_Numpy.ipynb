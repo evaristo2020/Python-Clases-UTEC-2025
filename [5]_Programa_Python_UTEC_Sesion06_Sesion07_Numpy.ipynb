{
  "nbformat": 4,
  "nbformat_minor": 0,
  "metadata": {
    "colab": {
      "provenance": [],
      "include_colab_link": true
    },
    "kernelspec": {
      "name": "python3",
      "display_name": "Python 3"
    },
    "language_info": {
      "name": "python"
    }
  },
  "cells": [
    {
      "cell_type": "markdown",
      "metadata": {
        "id": "view-in-github",
        "colab_type": "text"
      },
      "source": [
        "<a href=\"https://colab.research.google.com/github/evaristo2020/Python-Clases-UTEC-2025/blob/main/%5B5%5D_Programa_Python_UTEC_Sesion06_Sesion07_Numpy.ipynb\" target=\"_parent\"><img src=\"https://colab.research.google.com/assets/colab-badge.svg\" alt=\"Open In Colab\"/></a>"
      ]
    },
    {
      "cell_type": "markdown",
      "source": [
        "# Numpy"
      ],
      "metadata": {
        "id": "ngUlICI8jd0i"
      }
    },
    {
      "cell_type": "markdown",
      "source": [
        "## [1] Crear un arreglo NumPy"
      ],
      "metadata": {
        "id": "iZYH84wxjgsj"
      }
    },
    {
      "cell_type": "code",
      "execution_count": 1,
      "metadata": {
        "id": "04KfkbAkjGKM"
      },
      "outputs": [],
      "source": [
        "# Llamar a la librería\n",
        "\n",
        "import numpy as np"
      ]
    },
    {
      "cell_type": "code",
      "source": [
        "# Crear un arreglo en numpy\n",
        "\n",
        "arr_1 = np.array([2,4,6])\n",
        "\n",
        "print(f\"El arreglo es \\n{arr_1}\")\n",
        "print(f\"El tipo de objeto es \\n{type(arr_1)}\")"
      ],
      "metadata": {
        "colab": {
          "base_uri": "https://localhost:8080/"
        },
        "id": "aItRCQLRje7C",
        "outputId": "0086a95e-a5c2-4fc8-97ee-e4f594b92000"
      },
      "execution_count": 2,
      "outputs": [
        {
          "output_type": "stream",
          "name": "stdout",
          "text": [
            "El arreglo es \n",
            "[2 4 6]\n",
            "El tipo de objeto es \n",
            "<class 'numpy.ndarray'>\n"
          ]
        }
      ]
    },
    {
      "cell_type": "code",
      "source": [
        "# Lista de listas\n",
        "\n",
        "lista_1 = [[0,1,2,3],[4,5,6,7],[8,9,10,11]]\n",
        "\n",
        "print(f\"La lista es \\n{lista_1}\")\n",
        "print(f\"El tipo de dato es {type(lista_1)}\")\n"
      ],
      "metadata": {
        "colab": {
          "base_uri": "https://localhost:8080/"
        },
        "id": "ymKxqB7ekLWP",
        "outputId": "0797d176-eca4-4e86-e782-997732870c8e"
      },
      "execution_count": 3,
      "outputs": [
        {
          "output_type": "stream",
          "name": "stdout",
          "text": [
            "La lista es \n",
            "[[0, 1, 2, 3], [4, 5, 6, 7], [8, 9, 10, 11]]\n",
            "El tipo de dato es <class 'list'>\n"
          ]
        }
      ]
    },
    {
      "cell_type": "code",
      "source": [
        "arr_2 = np.array([[0, 1, 2, 3], [4, 5, 6, 7], [8, 9, 10, 11]])\n",
        "\n",
        "print(f\"El arreglo es \\n{arr_2}\")\n",
        "print(f\"El tipo de objeto es {type(arr_2)}\")"
      ],
      "metadata": {
        "colab": {
          "base_uri": "https://localhost:8080/"
        },
        "id": "sKi5XI3ckLhz",
        "outputId": "1f5bdc7e-38b9-4b72-faa3-a382fdf5497b"
      },
      "execution_count": 4,
      "outputs": [
        {
          "output_type": "stream",
          "name": "stdout",
          "text": [
            "El arreglo es \n",
            "[[ 0  1  2  3]\n",
            " [ 4  5  6  7]\n",
            " [ 8  9 10 11]]\n",
            "El tipo de objeto es <class 'numpy.ndarray'>\n"
          ]
        }
      ]
    },
    {
      "cell_type": "code",
      "source": [
        "print(f\"La lista es \\n{lista_1}\")\n",
        "print(f\"El primer elemento de la lista de listas es \\n{lista_1[0]}\")\n",
        "\n",
        "print(\"\\n***Operaciones matemática con la lista***\")\n",
        "\n",
        "print(f\"\\nEl valor mínimo es {min(lista_1[0])}\")\n",
        "print(f\"El valor máximo es {max(lista_1[0])}\")\n",
        "print(f\"El valor total es {sum(lista_1[0])}\")\n",
        "print(f\"La cantidad de elementos es {len(lista_1[0])}\")\n",
        "print(f\"El valor promedio es {sum(lista_1[0])/len(lista_1[0])}\")\n"
      ],
      "metadata": {
        "colab": {
          "base_uri": "https://localhost:8080/"
        },
        "id": "ziYARa9bkLny",
        "outputId": "f9576bca-2d1e-4d71-bf41-b5ddf1882c6a"
      },
      "execution_count": 5,
      "outputs": [
        {
          "output_type": "stream",
          "name": "stdout",
          "text": [
            "La lista es \n",
            "[[0, 1, 2, 3], [4, 5, 6, 7], [8, 9, 10, 11]]\n",
            "El primer elemento de la lista de listas es \n",
            "[0, 1, 2, 3]\n",
            "\n",
            "***Operaciones matemática con la lista***\n",
            "\n",
            "El valor mínimo es 0\n",
            "El valor máximo es 3\n",
            "El valor total es 6\n",
            "La cantidad de elementos es 4\n",
            "El valor promedio es 1.5\n"
          ]
        }
      ]
    },
    {
      "cell_type": "code",
      "source": [
        "## Operaciones con 2 listas\n",
        "\n",
        "l1 = [1,2,3]\n",
        "l2 = [4,5,6]\n",
        "\n",
        "print(f\"El resultado de trabajar con 2 listas y el símbolo + es \\n{l1+l2}\")\n",
        "print(f\"\\nEl resultado de sumar ambas listas es \\n{sum(l1)+sum(l2)}\")"
      ],
      "metadata": {
        "colab": {
          "base_uri": "https://localhost:8080/"
        },
        "id": "IDV_LpNMkMBR",
        "outputId": "3f14bdc4-5c92-4d7c-944f-9800516ee210"
      },
      "execution_count": 6,
      "outputs": [
        {
          "output_type": "stream",
          "name": "stdout",
          "text": [
            "El resultado de trabajar con 2 listas y el símbolo + es \n",
            "[1, 2, 3, 4, 5, 6]\n",
            "\n",
            "El resultado de sumar ambas listas es \n",
            "21\n"
          ]
        }
      ]
    },
    {
      "cell_type": "code",
      "source": [
        "print(f\"Operaciones con arreglos de NumPy\")\n",
        "print(f\"\\nEl arreglo de numpy es {arr_1}\")"
      ],
      "metadata": {
        "colab": {
          "base_uri": "https://localhost:8080/"
        },
        "id": "6Hq3LtQ5nN8z",
        "outputId": "dc986d37-d640-4ec4-9010-cc27de2da147"
      },
      "execution_count": 7,
      "outputs": [
        {
          "output_type": "stream",
          "name": "stdout",
          "text": [
            "Operaciones con arreglos de NumPy\n",
            "\n",
            "El arreglo de numpy es [2 4 6]\n"
          ]
        }
      ]
    },
    {
      "cell_type": "code",
      "source": [
        "arr_3 = arr_1 + 5\n",
        "print(f\"El arreglo resultante es \\n{arr_3}\")"
      ],
      "metadata": {
        "colab": {
          "base_uri": "https://localhost:8080/"
        },
        "id": "_fpH2imtj7zM",
        "outputId": "2434c2b4-1583-42d1-f690-9e7df09ec8fb"
      },
      "execution_count": 8,
      "outputs": [
        {
          "output_type": "stream",
          "name": "stdout",
          "text": [
            "El arreglo resultante es \n",
            "[ 7  9 11]\n"
          ]
        }
      ]
    },
    {
      "cell_type": "code",
      "source": [
        "# Operaciones matemáticas con arreglos de NumPy\n",
        "arr_4 = np.array([1,2,3,4,5])\n",
        "arr_5 = np.array([10,20,30,40,50])\n",
        "\n",
        "print(f\"El primer arreglo es \\n{arr_4}\")\n",
        "print(f\"\\nEl segundo arreglo es \\n{arr_5}\")\n"
      ],
      "metadata": {
        "colab": {
          "base_uri": "https://localhost:8080/"
        },
        "id": "huZ5aiYxn1Bn",
        "outputId": "ce73f308-4b94-49e5-e04e-821c07d8f300"
      },
      "execution_count": 9,
      "outputs": [
        {
          "output_type": "stream",
          "name": "stdout",
          "text": [
            "El primer arreglo es \n",
            "[1 2 3 4 5]\n",
            "\n",
            "El segundo arreglo es \n",
            "[10 20 30 40 50]\n"
          ]
        }
      ]
    },
    {
      "cell_type": "code",
      "source": [
        "arr_r1 = arr_4 + arr_5\n",
        "arr_r2 = arr_5 - arr_4\n",
        "\n",
        "print(f\"La suma de ambos arreglos es \\n{arr_r1}\")\n",
        "print(f\"\\nLa diferencia de ambos arreglos es \\n{arr_r2}\")"
      ],
      "metadata": {
        "colab": {
          "base_uri": "https://localhost:8080/"
        },
        "id": "CVmuH7y1okMW",
        "outputId": "4de1d260-22ad-4798-d378-11daff2cf6e6"
      },
      "execution_count": 10,
      "outputs": [
        {
          "output_type": "stream",
          "name": "stdout",
          "text": [
            "La suma de ambos arreglos es \n",
            "[11 22 33 44 55]\n",
            "\n",
            "La diferencia de ambos arreglos es \n",
            "[ 9 18 27 36 45]\n"
          ]
        }
      ]
    },
    {
      "cell_type": "markdown",
      "source": [
        "## Actividad N034"
      ],
      "metadata": {
        "id": "px3D_4cVqJa5"
      }
    },
    {
      "cell_type": "markdown",
      "source": [
        "Crear un arreglo en NumPy a partir de la información de la siguiente tabla y nombrarlo como data_array."
      ],
      "metadata": {
        "id": "umFoxemYqLzc"
      }
    },
    {
      "cell_type": "code",
      "source": [
        "from google.colab import files\n",
        "\n",
        "uploaded = files.upload()"
      ],
      "metadata": {
        "colab": {
          "base_uri": "https://localhost:8080/",
          "height": 74
        },
        "id": "3hJimzGUpB84",
        "outputId": "39668c62-fec7-4b19-e034-d446b9257428"
      },
      "execution_count": 11,
      "outputs": [
        {
          "output_type": "display_data",
          "data": {
            "text/plain": [
              "<IPython.core.display.HTML object>"
            ],
            "text/html": [
              "\n",
              "     <input type=\"file\" id=\"files-2aa9ed29-f670-4751-9105-a951cace13c9\" name=\"files[]\" multiple disabled\n",
              "        style=\"border:none\" />\n",
              "     <output id=\"result-2aa9ed29-f670-4751-9105-a951cace13c9\">\n",
              "      Upload widget is only available when the cell has been executed in the\n",
              "      current browser session. Please rerun this cell to enable.\n",
              "      </output>\n",
              "      <script>// Copyright 2017 Google LLC\n",
              "//\n",
              "// Licensed under the Apache License, Version 2.0 (the \"License\");\n",
              "// you may not use this file except in compliance with the License.\n",
              "// You may obtain a copy of the License at\n",
              "//\n",
              "//      http://www.apache.org/licenses/LICENSE-2.0\n",
              "//\n",
              "// Unless required by applicable law or agreed to in writing, software\n",
              "// distributed under the License is distributed on an \"AS IS\" BASIS,\n",
              "// WITHOUT WARRANTIES OR CONDITIONS OF ANY KIND, either express or implied.\n",
              "// See the License for the specific language governing permissions and\n",
              "// limitations under the License.\n",
              "\n",
              "/**\n",
              " * @fileoverview Helpers for google.colab Python module.\n",
              " */\n",
              "(function(scope) {\n",
              "function span(text, styleAttributes = {}) {\n",
              "  const element = document.createElement('span');\n",
              "  element.textContent = text;\n",
              "  for (const key of Object.keys(styleAttributes)) {\n",
              "    element.style[key] = styleAttributes[key];\n",
              "  }\n",
              "  return element;\n",
              "}\n",
              "\n",
              "// Max number of bytes which will be uploaded at a time.\n",
              "const MAX_PAYLOAD_SIZE = 100 * 1024;\n",
              "\n",
              "function _uploadFiles(inputId, outputId) {\n",
              "  const steps = uploadFilesStep(inputId, outputId);\n",
              "  const outputElement = document.getElementById(outputId);\n",
              "  // Cache steps on the outputElement to make it available for the next call\n",
              "  // to uploadFilesContinue from Python.\n",
              "  outputElement.steps = steps;\n",
              "\n",
              "  return _uploadFilesContinue(outputId);\n",
              "}\n",
              "\n",
              "// This is roughly an async generator (not supported in the browser yet),\n",
              "// where there are multiple asynchronous steps and the Python side is going\n",
              "// to poll for completion of each step.\n",
              "// This uses a Promise to block the python side on completion of each step,\n",
              "// then passes the result of the previous step as the input to the next step.\n",
              "function _uploadFilesContinue(outputId) {\n",
              "  const outputElement = document.getElementById(outputId);\n",
              "  const steps = outputElement.steps;\n",
              "\n",
              "  const next = steps.next(outputElement.lastPromiseValue);\n",
              "  return Promise.resolve(next.value.promise).then((value) => {\n",
              "    // Cache the last promise value to make it available to the next\n",
              "    // step of the generator.\n",
              "    outputElement.lastPromiseValue = value;\n",
              "    return next.value.response;\n",
              "  });\n",
              "}\n",
              "\n",
              "/**\n",
              " * Generator function which is called between each async step of the upload\n",
              " * process.\n",
              " * @param {string} inputId Element ID of the input file picker element.\n",
              " * @param {string} outputId Element ID of the output display.\n",
              " * @return {!Iterable<!Object>} Iterable of next steps.\n",
              " */\n",
              "function* uploadFilesStep(inputId, outputId) {\n",
              "  const inputElement = document.getElementById(inputId);\n",
              "  inputElement.disabled = false;\n",
              "\n",
              "  const outputElement = document.getElementById(outputId);\n",
              "  outputElement.innerHTML = '';\n",
              "\n",
              "  const pickedPromise = new Promise((resolve) => {\n",
              "    inputElement.addEventListener('change', (e) => {\n",
              "      resolve(e.target.files);\n",
              "    });\n",
              "  });\n",
              "\n",
              "  const cancel = document.createElement('button');\n",
              "  inputElement.parentElement.appendChild(cancel);\n",
              "  cancel.textContent = 'Cancel upload';\n",
              "  const cancelPromise = new Promise((resolve) => {\n",
              "    cancel.onclick = () => {\n",
              "      resolve(null);\n",
              "    };\n",
              "  });\n",
              "\n",
              "  // Wait for the user to pick the files.\n",
              "  const files = yield {\n",
              "    promise: Promise.race([pickedPromise, cancelPromise]),\n",
              "    response: {\n",
              "      action: 'starting',\n",
              "    }\n",
              "  };\n",
              "\n",
              "  cancel.remove();\n",
              "\n",
              "  // Disable the input element since further picks are not allowed.\n",
              "  inputElement.disabled = true;\n",
              "\n",
              "  if (!files) {\n",
              "    return {\n",
              "      response: {\n",
              "        action: 'complete',\n",
              "      }\n",
              "    };\n",
              "  }\n",
              "\n",
              "  for (const file of files) {\n",
              "    const li = document.createElement('li');\n",
              "    li.append(span(file.name, {fontWeight: 'bold'}));\n",
              "    li.append(span(\n",
              "        `(${file.type || 'n/a'}) - ${file.size} bytes, ` +\n",
              "        `last modified: ${\n",
              "            file.lastModifiedDate ? file.lastModifiedDate.toLocaleDateString() :\n",
              "                                    'n/a'} - `));\n",
              "    const percent = span('0% done');\n",
              "    li.appendChild(percent);\n",
              "\n",
              "    outputElement.appendChild(li);\n",
              "\n",
              "    const fileDataPromise = new Promise((resolve) => {\n",
              "      const reader = new FileReader();\n",
              "      reader.onload = (e) => {\n",
              "        resolve(e.target.result);\n",
              "      };\n",
              "      reader.readAsArrayBuffer(file);\n",
              "    });\n",
              "    // Wait for the data to be ready.\n",
              "    let fileData = yield {\n",
              "      promise: fileDataPromise,\n",
              "      response: {\n",
              "        action: 'continue',\n",
              "      }\n",
              "    };\n",
              "\n",
              "    // Use a chunked sending to avoid message size limits. See b/62115660.\n",
              "    let position = 0;\n",
              "    do {\n",
              "      const length = Math.min(fileData.byteLength - position, MAX_PAYLOAD_SIZE);\n",
              "      const chunk = new Uint8Array(fileData, position, length);\n",
              "      position += length;\n",
              "\n",
              "      const base64 = btoa(String.fromCharCode.apply(null, chunk));\n",
              "      yield {\n",
              "        response: {\n",
              "          action: 'append',\n",
              "          file: file.name,\n",
              "          data: base64,\n",
              "        },\n",
              "      };\n",
              "\n",
              "      let percentDone = fileData.byteLength === 0 ?\n",
              "          100 :\n",
              "          Math.round((position / fileData.byteLength) * 100);\n",
              "      percent.textContent = `${percentDone}% done`;\n",
              "\n",
              "    } while (position < fileData.byteLength);\n",
              "  }\n",
              "\n",
              "  // All done.\n",
              "  yield {\n",
              "    response: {\n",
              "      action: 'complete',\n",
              "    }\n",
              "  };\n",
              "}\n",
              "\n",
              "scope.google = scope.google || {};\n",
              "scope.google.colab = scope.google.colab || {};\n",
              "scope.google.colab._files = {\n",
              "  _uploadFiles,\n",
              "  _uploadFilesContinue,\n",
              "};\n",
              "})(self);\n",
              "</script> "
            ]
          },
          "metadata": {}
        },
        {
          "output_type": "stream",
          "name": "stdout",
          "text": [
            "Saving df_texto.csv to df_texto.csv\n"
          ]
        }
      ]
    },
    {
      "cell_type": "code",
      "source": [
        "from IPython.display import Image,display\n",
        "\n",
        "display(Image(filename='data_array.png'))"
      ],
      "metadata": {
        "colab": {
          "base_uri": "https://localhost:8080/",
          "height": 321
        },
        "id": "XVYNyGMjqfvG",
        "outputId": "300e2aaa-48c5-462c-a313-26d9c8899500"
      },
      "execution_count": 12,
      "outputs": [
        {
          "output_type": "error",
          "ename": "FileNotFoundError",
          "evalue": "[Errno 2] No such file or directory: 'data_array.png'",
          "traceback": [
            "\u001b[0;31m---------------------------------------------------------------------------\u001b[0m",
            "\u001b[0;31mFileNotFoundError\u001b[0m                         Traceback (most recent call last)",
            "\u001b[0;32m/tmp/ipython-input-1218746403.py\u001b[0m in \u001b[0;36m<cell line: 0>\u001b[0;34m()\u001b[0m\n\u001b[1;32m      1\u001b[0m \u001b[0;32mfrom\u001b[0m \u001b[0mIPython\u001b[0m\u001b[0;34m.\u001b[0m\u001b[0mdisplay\u001b[0m \u001b[0;32mimport\u001b[0m \u001b[0mImage\u001b[0m\u001b[0;34m,\u001b[0m\u001b[0mdisplay\u001b[0m\u001b[0;34m\u001b[0m\u001b[0;34m\u001b[0m\u001b[0m\n\u001b[1;32m      2\u001b[0m \u001b[0;34m\u001b[0m\u001b[0m\n\u001b[0;32m----> 3\u001b[0;31m \u001b[0mdisplay\u001b[0m\u001b[0;34m(\u001b[0m\u001b[0mImage\u001b[0m\u001b[0;34m(\u001b[0m\u001b[0mfilename\u001b[0m\u001b[0;34m=\u001b[0m\u001b[0;34m'data_array.png'\u001b[0m\u001b[0;34m)\u001b[0m\u001b[0;34m)\u001b[0m\u001b[0;34m\u001b[0m\u001b[0;34m\u001b[0m\u001b[0m\n\u001b[0m",
            "\u001b[0;32m/usr/local/lib/python3.12/dist-packages/IPython/core/display.py\u001b[0m in \u001b[0;36m__init__\u001b[0;34m(self, data, url, filename, format, embed, width, height, retina, unconfined, metadata)\u001b[0m\n\u001b[1;32m   1229\u001b[0m         \u001b[0mself\u001b[0m\u001b[0;34m.\u001b[0m\u001b[0mretina\u001b[0m \u001b[0;34m=\u001b[0m \u001b[0mretina\u001b[0m\u001b[0;34m\u001b[0m\u001b[0;34m\u001b[0m\u001b[0m\n\u001b[1;32m   1230\u001b[0m         \u001b[0mself\u001b[0m\u001b[0;34m.\u001b[0m\u001b[0munconfined\u001b[0m \u001b[0;34m=\u001b[0m \u001b[0munconfined\u001b[0m\u001b[0;34m\u001b[0m\u001b[0;34m\u001b[0m\u001b[0m\n\u001b[0;32m-> 1231\u001b[0;31m         super(Image, self).__init__(data=data, url=url, filename=filename, \n\u001b[0m\u001b[1;32m   1232\u001b[0m                 metadata=metadata)\n\u001b[1;32m   1233\u001b[0m \u001b[0;34m\u001b[0m\u001b[0m\n",
            "\u001b[0;32m/usr/local/lib/python3.12/dist-packages/IPython/core/display.py\u001b[0m in \u001b[0;36m__init__\u001b[0;34m(self, data, url, filename, metadata)\u001b[0m\n\u001b[1;32m    635\u001b[0m             \u001b[0mself\u001b[0m\u001b[0;34m.\u001b[0m\u001b[0mmetadata\u001b[0m \u001b[0;34m=\u001b[0m \u001b[0;34m{\u001b[0m\u001b[0;34m}\u001b[0m\u001b[0;34m\u001b[0m\u001b[0;34m\u001b[0m\u001b[0m\n\u001b[1;32m    636\u001b[0m \u001b[0;34m\u001b[0m\u001b[0m\n\u001b[0;32m--> 637\u001b[0;31m         \u001b[0mself\u001b[0m\u001b[0;34m.\u001b[0m\u001b[0mreload\u001b[0m\u001b[0;34m(\u001b[0m\u001b[0;34m)\u001b[0m\u001b[0;34m\u001b[0m\u001b[0;34m\u001b[0m\u001b[0m\n\u001b[0m\u001b[1;32m    638\u001b[0m         \u001b[0mself\u001b[0m\u001b[0;34m.\u001b[0m\u001b[0m_check_data\u001b[0m\u001b[0;34m(\u001b[0m\u001b[0;34m)\u001b[0m\u001b[0;34m\u001b[0m\u001b[0;34m\u001b[0m\u001b[0m\n\u001b[1;32m    639\u001b[0m \u001b[0;34m\u001b[0m\u001b[0m\n",
            "\u001b[0;32m/usr/local/lib/python3.12/dist-packages/IPython/core/display.py\u001b[0m in \u001b[0;36mreload\u001b[0;34m(self)\u001b[0m\n\u001b[1;32m   1261\u001b[0m         \u001b[0;34m\"\"\"Reload the raw data from file or URL.\"\"\"\u001b[0m\u001b[0;34m\u001b[0m\u001b[0;34m\u001b[0m\u001b[0m\n\u001b[1;32m   1262\u001b[0m         \u001b[0;32mif\u001b[0m \u001b[0mself\u001b[0m\u001b[0;34m.\u001b[0m\u001b[0membed\u001b[0m\u001b[0;34m:\u001b[0m\u001b[0;34m\u001b[0m\u001b[0;34m\u001b[0m\u001b[0m\n\u001b[0;32m-> 1263\u001b[0;31m             \u001b[0msuper\u001b[0m\u001b[0;34m(\u001b[0m\u001b[0mImage\u001b[0m\u001b[0;34m,\u001b[0m\u001b[0mself\u001b[0m\u001b[0;34m)\u001b[0m\u001b[0;34m.\u001b[0m\u001b[0mreload\u001b[0m\u001b[0;34m(\u001b[0m\u001b[0;34m)\u001b[0m\u001b[0;34m\u001b[0m\u001b[0;34m\u001b[0m\u001b[0m\n\u001b[0m\u001b[1;32m   1264\u001b[0m             \u001b[0;32mif\u001b[0m \u001b[0mself\u001b[0m\u001b[0;34m.\u001b[0m\u001b[0mretina\u001b[0m\u001b[0;34m:\u001b[0m\u001b[0;34m\u001b[0m\u001b[0;34m\u001b[0m\u001b[0m\n\u001b[1;32m   1265\u001b[0m                 \u001b[0mself\u001b[0m\u001b[0;34m.\u001b[0m\u001b[0m_retina_shape\u001b[0m\u001b[0;34m(\u001b[0m\u001b[0;34m)\u001b[0m\u001b[0;34m\u001b[0m\u001b[0;34m\u001b[0m\u001b[0m\n",
            "\u001b[0;32m/usr/local/lib/python3.12/dist-packages/IPython/core/display.py\u001b[0m in \u001b[0;36mreload\u001b[0;34m(self)\u001b[0m\n\u001b[1;32m    660\u001b[0m         \u001b[0;34m\"\"\"Reload the raw data from file or URL.\"\"\"\u001b[0m\u001b[0;34m\u001b[0m\u001b[0;34m\u001b[0m\u001b[0m\n\u001b[1;32m    661\u001b[0m         \u001b[0;32mif\u001b[0m \u001b[0mself\u001b[0m\u001b[0;34m.\u001b[0m\u001b[0mfilename\u001b[0m \u001b[0;32mis\u001b[0m \u001b[0;32mnot\u001b[0m \u001b[0;32mNone\u001b[0m\u001b[0;34m:\u001b[0m\u001b[0;34m\u001b[0m\u001b[0;34m\u001b[0m\u001b[0m\n\u001b[0;32m--> 662\u001b[0;31m             \u001b[0;32mwith\u001b[0m \u001b[0mopen\u001b[0m\u001b[0;34m(\u001b[0m\u001b[0mself\u001b[0m\u001b[0;34m.\u001b[0m\u001b[0mfilename\u001b[0m\u001b[0;34m,\u001b[0m \u001b[0mself\u001b[0m\u001b[0;34m.\u001b[0m\u001b[0m_read_flags\u001b[0m\u001b[0;34m)\u001b[0m \u001b[0;32mas\u001b[0m \u001b[0mf\u001b[0m\u001b[0;34m:\u001b[0m\u001b[0;34m\u001b[0m\u001b[0;34m\u001b[0m\u001b[0m\n\u001b[0m\u001b[1;32m    663\u001b[0m                 \u001b[0mself\u001b[0m\u001b[0;34m.\u001b[0m\u001b[0mdata\u001b[0m \u001b[0;34m=\u001b[0m \u001b[0mf\u001b[0m\u001b[0;34m.\u001b[0m\u001b[0mread\u001b[0m\u001b[0;34m(\u001b[0m\u001b[0;34m)\u001b[0m\u001b[0;34m\u001b[0m\u001b[0;34m\u001b[0m\u001b[0m\n\u001b[1;32m    664\u001b[0m         \u001b[0;32melif\u001b[0m \u001b[0mself\u001b[0m\u001b[0;34m.\u001b[0m\u001b[0murl\u001b[0m \u001b[0;32mis\u001b[0m \u001b[0;32mnot\u001b[0m \u001b[0;32mNone\u001b[0m\u001b[0;34m:\u001b[0m\u001b[0;34m\u001b[0m\u001b[0;34m\u001b[0m\u001b[0m\n",
            "\u001b[0;31mFileNotFoundError\u001b[0m: [Errno 2] No such file or directory: 'data_array.png'"
          ]
        }
      ]
    },
    {
      "cell_type": "code",
      "source": [
        "data_array = np.array([\n",
        "    [35, 10, 1, 3500, 12000],\n",
        "    [50, 25, 3, 6000, 30000],\n",
        "    [23,  2, 0,   50,  1500],\n",
        "    [42, 15, 2, 1000,  2800]\n",
        "])\n",
        "print(data_array)"
      ],
      "metadata": {
        "id": "M0zm5V3_qvlB"
      },
      "execution_count": null,
      "outputs": []
    },
    {
      "cell_type": "code",
      "source": [
        "type(data_array)"
      ],
      "metadata": {
        "id": "6O_EvIuVrEsf"
      },
      "execution_count": null,
      "outputs": []
    },
    {
      "cell_type": "markdown",
      "source": [
        "## [2] Características de un arreglo en NumPy"
      ],
      "metadata": {
        "id": "fc6lH_H84Wv_"
      }
    },
    {
      "cell_type": "code",
      "source": [
        "arreglo_1 = np.array([[0,1,2,3],[4,5,6,7],[8,9,10,11]])\n",
        "\n",
        "print(f\"El arreglo es \\n{arreglo_1}\")"
      ],
      "metadata": {
        "id": "467PXbJ0rIQe"
      },
      "execution_count": null,
      "outputs": []
    },
    {
      "cell_type": "markdown",
      "source": [
        "¿Cuántas dimensiones tiene el arreglo?"
      ],
      "metadata": {
        "id": "-TG2_STA4w4I"
      }
    },
    {
      "cell_type": "code",
      "source": [
        "print(f\"El número de dimensiones del arreglo es {arreglo_1.ndim}\")"
      ],
      "metadata": {
        "id": "qFFZmzuY4sMm"
      },
      "execution_count": null,
      "outputs": []
    },
    {
      "cell_type": "markdown",
      "source": [
        "¿Cuánto es el tamaño de cada dimensión?"
      ],
      "metadata": {
        "id": "OHlWjwl05DBW"
      }
    },
    {
      "cell_type": "code",
      "source": [
        "print(f\"El tamaño de las dimensiones del arreglo son {arreglo_1.shape}\")\n",
        "print(f\"El tipo de objeto es {type(arreglo_1.shape)}\")"
      ],
      "metadata": {
        "id": "ZuUmj9Nr47Pm"
      },
      "execution_count": null,
      "outputs": []
    },
    {
      "cell_type": "markdown",
      "source": [
        "¿Cuántos elementos tiene el arreglo?"
      ],
      "metadata": {
        "id": "gcsVz-3p5iAy"
      }
    },
    {
      "cell_type": "code",
      "source": [
        "print(f\"El número de elementos del arreglo es {arreglo_1.size}\")\n"
      ],
      "metadata": {
        "id": "N6YPrIbq5PKO"
      },
      "execution_count": null,
      "outputs": []
    },
    {
      "cell_type": "markdown",
      "source": [
        "¿Qué tipo de dato contiene el arreglo?"
      ],
      "metadata": {
        "id": "qPNmZOs-5xwH"
      }
    },
    {
      "cell_type": "code",
      "source": [
        "print(f\"El tipo de dato del arreglo es {arreglo_1.dtype.name}\")\n"
      ],
      "metadata": {
        "id": "M1zIa_so5rim"
      },
      "execution_count": null,
      "outputs": []
    },
    {
      "cell_type": "markdown",
      "source": [
        "## Actividad N035"
      ],
      "metadata": {
        "id": "4qzQoeB96MP-"
      }
    },
    {
      "cell_type": "code",
      "source": [
        "data_array = np.array([\n",
        "    [35, 10, 1, 3500, 12000],\n",
        "    [50, 25, 3, 6000, 30000],\n",
        "    [23,  2, 0,   50,  1500],\n",
        "    [42, 15, 2, 1000,  2800]\n",
        "])\n",
        "\n",
        "print(f\"El arreglo es \\n{data_array}\")\n",
        "print(f\"\\nEl número de dimensiones del arreglo es \\n{data_array.ndim}\")\n",
        "print(f\"\\nEl tamaño de las dimensiones del arreglo son \\n{data_array.shape}\")\n",
        "print(f\"\\nEl total de elementos del arreglo es \\n{data_array.size}\")"
      ],
      "metadata": {
        "id": "NxW8ZTio56bH"
      },
      "execution_count": null,
      "outputs": []
    },
    {
      "cell_type": "markdown",
      "source": [
        "## [3] Operaciones matemáticas con arreglos NumPy"
      ],
      "metadata": {
        "id": "ZYF6LOlL65oz"
      }
    },
    {
      "cell_type": "code",
      "source": [
        "# Arreglos con las mismas dimensiones\n",
        "arreglo_2 = np.array([11,12,13,14])\n",
        "arreglo_3 = np.array([1,2,3,4])"
      ],
      "metadata": {
        "id": "vxbbWUaZ6p7d"
      },
      "execution_count": null,
      "outputs": []
    },
    {
      "cell_type": "code",
      "source": [
        "# Suma de arreglos\n",
        "arreglo_4 = arreglo_2 + arreglo_3\n",
        "print(f\"El resultado de la suma de ambos arreglos es \\n{arreglo_4}\")"
      ],
      "metadata": {
        "id": "qX2Qjrmi7JpJ"
      },
      "execution_count": null,
      "outputs": []
    },
    {
      "cell_type": "code",
      "source": [
        "# Arreglos con las distintas dimensiones\n",
        "arreglo_2_ = np.array([11,12,13,14])\n",
        "arreglo_3_ = np.array([1,2,3,4,5])\n",
        "# Suma de arreglos\n",
        "arreglo_5 = arreglo_2_ + arreglo_3_\n",
        "print(f\"El resultado de la suma de ambos arreglos es \\n{arreglo_5}\")"
      ],
      "metadata": {
        "id": "IKDnK20l7UJB"
      },
      "execution_count": null,
      "outputs": []
    },
    {
      "cell_type": "code",
      "source": [
        "# Arreglos con las mismas dimensiones\n",
        "arreglo_2 = np.array([11,12,13,14])\n",
        "arreglo_3 = np.array([1,2,3,4])\n",
        "\n",
        "arreglo_5 = arreglo_2 - arreglo_3\n",
        "print(f\"El resultado de la diferencia de arreglos es \\n{arreglo_5}\")"
      ],
      "metadata": {
        "colab": {
          "base_uri": "https://localhost:8080/"
        },
        "id": "WfN3mvto8BVi",
        "outputId": "f9c0ae15-a11d-47fe-f8e2-e80e9f20253a"
      },
      "execution_count": 15,
      "outputs": [
        {
          "output_type": "stream",
          "name": "stdout",
          "text": [
            "El resultado de la diferencia de arreglos es \n",
            "[10 10 10 10]\n"
          ]
        }
      ]
    },
    {
      "cell_type": "code",
      "source": [
        "# Potencia de arreglos\n",
        "\n",
        "arreglo_6 = arreglo_3 ** 2\n",
        "\n",
        "print(f\"El arreglo original es \\n{arreglo_3}\")\n",
        "print(f\"El arreglo resultante es \\n{arreglo_6}\")"
      ],
      "metadata": {
        "colab": {
          "base_uri": "https://localhost:8080/"
        },
        "id": "KDFA9q2l70YD",
        "outputId": "17a13db4-5d3a-4342-d911-c06f6358114f"
      },
      "execution_count": 16,
      "outputs": [
        {
          "output_type": "stream",
          "name": "stdout",
          "text": [
            "El arreglo original es \n",
            "[1 2 3 4]\n",
            "El arreglo resultante es \n",
            "[ 1  4  9 16]\n"
          ]
        }
      ]
    },
    {
      "cell_type": "code",
      "source": [
        "# Multiplicación de matrices\n",
        "\n",
        "\n",
        "\n",
        "\n",
        "mat_A = np.array([[1,1],[0,1]])\n",
        "mat_B = np.array([[2,0],[3,4]])\n",
        "\n",
        "# Verificar el tamaño de las dimensiones de las matrices\n",
        "\n",
        "t_dim_mA = mat_A.shape\n",
        "t_dim_mB = mat_B.shape\n",
        "\n",
        "print(f\"El tamaño de las dimensiones de la matriz A es {t_dim_mA}\")\n",
        "print(f\"El tamaño de las dimensiones de la matriz B es {t_dim_mB}\")"
      ],
      "metadata": {
        "colab": {
          "base_uri": "https://localhost:8080/"
        },
        "id": "u8Uv-fda8i_Q",
        "outputId": "92c28141-4ade-4923-e509-8d203eeca63c"
      },
      "execution_count": 17,
      "outputs": [
        {
          "output_type": "stream",
          "name": "stdout",
          "text": [
            "El tamaño de las dimensiones de la matriz A es (2, 2)\n",
            "El tamaño de las dimensiones de la matriz B es (2, 2)\n"
          ]
        }
      ]
    },
    {
      "cell_type": "code",
      "source": [
        "if t_dim_mA[1]==t_dim_mB[0]:\n",
        "  mat_C = np.dot(mat_A,mat_B)\n",
        "  print(f\"El resultado de la multiplicación de matrices es \\n{mat_C}\")\n",
        "else:\n",
        "  print(\"No es posible multiplicar las matrices\")"
      ],
      "metadata": {
        "colab": {
          "base_uri": "https://localhost:8080/"
        },
        "id": "qtTb4Tu1-Bfn",
        "outputId": "d072b66c-376d-43d9-fcf0-c3096a5fff7a"
      },
      "execution_count": 18,
      "outputs": [
        {
          "output_type": "stream",
          "name": "stdout",
          "text": [
            "El resultado de la multiplicación de matrices es \n",
            "[[5 4]\n",
            " [3 4]]\n"
          ]
        }
      ]
    },
    {
      "cell_type": "code",
      "source": [
        "m_A=np.array([[1,0,2,],[3,1,1],[2,1,1]])\n",
        "m_B=np.array([[1,0],[3,1],[2,1]])"
      ],
      "metadata": {
        "id": "KoXHy2Ms9y39"
      },
      "execution_count": 26,
      "outputs": []
    },
    {
      "cell_type": "code",
      "source": [],
      "metadata": {
        "id": "_L_66ORNO7jy"
      },
      "execution_count": null,
      "outputs": []
    },
    {
      "cell_type": "code",
      "source": [
        "t_dim_m_A=m_A.shape\n",
        "t_dim_m_B=m_B.shape\n",
        "\n",
        "if t_dim_m_A[1]==t_dim_m_B[0]:\n",
        "  m_C = np.dot(m_A,m_B)\n",
        "  print(f\"El resultado de la multiplicación de matrices es \\n{m_C}\")\n",
        "else:\n",
        "  print(\"No es posible multiplicar las matrices\")"
      ],
      "metadata": {
        "colab": {
          "base_uri": "https://localhost:8080/"
        },
        "outputId": "81fe4c3b-e707-42dc-dc0a-81bdbeb96cd5",
        "id": "sJxoor1OPAWr"
      },
      "execution_count": 31,
      "outputs": [
        {
          "output_type": "stream",
          "name": "stdout",
          "text": [
            "El resultado de la multiplicación de matrices es \n",
            "[[5 2]\n",
            " [8 2]\n",
            " [7 2]]\n"
          ]
        }
      ]
    },
    {
      "cell_type": "markdown",
      "source": [
        "# Ejemplo 3# Crear un arreglo con la funcion .arange()"
      ],
      "metadata": {
        "id": "V98XOhcIQgOQ"
      }
    },
    {
      "cell_type": "code",
      "source": [
        "# Crear un arreglo con la funcion .arange()\n",
        "\n",
        "mat_7=np.arange(15)\n",
        "\n",
        "print(f\"El arreglo es \\n{mat_7}\")\n",
        "print(f\"\\nLa matriz tiene \\n{mat_7.ndim} dimensiones\")\n",
        "print(f\"\\nLa cantidad de dimensione es \\n{mat_7.shape}\")\n",
        "print(f\"\\nLa cantidad de elementos \\n{mat_7.size}\")"
      ],
      "metadata": {
        "id": "I9Rrs-QUQj0Y",
        "outputId": "bf7543bd-95a1-4a9d-a7e7-af35dbe91636",
        "colab": {
          "base_uri": "https://localhost:8080/"
        }
      },
      "execution_count": 36,
      "outputs": [
        {
          "output_type": "stream",
          "name": "stdout",
          "text": [
            "El arreglo es \n",
            "[ 0  1  2  3  4  5  6  7  8  9 10 11 12 13 14]\n",
            "\n",
            "La matriz tiene \n",
            "1 dimensiones\n",
            "\n",
            "La cantidad de dimensione es \n",
            "(15,)\n",
            "\n",
            "La cantidad de elementos \n",
            "15\n"
          ]
        }
      ]
    },
    {
      "cell_type": "code",
      "source": [
        "# Matriz de 1 dimension coventir en distintas dimensionalidades\n",
        "\n",
        "mat_7=mat_7.reshape(3,5)"
      ],
      "metadata": {
        "id": "kI4PjHbHSA1W"
      },
      "execution_count": 37,
      "outputs": []
    },
    {
      "cell_type": "code",
      "source": [
        "print(f\"El arreglo es \\n{mat_7}\")\n",
        "print(f\"\\nLa matriz tiene \\n{mat_7.ndim} dimensiones\")\n",
        "print(f\"\\nLa cantidad de dimensione es \\n{mat_7.shape}\")\n",
        "print(f\"\\nLa cantidad de elementos \\n{mat_7.size}\")"
      ],
      "metadata": {
        "id": "zKb1ytdgSkbp",
        "outputId": "df7a35b0-7fbd-4fcd-9896-9b711a64923a",
        "colab": {
          "base_uri": "https://localhost:8080/"
        }
      },
      "execution_count": 38,
      "outputs": [
        {
          "output_type": "stream",
          "name": "stdout",
          "text": [
            "El arreglo es \n",
            "[[ 0  1  2  3  4]\n",
            " [ 5  6  7  8  9]\n",
            " [10 11 12 13 14]]\n",
            "\n",
            "La matriz tiene \n",
            "2 dimensiones\n",
            "\n",
            "La cantidad de dimensione es \n",
            "(3, 5)\n",
            "\n",
            "La cantidad de elementos \n",
            "15\n"
          ]
        }
      ]
    },
    {
      "cell_type": "markdown",
      "source": [
        "Ejemplo 4"
      ],
      "metadata": {
        "id": "mOiaVnoeS444"
      }
    },
    {
      "cell_type": "code",
      "source": [
        "mat_9=np.zeros((4,4))\n",
        "\n",
        "print(f\"El arreglo es \\n{mat_9}\")\n",
        "print(f\"\\nLa matriz tiene \\n{mat_9.ndim} dimensiones\")\n",
        "print(f\"\\nLa cantidad de dimensione es \\n{mat_9.shape}\")\n",
        "print(f\"\\nLa cantidad de elementos \\n{mat_9.size}\")"
      ],
      "metadata": {
        "id": "uMITPvFnS2et",
        "outputId": "abff48fd-081c-4669-b690-282b881d8cc3",
        "colab": {
          "base_uri": "https://localhost:8080/"
        }
      },
      "execution_count": 44,
      "outputs": [
        {
          "output_type": "stream",
          "name": "stdout",
          "text": [
            "El arreglo es \n",
            "[[0. 0. 0. 0.]\n",
            " [0. 0. 0. 0.]\n",
            " [0. 0. 0. 0.]\n",
            " [0. 0. 0. 0.]]\n",
            "\n",
            "La matriz tiene \n",
            "2 dimensiones\n",
            "\n",
            "La cantidad de dimensione es \n",
            "(4, 4)\n",
            "\n",
            "La cantidad de elementos \n",
            "16\n"
          ]
        }
      ]
    },
    {
      "cell_type": "markdown",
      "source": [
        "Ejemplo 5"
      ],
      "metadata": {
        "id": "YIVzj_Q3TSyL"
      }
    },
    {
      "cell_type": "code",
      "source": [
        "# Crear un arreglo con la funcion .linspace()\n",
        "#50 => pto de partida(incluido)\n",
        "#60 => pto de llegada(incluido)\n",
        "#20 => Cantidad de elementos\n",
        "\n",
        "mat_10=np.linspace(50,60,20)\n",
        "\n",
        "print(f\"El arreglo es \\n{mat_10}\")\n",
        "print(f\"\\nLa matriz tiene \\n{mat_10.ndim} dimensiones\")\n",
        "print(f\"\\nLa cantidad de dimensione es \\n{mat_10.shape}\")\n",
        "print(f\"\\nLa cantidad de elementos \\n{mat_10.size}\")"
      ],
      "metadata": {
        "id": "1rRpiSnSTVJI",
        "outputId": "d0f6d75e-6dba-41b0-d231-001ee7a998df",
        "colab": {
          "base_uri": "https://localhost:8080/"
        }
      },
      "execution_count": 45,
      "outputs": [
        {
          "output_type": "stream",
          "name": "stdout",
          "text": [
            "El arreglo es \n",
            "[50.         50.52631579 51.05263158 51.57894737 52.10526316 52.63157895\n",
            " 53.15789474 53.68421053 54.21052632 54.73684211 55.26315789 55.78947368\n",
            " 56.31578947 56.84210526 57.36842105 57.89473684 58.42105263 58.94736842\n",
            " 59.47368421 60.        ]\n",
            "\n",
            "La matriz tiene \n",
            "1 dimensiones\n",
            "\n",
            "La cantidad de dimensione es \n",
            "(20,)\n",
            "\n",
            "La cantidad de elementos \n",
            "20\n"
          ]
        }
      ]
    },
    {
      "cell_type": "code",
      "source": [
        "mat_10=mat_10.reshape(4,5)\n",
        "\n",
        "print(f\"El arreglo es \\n{mat_10}\")\n",
        "print(f\"\\nLa matriz tiene \\n{mat_10.ndim} dimensiones\")\n",
        "print(f\"\\nLa cantidad de dimensione es \\n{mat_10.shape}\")\n",
        "print(f\"\\nLa cantidad de elementos \\n{mat_10.size}\")\n",
        "\n",
        "\n"
      ],
      "metadata": {
        "id": "Bg9pmefyUSZI",
        "outputId": "214dec1d-94bf-4cf3-f25b-cd3fe7cca4c6",
        "colab": {
          "base_uri": "https://localhost:8080/"
        }
      },
      "execution_count": 46,
      "outputs": [
        {
          "output_type": "stream",
          "name": "stdout",
          "text": [
            "El arreglo es \n",
            "[[50.         50.52631579 51.05263158 51.57894737 52.10526316]\n",
            " [52.63157895 53.15789474 53.68421053 54.21052632 54.73684211]\n",
            " [55.26315789 55.78947368 56.31578947 56.84210526 57.36842105]\n",
            " [57.89473684 58.42105263 58.94736842 59.47368421 60.        ]]\n",
            "\n",
            "La matriz tiene \n",
            "2 dimensiones\n",
            "\n",
            "La cantidad de dimensione es \n",
            "(4, 5)\n",
            "\n",
            "La cantidad de elementos \n",
            "20\n"
          ]
        }
      ]
    },
    {
      "cell_type": "code",
      "source": [
        "mat_10=mat_10.ravel()\n",
        "\n",
        "\n",
        "print(f\"El arreglo es \\n{mat_10}\")\n",
        "print(f\"\\nLa matriz tiene \\n{mat_10.ndim} dimensiones\")\n",
        "print(f\"\\nLa cantidad de dimensione es \\n{mat_10.shape}\")\n",
        "print(f\"\\nLa cantidad de elementos \\n{mat_10.size}\")\n",
        "\n"
      ],
      "metadata": {
        "id": "Mx9ohmVBUeZG",
        "outputId": "044c4eb3-dab1-4d9f-f5fc-26b5108e0a2a",
        "colab": {
          "base_uri": "https://localhost:8080/"
        }
      },
      "execution_count": 47,
      "outputs": [
        {
          "output_type": "stream",
          "name": "stdout",
          "text": [
            "El arreglo es \n",
            "[50.         50.52631579 51.05263158 51.57894737 52.10526316 52.63157895\n",
            " 53.15789474 53.68421053 54.21052632 54.73684211 55.26315789 55.78947368\n",
            " 56.31578947 56.84210526 57.36842105 57.89473684 58.42105263 58.94736842\n",
            " 59.47368421 60.        ]\n",
            "\n",
            "La matriz tiene \n",
            "1 dimensiones\n",
            "\n",
            "La cantidad de dimensione es \n",
            "(20,)\n",
            "\n",
            "La cantidad de elementos \n",
            "20\n"
          ]
        }
      ]
    },
    {
      "cell_type": "markdown",
      "source": [
        "Ejemplo 6"
      ],
      "metadata": {
        "id": "8COGXhFrVViF"
      }
    },
    {
      "cell_type": "code",
      "source": [
        "# crear un arreglo con 30 elementos usando.arange\n",
        "#cambia la dimensionalidad de (2,3,5)\n",
        "# 3 filas , 5 columnas, 2 matrices\n",
        "\n",
        "mat_11=np.arange(30).reshape(2,3,5)\n",
        "print(f\"El arreglo es \\n{mat_11}\")\n",
        "print(f\"\\nLa matriz tiene \\n{mat_11.ndim} dimensiones\")\n",
        "print(f\"\\nLa cantidad de dimensione es \\n{mat_11.shape}\")\n",
        "print(f\"\\nLa cantidad de elementos \\n{mat_11.size}\")"
      ],
      "metadata": {
        "id": "PRnPtLWrVVFf",
        "outputId": "9c536c8b-0f54-4e72-bac9-1d11661ef812",
        "colab": {
          "base_uri": "https://localhost:8080/"
        }
      },
      "execution_count": 50,
      "outputs": [
        {
          "output_type": "stream",
          "name": "stdout",
          "text": [
            "El arreglo es \n",
            "[[[ 0  1  2  3  4]\n",
            "  [ 5  6  7  8  9]\n",
            "  [10 11 12 13 14]]\n",
            "\n",
            " [[15 16 17 18 19]\n",
            "  [20 21 22 23 24]\n",
            "  [25 26 27 28 29]]]\n",
            "\n",
            "La matriz tiene \n",
            "3 dimensiones\n",
            "\n",
            "La cantidad de dimensione es \n",
            "(2, 3, 5)\n",
            "\n",
            "La cantidad de elementos \n",
            "30\n"
          ]
        }
      ]
    },
    {
      "cell_type": "markdown",
      "source": [
        "Ejercicio propuesto\n",
        "\n",
        "craer un arreglo con 3 dimensiones, el arreglo debe estar compuesto por valores 0s y debe tener las dimensiones deben tener el siguiente tamanos (6,2,3)\n"
      ],
      "metadata": {
        "id": "iBcBGTIKWcOp"
      }
    },
    {
      "cell_type": "code",
      "source": [
        "mat_12=np.zeros((6,2,3))\n",
        "\n",
        "print(f\"El arreglo es \\n{mat_12}\")\n",
        "print(f\"\\nLa matriz tiene \\n{mat_12.ndim} dimensiones\")\n",
        "print(f\"\\nLa cantidad de dimensione es \\n{mat_12.shape}\")\n",
        "print(f\"\\nLa cantidad de elementos \\n{mat_12.size}\")\n",
        "\n"
      ],
      "metadata": {
        "id": "CING5m7gWb67",
        "outputId": "18e8fe31-c4ac-4ba4-9d78-85859b1fe230",
        "colab": {
          "base_uri": "https://localhost:8080/"
        }
      },
      "execution_count": 56,
      "outputs": [
        {
          "output_type": "stream",
          "name": "stdout",
          "text": [
            "El arreglo es \n",
            "[[[0. 0. 0.]\n",
            "  [0. 0. 0.]]\n",
            "\n",
            " [[0. 0. 0.]\n",
            "  [0. 0. 0.]]\n",
            "\n",
            " [[0. 0. 0.]\n",
            "  [0. 0. 0.]]\n",
            "\n",
            " [[0. 0. 0.]\n",
            "  [0. 0. 0.]]\n",
            "\n",
            " [[0. 0. 0.]\n",
            "  [0. 0. 0.]]\n",
            "\n",
            " [[0. 0. 0.]\n",
            "  [0. 0. 0.]]]\n",
            "\n",
            "La matriz tiene \n",
            "3 dimensiones\n",
            "\n",
            "La cantidad de dimensione es \n",
            "(6, 2, 3)\n",
            "\n",
            "La cantidad de elementos \n",
            "36\n"
          ]
        }
      ]
    },
    {
      "cell_type": "code",
      "source": [
        "mat_13=np.arange(36).reshape(6,2,3)\n",
        "\n",
        "print(f\"El arreglo es \\n{mat_13}\")\n",
        "print(f\"\\nLa matriz tiene \\n{mat_13.ndim} dimensiones\")\n",
        "print(f\"\\nLa cantidad de dimensione es \\n{mat_13.shape}\")\n",
        "print(f\"\\nLa cantidad de elementos \\n{mat_13.size}\")\n",
        "\n"
      ],
      "metadata": {
        "id": "VnRzR8XeYIww",
        "outputId": "1119d256-c7de-4665-f491-df03e7b96711",
        "colab": {
          "base_uri": "https://localhost:8080/"
        }
      },
      "execution_count": 57,
      "outputs": [
        {
          "output_type": "stream",
          "name": "stdout",
          "text": [
            "El arreglo es \n",
            "[[[ 0  1  2]\n",
            "  [ 3  4  5]]\n",
            "\n",
            " [[ 6  7  8]\n",
            "  [ 9 10 11]]\n",
            "\n",
            " [[12 13 14]\n",
            "  [15 16 17]]\n",
            "\n",
            " [[18 19 20]\n",
            "  [21 22 23]]\n",
            "\n",
            " [[24 25 26]\n",
            "  [27 28 29]]\n",
            "\n",
            " [[30 31 32]\n",
            "  [33 34 35]]]\n",
            "\n",
            "La matriz tiene \n",
            "3 dimensiones\n",
            "\n",
            "La cantidad de dimensione es \n",
            "(6, 2, 3)\n",
            "\n",
            "La cantidad de elementos \n",
            "36\n"
          ]
        }
      ]
    },
    {
      "cell_type": "markdown",
      "source": [
        "## Actividad 036"
      ],
      "metadata": {
        "id": "QXNq-zRiYzk6"
      }
    },
    {
      "cell_type": "code",
      "source": [
        "import numpy as np\n",
        "A = np.array([[1, 2, 3],\n",
        "              [3, 2, 1]])  # Dimensión: 2x3\n",
        "\n",
        "B = np.array([[0, 2],\n",
        "              [-1, 1],\n",
        "              [0, 1]])     # Dimensión: 3x2\n",
        "\n",
        "# Multiplicación A · B\n",
        "AB = np.dot(A, B)\n",
        "\n",
        "# Multiplicación B · A (solo si es compatible)\n",
        "try:\n",
        "    BA = np.dot(B, A)\n",
        "except ValueError as e:\n",
        "    BA = str(e)\n",
        "\n",
        "# Mostrar resultados\n",
        "print(\"A · B =\")\n",
        "print(AB)\n",
        "\n",
        "print(\"\\nB · A =\")\n",
        "print(BA)"
      ],
      "metadata": {
        "id": "BVsfAH-IZDcD",
        "outputId": "1976928f-4be8-4e3c-c66a-743e2a5f5183",
        "colab": {
          "base_uri": "https://localhost:8080/"
        }
      },
      "execution_count": 58,
      "outputs": [
        {
          "output_type": "stream",
          "name": "stdout",
          "text": [
            "A · B =\n",
            "[[-2  7]\n",
            " [-2  9]]\n",
            "\n",
            "B · A =\n",
            "[[ 6  4  2]\n",
            " [ 2  0 -2]\n",
            " [ 3  2  1]]\n"
          ]
        }
      ]
    },
    {
      "cell_type": "markdown",
      "source": [
        "## [4] seleccion de elementos de un arreglo y concatenacion"
      ],
      "metadata": {
        "id": "0PmCjQ_ug1m7"
      }
    },
    {
      "cell_type": "code",
      "source": [
        "print (f\" Dado el siguiente arreglo: \\n{mat_11}\")\n",
        "print (f\"\\n\\n que tiene \\n{mat_11.ndim} dimensiones\")\n",
        "print(f\"\\n el tamano de dimensione es \\n{mat_11.shape}\")\n",
        "print(f\"\\nLa cantidad de elementos \\n{mat_11.size}\")"
      ],
      "metadata": {
        "id": "vBioZcEghE26",
        "outputId": "c22524bc-586a-4002-faf0-a07a90fde9ee",
        "colab": {
          "base_uri": "https://localhost:8080/"
        }
      },
      "execution_count": 61,
      "outputs": [
        {
          "output_type": "stream",
          "name": "stdout",
          "text": [
            " Dado el siguiente arreglo: \n",
            "[[[ 0  1  2  3  4]\n",
            "  [ 5  6  7  8  9]\n",
            "  [10 11 12 13 14]]\n",
            "\n",
            " [[15 16 17 18 19]\n",
            "  [20 21 22 23 24]\n",
            "  [25 26 27 28 29]]]\n",
            "\n",
            "\n",
            " que tiene \n",
            "3 dimensiones\n",
            "\n",
            " el tamano de dimensione es \n",
            "(2, 3, 5)\n",
            "\n",
            "La cantidad de elementos \n",
            "30\n"
          ]
        }
      ]
    },
    {
      "cell_type": "code",
      "source": [
        "print(f\"la segunda matriz del arreglo es  \\n{mat_13.shape}\")"
      ],
      "metadata": {
        "id": "5fj_O2IHh4LN"
      },
      "execution_count": null,
      "outputs": []
    },
    {
      "cell_type": "code",
      "source": [
        "valores=mat_11[0,2,1:4]\n",
        "print(\"Valores seleccionados:\", valores)\n"
      ],
      "metadata": {
        "id": "Al0g4STUj13u",
        "outputId": "f4310b0d-b4b8-4e97-c9fc-dfff89d6d4cd",
        "colab": {
          "base_uri": "https://localhost:8080/"
        }
      },
      "execution_count": 64,
      "outputs": [
        {
          "output_type": "stream",
          "name": "stdout",
          "text": [
            "Valores seleccionados: [11 12 13]\n"
          ]
        }
      ]
    }
  ]
}