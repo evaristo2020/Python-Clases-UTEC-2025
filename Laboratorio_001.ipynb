{
  "cells": [
    {
      "cell_type": "markdown",
      "metadata": {
        "id": "view-in-github",
        "colab_type": "text"
      },
      "source": [
        "<a href=\"https://colab.research.google.com/github/evaristo2020/Python-Clases-UTEC-2025/blob/main/Laboratorio_001.ipynb\" target=\"_parent\"><img src=\"https://colab.research.google.com/assets/colab-badge.svg\" alt=\"Open In Colab\"/></a>"
      ]
    },
    {
      "cell_type": "markdown",
      "source": [
        "#Laboratorio 1"
      ],
      "metadata": {
        "id": "BUc43CsLIQ3d"
      },
      "id": "BUc43CsLIQ3d"
    },
    {
      "cell_type": "code",
      "source": [
        "#Empezando a tokenizar:"
      ],
      "metadata": {
        "id": "Yln3BOilK52s"
      },
      "id": "Yln3BOilK52s",
      "execution_count": null,
      "outputs": []
    },
    {
      "cell_type": "code",
      "source": [
        "from tensorflow.keras.preprocessing.text import Tokenizer"
      ],
      "metadata": {
        "id": "v3mEoa6oIKpz"
      },
      "id": "v3mEoa6oIKpz",
      "execution_count": null,
      "outputs": []
    },
    {
      "cell_type": "code",
      "source": [
        "sentences = [\n",
        "    'Mi comida favorita es el helado',\n",
        "    '¿A ti también te gusta el helado?',\n",
        "    '¡A mi perro le gusta el helado!',\n",
        "    \"tu sabor de helado favorito es el chocolate\",\n",
        "    \"el chocolate no es bueno para los perros\",\n",
        "    \"tu perro, tu gato y tu loro prefieren el brócoli\"\n",
        "]\n"
      ],
      "metadata": {
        "id": "ZN5zWlaDIKlm"
      },
      "id": "ZN5zWlaDIKlm",
      "execution_count": null,
      "outputs": []
    },
    {
      "cell_type": "code",
      "source": [
        "tokenizer = Tokenizer(num_words=100, oov_token=\"<OOV>\")\n",
        "tokenizer.fit_on_texts(sentences)"
      ],
      "metadata": {
        "id": "o8SW0IBJIKcW"
      },
      "id": "o8SW0IBJIKcW",
      "execution_count": null,
      "outputs": []
    },
    {
      "cell_type": "code",
      "source": [
        "word_index = tokenizer.word_index\n",
        "print(word_index)\n"
      ],
      "metadata": {
        "id": "AEeVQlEBJCUH"
      },
      "id": "AEeVQlEBJCUH",
      "execution_count": null,
      "outputs": []
    },
    {
      "cell_type": "code",
      "source": [
        "print(word_index['mi'])\n",
        "print(word_index['comida'])\n",
        "print(word_index['favorita'])\n",
        "print(word_index['es'])\n",
        "print(word_index['el'])\n",
        "print(word_index['helado'])"
      ],
      "metadata": {
        "id": "9SBRLftNJCRs"
      },
      "id": "9SBRLftNJCRs",
      "execution_count": null,
      "outputs": []
    },
    {
      "cell_type": "code",
      "source": [
        "sequences = tokenizer.texts_to_sequences(sentences)\n",
        "print(sequences)\n"
      ],
      "metadata": {
        "id": "BRpaeH2jJCOv"
      },
      "id": "BRpaeH2jJCOv",
      "execution_count": null,
      "outputs": []
    },
    {
      "cell_type": "code",
      "source": [
        "sentences2 = [\n",
        "    \"Me gusta el chocolate caliente\",\n",
        "    \"A mis perros y a mi erizo les gustan las croquetas pero mi ardilla prefiere las uvas \\\n",
        "    y a mis gallinas el helado, preferiblemente de vainilla\"\n",
        "    ]\n",
        "sequences2 = tokenizer.texts_to_sequences(sentences2)\n",
        "print(sequences2)\n"
      ],
      "metadata": {
        "id": "KSN03wHoJCKU"
      },
      "id": "KSN03wHoJCKU",
      "execution_count": null,
      "outputs": []
    },
    {
      "cell_type": "code",
      "source": [],
      "metadata": {
        "id": "eDnkWePKK7yN"
      },
      "id": "eDnkWePKK7yN",
      "execution_count": null,
      "outputs": []
    },
    {
      "cell_type": "code",
      "source": [
        "#Truncamiento relleno y el uso de OOV\n",
        "from tensorflow.keras.preprocessing.text import Tokenizer\n",
        "from tensorflow.keras.preprocessing.sequence import pad_sequences\n"
      ],
      "metadata": {
        "id": "Pty9TevJK7q9"
      },
      "id": "Pty9TevJK7q9",
      "execution_count": null,
      "outputs": []
    },
    {
      "cell_type": "code",
      "source": [
        "sentences = [\n",
        "    'Mi comida favorita es el helado',\n",
        "     '¿A ti también te gusta el helado?',\n",
        "     '¡A mi perro le gusta el helado!',\n",
        "     \"tu sabor de helado favorito es el chocolate\",\n",
        "     \"el chocolate no es bueno para los perros\",\n",
        "     \"tu perro, tu gato y tu loro prefieren el brócoli\"\n",
        "]\n",
        "print(sentences)\n"
      ],
      "metadata": {
        "id": "MeIpVgjRLgoE"
      },
      "id": "MeIpVgjRLgoE",
      "execution_count": null,
      "outputs": []
    },
    {
      "cell_type": "code",
      "source": [
        "tokenizer = Tokenizer(num_words=100, oov_token=\"<OOV>\")"
      ],
      "metadata": {
        "id": "u_h2iWkYLglC"
      },
      "id": "u_h2iWkYLglC",
      "execution_count": null,
      "outputs": []
    },
    {
      "cell_type": "code",
      "source": [
        "tokenizer.fit_on_texts(sentences)"
      ],
      "metadata": {
        "id": "6KprufbcLgic"
      },
      "id": "6KprufbcLgic",
      "execution_count": null,
      "outputs": []
    },
    {
      "cell_type": "code",
      "source": [
        "word_index = tokenizer.word_index\n",
        "print(word_index)\n"
      ],
      "metadata": {
        "id": "W9PFNSTtLgfS"
      },
      "id": "W9PFNSTtLgfS",
      "execution_count": null,
      "outputs": []
    },
    {
      "cell_type": "code",
      "source": [
        "sequences = tokenizer.texts_to_sequences(sentences)\n",
        "print(sequences)\n"
      ],
      "metadata": {
        "id": "vTqpJlEhLgbq"
      },
      "id": "vTqpJlEhLgbq",
      "execution_count": null,
      "outputs": []
    },
    {
      "cell_type": "code",
      "source": [
        "padded = pad_sequences(sequences)\n",
        "print(f\"\\nIndice de palabras: \\n{word_index}\")\n",
        "print(f\"\\nSecuencias: \\n{sequences}\")\n",
        "print(f\"\\nRelleno de Secuencias: \\n{padded}\")"
      ],
      "metadata": {
        "id": "94Dgh0ilMGSl"
      },
      "id": "94Dgh0ilMGSl",
      "execution_count": null,
      "outputs": []
    },
    {
      "cell_type": "code",
      "source": [
        "padded = pad_sequences(sequences, maxlen=15)\n",
        "print(padded)\n"
      ],
      "metadata": {
        "id": "uU4_h4ucMJwa"
      },
      "id": "uU4_h4ucMJwa",
      "execution_count": null,
      "outputs": []
    },
    {
      "cell_type": "code",
      "source": [
        "padded = pad_sequences(sequences, maxlen=15, padding=\"post\")\n",
        "print(padded)\n"
      ],
      "metadata": {
        "id": "E9Spyai4MJtz"
      },
      "id": "E9Spyai4MJtz",
      "execution_count": null,
      "outputs": []
    },
    {
      "cell_type": "code",
      "source": [
        "padded = pad_sequences(sequences, maxlen=3)\n",
        "print(padded)\n"
      ],
      "metadata": {
        "id": "y1eJrbQEMJpI"
      },
      "id": "y1eJrbQEMJpI",
      "execution_count": null,
      "outputs": []
    },
    {
      "cell_type": "code",
      "source": [
        "test_data = [\n",
        "    \"El sabor de helado favorito de mi mejor amigo es el de fresa\",\n",
        "     \"el mejor amigo de mi perro es un manatí\"\n",
        "]\n",
        "print(test_data)\n"
      ],
      "metadata": {
        "id": "o9DwCCuOMP3J"
      },
      "id": "o9DwCCuOMP3J",
      "execution_count": null,
      "outputs": []
    },
    {
      "cell_type": "code",
      "source": [
        "print(\"<OOV> tiene el numero\", word_index['<OOV>'], \"en el índice de palabras.\")"
      ],
      "metadata": {
        "id": "iGLY9w0uMSxY"
      },
      "id": "iGLY9w0uMSxY",
      "execution_count": null,
      "outputs": []
    },
    {
      "cell_type": "code",
      "source": [
        "test_seq = tokenizer.texts_to_sequences(test_data)\n",
        "print(\"\\nTest secuencia = \", test_seq)\n"
      ],
      "metadata": {
        "id": "jPdEQi-nMTmg"
      },
      "id": "jPdEQi-nMTmg",
      "execution_count": null,
      "outputs": []
    },
    {
      "cell_type": "code",
      "source": [
        "for i in test_seq:\n",
        "  print(f\"La secuencia {i} tiene {len(i)} elementos.\")"
      ],
      "metadata": {
        "id": "e6EiZwBlHg4D"
      },
      "id": "e6EiZwBlHg4D",
      "execution_count": null,
      "outputs": []
    },
    {
      "cell_type": "code",
      "source": [
        "padded = pad_sequences(test_seq, maxlen=10)\n",
        "print(\"\\nRellenando el test de secuencia: \")\n",
        "print(padded)\n"
      ],
      "metadata": {
        "id": "K4AiRtxvMTi5"
      },
      "id": "K4AiRtxvMTi5",
      "execution_count": null,
      "outputs": []
    },
    {
      "cell_type": "code",
      "source": [],
      "metadata": {
        "id": "_iYgtVZVMTbs"
      },
      "id": "_iYgtVZVMTbs",
      "execution_count": null,
      "outputs": []
    }
  ],
  "metadata": {
    "kernelspec": {
      "display_name": "Python 3 (ipykernel)",
      "language": "python",
      "name": "python3"
    },
    "language_info": {
      "codemirror_mode": {
        "name": "ipython",
        "version": 3
      },
      "file_extension": ".py",
      "mimetype": "text/x-python",
      "name": "python",
      "nbconvert_exporter": "python",
      "pygments_lexer": "ipython3",
      "version": "3.11.4"
    },
    "colab": {
      "provenance": [],
      "toc_visible": true,
      "include_colab_link": true
    }
  },
  "nbformat": 4,
  "nbformat_minor": 5
}