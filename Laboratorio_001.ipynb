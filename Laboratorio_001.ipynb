{
  "cells": [
    {
      "cell_type": "markdown",
      "metadata": {
        "id": "view-in-github",
        "colab_type": "text"
      },
      "source": [
        "<a href=\"https://colab.research.google.com/github/evaristo2020/Python-Clases-UTEC-2025/blob/main/Laboratorio_001.ipynb\" target=\"_parent\"><img src=\"https://colab.research.google.com/assets/colab-badge.svg\" alt=\"Open In Colab\"/></a>"
      ]
    },
    {
      "cell_type": "markdown",
      "source": [
        "#Laboratorio 1"
      ],
      "metadata": {
        "id": "BUc43CsLIQ3d"
      },
      "id": "BUc43CsLIQ3d"
    },
    {
      "cell_type": "code",
      "source": [
        "#Empezando a tokenizar:"
      ],
      "metadata": {
        "id": "Yln3BOilK52s"
      },
      "id": "Yln3BOilK52s",
      "execution_count": null,
      "outputs": []
    },
    {
      "cell_type": "code",
      "source": [
        "from tensorflow.keras.preprocessing.text import Tokenizer"
      ],
      "metadata": {
        "id": "v3mEoa6oIKpz"
      },
      "id": "v3mEoa6oIKpz",
      "execution_count": 1,
      "outputs": []
    },
    {
      "cell_type": "code",
      "source": [
        "# Estrcutura de datos: Lista\n",
        "\n",
        "sentences = [\n",
        "    'Mi comida favorita es el helado',\n",
        "    '¿A ti también te gusta el helado?',\n",
        "    '¡A mi perro le gusta el helado!',\n",
        "    \"tu sabor de helado favorito es el chocolate\",\n",
        "    \"el chocolate no es bueno para los perros\",\n",
        "    \"tu perro, tu gato y tu loro prefieren el brócoli\"\n",
        "]\n"
      ],
      "metadata": {
        "id": "ZN5zWlaDIKlm"
      },
      "id": "ZN5zWlaDIKlm",
      "execution_count": 5,
      "outputs": []
    },
    {
      "cell_type": "code",
      "source": [
        "print(f\"el tipo de obsjeto es {type(sentences)}\")"
      ],
      "metadata": {
        "id": "eAAh1tmAbkU9",
        "outputId": "6e157224-54c4-4586-da87-5352543fc493",
        "colab": {
          "base_uri": "https://localhost:8080/"
        }
      },
      "id": "eAAh1tmAbkU9",
      "execution_count": 6,
      "outputs": [
        {
          "output_type": "stream",
          "name": "stdout",
          "text": [
            "el tipo de obsjeto es <class 'list'>\n"
          ]
        }
      ]
    },
    {
      "cell_type": "code",
      "source": [
        "tokenizer = Tokenizer(num_words=100, oov_token=\"<OOV>\")\n",
        "tokenizer.fit_on_texts(sentences) # le entrego a la funcion tokenizer la lista de frases"
      ],
      "metadata": {
        "id": "o8SW0IBJIKcW"
      },
      "id": "o8SW0IBJIKcW",
      "execution_count": 7,
      "outputs": []
    },
    {
      "cell_type": "code",
      "source": [
        "print(f\"el objeto tokenizer es {type(tokenizer)}\")"
      ],
      "metadata": {
        "id": "FjxSswgccRaB",
        "outputId": "6a2ddf37-304a-4a00-9ebc-b6129b8885d0",
        "colab": {
          "base_uri": "https://localhost:8080/"
        }
      },
      "id": "FjxSswgccRaB",
      "execution_count": 8,
      "outputs": [
        {
          "output_type": "stream",
          "name": "stdout",
          "text": [
            "el objeto tokenizer es <class 'keras.src.legacy.preprocessing.text.Tokenizer'>\n"
          ]
        }
      ]
    },
    {
      "cell_type": "code",
      "source": [
        "word_index = tokenizer.word_index\n",
        "print(word_index)\n"
      ],
      "metadata": {
        "id": "AEeVQlEBJCUH",
        "outputId": "0872f9ce-6b04-4f6a-9911-062968730021",
        "colab": {
          "base_uri": "https://localhost:8080/"
        }
      },
      "id": "AEeVQlEBJCUH",
      "execution_count": 9,
      "outputs": [
        {
          "output_type": "stream",
          "name": "stdout",
          "text": [
            "{'<OOV>': 1, 'el': 2, 'helado': 3, 'tu': 4, 'es': 5, 'mi': 6, 'gusta': 7, 'perro': 8, 'chocolate': 9, 'comida': 10, 'favorita': 11, '¿a': 12, 'ti': 13, 'también': 14, 'te': 15, '¡a': 16, 'le': 17, 'sabor': 18, 'de': 19, 'favorito': 20, 'no': 21, 'bueno': 22, 'para': 23, 'los': 24, 'perros': 25, 'gato': 26, 'y': 27, 'loro': 28, 'prefieren': 29, 'brócoli': 30}\n"
          ]
        }
      ]
    },
    {
      "cell_type": "code",
      "source": [
        "print(f\"Wl objetivo word_index es del tipo {type(word_index)}\")"
      ],
      "metadata": {
        "id": "ifcy8me7crx3",
        "outputId": "41d81add-739c-4e6f-d63a-f0793c739c8f",
        "colab": {
          "base_uri": "https://localhost:8080/"
        }
      },
      "id": "ifcy8me7crx3",
      "execution_count": 10,
      "outputs": [
        {
          "output_type": "stream",
          "name": "stdout",
          "text": [
            "Wl objetivo word_index es del tipo <class 'dict'>\n"
          ]
        }
      ]
    },
    {
      "cell_type": "code",
      "source": [
        "print(word_index['mi'])\n",
        "print(word_index['comida'])\n",
        "print(word_index['favorita'])\n",
        "print(word_index['es'])\n",
        "print(word_index['el'])\n",
        "print(word_index['helado'])"
      ],
      "metadata": {
        "id": "9SBRLftNJCRs",
        "outputId": "af46f616-48a8-4c84-b4b3-7eecd24d7c3f",
        "colab": {
          "base_uri": "https://localhost:8080/"
        }
      },
      "id": "9SBRLftNJCRs",
      "execution_count": 11,
      "outputs": [
        {
          "output_type": "stream",
          "name": "stdout",
          "text": [
            "6\n",
            "10\n",
            "11\n",
            "5\n",
            "2\n",
            "3\n"
          ]
        }
      ]
    },
    {
      "cell_type": "code",
      "source": [
        "sequences = tokenizer.texts_to_sequences(sentences)\n",
        "print(sequences)\n"
      ],
      "metadata": {
        "id": "BRpaeH2jJCOv",
        "outputId": "edff8939-7595-4b2a-8f9d-4d03a6ecc57f",
        "colab": {
          "base_uri": "https://localhost:8080/"
        }
      },
      "id": "BRpaeH2jJCOv",
      "execution_count": 12,
      "outputs": [
        {
          "output_type": "stream",
          "name": "stdout",
          "text": [
            "[[6, 10, 11, 5, 2, 3], [12, 13, 14, 15, 7, 2, 3], [16, 6, 8, 17, 7, 2, 3], [4, 18, 19, 3, 20, 5, 2, 9], [2, 9, 21, 5, 22, 23, 24, 25], [4, 8, 4, 26, 27, 4, 28, 29, 2, 30]]\n"
          ]
        }
      ]
    },
    {
      "cell_type": "code",
      "source": [
        "print(f\"el  obsjeto sequences es del tipo {type(sentences)}\")"
      ],
      "metadata": {
        "id": "AWufzjxAdTUK",
        "outputId": "d7e8e1ed-d191-42a8-8981-7918b8638353",
        "colab": {
          "base_uri": "https://localhost:8080/"
        }
      },
      "id": "AWufzjxAdTUK",
      "execution_count": 13,
      "outputs": [
        {
          "output_type": "stream",
          "name": "stdout",
          "text": [
            "el  obsjeto sequences es del tipo <class 'list'>\n"
          ]
        }
      ]
    },
    {
      "cell_type": "code",
      "source": [
        "sentences2 = [\n",
        "    \"Me gusta el chocolate caliente\",\n",
        "    \"A mis perros y a mi erizo les gustan las croquetas pero mi ardilla prefiere las uvas \\\n",
        "    y a mis gallinas el helado, preferiblemente de vainilla\",\n",
        "    \"Aprendamos python con entusiamo\",\n",
        "    \"Mi helado y tu perro\"\n",
        "    ]\n",
        "sequences2 = tokenizer.texts_to_sequences(sentences2)\n",
        "print(sequences2)\n"
      ],
      "metadata": {
        "id": "KSN03wHoJCKU",
        "outputId": "ce2ea81e-5ebd-4fd5-f114-f6d00d5aec9a",
        "colab": {
          "base_uri": "https://localhost:8080/"
        }
      },
      "id": "KSN03wHoJCKU",
      "execution_count": 19,
      "outputs": [
        {
          "output_type": "stream",
          "name": "stdout",
          "text": [
            "[[1, 7, 2, 9, 1], [1, 1, 25, 27, 1, 6, 1, 1, 1, 1, 1, 1, 6, 1, 1, 1, 1, 27, 1, 1, 1, 2, 3, 1, 19, 1], [1, 1, 1, 1], [6, 3, 27, 4, 8]]\n"
          ]
        }
      ]
    },
    {
      "cell_type": "code",
      "source": [
        "for i in range(len(sentences2)):\n",
        "  print(sequences2[i])"
      ],
      "metadata": {
        "id": "eDnkWePKK7yN",
        "outputId": "e383e416-f567-481e-9409-f53c5b2e7693",
        "colab": {
          "base_uri": "https://localhost:8080/"
        }
      },
      "id": "eDnkWePKK7yN",
      "execution_count": 20,
      "outputs": [
        {
          "output_type": "stream",
          "name": "stdout",
          "text": [
            "[1, 7, 2, 9, 1]\n",
            "[1, 1, 25, 27, 1, 6, 1, 1, 1, 1, 1, 1, 6, 1, 1, 1, 1, 27, 1, 1, 1, 2, 3, 1, 19, 1]\n",
            "[1, 1, 1, 1]\n",
            "[6, 3, 27, 4, 8]\n"
          ]
        }
      ]
    },
    {
      "cell_type": "code",
      "source": [
        "#Truncamiento relleno y el uso de OOV\n",
        "from tensorflow.keras.preprocessing.text import Tokenizer\n",
        "from tensorflow.keras.preprocessing.sequence import pad_sequences\n"
      ],
      "metadata": {
        "id": "Pty9TevJK7q9"
      },
      "id": "Pty9TevJK7q9",
      "execution_count": 21,
      "outputs": []
    },
    {
      "cell_type": "code",
      "source": [
        "sentences = [\n",
        "    'Mi comida favorita es el helado',\n",
        "     '¿A ti también te gusta el helado?',\n",
        "     '¡A mi perro le gusta el helado!',\n",
        "     \"tu sabor de helado favorito es el chocolate\",\n",
        "     \"el chocolate no es bueno para los perros\",\n",
        "     \"tu perro, tu gato y tu loro prefieren el brócoli\"\n",
        "]\n",
        "print(sentences)\n"
      ],
      "metadata": {
        "id": "MeIpVgjRLgoE",
        "outputId": "08613a7c-1043-4152-ebbf-516c4d8cbb80",
        "colab": {
          "base_uri": "https://localhost:8080/"
        }
      },
      "id": "MeIpVgjRLgoE",
      "execution_count": 22,
      "outputs": [
        {
          "output_type": "stream",
          "name": "stdout",
          "text": [
            "['Mi comida favorita es el helado', '¿A ti también te gusta el helado?', '¡A mi perro le gusta el helado!', 'tu sabor de helado favorito es el chocolate', 'el chocolate no es bueno para los perros', 'tu perro, tu gato y tu loro prefieren el brócoli']\n"
          ]
        }
      ]
    },
    {
      "cell_type": "code",
      "source": [
        "tokenizer = Tokenizer(num_words=100, oov_token=\"<OOV>\")"
      ],
      "metadata": {
        "id": "u_h2iWkYLglC"
      },
      "id": "u_h2iWkYLglC",
      "execution_count": 24,
      "outputs": []
    },
    {
      "cell_type": "code",
      "source": [
        "tokenizer.fit_on_texts(sentences)"
      ],
      "metadata": {
        "id": "6KprufbcLgic"
      },
      "id": "6KprufbcLgic",
      "execution_count": 25,
      "outputs": []
    },
    {
      "cell_type": "code",
      "source": [
        "word_index = tokenizer.word_index\n",
        "print(word_index)\n"
      ],
      "metadata": {
        "id": "W9PFNSTtLgfS",
        "outputId": "59b507cf-e83f-4efd-e4ab-4acad3b79317",
        "colab": {
          "base_uri": "https://localhost:8080/"
        }
      },
      "id": "W9PFNSTtLgfS",
      "execution_count": 26,
      "outputs": [
        {
          "output_type": "stream",
          "name": "stdout",
          "text": [
            "{'<OOV>': 1, 'el': 2, 'helado': 3, 'tu': 4, 'es': 5, 'mi': 6, 'gusta': 7, 'perro': 8, 'chocolate': 9, 'comida': 10, 'favorita': 11, '¿a': 12, 'ti': 13, 'también': 14, 'te': 15, '¡a': 16, 'le': 17, 'sabor': 18, 'de': 19, 'favorito': 20, 'no': 21, 'bueno': 22, 'para': 23, 'los': 24, 'perros': 25, 'gato': 26, 'y': 27, 'loro': 28, 'prefieren': 29, 'brócoli': 30}\n"
          ]
        }
      ]
    },
    {
      "cell_type": "code",
      "source": [
        "sequences = tokenizer.texts_to_sequences(sentences)\n",
        "print(sequences)\n"
      ],
      "metadata": {
        "id": "vTqpJlEhLgbq",
        "outputId": "c26ce3ef-a828-4582-89f5-cebeb228a4f1",
        "colab": {
          "base_uri": "https://localhost:8080/"
        }
      },
      "id": "vTqpJlEhLgbq",
      "execution_count": 27,
      "outputs": [
        {
          "output_type": "stream",
          "name": "stdout",
          "text": [
            "[[6, 10, 11, 5, 2, 3], [12, 13, 14, 15, 7, 2, 3], [16, 6, 8, 17, 7, 2, 3], [4, 18, 19, 3, 20, 5, 2, 9], [2, 9, 21, 5, 22, 23, 24, 25], [4, 8, 4, 26, 27, 4, 28, 29, 2, 30]]\n"
          ]
        }
      ]
    },
    {
      "cell_type": "code",
      "source": [
        "padded = pad_sequences(sequences)\n",
        "print(f\"\\nIndice de palabras: \\n{word_index}\")\n",
        "print(f\"\\nSecuencias: \\n{sequences}\")\n",
        "print(f\"\\nRelleno de Secuencias: \\n{padded}\")"
      ],
      "metadata": {
        "id": "94Dgh0ilMGSl",
        "outputId": "cee3de9c-15a6-483f-b9ed-368d85cc5edf",
        "colab": {
          "base_uri": "https://localhost:8080/"
        }
      },
      "id": "94Dgh0ilMGSl",
      "execution_count": 28,
      "outputs": [
        {
          "output_type": "stream",
          "name": "stdout",
          "text": [
            "\n",
            "Indice de palabras: \n",
            "{'<OOV>': 1, 'el': 2, 'helado': 3, 'tu': 4, 'es': 5, 'mi': 6, 'gusta': 7, 'perro': 8, 'chocolate': 9, 'comida': 10, 'favorita': 11, '¿a': 12, 'ti': 13, 'también': 14, 'te': 15, '¡a': 16, 'le': 17, 'sabor': 18, 'de': 19, 'favorito': 20, 'no': 21, 'bueno': 22, 'para': 23, 'los': 24, 'perros': 25, 'gato': 26, 'y': 27, 'loro': 28, 'prefieren': 29, 'brócoli': 30}\n",
            "\n",
            "Secuencias: \n",
            "[[6, 10, 11, 5, 2, 3], [12, 13, 14, 15, 7, 2, 3], [16, 6, 8, 17, 7, 2, 3], [4, 18, 19, 3, 20, 5, 2, 9], [2, 9, 21, 5, 22, 23, 24, 25], [4, 8, 4, 26, 27, 4, 28, 29, 2, 30]]\n",
            "\n",
            "Relleno de Secuencias: \n",
            "[[ 0  0  0  0  6 10 11  5  2  3]\n",
            " [ 0  0  0 12 13 14 15  7  2  3]\n",
            " [ 0  0  0 16  6  8 17  7  2  3]\n",
            " [ 0  0  4 18 19  3 20  5  2  9]\n",
            " [ 0  0  2  9 21  5 22 23 24 25]\n",
            " [ 4  8  4 26 27  4 28 29  2 30]]\n"
          ]
        }
      ]
    },
    {
      "cell_type": "code",
      "source": [
        "print(f\"el tipo de obsjeto es \\n{type(padded)}\")"
      ],
      "metadata": {
        "id": "xRdWHqd4iFGi",
        "outputId": "249bae76-b8c8-4ab1-ddba-3abd5fc430ee",
        "colab": {
          "base_uri": "https://localhost:8080/"
        }
      },
      "id": "xRdWHqd4iFGi",
      "execution_count": 30,
      "outputs": [
        {
          "output_type": "stream",
          "name": "stdout",
          "text": [
            "el tipo de obsjeto es \n",
            "<class 'numpy.ndarray'>\n"
          ]
        }
      ]
    },
    {
      "cell_type": "code",
      "source": [
        "padded = pad_sequences(sequences, maxlen=15)\n",
        "print(padded)\n"
      ],
      "metadata": {
        "id": "uU4_h4ucMJwa",
        "outputId": "ba484671-830e-4864-b025-d184108a7f61",
        "colab": {
          "base_uri": "https://localhost:8080/"
        }
      },
      "id": "uU4_h4ucMJwa",
      "execution_count": 31,
      "outputs": [
        {
          "output_type": "stream",
          "name": "stdout",
          "text": [
            "[[ 0  0  0  0  0  0  0  0  0  6 10 11  5  2  3]\n",
            " [ 0  0  0  0  0  0  0  0 12 13 14 15  7  2  3]\n",
            " [ 0  0  0  0  0  0  0  0 16  6  8 17  7  2  3]\n",
            " [ 0  0  0  0  0  0  0  4 18 19  3 20  5  2  9]\n",
            " [ 0  0  0  0  0  0  0  2  9 21  5 22 23 24 25]\n",
            " [ 0  0  0  0  0  4  8  4 26 27  4 28 29  2 30]]\n"
          ]
        }
      ]
    },
    {
      "cell_type": "code",
      "source": [
        "padded = pad_sequences(sequences, maxlen=15, padding=\"post\")\n",
        "print(padded)\n"
      ],
      "metadata": {
        "id": "E9Spyai4MJtz",
        "outputId": "8af0bb43-0595-427f-c748-f2bd7de6819e",
        "colab": {
          "base_uri": "https://localhost:8080/"
        }
      },
      "id": "E9Spyai4MJtz",
      "execution_count": 32,
      "outputs": [
        {
          "output_type": "stream",
          "name": "stdout",
          "text": [
            "[[ 6 10 11  5  2  3  0  0  0  0  0  0  0  0  0]\n",
            " [12 13 14 15  7  2  3  0  0  0  0  0  0  0  0]\n",
            " [16  6  8 17  7  2  3  0  0  0  0  0  0  0  0]\n",
            " [ 4 18 19  3 20  5  2  9  0  0  0  0  0  0  0]\n",
            " [ 2  9 21  5 22 23 24 25  0  0  0  0  0  0  0]\n",
            " [ 4  8  4 26 27  4 28 29  2 30  0  0  0  0  0]]\n"
          ]
        }
      ]
    },
    {
      "cell_type": "code",
      "source": [
        "padded = pad_sequences(sequences, maxlen=3)\n",
        "print(padded)\n"
      ],
      "metadata": {
        "id": "y1eJrbQEMJpI",
        "outputId": "3a1c7961-70f5-4c96-9359-ce0bc6cdbc93",
        "colab": {
          "base_uri": "https://localhost:8080/"
        }
      },
      "id": "y1eJrbQEMJpI",
      "execution_count": 33,
      "outputs": [
        {
          "output_type": "stream",
          "name": "stdout",
          "text": [
            "[[ 5  2  3]\n",
            " [ 7  2  3]\n",
            " [ 7  2  3]\n",
            " [ 5  2  9]\n",
            " [23 24 25]\n",
            " [29  2 30]]\n"
          ]
        }
      ]
    },
    {
      "cell_type": "code",
      "source": [
        "test_data = [\n",
        "    \"El sabor de helado favorito de mi mejor amigo es el de fresa\",\n",
        "     \"el mejor amigo de mi perro es un manatí\"\n",
        "]\n",
        "print(test_data)\n"
      ],
      "metadata": {
        "id": "o9DwCCuOMP3J",
        "outputId": "9ec9979f-3f2b-449f-f84a-f905656b40fd",
        "colab": {
          "base_uri": "https://localhost:8080/"
        }
      },
      "id": "o9DwCCuOMP3J",
      "execution_count": 34,
      "outputs": [
        {
          "output_type": "stream",
          "name": "stdout",
          "text": [
            "['El sabor de helado favorito de mi mejor amigo es el de fresa', 'el mejor amigo de mi perro es un manatí']\n"
          ]
        }
      ]
    },
    {
      "cell_type": "code",
      "source": [
        "print(\"<OOV> tiene el numero\", word_index['<OOV>'], \"en el índice de palabras.\")"
      ],
      "metadata": {
        "id": "iGLY9w0uMSxY",
        "outputId": "f92c8e30-c3db-4ca2-821a-c48114700e2e",
        "colab": {
          "base_uri": "https://localhost:8080/"
        }
      },
      "id": "iGLY9w0uMSxY",
      "execution_count": 35,
      "outputs": [
        {
          "output_type": "stream",
          "name": "stdout",
          "text": [
            "<OOV> tiene el numero 1 en el índice de palabras.\n"
          ]
        }
      ]
    },
    {
      "cell_type": "code",
      "source": [
        "test_seq = tokenizer.texts_to_sequences(test_data)\n",
        "print(\"\\nTest secuencia = \", test_seq)\n"
      ],
      "metadata": {
        "id": "jPdEQi-nMTmg",
        "outputId": "4baa8339-afb6-4302-d4e7-e58726274dd6",
        "colab": {
          "base_uri": "https://localhost:8080/"
        }
      },
      "id": "jPdEQi-nMTmg",
      "execution_count": 36,
      "outputs": [
        {
          "output_type": "stream",
          "name": "stdout",
          "text": [
            "\n",
            "Test secuencia =  [[2, 18, 19, 3, 20, 19, 6, 1, 1, 5, 2, 19, 1], [2, 1, 1, 19, 6, 8, 5, 1, 1]]\n"
          ]
        }
      ]
    },
    {
      "cell_type": "code",
      "source": [
        "for i in test_seq:\n",
        "  print(f\"La secuencia {i} tiene {len(i)} elementos.\")"
      ],
      "metadata": {
        "id": "e6EiZwBlHg4D",
        "outputId": "a45a43d8-5f4c-490c-c827-91c296214d54",
        "colab": {
          "base_uri": "https://localhost:8080/"
        }
      },
      "id": "e6EiZwBlHg4D",
      "execution_count": 37,
      "outputs": [
        {
          "output_type": "stream",
          "name": "stdout",
          "text": [
            "La secuencia [2, 18, 19, 3, 20, 19, 6, 1, 1, 5, 2, 19, 1] tiene 13 elementos.\n",
            "La secuencia [2, 1, 1, 19, 6, 8, 5, 1, 1] tiene 9 elementos.\n"
          ]
        }
      ]
    },
    {
      "cell_type": "code",
      "source": [
        "padded = pad_sequences(test_seq, maxlen=10)\n",
        "print(\"\\nRellenando el test de secuencia: \")\n",
        "print(padded)\n"
      ],
      "metadata": {
        "id": "K4AiRtxvMTi5",
        "outputId": "9a087935-862e-4ed7-a2ce-eac5c6f1fd78",
        "colab": {
          "base_uri": "https://localhost:8080/"
        }
      },
      "id": "K4AiRtxvMTi5",
      "execution_count": 38,
      "outputs": [
        {
          "output_type": "stream",
          "name": "stdout",
          "text": [
            "\n",
            "Rellenando el test de secuencia: \n",
            "[[ 3 20 19  6  1  1  5  2 19  1]\n",
            " [ 0  2  1  1 19  6  8  5  1  1]]\n"
          ]
        }
      ]
    },
    {
      "cell_type": "code",
      "source": [],
      "metadata": {
        "id": "_iYgtVZVMTbs"
      },
      "id": "_iYgtVZVMTbs",
      "execution_count": null,
      "outputs": []
    }
  ],
  "metadata": {
    "kernelspec": {
      "display_name": "Python 3 (ipykernel)",
      "language": "python",
      "name": "python3"
    },
    "language_info": {
      "codemirror_mode": {
        "name": "ipython",
        "version": 3
      },
      "file_extension": ".py",
      "mimetype": "text/x-python",
      "name": "python",
      "nbconvert_exporter": "python",
      "pygments_lexer": "ipython3",
      "version": "3.11.4"
    },
    "colab": {
      "provenance": [],
      "toc_visible": true,
      "include_colab_link": true
    }
  },
  "nbformat": 4,
  "nbformat_minor": 5
}