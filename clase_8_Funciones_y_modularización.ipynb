{
  "nbformat": 4,
  "nbformat_minor": 0,
  "metadata": {
    "colab": {
      "provenance": [],
      "include_colab_link": true
    },
    "kernelspec": {
      "name": "python3",
      "display_name": "Python 3"
    },
    "language_info": {
      "name": "python"
    }
  },
  "cells": [
    {
      "cell_type": "markdown",
      "metadata": {
        "id": "view-in-github",
        "colab_type": "text"
      },
      "source": [
        "<a href=\"https://colab.research.google.com/github/evaristo2020/Python-Clases-UTEC-2025/blob/main/clase_8_Funciones_y_modularizaci%C3%B3n.ipynb\" target=\"_parent\"><img src=\"https://colab.research.google.com/assets/colab-badge.svg\" alt=\"Open In Colab\"/></a>"
      ]
    },
    {
      "cell_type": "markdown",
      "source": [
        "# Funciones y Modularización"
      ],
      "metadata": {
        "id": "-R1y5gdFuGNR"
      }
    },
    {
      "cell_type": "markdown",
      "source": [
        "**Definición**\n",
        "bloque reutilizable con def, parámetros y retorno.\n",
        "**Ventajas:** reutilización, legibilidad, testeo, separación de responsabilidades."
      ],
      "metadata": {
        "id": "xpMoX-xAt4rI"
      }
    },
    {
      "cell_type": "code",
      "source": [
        "def nombre(param1, param2=valor_por_defecto, *args, **kwargs):\n",
        "    \"\"\"Docstring: qué hace, args, return.\"\"\"\n",
        "    # cuerpo\n",
        "    return resultado"
      ],
      "metadata": {
        "id": "5JSPNFhMuNHF"
      },
      "execution_count": null,
      "outputs": []
    },
    {
      "cell_type": "markdown",
      "source": [
        "Ejemplo:"
      ],
      "metadata": {
        "id": "puaqqA4kuRy5"
      }
    },
    {
      "cell_type": "code",
      "source": [
        "def igv(monto, tasa=0.18):\n",
        "    resultado = monto * tasa\n",
        "    return resultado"
      ],
      "metadata": {
        "id": "MDp9XsSWuQwg"
      },
      "execution_count": null,
      "outputs": []
    },
    {
      "cell_type": "code",
      "source": [
        "igv(2000)"
      ],
      "metadata": {
        "colab": {
          "base_uri": "https://localhost:8080/"
        },
        "id": "hwNAIsvVCrVk",
        "outputId": "c48a2bd8-b769-4b07-9553-017a95200ac1"
      },
      "execution_count": null,
      "outputs": [
        {
          "output_type": "execute_result",
          "data": {
            "text/plain": [
              "360.0"
            ]
          },
          "metadata": {},
          "execution_count": 5
        }
      ]
    },
    {
      "cell_type": "markdown",
      "source": [
        "**Parámetros y argumentos**\n",
        "- Posicionales, por nombre (keywords), por defecto.\n",
        "- *args: tupla de posicionales extra. Permite pasar cualquier cantidad de argumentos posicionales a una función.\n",
        "Dentro de la función se recibe como una tupla.\n"
      ],
      "metadata": {
        "id": "dEzB0XMbuVbw"
      }
    },
    {
      "cell_type": "code",
      "source": [
        "def sumar_todos(*args):\n",
        "    return sum(args)\n",
        "\n",
        "print(sumar_todos(1, 2))        # 3\n",
        "print(sumar_todos(1, 2, 3, 4))  # 10"
      ],
      "metadata": {
        "id": "R6L2NhzA1gn4"
      },
      "execution_count": null,
      "outputs": []
    },
    {
      "cell_type": "code",
      "source": [
        "def sumar_todos(*args):\n",
        "    return sum(args)"
      ],
      "metadata": {
        "id": "PRjZk1aCHG2i"
      },
      "execution_count": null,
      "outputs": []
    },
    {
      "cell_type": "markdown",
      "source": [
        "ejemplo de una lista que contiene tuplas"
      ],
      "metadata": {
        "id": "lgVigvLJIx9P"
      }
    },
    {
      "cell_type": "code",
      "source": [
        "clientes = [(1500, 700),(1800, 2000), (3000, 100)]"
      ],
      "metadata": {
        "id": "rdmfpmgXIJig"
      },
      "execution_count": null,
      "outputs": []
    },
    {
      "cell_type": "code",
      "source": [
        "sumar_todos(1,3)"
      ],
      "metadata": {
        "colab": {
          "base_uri": "https://localhost:8080/"
        },
        "id": "1VzVkITLHIWu",
        "outputId": "67a94c7c-3145-4f65-de63-55fb74a59d70"
      },
      "execution_count": null,
      "outputs": [
        {
          "output_type": "execute_result",
          "data": {
            "text/plain": [
              "4"
            ]
          },
          "metadata": {},
          "execution_count": 7
        }
      ]
    },
    {
      "cell_type": "markdown",
      "source": [
        "- **kwargs: dict de nombrados extra.\n",
        "Permite pasar cualquier cantidad de argumentos nombrados (clave=valor).\n",
        "Dentro de la función se recibe como un diccionario."
      ],
      "metadata": {
        "id": "2Zl3XmcC1n53"
      }
    },
    {
      "cell_type": "markdown",
      "source": [
        "**versión con print**"
      ],
      "metadata": {
        "id": "zKCs6PuMKnzD"
      }
    },
    {
      "cell_type": "code",
      "source": [
        "def mostrar_info(**kwargs):\n",
        "    for clave, valor in kwargs.items():\n",
        "        print(f\"{clave}: {valor}\")"
      ],
      "metadata": {
        "id": "CRceq8HdJfE2"
      },
      "execution_count": null,
      "outputs": []
    },
    {
      "cell_type": "markdown",
      "source": [
        "**versión con return**"
      ],
      "metadata": {
        "id": "NAMF-UqRKrBr"
      }
    },
    {
      "cell_type": "code",
      "source": [
        "def mostrar_info2(**kwargs):\n",
        "    return [f\"{clave}:{valor}\" for clave, valor in kwargs.items()]"
      ],
      "metadata": {
        "id": "Pks5KxWhKuAx"
      },
      "execution_count": null,
      "outputs": []
    },
    {
      "cell_type": "code",
      "source": [
        "mostrar_info2(nombre=\"Alberto\", edad=31, deporte=\"running\")"
      ],
      "metadata": {
        "colab": {
          "base_uri": "https://localhost:8080/"
        },
        "id": "F0utsAz9LK09",
        "outputId": "fd650577-6954-487b-ab32-d7865fba70d9"
      },
      "execution_count": null,
      "outputs": [
        {
          "output_type": "execute_result",
          "data": {
            "text/plain": [
              "['nombre:Alberto', 'edad:31', 'deporte:running']"
            ]
          },
          "metadata": {},
          "execution_count": 12
        }
      ]
    },
    {
      "cell_type": "code",
      "source": [
        "mostrar_info(nombre=\"Alberto\", edad=31, deporte=\"running\")"
      ],
      "metadata": {
        "colab": {
          "base_uri": "https://localhost:8080/"
        },
        "id": "qzIuMCL61uTd",
        "outputId": "3223b1c7-2493-4d9e-8305-6731448baf15"
      },
      "execution_count": null,
      "outputs": [
        {
          "output_type": "stream",
          "name": "stdout",
          "text": [
            "nombre: Alberto\n",
            "edad: 31\n",
            "deporte: running\n"
          ]
        }
      ]
    },
    {
      "cell_type": "code",
      "source": [
        "mostrar_info(nombre = \"Diana\", talla = 1.7, peso = 65)"
      ],
      "metadata": {
        "colab": {
          "base_uri": "https://localhost:8080/"
        },
        "id": "143gZYHhJnN7",
        "outputId": "0cb01a0f-147c-4668-e74d-ada732624cd1"
      },
      "execution_count": null,
      "outputs": [
        {
          "output_type": "stream",
          "name": "stdout",
          "text": [
            "nombre: Diana\n",
            "talla: 1.7\n",
            "peso: 65\n"
          ]
        }
      ]
    },
    {
      "cell_type": "markdown",
      "source": [
        "Repaso items"
      ],
      "metadata": {
        "id": "po8ykofaMLmN"
      }
    },
    {
      "cell_type": "code",
      "source": [
        "persona = {\"nombre\": \"Alberto\", \"talla\": 32 }"
      ],
      "metadata": {
        "id": "_mRxBalRMNSc"
      },
      "execution_count": null,
      "outputs": []
    },
    {
      "cell_type": "code",
      "source": [
        "print(persona.items())"
      ],
      "metadata": {
        "colab": {
          "base_uri": "https://localhost:8080/"
        },
        "id": "omqaA_dxMgoc",
        "outputId": "b172c0b4-1b9d-4702-d922-344fd72d335c"
      },
      "execution_count": null,
      "outputs": [
        {
          "output_type": "stream",
          "name": "stdout",
          "text": [
            "dict_items([('nombre', 'Alberto'), ('talla', 32)])\n"
          ]
        }
      ]
    },
    {
      "cell_type": "code",
      "source": [
        "def funcion_mixta(*args, **kwargs):\n",
        "    print(\"Posicionales:\", args)\n",
        "    print(\"Nombrados:\", kwargs)\n",
        "\n",
        "funcion_mixta(10, 20, 30, nombre=\"Moni\", deporte=\"tenis\")\n"
      ],
      "metadata": {
        "colab": {
          "base_uri": "https://localhost:8080/"
        },
        "id": "nDGl9Puv11Zm",
        "outputId": "0a42637b-d0cb-4b35-a855-846df6df7c6e"
      },
      "execution_count": null,
      "outputs": [
        {
          "output_type": "stream",
          "name": "stdout",
          "text": [
            "Posicionales: (10, 20, 30)\n",
            "Nombrados: {'nombre': 'Moni', 'deporte': 'tenis'}\n"
          ]
        }
      ]
    },
    {
      "cell_type": "code",
      "source": [
        "funcion_mixta( 10, nombre = \"carlos\", 20, apellido = \"Perez\")"
      ],
      "metadata": {
        "colab": {
          "base_uri": "https://localhost:8080/",
          "height": 108
        },
        "id": "xygx6xykNVOb",
        "outputId": "18768ab3-e8fd-4191-e976-332c8084bd03"
      },
      "execution_count": null,
      "outputs": [
        {
          "output_type": "error",
          "ename": "SyntaxError",
          "evalue": "positional argument follows keyword argument (ipython-input-2429294292.py, line 1)",
          "traceback": [
            "\u001b[0;36m  File \u001b[0;32m\"/tmp/ipython-input-2429294292.py\"\u001b[0;36m, line \u001b[0;32m1\u001b[0m\n\u001b[0;31m    funcion_mixta( 10, nombre = \"carlos\", 20, apellido = \"Perez\")\u001b[0m\n\u001b[0m                                                                ^\u001b[0m\n\u001b[0;31mSyntaxError\u001b[0m\u001b[0;31m:\u001b[0m positional argument follows keyword argument\n"
          ]
        }
      ]
    },
    {
      "cell_type": "markdown",
      "source": [
        "Ámbito (scope) y retorno\n",
        "- Variables locales vs globales.\n",
        "- return termina la función y devuelve valor."
      ],
      "metadata": {
        "id": "gZktKsmmulbt"
      }
    },
    {
      "cell_type": "markdown",
      "source": [
        "**Buenas prácticas**\n",
        "- Nombres claros y verbales: calcular_cuota().\n",
        "- Una función = una responsabilidad.\n",
        "- Tipado opcional:"
      ],
      "metadata": {
        "id": "s3hFw2LQusKK"
      }
    },
    {
      "cell_type": "code",
      "source": [
        "def cuota(monto: float, tasa: float, n: int) -> float:\n",
        "    ..."
      ],
      "metadata": {
        "id": "pqHtfhvEu2V7"
      },
      "execution_count": null,
      "outputs": []
    },
    {
      "cell_type": "markdown",
      "source": [
        "- Docstrings y ejemplos simples.\n",
        "- No depender de globales, pasar datos como parámetros."
      ],
      "metadata": {
        "id": "jTAjZqoVu748"
      }
    },
    {
      "cell_type": "markdown",
      "source": [
        "**Ejemplo**\n",
        "\n",
        "Parámetros y retorno"
      ],
      "metadata": {
        "id": "nE2ZPeRyviym"
      }
    },
    {
      "cell_type": "code",
      "source": [
        "def neto(precio, igv=0.18, dscto=0.0):\n",
        "    return precio * (1 + igv) * (1 - dscto)"
      ],
      "metadata": {
        "id": "YrjrWbDWvpPg"
      },
      "execution_count": null,
      "outputs": []
    },
    {
      "cell_type": "code",
      "source": [
        "neto(30)"
      ],
      "metadata": {
        "colab": {
          "base_uri": "https://localhost:8080/"
        },
        "id": "RFPBhLINO5Sk",
        "outputId": "66407f94-deb2-454e-90a7-980600ff0990"
      },
      "execution_count": null,
      "outputs": [
        {
          "output_type": "execute_result",
          "data": {
            "text/plain": [
              "35.4"
            ]
          },
          "metadata": {},
          "execution_count": 20
        }
      ]
    },
    {
      "cell_type": "markdown",
      "source": [
        "**Ejercicios**"
      ],
      "metadata": {
        "id": "zYoRZ1Kxv_c0"
      }
    },
    {
      "cell_type": "markdown",
      "source": [
        "1. Define ingreso_anual(mensual) que devuelva mensual*12.\n"
      ],
      "metadata": {
        "id": "6L_nielmvrsp"
      }
    },
    {
      "cell_type": "markdown",
      "source": [
        "2. Crea cpc(gasto, clics) que devuelva 0 si clics=0, caso contrario: gasto/clics."
      ],
      "metadata": {
        "id": "xMMP4NmSv0wN"
      }
    },
    {
      "cell_type": "markdown",
      "source": [
        "**Ejemplo**\n",
        "\n",
        "*args y **kwargs"
      ],
      "metadata": {
        "id": "iDdha5khwDCF"
      }
    },
    {
      "cell_type": "code",
      "source": [
        "def suma(*nums):\n",
        "    tot = 0\n",
        "    for n in nums: tot += n\n",
        "    return tot"
      ],
      "metadata": {
        "id": "cOJtkjxYwMOG"
      },
      "execution_count": null,
      "outputs": []
    },
    {
      "cell_type": "code",
      "source": [
        "suma(1,2,3,56,100,20000)"
      ],
      "metadata": {
        "colab": {
          "base_uri": "https://localhost:8080/"
        },
        "id": "bcLiJP5uSCcE",
        "outputId": "a8d7951b-980e-469e-89e9-6abbb3d49188"
      },
      "execution_count": null,
      "outputs": [
        {
          "output_type": "execute_result",
          "data": {
            "text/plain": [
              "20162"
            ]
          },
          "metadata": {},
          "execution_count": 22
        }
      ]
    },
    {
      "cell_type": "markdown",
      "source": [
        "**Ejercicios**"
      ],
      "metadata": {
        "id": "E4KgdV3awSYD"
      }
    },
    {
      "cell_type": "markdown",
      "source": [
        "1. concat_ws(sep, *palabras) esta función debe retornar la unión de palabras con sep."
      ],
      "metadata": {
        "id": "Mtt8gNDKwUL2"
      }
    },
    {
      "cell_type": "code",
      "source": [],
      "metadata": {
        "id": "5WsKq4YMVem1"
      },
      "execution_count": null,
      "outputs": []
    },
    {
      "cell_type": "markdown",
      "source": [
        "2. configurar(**opciones) esta función debe retornar dict con opciones recibidas."
      ],
      "metadata": {
        "id": "rbK7mRO-wjp8"
      }
    },
    {
      "cell_type": "markdown",
      "source": [
        "**Ejemplo**\n",
        "\n",
        "Docstrings y indicación del tipo"
      ],
      "metadata": {
        "id": "Kj_XyUTIxUNs"
      }
    },
    {
      "cell_type": "code",
      "source": [
        "def tasa_efectiva(tasa_nom: float, m: int) -> float:\n",
        "    \"\"\"Convierte tasa nominal a efectiva mensual.\n",
        "    tasa_nom en decimal, m periodos al año.\"\"\"\n",
        "    return (1 + tasa_nom/m)**m - 1\n"
      ],
      "metadata": {
        "id": "ZiXU7fVCxd4F"
      },
      "execution_count": null,
      "outputs": []
    },
    {
      "cell_type": "code",
      "source": [
        "tasa_efectiva"
      ],
      "metadata": {
        "id": "S6U6i7RWYVTT"
      },
      "execution_count": null,
      "outputs": []
    },
    {
      "cell_type": "markdown",
      "source": [
        "**Ejercicios**"
      ],
      "metadata": {
        "id": "k33VpN32xgAz"
      }
    },
    {
      "cell_type": "markdown",
      "source": [
        "1. Documenta margen(ventas, costos) e indica que es tipo floats."
      ],
      "metadata": {
        "id": "N4XAknKLxjDE"
      }
    },
    {
      "cell_type": "markdown",
      "source": [
        "2. Define la función: es_premium(productos: int) e indica que es bool y retorna productos (>=3)."
      ],
      "metadata": {
        "id": "kIt1UH91xvMl"
      }
    },
    {
      "cell_type": "markdown",
      "source": [
        "**Modularización**\n",
        "- Módulo: archivo .py con funciones y constantes.\n",
        "- Paquete: carpeta con __init__.py y varios módulos.\n",
        "- Importar para reutilizar:"
      ],
      "metadata": {
        "id": "AFL_LrVMvGAa"
      }
    },
    {
      "cell_type": "code",
      "source": [
        "# en pagos.py\n",
        "def cuota(...): ...\n",
        "\n",
        "# en app.py\n",
        "from pagos import cuota\n"
      ],
      "metadata": {
        "id": "7E5Yy3eEvSd-"
      },
      "execution_count": null,
      "outputs": []
    },
    {
      "cell_type": "code",
      "source": [
        "%%writefile utilidades.py\n",
        "\n",
        "def saludar(nombre):\n",
        "    return f\"Hola, {nombre}!\"\n",
        "\n",
        "def sumar(a, b):\n",
        "    return a + b\n"
      ],
      "metadata": {
        "colab": {
          "base_uri": "https://localhost:8080/"
        },
        "id": "r6pL7-Vu0drS",
        "outputId": "210c2e85-400f-4aab-aa69-e21b42c68957"
      },
      "execution_count": null,
      "outputs": [
        {
          "output_type": "stream",
          "name": "stdout",
          "text": [
            "Writing utilidades.py\n"
          ]
        }
      ]
    },
    {
      "cell_type": "code",
      "source": [
        "import utilidades\n",
        "\n",
        "print(utilidades.saludar(\"Moni\"))\n",
        "print(utilidades.sumar(3, 4))\n"
      ],
      "metadata": {
        "colab": {
          "base_uri": "https://localhost:8080/"
        },
        "id": "u5Q0pkXd0hCP",
        "outputId": "f935cb56-468b-4509-c11d-d6d3a9040eb5"
      },
      "execution_count": null,
      "outputs": [
        {
          "output_type": "stream",
          "name": "stdout",
          "text": [
            "Hola, Moni!\n",
            "7\n"
          ]
        }
      ]
    },
    {
      "cell_type": "markdown",
      "source": [
        "- Ventajas: escalabilidad, mantenimiento, pruebas unitarias."
      ],
      "metadata": {
        "id": "SpJ62XqQvTu5"
      }
    },
    {
      "cell_type": "markdown",
      "source": [
        "**Ejercicios adicionales**"
      ],
      "metadata": {
        "id": "x9JZ7IiexJRW"
      }
    },
    {
      "cell_type": "markdown",
      "source": [
        "1. Crea util_texto.py con limpiar(s) que recorte espacios y pase a minúsculas; úsalo desde app.py."
      ],
      "metadata": {
        "id": "KTJrx7ZZy2c5"
      }
    },
    {
      "cell_type": "markdown",
      "source": [
        "2. Crea metrics.py con ctr(clics, impresiones) y cvr(conv, clics) y pruébalos."
      ],
      "metadata": {
        "id": "YpZVwAemy6mD"
      }
    },
    {
      "cell_type": "markdown",
      "source": [
        "3. Define la función: segmento(ingreso, productos) retorna “Alto” si ingreso>6000 o productos>=4, “Medio” si ingreso>3500, si no “Bajo”."
      ],
      "metadata": {
        "id": "EMn3gkqPzGJ6"
      }
    },
    {
      "cell_type": "markdown",
      "source": [
        "4. Crea funciones limpiar_nombre, normalizar_ingreso, clasificar_riesgo(deuda, ingreso). Ensambla en evaluar_cliente(dict)."
      ],
      "metadata": {
        "id": "J6HjTUqDzMXU"
      }
    }
  ]
}