{
  "nbformat": 4,
  "nbformat_minor": 0,
  "metadata": {
    "colab": {
      "provenance": [],
      "toc_visible": true,
      "include_colab_link": true
    },
    "kernelspec": {
      "name": "python3",
      "display_name": "Python 3"
    },
    "language_info": {
      "name": "python"
    }
  },
  "cells": [
    {
      "cell_type": "markdown",
      "metadata": {
        "id": "view-in-github",
        "colab_type": "text"
      },
      "source": [
        "<a href=\"https://colab.research.google.com/github/evaristo2020/Python-Clases-UTEC-2025/blob/main/%5B6%5D_Programa_Python_UTEC_Sesion08_Pandas.ipynb\" target=\"_parent\"><img src=\"https://colab.research.google.com/assets/colab-badge.svg\" alt=\"Open In Colab\"/></a>"
      ]
    },
    {
      "cell_type": "markdown",
      "source": [
        "# Pandas"
      ],
      "metadata": {
        "id": "mXZhIH0xv4as"
      }
    },
    {
      "cell_type": "markdown",
      "source": [
        "Conectar Google Colab con Google Drive"
      ],
      "metadata": {
        "id": "KQMQicipv7T1"
      }
    },
    {
      "cell_type": "code",
      "execution_count": null,
      "metadata": {
        "colab": {
          "base_uri": "https://localhost:8080/"
        },
        "id": "t-pJiKgrvNJY",
        "outputId": "813f8e5f-9e2c-4d55-b2b2-1b8866ce81df"
      },
      "outputs": [
        {
          "output_type": "stream",
          "name": "stdout",
          "text": [
            "Mounted at /gdrive\n"
          ]
        }
      ],
      "source": [
        "from google.colab import drive\n",
        "drive.mount('/gdrive')"
      ]
    },
    {
      "cell_type": "markdown",
      "source": [
        "Ruta de trabajo"
      ],
      "metadata": {
        "id": "3Q5D__AqxDlD"
      }
    },
    {
      "cell_type": "code",
      "source": [
        "# ruta = '/gdrive/My Drive/utec_py/'\n",
        "ruta = '/gdrive/My Drive/[UTEC_2025]/[Programa_Python_SET25]/ALUMNOS/[Pandas]/'"
      ],
      "metadata": {
        "id": "UWDOwnr5v5bL"
      },
      "execution_count": null,
      "outputs": []
    },
    {
      "cell_type": "markdown",
      "source": [
        "## [1] Leer un archivo CSV"
      ],
      "metadata": {
        "id": "bRbE94iAxrql"
      }
    },
    {
      "cell_type": "code",
      "source": [
        "dataset = 'students.csv'"
      ],
      "metadata": {
        "id": "Zu-pREKzxoqI"
      },
      "execution_count": null,
      "outputs": []
    },
    {
      "cell_type": "code",
      "source": [
        "import pandas as pd\n",
        "data_csv = pd.read_csv(ruta+dataset)"
      ],
      "metadata": {
        "id": "ITbupo8Ax4XI"
      },
      "execution_count": null,
      "outputs": []
    },
    {
      "cell_type": "code",
      "source": [
        "data_csv.head(3)"
      ],
      "metadata": {
        "colab": {
          "base_uri": "https://localhost:8080/",
          "height": 458
        },
        "id": "Ze84z47VyEPf",
        "outputId": "e1f745cb-c64c-4b9a-9a44-f432f391ced5"
      },
      "execution_count": null,
      "outputs": [
        {
          "output_type": "execute_result",
          "data": {
            "text/plain": [
              "   LOCATION CODE  COUNTY                                        AREA NAME  \\\n",
              "0          10402  ALBANY  RAVENA COEYMANS SELKIRK CENTRAL SCHOOL DISTRICT   \n",
              "1          10402  ALBANY  RAVENA COEYMANS SELKIRK CENTRAL SCHOOL DISTRICT   \n",
              "2          10402  ALBANY  RAVENA COEYMANS SELKIRK CENTRAL SCHOOL DISTRICT   \n",
              "\n",
              "                  REGION SCHOOL YEARS  NO. OVERWEIGHT PCT OVERWEIGHT  \\\n",
              "0  NORTHEASTERN NEW YORK    2012-2013           124.0          18.5%   \n",
              "1  NORTHEASTERN NEW YORK    2012-2013            74.0          19.2%   \n",
              "2  NORTHEASTERN NEW YORK    2012-2013            50.0          17.6%   \n",
              "\n",
              "   NO. OBESE PCT OBESE  NO. OVERWEIGHT OR OBESE PCT OVERWEIGHT OR OBESE  \\\n",
              "0      139.0     20.8%                    263.0                   39.3%   \n",
              "1       72.0     18.7%                    146.0                   37.9%   \n",
              "2       67.0     23.6%                    117.0                   41.2%   \n",
              "\n",
              "      GRADE LEVEL        AREA TYPE  STREET ADDRESS    CITY STATE  ZIP CODE  \\\n",
              "0  DISTRICT TOTAL  SCHOOL DISTRICT  15 MOUNTAIN RD  RAVENA    NY   12143.0   \n",
              "1      ELEMENTARY  SCHOOL DISTRICT  15 MOUNTAIN RD  RAVENA    NY   12143.0   \n",
              "2     MIDDLE/HIGH  SCHOOL DISTRICT  15 MOUNTAIN RD  RAVENA    NY   12143.0   \n",
              "\n",
              "                                          Location 1  \n",
              "0  15 MOUNTAIN RD\\nRAVENA, NY 12143\\n(42.47227638...  \n",
              "1  15 MOUNTAIN RD\\nRAVENA, NY 12143\\n(42.47227638...  \n",
              "2  15 MOUNTAIN RD\\nRAVENA, NY 12143\\n(42.47227638...  "
            ],
            "text/html": [
              "\n",
              "  <div id=\"df-294c30d0-0784-4bf7-96d2-4da79d0360fc\" class=\"colab-df-container\">\n",
              "    <div>\n",
              "<style scoped>\n",
              "    .dataframe tbody tr th:only-of-type {\n",
              "        vertical-align: middle;\n",
              "    }\n",
              "\n",
              "    .dataframe tbody tr th {\n",
              "        vertical-align: top;\n",
              "    }\n",
              "\n",
              "    .dataframe thead th {\n",
              "        text-align: right;\n",
              "    }\n",
              "</style>\n",
              "<table border=\"1\" class=\"dataframe\">\n",
              "  <thead>\n",
              "    <tr style=\"text-align: right;\">\n",
              "      <th></th>\n",
              "      <th>LOCATION CODE</th>\n",
              "      <th>COUNTY</th>\n",
              "      <th>AREA NAME</th>\n",
              "      <th>REGION</th>\n",
              "      <th>SCHOOL YEARS</th>\n",
              "      <th>NO. OVERWEIGHT</th>\n",
              "      <th>PCT OVERWEIGHT</th>\n",
              "      <th>NO. OBESE</th>\n",
              "      <th>PCT OBESE</th>\n",
              "      <th>NO. OVERWEIGHT OR OBESE</th>\n",
              "      <th>PCT OVERWEIGHT OR OBESE</th>\n",
              "      <th>GRADE LEVEL</th>\n",
              "      <th>AREA TYPE</th>\n",
              "      <th>STREET ADDRESS</th>\n",
              "      <th>CITY</th>\n",
              "      <th>STATE</th>\n",
              "      <th>ZIP CODE</th>\n",
              "      <th>Location 1</th>\n",
              "    </tr>\n",
              "  </thead>\n",
              "  <tbody>\n",
              "    <tr>\n",
              "      <th>0</th>\n",
              "      <td>10402</td>\n",
              "      <td>ALBANY</td>\n",
              "      <td>RAVENA COEYMANS SELKIRK CENTRAL SCHOOL DISTRICT</td>\n",
              "      <td>NORTHEASTERN NEW YORK</td>\n",
              "      <td>2012-2013</td>\n",
              "      <td>124.0</td>\n",
              "      <td>18.5%</td>\n",
              "      <td>139.0</td>\n",
              "      <td>20.8%</td>\n",
              "      <td>263.0</td>\n",
              "      <td>39.3%</td>\n",
              "      <td>DISTRICT TOTAL</td>\n",
              "      <td>SCHOOL DISTRICT</td>\n",
              "      <td>15 MOUNTAIN RD</td>\n",
              "      <td>RAVENA</td>\n",
              "      <td>NY</td>\n",
              "      <td>12143.0</td>\n",
              "      <td>15 MOUNTAIN RD\\nRAVENA, NY 12143\\n(42.47227638...</td>\n",
              "    </tr>\n",
              "    <tr>\n",
              "      <th>1</th>\n",
              "      <td>10402</td>\n",
              "      <td>ALBANY</td>\n",
              "      <td>RAVENA COEYMANS SELKIRK CENTRAL SCHOOL DISTRICT</td>\n",
              "      <td>NORTHEASTERN NEW YORK</td>\n",
              "      <td>2012-2013</td>\n",
              "      <td>74.0</td>\n",
              "      <td>19.2%</td>\n",
              "      <td>72.0</td>\n",
              "      <td>18.7%</td>\n",
              "      <td>146.0</td>\n",
              "      <td>37.9%</td>\n",
              "      <td>ELEMENTARY</td>\n",
              "      <td>SCHOOL DISTRICT</td>\n",
              "      <td>15 MOUNTAIN RD</td>\n",
              "      <td>RAVENA</td>\n",
              "      <td>NY</td>\n",
              "      <td>12143.0</td>\n",
              "      <td>15 MOUNTAIN RD\\nRAVENA, NY 12143\\n(42.47227638...</td>\n",
              "    </tr>\n",
              "    <tr>\n",
              "      <th>2</th>\n",
              "      <td>10402</td>\n",
              "      <td>ALBANY</td>\n",
              "      <td>RAVENA COEYMANS SELKIRK CENTRAL SCHOOL DISTRICT</td>\n",
              "      <td>NORTHEASTERN NEW YORK</td>\n",
              "      <td>2012-2013</td>\n",
              "      <td>50.0</td>\n",
              "      <td>17.6%</td>\n",
              "      <td>67.0</td>\n",
              "      <td>23.6%</td>\n",
              "      <td>117.0</td>\n",
              "      <td>41.2%</td>\n",
              "      <td>MIDDLE/HIGH</td>\n",
              "      <td>SCHOOL DISTRICT</td>\n",
              "      <td>15 MOUNTAIN RD</td>\n",
              "      <td>RAVENA</td>\n",
              "      <td>NY</td>\n",
              "      <td>12143.0</td>\n",
              "      <td>15 MOUNTAIN RD\\nRAVENA, NY 12143\\n(42.47227638...</td>\n",
              "    </tr>\n",
              "  </tbody>\n",
              "</table>\n",
              "</div>\n",
              "    <div class=\"colab-df-buttons\">\n",
              "\n",
              "  <div class=\"colab-df-container\">\n",
              "    <button class=\"colab-df-convert\" onclick=\"convertToInteractive('df-294c30d0-0784-4bf7-96d2-4da79d0360fc')\"\n",
              "            title=\"Convert this dataframe to an interactive table.\"\n",
              "            style=\"display:none;\">\n",
              "\n",
              "  <svg xmlns=\"http://www.w3.org/2000/svg\" height=\"24px\" viewBox=\"0 -960 960 960\">\n",
              "    <path d=\"M120-120v-720h720v720H120Zm60-500h600v-160H180v160Zm220 220h160v-160H400v160Zm0 220h160v-160H400v160ZM180-400h160v-160H180v160Zm440 0h160v-160H620v160ZM180-180h160v-160H180v160Zm440 0h160v-160H620v160Z\"/>\n",
              "  </svg>\n",
              "    </button>\n",
              "\n",
              "  <style>\n",
              "    .colab-df-container {\n",
              "      display:flex;\n",
              "      gap: 12px;\n",
              "    }\n",
              "\n",
              "    .colab-df-convert {\n",
              "      background-color: #E8F0FE;\n",
              "      border: none;\n",
              "      border-radius: 50%;\n",
              "      cursor: pointer;\n",
              "      display: none;\n",
              "      fill: #1967D2;\n",
              "      height: 32px;\n",
              "      padding: 0 0 0 0;\n",
              "      width: 32px;\n",
              "    }\n",
              "\n",
              "    .colab-df-convert:hover {\n",
              "      background-color: #E2EBFA;\n",
              "      box-shadow: 0px 1px 2px rgba(60, 64, 67, 0.3), 0px 1px 3px 1px rgba(60, 64, 67, 0.15);\n",
              "      fill: #174EA6;\n",
              "    }\n",
              "\n",
              "    .colab-df-buttons div {\n",
              "      margin-bottom: 4px;\n",
              "    }\n",
              "\n",
              "    [theme=dark] .colab-df-convert {\n",
              "      background-color: #3B4455;\n",
              "      fill: #D2E3FC;\n",
              "    }\n",
              "\n",
              "    [theme=dark] .colab-df-convert:hover {\n",
              "      background-color: #434B5C;\n",
              "      box-shadow: 0px 1px 3px 1px rgba(0, 0, 0, 0.15);\n",
              "      filter: drop-shadow(0px 1px 2px rgba(0, 0, 0, 0.3));\n",
              "      fill: #FFFFFF;\n",
              "    }\n",
              "  </style>\n",
              "\n",
              "    <script>\n",
              "      const buttonEl =\n",
              "        document.querySelector('#df-294c30d0-0784-4bf7-96d2-4da79d0360fc button.colab-df-convert');\n",
              "      buttonEl.style.display =\n",
              "        google.colab.kernel.accessAllowed ? 'block' : 'none';\n",
              "\n",
              "      async function convertToInteractive(key) {\n",
              "        const element = document.querySelector('#df-294c30d0-0784-4bf7-96d2-4da79d0360fc');\n",
              "        const dataTable =\n",
              "          await google.colab.kernel.invokeFunction('convertToInteractive',\n",
              "                                                    [key], {});\n",
              "        if (!dataTable) return;\n",
              "\n",
              "        const docLinkHtml = 'Like what you see? Visit the ' +\n",
              "          '<a target=\"_blank\" href=https://colab.research.google.com/notebooks/data_table.ipynb>data table notebook</a>'\n",
              "          + ' to learn more about interactive tables.';\n",
              "        element.innerHTML = '';\n",
              "        dataTable['output_type'] = 'display_data';\n",
              "        await google.colab.output.renderOutput(dataTable, element);\n",
              "        const docLink = document.createElement('div');\n",
              "        docLink.innerHTML = docLinkHtml;\n",
              "        element.appendChild(docLink);\n",
              "      }\n",
              "    </script>\n",
              "  </div>\n",
              "\n",
              "\n",
              "    <div id=\"df-a2d08cb3-3e59-4947-9451-99a60c68e1e7\">\n",
              "      <button class=\"colab-df-quickchart\" onclick=\"quickchart('df-a2d08cb3-3e59-4947-9451-99a60c68e1e7')\"\n",
              "                title=\"Suggest charts\"\n",
              "                style=\"display:none;\">\n",
              "\n",
              "<svg xmlns=\"http://www.w3.org/2000/svg\" height=\"24px\"viewBox=\"0 0 24 24\"\n",
              "     width=\"24px\">\n",
              "    <g>\n",
              "        <path d=\"M19 3H5c-1.1 0-2 .9-2 2v14c0 1.1.9 2 2 2h14c1.1 0 2-.9 2-2V5c0-1.1-.9-2-2-2zM9 17H7v-7h2v7zm4 0h-2V7h2v10zm4 0h-2v-4h2v4z\"/>\n",
              "    </g>\n",
              "</svg>\n",
              "      </button>\n",
              "\n",
              "<style>\n",
              "  .colab-df-quickchart {\n",
              "      --bg-color: #E8F0FE;\n",
              "      --fill-color: #1967D2;\n",
              "      --hover-bg-color: #E2EBFA;\n",
              "      --hover-fill-color: #174EA6;\n",
              "      --disabled-fill-color: #AAA;\n",
              "      --disabled-bg-color: #DDD;\n",
              "  }\n",
              "\n",
              "  [theme=dark] .colab-df-quickchart {\n",
              "      --bg-color: #3B4455;\n",
              "      --fill-color: #D2E3FC;\n",
              "      --hover-bg-color: #434B5C;\n",
              "      --hover-fill-color: #FFFFFF;\n",
              "      --disabled-bg-color: #3B4455;\n",
              "      --disabled-fill-color: #666;\n",
              "  }\n",
              "\n",
              "  .colab-df-quickchart {\n",
              "    background-color: var(--bg-color);\n",
              "    border: none;\n",
              "    border-radius: 50%;\n",
              "    cursor: pointer;\n",
              "    display: none;\n",
              "    fill: var(--fill-color);\n",
              "    height: 32px;\n",
              "    padding: 0;\n",
              "    width: 32px;\n",
              "  }\n",
              "\n",
              "  .colab-df-quickchart:hover {\n",
              "    background-color: var(--hover-bg-color);\n",
              "    box-shadow: 0 1px 2px rgba(60, 64, 67, 0.3), 0 1px 3px 1px rgba(60, 64, 67, 0.15);\n",
              "    fill: var(--button-hover-fill-color);\n",
              "  }\n",
              "\n",
              "  .colab-df-quickchart-complete:disabled,\n",
              "  .colab-df-quickchart-complete:disabled:hover {\n",
              "    background-color: var(--disabled-bg-color);\n",
              "    fill: var(--disabled-fill-color);\n",
              "    box-shadow: none;\n",
              "  }\n",
              "\n",
              "  .colab-df-spinner {\n",
              "    border: 2px solid var(--fill-color);\n",
              "    border-color: transparent;\n",
              "    border-bottom-color: var(--fill-color);\n",
              "    animation:\n",
              "      spin 1s steps(1) infinite;\n",
              "  }\n",
              "\n",
              "  @keyframes spin {\n",
              "    0% {\n",
              "      border-color: transparent;\n",
              "      border-bottom-color: var(--fill-color);\n",
              "      border-left-color: var(--fill-color);\n",
              "    }\n",
              "    20% {\n",
              "      border-color: transparent;\n",
              "      border-left-color: var(--fill-color);\n",
              "      border-top-color: var(--fill-color);\n",
              "    }\n",
              "    30% {\n",
              "      border-color: transparent;\n",
              "      border-left-color: var(--fill-color);\n",
              "      border-top-color: var(--fill-color);\n",
              "      border-right-color: var(--fill-color);\n",
              "    }\n",
              "    40% {\n",
              "      border-color: transparent;\n",
              "      border-right-color: var(--fill-color);\n",
              "      border-top-color: var(--fill-color);\n",
              "    }\n",
              "    60% {\n",
              "      border-color: transparent;\n",
              "      border-right-color: var(--fill-color);\n",
              "    }\n",
              "    80% {\n",
              "      border-color: transparent;\n",
              "      border-right-color: var(--fill-color);\n",
              "      border-bottom-color: var(--fill-color);\n",
              "    }\n",
              "    90% {\n",
              "      border-color: transparent;\n",
              "      border-bottom-color: var(--fill-color);\n",
              "    }\n",
              "  }\n",
              "</style>\n",
              "\n",
              "      <script>\n",
              "        async function quickchart(key) {\n",
              "          const quickchartButtonEl =\n",
              "            document.querySelector('#' + key + ' button');\n",
              "          quickchartButtonEl.disabled = true;  // To prevent multiple clicks.\n",
              "          quickchartButtonEl.classList.add('colab-df-spinner');\n",
              "          try {\n",
              "            const charts = await google.colab.kernel.invokeFunction(\n",
              "                'suggestCharts', [key], {});\n",
              "          } catch (error) {\n",
              "            console.error('Error during call to suggestCharts:', error);\n",
              "          }\n",
              "          quickchartButtonEl.classList.remove('colab-df-spinner');\n",
              "          quickchartButtonEl.classList.add('colab-df-quickchart-complete');\n",
              "        }\n",
              "        (() => {\n",
              "          let quickchartButtonEl =\n",
              "            document.querySelector('#df-a2d08cb3-3e59-4947-9451-99a60c68e1e7 button');\n",
              "          quickchartButtonEl.style.display =\n",
              "            google.colab.kernel.accessAllowed ? 'block' : 'none';\n",
              "        })();\n",
              "      </script>\n",
              "    </div>\n",
              "\n",
              "    </div>\n",
              "  </div>\n"
            ],
            "application/vnd.google.colaboratory.intrinsic+json": {
              "type": "dataframe",
              "variable_name": "data_csv",
              "summary": "{\n  \"name\": \"data_csv\",\n  \"rows\": 3270,\n  \"fields\": [\n    {\n      \"column\": \"LOCATION CODE\",\n      \"properties\": {\n        \"dtype\": \"number\",\n        \"std\": 220310,\n        \"min\": 0,\n        \"max\": 700000,\n        \"num_unique_values\": 745,\n        \"samples\": [\n          472506,\n          580205,\n          210302\n        ],\n        \"semantic_type\": \"\",\n        \"description\": \"\"\n      }\n    },\n    {\n      \"column\": \"COUNTY\",\n      \"properties\": {\n        \"dtype\": \"category\",\n        \"num_unique_values\": 58,\n        \"samples\": [\n          \"ALBANY\",\n          \"CHAUTAUQUA\",\n          \"OSWEGO\"\n        ],\n        \"semantic_type\": \"\",\n        \"description\": \"\"\n      }\n    },\n    {\n      \"column\": \"AREA NAME\",\n      \"properties\": {\n        \"dtype\": \"category\",\n        \"num_unique_values\": 745,\n        \"samples\": [\n          \"WORCESTER CENTRAL SCHOOL\",\n          \"SACHEM CENT SCH AT HOLBROOK\",\n          \"WEST CANADA VALLEY CENT SCH\"\n        ],\n        \"semantic_type\": \"\",\n        \"description\": \"\"\n      }\n    },\n    {\n      \"column\": \"REGION\",\n      \"properties\": {\n        \"dtype\": \"category\",\n        \"num_unique_values\": 8,\n        \"samples\": [\n          \"WESTERN NEW YORK\",\n          \"HUDSON VALLEY\",\n          \"NORTHEASTERN NEW YORK\"\n        ],\n        \"semantic_type\": \"\",\n        \"description\": \"\"\n      }\n    },\n    {\n      \"column\": \"SCHOOL YEARS\",\n      \"properties\": {\n        \"dtype\": \"category\",\n        \"num_unique_values\": 2,\n        \"samples\": [\n          \"2010-2012\",\n          \"2012-2013\"\n        ],\n        \"semantic_type\": \"\",\n        \"description\": \"\"\n      }\n    },\n    {\n      \"column\": \"NO. OVERWEIGHT\",\n      \"properties\": {\n        \"dtype\": \"number\",\n        \"std\": 1914.8365254320095,\n        \"min\": 5.0,\n        \"max\": 77813.0,\n        \"num_unique_values\": 470,\n        \"samples\": [\n          65.0,\n          73.0\n        ],\n        \"semantic_type\": \"\",\n        \"description\": \"\"\n      }\n    },\n    {\n      \"column\": \"PCT OVERWEIGHT\",\n      \"properties\": {\n        \"dtype\": \"category\",\n        \"num_unique_values\": 243,\n        \"samples\": [\n          \"15.8%\",\n          \"15.9%\"\n        ],\n        \"semantic_type\": \"\",\n        \"description\": \"\"\n      }\n    },\n    {\n      \"column\": \"NO. OBESE\",\n      \"properties\": {\n        \"dtype\": \"number\",\n        \"std\": 2076.638147507342,\n        \"min\": 5.0,\n        \"max\": 84578.0,\n        \"num_unique_values\": 495,\n        \"samples\": [\n          463.0,\n          96.0\n        ],\n        \"semantic_type\": \"\",\n        \"description\": \"\"\n      }\n    },\n    {\n      \"column\": \"PCT OBESE\",\n      \"properties\": {\n        \"dtype\": \"category\",\n        \"num_unique_values\": 322,\n        \"samples\": [\n          \"7.7%\",\n          \"15.4%\"\n        ],\n        \"semantic_type\": \"\",\n        \"description\": \"\"\n      }\n    },\n    {\n      \"column\": \"NO. OVERWEIGHT OR OBESE\",\n      \"properties\": {\n        \"dtype\": \"number\",\n        \"std\": 3959.958869502371,\n        \"min\": 5.0,\n        \"max\": 162391.0,\n        \"num_unique_values\": 707,\n        \"samples\": [\n          588.0,\n          665.0\n        ],\n        \"semantic_type\": \"\",\n        \"description\": \"\"\n      }\n    },\n    {\n      \"column\": \"PCT OVERWEIGHT OR OBESE\",\n      \"properties\": {\n        \"dtype\": \"category\",\n        \"num_unique_values\": 415,\n        \"samples\": [\n          \"40.9%\",\n          \"26.8%\"\n        ],\n        \"semantic_type\": \"\",\n        \"description\": \"\"\n      }\n    },\n    {\n      \"column\": \"GRADE LEVEL\",\n      \"properties\": {\n        \"dtype\": \"category\",\n        \"num_unique_values\": 3,\n        \"samples\": [\n          \"DISTRICT TOTAL\",\n          \"ELEMENTARY\"\n        ],\n        \"semantic_type\": \"\",\n        \"description\": \"\"\n      }\n    },\n    {\n      \"column\": \"AREA TYPE\",\n      \"properties\": {\n        \"dtype\": \"category\",\n        \"num_unique_values\": 4,\n        \"samples\": [\n          \"STATEWIDE (EXCLUDING NYC)\",\n          \"REGION\"\n        ],\n        \"semantic_type\": \"\",\n        \"description\": \"\"\n      }\n    },\n    {\n      \"column\": \"STREET ADDRESS\",\n      \"properties\": {\n        \"dtype\": \"category\",\n        \"num_unique_values\": 693,\n        \"samples\": [\n          \"425 E MAIN ST\",\n          \"6200 ONTARIO CTR RD\"\n        ],\n        \"semantic_type\": \"\",\n        \"description\": \"\"\n      }\n    },\n    {\n      \"column\": \"CITY\",\n      \"properties\": {\n        \"dtype\": \"category\",\n        \"num_unique_values\": 636,\n        \"samples\": [\n          \"GREENPORT\",\n          \"SHRUB OAK\"\n        ],\n        \"semantic_type\": \"\",\n        \"description\": \"\"\n      }\n    },\n    {\n      \"column\": \"STATE\",\n      \"properties\": {\n        \"dtype\": \"category\",\n        \"num_unique_values\": 1,\n        \"samples\": [\n          \"NY\"\n        ],\n        \"semantic_type\": \"\",\n        \"description\": \"\"\n      }\n    },\n    {\n      \"column\": \"ZIP CODE\",\n      \"properties\": {\n        \"dtype\": \"number\",\n        \"std\": 1262.478622502217,\n        \"min\": 6390.0,\n        \"max\": 14905.0,\n        \"num_unique_values\": 643,\n        \"samples\": [\n          10504.0\n        ],\n        \"semantic_type\": \"\",\n        \"description\": \"\"\n      }\n    },\n    {\n      \"column\": \"Location 1\",\n      \"properties\": {\n        \"dtype\": \"category\",\n        \"num_unique_values\": 1082,\n        \"samples\": [\n          \"194 HAIGHT RD\\nAMENIA, NY 12501\\n(41.88746340600045, -73.53434375299963)\"\n        ],\n        \"semantic_type\": \"\",\n        \"description\": \"\"\n      }\n    }\n  ]\n}"
            }
          },
          "metadata": {},
          "execution_count": 5
        }
      ]
    },
    {
      "cell_type": "code",
      "source": [
        "print(f\"El tipo de dato es \\n{type(data_csv)}\")"
      ],
      "metadata": {
        "colab": {
          "base_uri": "https://localhost:8080/"
        },
        "id": "N-FtiDKWzYln",
        "outputId": "307b6b9d-b3ae-4c86-b0e8-f6cfd8e70c32"
      },
      "execution_count": null,
      "outputs": [
        {
          "output_type": "stream",
          "name": "stdout",
          "text": [
            "El tipo de dato es \n",
            "<class 'pandas.core.frame.DataFrame'>\n"
          ]
        }
      ]
    },
    {
      "cell_type": "markdown",
      "source": [
        "## [2] Leer un archivo excel"
      ],
      "metadata": {
        "id": "qkX9ZCrKyrWI"
      }
    },
    {
      "cell_type": "code",
      "source": [
        "dataset = 'students.xls'"
      ],
      "metadata": {
        "id": "5PjbPxlUyKod"
      },
      "execution_count": null,
      "outputs": []
    },
    {
      "cell_type": "code",
      "source": [
        "data_xlsx = pd.read_excel(ruta+dataset)\n",
        "data_xlsx.head(2)"
      ],
      "metadata": {
        "colab": {
          "base_uri": "https://localhost:8080/",
          "height": 340
        },
        "id": "koRFv9EZy65L",
        "outputId": "bdaa8e6b-b39d-4b27-8c20-a57213583d14"
      },
      "execution_count": null,
      "outputs": [
        {
          "output_type": "execute_result",
          "data": {
            "text/plain": [
              "   LOCATION CODE  COUNTY                                        AREA NAME  \\\n",
              "0          10402  ALBANY  RAVENA COEYMANS SELKIRK CENTRAL SCHOOL DISTRICT   \n",
              "1          10402  ALBANY  RAVENA COEYMANS SELKIRK CENTRAL SCHOOL DISTRICT   \n",
              "\n",
              "                  REGION SCHOOL YEARS  NO. OVERWEIGHT  PCT OVERWEIGHT  \\\n",
              "0  NORTHEASTERN NEW YORK    2012-2013           124.0           0.185   \n",
              "1  NORTHEASTERN NEW YORK    2012-2013            74.0           0.192   \n",
              "\n",
              "   NO. OBESE  PCT OBESE  NO. OVERWEIGHT OR OBESE  PCT OVERWEIGHT OR OBESE  \\\n",
              "0      139.0      0.208                    263.0                    0.393   \n",
              "1       72.0      0.187                    146.0                    0.379   \n",
              "\n",
              "      GRADE LEVEL        AREA TYPE  STREET ADDRESS    CITY STATE  ZIP CODE  \\\n",
              "0  DISTRICT TOTAL  SCHOOL DISTRICT  15 MOUNTAIN RD  RAVENA    NY   12143.0   \n",
              "1      ELEMENTARY  SCHOOL DISTRICT  15 MOUNTAIN RD  RAVENA    NY   12143.0   \n",
              "\n",
              "                                          Location 1  \n",
              "0  15 MOUNTAIN RD\\nRAVENA, NY 12143\\n(42.47227638...  \n",
              "1  15 MOUNTAIN RD\\nRAVENA, NY 12143\\n(42.47227638...  "
            ],
            "text/html": [
              "\n",
              "  <div id=\"df-35718823-d466-400a-af1b-8ec0bc82d0d0\" class=\"colab-df-container\">\n",
              "    <div>\n",
              "<style scoped>\n",
              "    .dataframe tbody tr th:only-of-type {\n",
              "        vertical-align: middle;\n",
              "    }\n",
              "\n",
              "    .dataframe tbody tr th {\n",
              "        vertical-align: top;\n",
              "    }\n",
              "\n",
              "    .dataframe thead th {\n",
              "        text-align: right;\n",
              "    }\n",
              "</style>\n",
              "<table border=\"1\" class=\"dataframe\">\n",
              "  <thead>\n",
              "    <tr style=\"text-align: right;\">\n",
              "      <th></th>\n",
              "      <th>LOCATION CODE</th>\n",
              "      <th>COUNTY</th>\n",
              "      <th>AREA NAME</th>\n",
              "      <th>REGION</th>\n",
              "      <th>SCHOOL YEARS</th>\n",
              "      <th>NO. OVERWEIGHT</th>\n",
              "      <th>PCT OVERWEIGHT</th>\n",
              "      <th>NO. OBESE</th>\n",
              "      <th>PCT OBESE</th>\n",
              "      <th>NO. OVERWEIGHT OR OBESE</th>\n",
              "      <th>PCT OVERWEIGHT OR OBESE</th>\n",
              "      <th>GRADE LEVEL</th>\n",
              "      <th>AREA TYPE</th>\n",
              "      <th>STREET ADDRESS</th>\n",
              "      <th>CITY</th>\n",
              "      <th>STATE</th>\n",
              "      <th>ZIP CODE</th>\n",
              "      <th>Location 1</th>\n",
              "    </tr>\n",
              "  </thead>\n",
              "  <tbody>\n",
              "    <tr>\n",
              "      <th>0</th>\n",
              "      <td>10402</td>\n",
              "      <td>ALBANY</td>\n",
              "      <td>RAVENA COEYMANS SELKIRK CENTRAL SCHOOL DISTRICT</td>\n",
              "      <td>NORTHEASTERN NEW YORK</td>\n",
              "      <td>2012-2013</td>\n",
              "      <td>124.0</td>\n",
              "      <td>0.185</td>\n",
              "      <td>139.0</td>\n",
              "      <td>0.208</td>\n",
              "      <td>263.0</td>\n",
              "      <td>0.393</td>\n",
              "      <td>DISTRICT TOTAL</td>\n",
              "      <td>SCHOOL DISTRICT</td>\n",
              "      <td>15 MOUNTAIN RD</td>\n",
              "      <td>RAVENA</td>\n",
              "      <td>NY</td>\n",
              "      <td>12143.0</td>\n",
              "      <td>15 MOUNTAIN RD\\nRAVENA, NY 12143\\n(42.47227638...</td>\n",
              "    </tr>\n",
              "    <tr>\n",
              "      <th>1</th>\n",
              "      <td>10402</td>\n",
              "      <td>ALBANY</td>\n",
              "      <td>RAVENA COEYMANS SELKIRK CENTRAL SCHOOL DISTRICT</td>\n",
              "      <td>NORTHEASTERN NEW YORK</td>\n",
              "      <td>2012-2013</td>\n",
              "      <td>74.0</td>\n",
              "      <td>0.192</td>\n",
              "      <td>72.0</td>\n",
              "      <td>0.187</td>\n",
              "      <td>146.0</td>\n",
              "      <td>0.379</td>\n",
              "      <td>ELEMENTARY</td>\n",
              "      <td>SCHOOL DISTRICT</td>\n",
              "      <td>15 MOUNTAIN RD</td>\n",
              "      <td>RAVENA</td>\n",
              "      <td>NY</td>\n",
              "      <td>12143.0</td>\n",
              "      <td>15 MOUNTAIN RD\\nRAVENA, NY 12143\\n(42.47227638...</td>\n",
              "    </tr>\n",
              "  </tbody>\n",
              "</table>\n",
              "</div>\n",
              "    <div class=\"colab-df-buttons\">\n",
              "\n",
              "  <div class=\"colab-df-container\">\n",
              "    <button class=\"colab-df-convert\" onclick=\"convertToInteractive('df-35718823-d466-400a-af1b-8ec0bc82d0d0')\"\n",
              "            title=\"Convert this dataframe to an interactive table.\"\n",
              "            style=\"display:none;\">\n",
              "\n",
              "  <svg xmlns=\"http://www.w3.org/2000/svg\" height=\"24px\" viewBox=\"0 -960 960 960\">\n",
              "    <path d=\"M120-120v-720h720v720H120Zm60-500h600v-160H180v160Zm220 220h160v-160H400v160Zm0 220h160v-160H400v160ZM180-400h160v-160H180v160Zm440 0h160v-160H620v160ZM180-180h160v-160H180v160Zm440 0h160v-160H620v160Z\"/>\n",
              "  </svg>\n",
              "    </button>\n",
              "\n",
              "  <style>\n",
              "    .colab-df-container {\n",
              "      display:flex;\n",
              "      gap: 12px;\n",
              "    }\n",
              "\n",
              "    .colab-df-convert {\n",
              "      background-color: #E8F0FE;\n",
              "      border: none;\n",
              "      border-radius: 50%;\n",
              "      cursor: pointer;\n",
              "      display: none;\n",
              "      fill: #1967D2;\n",
              "      height: 32px;\n",
              "      padding: 0 0 0 0;\n",
              "      width: 32px;\n",
              "    }\n",
              "\n",
              "    .colab-df-convert:hover {\n",
              "      background-color: #E2EBFA;\n",
              "      box-shadow: 0px 1px 2px rgba(60, 64, 67, 0.3), 0px 1px 3px 1px rgba(60, 64, 67, 0.15);\n",
              "      fill: #174EA6;\n",
              "    }\n",
              "\n",
              "    .colab-df-buttons div {\n",
              "      margin-bottom: 4px;\n",
              "    }\n",
              "\n",
              "    [theme=dark] .colab-df-convert {\n",
              "      background-color: #3B4455;\n",
              "      fill: #D2E3FC;\n",
              "    }\n",
              "\n",
              "    [theme=dark] .colab-df-convert:hover {\n",
              "      background-color: #434B5C;\n",
              "      box-shadow: 0px 1px 3px 1px rgba(0, 0, 0, 0.15);\n",
              "      filter: drop-shadow(0px 1px 2px rgba(0, 0, 0, 0.3));\n",
              "      fill: #FFFFFF;\n",
              "    }\n",
              "  </style>\n",
              "\n",
              "    <script>\n",
              "      const buttonEl =\n",
              "        document.querySelector('#df-35718823-d466-400a-af1b-8ec0bc82d0d0 button.colab-df-convert');\n",
              "      buttonEl.style.display =\n",
              "        google.colab.kernel.accessAllowed ? 'block' : 'none';\n",
              "\n",
              "      async function convertToInteractive(key) {\n",
              "        const element = document.querySelector('#df-35718823-d466-400a-af1b-8ec0bc82d0d0');\n",
              "        const dataTable =\n",
              "          await google.colab.kernel.invokeFunction('convertToInteractive',\n",
              "                                                    [key], {});\n",
              "        if (!dataTable) return;\n",
              "\n",
              "        const docLinkHtml = 'Like what you see? Visit the ' +\n",
              "          '<a target=\"_blank\" href=https://colab.research.google.com/notebooks/data_table.ipynb>data table notebook</a>'\n",
              "          + ' to learn more about interactive tables.';\n",
              "        element.innerHTML = '';\n",
              "        dataTable['output_type'] = 'display_data';\n",
              "        await google.colab.output.renderOutput(dataTable, element);\n",
              "        const docLink = document.createElement('div');\n",
              "        docLink.innerHTML = docLinkHtml;\n",
              "        element.appendChild(docLink);\n",
              "      }\n",
              "    </script>\n",
              "  </div>\n",
              "\n",
              "\n",
              "    <div id=\"df-8fa258e2-7731-4572-b480-a4b5e1f25aae\">\n",
              "      <button class=\"colab-df-quickchart\" onclick=\"quickchart('df-8fa258e2-7731-4572-b480-a4b5e1f25aae')\"\n",
              "                title=\"Suggest charts\"\n",
              "                style=\"display:none;\">\n",
              "\n",
              "<svg xmlns=\"http://www.w3.org/2000/svg\" height=\"24px\"viewBox=\"0 0 24 24\"\n",
              "     width=\"24px\">\n",
              "    <g>\n",
              "        <path d=\"M19 3H5c-1.1 0-2 .9-2 2v14c0 1.1.9 2 2 2h14c1.1 0 2-.9 2-2V5c0-1.1-.9-2-2-2zM9 17H7v-7h2v7zm4 0h-2V7h2v10zm4 0h-2v-4h2v4z\"/>\n",
              "    </g>\n",
              "</svg>\n",
              "      </button>\n",
              "\n",
              "<style>\n",
              "  .colab-df-quickchart {\n",
              "      --bg-color: #E8F0FE;\n",
              "      --fill-color: #1967D2;\n",
              "      --hover-bg-color: #E2EBFA;\n",
              "      --hover-fill-color: #174EA6;\n",
              "      --disabled-fill-color: #AAA;\n",
              "      --disabled-bg-color: #DDD;\n",
              "  }\n",
              "\n",
              "  [theme=dark] .colab-df-quickchart {\n",
              "      --bg-color: #3B4455;\n",
              "      --fill-color: #D2E3FC;\n",
              "      --hover-bg-color: #434B5C;\n",
              "      --hover-fill-color: #FFFFFF;\n",
              "      --disabled-bg-color: #3B4455;\n",
              "      --disabled-fill-color: #666;\n",
              "  }\n",
              "\n",
              "  .colab-df-quickchart {\n",
              "    background-color: var(--bg-color);\n",
              "    border: none;\n",
              "    border-radius: 50%;\n",
              "    cursor: pointer;\n",
              "    display: none;\n",
              "    fill: var(--fill-color);\n",
              "    height: 32px;\n",
              "    padding: 0;\n",
              "    width: 32px;\n",
              "  }\n",
              "\n",
              "  .colab-df-quickchart:hover {\n",
              "    background-color: var(--hover-bg-color);\n",
              "    box-shadow: 0 1px 2px rgba(60, 64, 67, 0.3), 0 1px 3px 1px rgba(60, 64, 67, 0.15);\n",
              "    fill: var(--button-hover-fill-color);\n",
              "  }\n",
              "\n",
              "  .colab-df-quickchart-complete:disabled,\n",
              "  .colab-df-quickchart-complete:disabled:hover {\n",
              "    background-color: var(--disabled-bg-color);\n",
              "    fill: var(--disabled-fill-color);\n",
              "    box-shadow: none;\n",
              "  }\n",
              "\n",
              "  .colab-df-spinner {\n",
              "    border: 2px solid var(--fill-color);\n",
              "    border-color: transparent;\n",
              "    border-bottom-color: var(--fill-color);\n",
              "    animation:\n",
              "      spin 1s steps(1) infinite;\n",
              "  }\n",
              "\n",
              "  @keyframes spin {\n",
              "    0% {\n",
              "      border-color: transparent;\n",
              "      border-bottom-color: var(--fill-color);\n",
              "      border-left-color: var(--fill-color);\n",
              "    }\n",
              "    20% {\n",
              "      border-color: transparent;\n",
              "      border-left-color: var(--fill-color);\n",
              "      border-top-color: var(--fill-color);\n",
              "    }\n",
              "    30% {\n",
              "      border-color: transparent;\n",
              "      border-left-color: var(--fill-color);\n",
              "      border-top-color: var(--fill-color);\n",
              "      border-right-color: var(--fill-color);\n",
              "    }\n",
              "    40% {\n",
              "      border-color: transparent;\n",
              "      border-right-color: var(--fill-color);\n",
              "      border-top-color: var(--fill-color);\n",
              "    }\n",
              "    60% {\n",
              "      border-color: transparent;\n",
              "      border-right-color: var(--fill-color);\n",
              "    }\n",
              "    80% {\n",
              "      border-color: transparent;\n",
              "      border-right-color: var(--fill-color);\n",
              "      border-bottom-color: var(--fill-color);\n",
              "    }\n",
              "    90% {\n",
              "      border-color: transparent;\n",
              "      border-bottom-color: var(--fill-color);\n",
              "    }\n",
              "  }\n",
              "</style>\n",
              "\n",
              "      <script>\n",
              "        async function quickchart(key) {\n",
              "          const quickchartButtonEl =\n",
              "            document.querySelector('#' + key + ' button');\n",
              "          quickchartButtonEl.disabled = true;  // To prevent multiple clicks.\n",
              "          quickchartButtonEl.classList.add('colab-df-spinner');\n",
              "          try {\n",
              "            const charts = await google.colab.kernel.invokeFunction(\n",
              "                'suggestCharts', [key], {});\n",
              "          } catch (error) {\n",
              "            console.error('Error during call to suggestCharts:', error);\n",
              "          }\n",
              "          quickchartButtonEl.classList.remove('colab-df-spinner');\n",
              "          quickchartButtonEl.classList.add('colab-df-quickchart-complete');\n",
              "        }\n",
              "        (() => {\n",
              "          let quickchartButtonEl =\n",
              "            document.querySelector('#df-8fa258e2-7731-4572-b480-a4b5e1f25aae button');\n",
              "          quickchartButtonEl.style.display =\n",
              "            google.colab.kernel.accessAllowed ? 'block' : 'none';\n",
              "        })();\n",
              "      </script>\n",
              "    </div>\n",
              "\n",
              "    </div>\n",
              "  </div>\n"
            ],
            "application/vnd.google.colaboratory.intrinsic+json": {
              "type": "dataframe",
              "variable_name": "data_xlsx",
              "summary": "{\n  \"name\": \"data_xlsx\",\n  \"rows\": 3270,\n  \"fields\": [\n    {\n      \"column\": \"LOCATION CODE\",\n      \"properties\": {\n        \"dtype\": \"number\",\n        \"std\": 220310,\n        \"min\": 0,\n        \"max\": 700000,\n        \"num_unique_values\": 745,\n        \"samples\": [\n          472506,\n          580205,\n          210302\n        ],\n        \"semantic_type\": \"\",\n        \"description\": \"\"\n      }\n    },\n    {\n      \"column\": \"COUNTY\",\n      \"properties\": {\n        \"dtype\": \"category\",\n        \"num_unique_values\": 58,\n        \"samples\": [\n          \"ALBANY\",\n          \"CHAUTAUQUA\",\n          \"OSWEGO\"\n        ],\n        \"semantic_type\": \"\",\n        \"description\": \"\"\n      }\n    },\n    {\n      \"column\": \"AREA NAME\",\n      \"properties\": {\n        \"dtype\": \"category\",\n        \"num_unique_values\": 745,\n        \"samples\": [\n          \"WORCESTER CENTRAL SCHOOL\",\n          \"SACHEM CENT SCH AT HOLBROOK\",\n          \"WEST CANADA VALLEY CENT SCH\"\n        ],\n        \"semantic_type\": \"\",\n        \"description\": \"\"\n      }\n    },\n    {\n      \"column\": \"REGION\",\n      \"properties\": {\n        \"dtype\": \"category\",\n        \"num_unique_values\": 8,\n        \"samples\": [\n          \"WESTERN NEW YORK\",\n          \"HUDSON VALLEY\",\n          \"NORTHEASTERN NEW YORK\"\n        ],\n        \"semantic_type\": \"\",\n        \"description\": \"\"\n      }\n    },\n    {\n      \"column\": \"SCHOOL YEARS\",\n      \"properties\": {\n        \"dtype\": \"category\",\n        \"num_unique_values\": 2,\n        \"samples\": [\n          \"2010-2012\",\n          \"2012-2013\"\n        ],\n        \"semantic_type\": \"\",\n        \"description\": \"\"\n      }\n    },\n    {\n      \"column\": \"NO. OVERWEIGHT\",\n      \"properties\": {\n        \"dtype\": \"number\",\n        \"std\": 1914.8365254320095,\n        \"min\": 5.0,\n        \"max\": 77813.0,\n        \"num_unique_values\": 470,\n        \"samples\": [\n          65.0,\n          73.0\n        ],\n        \"semantic_type\": \"\",\n        \"description\": \"\"\n      }\n    },\n    {\n      \"column\": \"PCT OVERWEIGHT\",\n      \"properties\": {\n        \"dtype\": \"number\",\n        \"std\": 0.04530611585066977,\n        \"min\": 0.016,\n        \"max\": 1.0,\n        \"num_unique_values\": 243,\n        \"samples\": [\n          0.158,\n          0.159\n        ],\n        \"semantic_type\": \"\",\n        \"description\": \"\"\n      }\n    },\n    {\n      \"column\": \"NO. OBESE\",\n      \"properties\": {\n        \"dtype\": \"number\",\n        \"std\": 2076.638147507342,\n        \"min\": 5.0,\n        \"max\": 84578.0,\n        \"num_unique_values\": 495,\n        \"samples\": [\n          463.0,\n          96.0\n        ],\n        \"semantic_type\": \"\",\n        \"description\": \"\"\n      }\n    },\n    {\n      \"column\": \"PCT OBESE\",\n      \"properties\": {\n        \"dtype\": \"number\",\n        \"std\": 0.06500303234789125,\n        \"min\": 0.013000000000000001,\n        \"max\": 1.0,\n        \"num_unique_values\": 322,\n        \"samples\": [\n          0.077,\n          0.154\n        ],\n        \"semantic_type\": \"\",\n        \"description\": \"\"\n      }\n    },\n    {\n      \"column\": \"NO. OVERWEIGHT OR OBESE\",\n      \"properties\": {\n        \"dtype\": \"number\",\n        \"std\": 3959.958869502371,\n        \"min\": 5.0,\n        \"max\": 162391.0,\n        \"num_unique_values\": 707,\n        \"samples\": [\n          588.0,\n          665.0\n        ],\n        \"semantic_type\": \"\",\n        \"description\": \"\"\n      }\n    },\n    {\n      \"column\": \"PCT OVERWEIGHT OR OBESE\",\n      \"properties\": {\n        \"dtype\": \"number\",\n        \"std\": 0.08425021761822121,\n        \"min\": 0.036000000000000004,\n        \"max\": 1.0,\n        \"num_unique_values\": 415,\n        \"samples\": [\n          0.409,\n          0.268\n        ],\n        \"semantic_type\": \"\",\n        \"description\": \"\"\n      }\n    },\n    {\n      \"column\": \"GRADE LEVEL\",\n      \"properties\": {\n        \"dtype\": \"category\",\n        \"num_unique_values\": 3,\n        \"samples\": [\n          \"DISTRICT TOTAL\",\n          \"ELEMENTARY\"\n        ],\n        \"semantic_type\": \"\",\n        \"description\": \"\"\n      }\n    },\n    {\n      \"column\": \"AREA TYPE\",\n      \"properties\": {\n        \"dtype\": \"category\",\n        \"num_unique_values\": 4,\n        \"samples\": [\n          \"STATEWIDE (EXCLUDING NYC)\",\n          \"REGION\"\n        ],\n        \"semantic_type\": \"\",\n        \"description\": \"\"\n      }\n    },\n    {\n      \"column\": \"STREET ADDRESS\",\n      \"properties\": {\n        \"dtype\": \"category\",\n        \"num_unique_values\": 693,\n        \"samples\": [\n          \"425 E MAIN ST\",\n          \"6200 ONTARIO CTR RD\"\n        ],\n        \"semantic_type\": \"\",\n        \"description\": \"\"\n      }\n    },\n    {\n      \"column\": \"CITY\",\n      \"properties\": {\n        \"dtype\": \"category\",\n        \"num_unique_values\": 636,\n        \"samples\": [\n          \"GREENPORT\",\n          \"SHRUB OAK\"\n        ],\n        \"semantic_type\": \"\",\n        \"description\": \"\"\n      }\n    },\n    {\n      \"column\": \"STATE\",\n      \"properties\": {\n        \"dtype\": \"category\",\n        \"num_unique_values\": 1,\n        \"samples\": [\n          \"NY\"\n        ],\n        \"semantic_type\": \"\",\n        \"description\": \"\"\n      }\n    },\n    {\n      \"column\": \"ZIP CODE\",\n      \"properties\": {\n        \"dtype\": \"number\",\n        \"std\": 1262.478622502217,\n        \"min\": 6390.0,\n        \"max\": 14905.0,\n        \"num_unique_values\": 643,\n        \"samples\": [\n          10504.0\n        ],\n        \"semantic_type\": \"\",\n        \"description\": \"\"\n      }\n    },\n    {\n      \"column\": \"Location 1\",\n      \"properties\": {\n        \"dtype\": \"category\",\n        \"num_unique_values\": 1082,\n        \"samples\": [\n          \"194 HAIGHT RD\\nAMENIA, NY 12501\\n(41.88746340600045, -73.53434375299963)\"\n        ],\n        \"semantic_type\": \"\",\n        \"description\": \"\"\n      }\n    }\n  ]\n}"
            }
          },
          "metadata": {},
          "execution_count": 8
        }
      ]
    },
    {
      "cell_type": "code",
      "source": [
        "print(f\"El tipo de dato es \\n{type(data_xlsx)}\")"
      ],
      "metadata": {
        "colab": {
          "base_uri": "https://localhost:8080/"
        },
        "id": "yNHz6jTyzFDV",
        "outputId": "bcd71b8a-4d6a-4b33-f0b8-3255a9dfa218"
      },
      "execution_count": null,
      "outputs": [
        {
          "output_type": "stream",
          "name": "stdout",
          "text": [
            "El tipo de dato es \n",
            "<class 'pandas.core.frame.DataFrame'>\n"
          ]
        }
      ]
    },
    {
      "cell_type": "code",
      "source": [
        "data_xlsx.shape[0] # filas"
      ],
      "metadata": {
        "colab": {
          "base_uri": "https://localhost:8080/"
        },
        "id": "NL7YsRYBzVwC",
        "outputId": "3f56a14a-827c-41e1-8f01-6d92f2c06dfc"
      },
      "execution_count": null,
      "outputs": [
        {
          "output_type": "execute_result",
          "data": {
            "text/plain": [
              "3270"
            ]
          },
          "metadata": {},
          "execution_count": 10
        }
      ]
    },
    {
      "cell_type": "code",
      "source": [
        "data_xlsx.shape[1] # columnas"
      ],
      "metadata": {
        "colab": {
          "base_uri": "https://localhost:8080/"
        },
        "id": "4APCWGQ0zhRu",
        "outputId": "4c10032d-d7b1-43e6-fe59-79148f7a2082"
      },
      "execution_count": null,
      "outputs": [
        {
          "output_type": "execute_result",
          "data": {
            "text/plain": [
              "18"
            ]
          },
          "metadata": {},
          "execution_count": 11
        }
      ]
    },
    {
      "cell_type": "markdown",
      "source": [
        "## [3] Leer un archivo json"
      ],
      "metadata": {
        "id": "6KSabQqezsyu"
      }
    },
    {
      "cell_type": "code",
      "source": [
        "dataset = 'students.json'"
      ],
      "metadata": {
        "id": "Ga2cN9yjzo1Z"
      },
      "execution_count": null,
      "outputs": []
    },
    {
      "cell_type": "code",
      "source": [
        "import json\n",
        "\n",
        "json_data = open(ruta+dataset)"
      ],
      "metadata": {
        "id": "8T8kEjdO0Cd5"
      },
      "execution_count": null,
      "outputs": []
    },
    {
      "cell_type": "code",
      "source": [
        "data_json = json.load(json_data)"
      ],
      "metadata": {
        "id": "uuv1fgjY0Uyo"
      },
      "execution_count": null,
      "outputs": []
    },
    {
      "cell_type": "code",
      "source": [
        "print(f\"El tipo de dato del objeto es \\n{type(data_json)}\")"
      ],
      "metadata": {
        "colab": {
          "base_uri": "https://localhost:8080/"
        },
        "id": "HSOnGTvC0OxD",
        "outputId": "255a3019-59ff-44a2-d514-4b8aaa4af810"
      },
      "execution_count": null,
      "outputs": [
        {
          "output_type": "stream",
          "name": "stdout",
          "text": [
            "El tipo de dato del objeto es \n",
            "<class 'dict'>\n"
          ]
        }
      ]
    },
    {
      "cell_type": "code",
      "source": [
        "data_json.keys()"
      ],
      "metadata": {
        "colab": {
          "base_uri": "https://localhost:8080/"
        },
        "id": "_rnirlQc0d-v",
        "outputId": "39f35f0e-c5a7-4a38-f494-ca12ba1a4684"
      },
      "execution_count": null,
      "outputs": [
        {
          "output_type": "execute_result",
          "data": {
            "text/plain": [
              "dict_keys(['meta', 'data'])"
            ]
          },
          "metadata": {},
          "execution_count": 16
        }
      ]
    },
    {
      "cell_type": "code",
      "source": [
        "data_json['data'][0]"
      ],
      "metadata": {
        "colab": {
          "base_uri": "https://localhost:8080/"
        },
        "id": "0NHju3Ys0jck",
        "outputId": "45a1c158-cc11-4ba3-e2a2-efc1e6625e1e"
      },
      "execution_count": null,
      "outputs": [
        {
          "output_type": "execute_result",
          "data": {
            "text/plain": [
              "[2237,\n",
              " '5273C009-D32B-4885-B20E-136767936ADD',\n",
              " 2237,\n",
              " 1411498109,\n",
              " '698552',\n",
              " 1411498125,\n",
              " '705890',\n",
              " '{\\n}',\n",
              " '010402',\n",
              " 'ALBANY',\n",
              " 'RAVENA COEYMANS SELKIRK CENTRAL SCHOOL DISTRICT',\n",
              " 'NORTHEASTERN NEW YORK',\n",
              " '2012-2013',\n",
              " '124',\n",
              " '18.5',\n",
              " '139',\n",
              " '20.8',\n",
              " '263',\n",
              " '39.3',\n",
              " 'DISTRICT TOTAL',\n",
              " 'SCHOOL DISTRICT',\n",
              " '15 MOUNTAIN RD',\n",
              " 'RAVENA',\n",
              " 'NY',\n",
              " '12143',\n",
              " ['{\"address\":\"15 MOUNTAIN RD\",\"city\":\"RAVENA\",\"state\":\"NY\",\"zip\":\"12143\"}',\n",
              "  '42.47227638700048',\n",
              "  '-73.81484141099963',\n",
              "  None,\n",
              "  False]]"
            ]
          },
          "metadata": {},
          "execution_count": 17
        }
      ]
    },
    {
      "cell_type": "code",
      "source": [
        "for i in range(5):\n",
        "  print(data_json['data'][i])"
      ],
      "metadata": {
        "colab": {
          "base_uri": "https://localhost:8080/"
        },
        "id": "RSAE3qGn0nTD",
        "outputId": "222524bb-39d9-4ea0-be53-ec3a740842aa"
      },
      "execution_count": null,
      "outputs": [
        {
          "output_type": "stream",
          "name": "stdout",
          "text": [
            "[2237, '5273C009-D32B-4885-B20E-136767936ADD', 2237, 1411498109, '698552', 1411498125, '705890', '{\\n}', '010402', 'ALBANY', 'RAVENA COEYMANS SELKIRK CENTRAL SCHOOL DISTRICT', 'NORTHEASTERN NEW YORK', '2012-2013', '124', '18.5', '139', '20.8', '263', '39.3', 'DISTRICT TOTAL', 'SCHOOL DISTRICT', '15 MOUNTAIN RD', 'RAVENA', 'NY', '12143', ['{\"address\":\"15 MOUNTAIN RD\",\"city\":\"RAVENA\",\"state\":\"NY\",\"zip\":\"12143\"}', '42.47227638700048', '-73.81484141099963', None, False]]\n",
            "[2238, 'B5CF19C8-512B-4763-80AB-0CC83E62A5F4', 2238, 1411498109, '698552', 1411498137, '705890', '{\\n}', '010402', 'ALBANY', 'RAVENA COEYMANS SELKIRK CENTRAL SCHOOL DISTRICT', 'NORTHEASTERN NEW YORK', '2012-2013', '74', '19.2', '72', '18.7', '146', '37.9', 'ELEMENTARY', 'SCHOOL DISTRICT', '15 MOUNTAIN RD', 'RAVENA', 'NY', '12143', ['{\"address\":\"15 MOUNTAIN RD\",\"city\":\"RAVENA\",\"state\":\"NY\",\"zip\":\"12143\"}', '42.47227638700048', '-73.81484141099963', None, False]]\n",
            "[2239, 'E4A091E8-1061-487D-A719-D3892621870C', 2239, 1411498109, '698552', 1411498141, '705890', '{\\n}', '010402', 'ALBANY', 'RAVENA COEYMANS SELKIRK CENTRAL SCHOOL DISTRICT', 'NORTHEASTERN NEW YORK', '2012-2013', '50', '17.6', '67', '23.6', '117', '41.2', 'MIDDLE/HIGH', 'SCHOOL DISTRICT', '15 MOUNTAIN RD', 'RAVENA', 'NY', '12143', ['{\"address\":\"15 MOUNTAIN RD\",\"city\":\"RAVENA\",\"state\":\"NY\",\"zip\":\"12143\"}', '42.47227638700048', '-73.81484141099963', None, False]]\n",
            "[2240, 'C873D7C8-3028-4DB6-B0A8-5FA6EC2B58C1', 2240, 1411498109, '698552', 1411498138, '705890', '{\\n}', '010500', 'ALBANY', 'COHOES CITY SCHOOL DISTRICT', 'NORTHEASTERN NEW YORK', '2012-2013', '84', '17.2', '124', '25.4', '208', '42.5', 'DISTRICT TOTAL', 'SCHOOL DISTRICT', '7 BEVAN ST', 'COHOES', 'NY', '12047', ['{\"address\":\"7 BEVAN ST\",\"city\":\"COHOES\",\"state\":\"NY\",\"zip\":\"12047\"}', '42.771285452000484', '-73.71046311499964', None, False]]\n",
            "[2241, '16B84D67-1B96-4B1C-8756-54A26B8FB3B8', 2241, 1411498109, '698552', 1411498119, '705890', '{\\n}', '010500', 'ALBANY', 'COHOES CITY SCHOOL DISTRICT', 'NORTHEASTERN NEW YORK', '2012-2013', '58', '16.1', '89', '24.7', '147', '40.8', 'ELEMENTARY', 'SCHOOL DISTRICT', '7 BEVAN ST', 'COHOES', 'NY', '12047', ['{\"address\":\"7 BEVAN ST\",\"city\":\"COHOES\",\"state\":\"NY\",\"zip\":\"12047\"}', '42.771285452000484', '-73.71046311499964', None, False]]\n"
          ]
        }
      ]
    },
    {
      "cell_type": "markdown",
      "source": [
        "## Actividad N038"
      ],
      "metadata": {
        "id": "C6pzfI4a1Y7R"
      }
    },
    {
      "cell_type": "code",
      "source": [
        "dataset = 'data_train.csv'\n",
        "\n",
        "data = pd.read_csv(ruta+dataset)\n",
        "data.head(3)"
      ],
      "metadata": {
        "colab": {
          "base_uri": "https://localhost:8080/",
          "height": 143
        },
        "id": "cN4TcyLp06d5",
        "outputId": "f93822bb-a133-44e6-fdcb-766c25268e54"
      },
      "execution_count": null,
      "outputs": [
        {
          "output_type": "execute_result",
          "data": {
            "text/plain": [
              "         Date  Account_id  Product_id  Category  Quantity  Year  Month\n",
              "0  2022-01-04    33217773        8324  Gaseosas       712  2022      1\n",
              "1  2022-01-04    33217773        8326  Gaseosas       890  2022      1\n",
              "2  2022-01-04    33217773        9090  Gaseosas       445  2022      1"
            ],
            "text/html": [
              "\n",
              "  <div id=\"df-31585fbe-1c18-4f97-9ec7-f38d61d8fd01\" class=\"colab-df-container\">\n",
              "    <div>\n",
              "<style scoped>\n",
              "    .dataframe tbody tr th:only-of-type {\n",
              "        vertical-align: middle;\n",
              "    }\n",
              "\n",
              "    .dataframe tbody tr th {\n",
              "        vertical-align: top;\n",
              "    }\n",
              "\n",
              "    .dataframe thead th {\n",
              "        text-align: right;\n",
              "    }\n",
              "</style>\n",
              "<table border=\"1\" class=\"dataframe\">\n",
              "  <thead>\n",
              "    <tr style=\"text-align: right;\">\n",
              "      <th></th>\n",
              "      <th>Date</th>\n",
              "      <th>Account_id</th>\n",
              "      <th>Product_id</th>\n",
              "      <th>Category</th>\n",
              "      <th>Quantity</th>\n",
              "      <th>Year</th>\n",
              "      <th>Month</th>\n",
              "    </tr>\n",
              "  </thead>\n",
              "  <tbody>\n",
              "    <tr>\n",
              "      <th>0</th>\n",
              "      <td>2022-01-04</td>\n",
              "      <td>33217773</td>\n",
              "      <td>8324</td>\n",
              "      <td>Gaseosas</td>\n",
              "      <td>712</td>\n",
              "      <td>2022</td>\n",
              "      <td>1</td>\n",
              "    </tr>\n",
              "    <tr>\n",
              "      <th>1</th>\n",
              "      <td>2022-01-04</td>\n",
              "      <td>33217773</td>\n",
              "      <td>8326</td>\n",
              "      <td>Gaseosas</td>\n",
              "      <td>890</td>\n",
              "      <td>2022</td>\n",
              "      <td>1</td>\n",
              "    </tr>\n",
              "    <tr>\n",
              "      <th>2</th>\n",
              "      <td>2022-01-04</td>\n",
              "      <td>33217773</td>\n",
              "      <td>9090</td>\n",
              "      <td>Gaseosas</td>\n",
              "      <td>445</td>\n",
              "      <td>2022</td>\n",
              "      <td>1</td>\n",
              "    </tr>\n",
              "  </tbody>\n",
              "</table>\n",
              "</div>\n",
              "    <div class=\"colab-df-buttons\">\n",
              "\n",
              "  <div class=\"colab-df-container\">\n",
              "    <button class=\"colab-df-convert\" onclick=\"convertToInteractive('df-31585fbe-1c18-4f97-9ec7-f38d61d8fd01')\"\n",
              "            title=\"Convert this dataframe to an interactive table.\"\n",
              "            style=\"display:none;\">\n",
              "\n",
              "  <svg xmlns=\"http://www.w3.org/2000/svg\" height=\"24px\" viewBox=\"0 -960 960 960\">\n",
              "    <path d=\"M120-120v-720h720v720H120Zm60-500h600v-160H180v160Zm220 220h160v-160H400v160Zm0 220h160v-160H400v160ZM180-400h160v-160H180v160Zm440 0h160v-160H620v160ZM180-180h160v-160H180v160Zm440 0h160v-160H620v160Z\"/>\n",
              "  </svg>\n",
              "    </button>\n",
              "\n",
              "  <style>\n",
              "    .colab-df-container {\n",
              "      display:flex;\n",
              "      gap: 12px;\n",
              "    }\n",
              "\n",
              "    .colab-df-convert {\n",
              "      background-color: #E8F0FE;\n",
              "      border: none;\n",
              "      border-radius: 50%;\n",
              "      cursor: pointer;\n",
              "      display: none;\n",
              "      fill: #1967D2;\n",
              "      height: 32px;\n",
              "      padding: 0 0 0 0;\n",
              "      width: 32px;\n",
              "    }\n",
              "\n",
              "    .colab-df-convert:hover {\n",
              "      background-color: #E2EBFA;\n",
              "      box-shadow: 0px 1px 2px rgba(60, 64, 67, 0.3), 0px 1px 3px 1px rgba(60, 64, 67, 0.15);\n",
              "      fill: #174EA6;\n",
              "    }\n",
              "\n",
              "    .colab-df-buttons div {\n",
              "      margin-bottom: 4px;\n",
              "    }\n",
              "\n",
              "    [theme=dark] .colab-df-convert {\n",
              "      background-color: #3B4455;\n",
              "      fill: #D2E3FC;\n",
              "    }\n",
              "\n",
              "    [theme=dark] .colab-df-convert:hover {\n",
              "      background-color: #434B5C;\n",
              "      box-shadow: 0px 1px 3px 1px rgba(0, 0, 0, 0.15);\n",
              "      filter: drop-shadow(0px 1px 2px rgba(0, 0, 0, 0.3));\n",
              "      fill: #FFFFFF;\n",
              "    }\n",
              "  </style>\n",
              "\n",
              "    <script>\n",
              "      const buttonEl =\n",
              "        document.querySelector('#df-31585fbe-1c18-4f97-9ec7-f38d61d8fd01 button.colab-df-convert');\n",
              "      buttonEl.style.display =\n",
              "        google.colab.kernel.accessAllowed ? 'block' : 'none';\n",
              "\n",
              "      async function convertToInteractive(key) {\n",
              "        const element = document.querySelector('#df-31585fbe-1c18-4f97-9ec7-f38d61d8fd01');\n",
              "        const dataTable =\n",
              "          await google.colab.kernel.invokeFunction('convertToInteractive',\n",
              "                                                    [key], {});\n",
              "        if (!dataTable) return;\n",
              "\n",
              "        const docLinkHtml = 'Like what you see? Visit the ' +\n",
              "          '<a target=\"_blank\" href=https://colab.research.google.com/notebooks/data_table.ipynb>data table notebook</a>'\n",
              "          + ' to learn more about interactive tables.';\n",
              "        element.innerHTML = '';\n",
              "        dataTable['output_type'] = 'display_data';\n",
              "        await google.colab.output.renderOutput(dataTable, element);\n",
              "        const docLink = document.createElement('div');\n",
              "        docLink.innerHTML = docLinkHtml;\n",
              "        element.appendChild(docLink);\n",
              "      }\n",
              "    </script>\n",
              "  </div>\n",
              "\n",
              "\n",
              "    <div id=\"df-c605e441-9c19-4141-b1a5-26ec192fbf87\">\n",
              "      <button class=\"colab-df-quickchart\" onclick=\"quickchart('df-c605e441-9c19-4141-b1a5-26ec192fbf87')\"\n",
              "                title=\"Suggest charts\"\n",
              "                style=\"display:none;\">\n",
              "\n",
              "<svg xmlns=\"http://www.w3.org/2000/svg\" height=\"24px\"viewBox=\"0 0 24 24\"\n",
              "     width=\"24px\">\n",
              "    <g>\n",
              "        <path d=\"M19 3H5c-1.1 0-2 .9-2 2v14c0 1.1.9 2 2 2h14c1.1 0 2-.9 2-2V5c0-1.1-.9-2-2-2zM9 17H7v-7h2v7zm4 0h-2V7h2v10zm4 0h-2v-4h2v4z\"/>\n",
              "    </g>\n",
              "</svg>\n",
              "      </button>\n",
              "\n",
              "<style>\n",
              "  .colab-df-quickchart {\n",
              "      --bg-color: #E8F0FE;\n",
              "      --fill-color: #1967D2;\n",
              "      --hover-bg-color: #E2EBFA;\n",
              "      --hover-fill-color: #174EA6;\n",
              "      --disabled-fill-color: #AAA;\n",
              "      --disabled-bg-color: #DDD;\n",
              "  }\n",
              "\n",
              "  [theme=dark] .colab-df-quickchart {\n",
              "      --bg-color: #3B4455;\n",
              "      --fill-color: #D2E3FC;\n",
              "      --hover-bg-color: #434B5C;\n",
              "      --hover-fill-color: #FFFFFF;\n",
              "      --disabled-bg-color: #3B4455;\n",
              "      --disabled-fill-color: #666;\n",
              "  }\n",
              "\n",
              "  .colab-df-quickchart {\n",
              "    background-color: var(--bg-color);\n",
              "    border: none;\n",
              "    border-radius: 50%;\n",
              "    cursor: pointer;\n",
              "    display: none;\n",
              "    fill: var(--fill-color);\n",
              "    height: 32px;\n",
              "    padding: 0;\n",
              "    width: 32px;\n",
              "  }\n",
              "\n",
              "  .colab-df-quickchart:hover {\n",
              "    background-color: var(--hover-bg-color);\n",
              "    box-shadow: 0 1px 2px rgba(60, 64, 67, 0.3), 0 1px 3px 1px rgba(60, 64, 67, 0.15);\n",
              "    fill: var(--button-hover-fill-color);\n",
              "  }\n",
              "\n",
              "  .colab-df-quickchart-complete:disabled,\n",
              "  .colab-df-quickchart-complete:disabled:hover {\n",
              "    background-color: var(--disabled-bg-color);\n",
              "    fill: var(--disabled-fill-color);\n",
              "    box-shadow: none;\n",
              "  }\n",
              "\n",
              "  .colab-df-spinner {\n",
              "    border: 2px solid var(--fill-color);\n",
              "    border-color: transparent;\n",
              "    border-bottom-color: var(--fill-color);\n",
              "    animation:\n",
              "      spin 1s steps(1) infinite;\n",
              "  }\n",
              "\n",
              "  @keyframes spin {\n",
              "    0% {\n",
              "      border-color: transparent;\n",
              "      border-bottom-color: var(--fill-color);\n",
              "      border-left-color: var(--fill-color);\n",
              "    }\n",
              "    20% {\n",
              "      border-color: transparent;\n",
              "      border-left-color: var(--fill-color);\n",
              "      border-top-color: var(--fill-color);\n",
              "    }\n",
              "    30% {\n",
              "      border-color: transparent;\n",
              "      border-left-color: var(--fill-color);\n",
              "      border-top-color: var(--fill-color);\n",
              "      border-right-color: var(--fill-color);\n",
              "    }\n",
              "    40% {\n",
              "      border-color: transparent;\n",
              "      border-right-color: var(--fill-color);\n",
              "      border-top-color: var(--fill-color);\n",
              "    }\n",
              "    60% {\n",
              "      border-color: transparent;\n",
              "      border-right-color: var(--fill-color);\n",
              "    }\n",
              "    80% {\n",
              "      border-color: transparent;\n",
              "      border-right-color: var(--fill-color);\n",
              "      border-bottom-color: var(--fill-color);\n",
              "    }\n",
              "    90% {\n",
              "      border-color: transparent;\n",
              "      border-bottom-color: var(--fill-color);\n",
              "    }\n",
              "  }\n",
              "</style>\n",
              "\n",
              "      <script>\n",
              "        async function quickchart(key) {\n",
              "          const quickchartButtonEl =\n",
              "            document.querySelector('#' + key + ' button');\n",
              "          quickchartButtonEl.disabled = true;  // To prevent multiple clicks.\n",
              "          quickchartButtonEl.classList.add('colab-df-spinner');\n",
              "          try {\n",
              "            const charts = await google.colab.kernel.invokeFunction(\n",
              "                'suggestCharts', [key], {});\n",
              "          } catch (error) {\n",
              "            console.error('Error during call to suggestCharts:', error);\n",
              "          }\n",
              "          quickchartButtonEl.classList.remove('colab-df-spinner');\n",
              "          quickchartButtonEl.classList.add('colab-df-quickchart-complete');\n",
              "        }\n",
              "        (() => {\n",
              "          let quickchartButtonEl =\n",
              "            document.querySelector('#df-c605e441-9c19-4141-b1a5-26ec192fbf87 button');\n",
              "          quickchartButtonEl.style.display =\n",
              "            google.colab.kernel.accessAllowed ? 'block' : 'none';\n",
              "        })();\n",
              "      </script>\n",
              "    </div>\n",
              "\n",
              "    </div>\n",
              "  </div>\n"
            ],
            "application/vnd.google.colaboratory.intrinsic+json": {
              "type": "dataframe",
              "variable_name": "data"
            }
          },
          "metadata": {},
          "execution_count": 19
        }
      ]
    },
    {
      "cell_type": "code",
      "source": [
        "data.shape"
      ],
      "metadata": {
        "colab": {
          "base_uri": "https://localhost:8080/"
        },
        "id": "spZ2BAqU10u2",
        "outputId": "abbdf149-943e-4a3e-f7e3-f298768803bb"
      },
      "execution_count": null,
      "outputs": [
        {
          "output_type": "execute_result",
          "data": {
            "text/plain": [
              "(970538, 7)"
            ]
          },
          "metadata": {},
          "execution_count": 20
        }
      ]
    },
    {
      "cell_type": "markdown",
      "source": [
        "Del DataFrame vamos a obtener las columnas"
      ],
      "metadata": {
        "id": "xA2pKATZ1qYS"
      }
    },
    {
      "cell_type": "code",
      "source": [
        "data.columns.to_list()"
      ],
      "metadata": {
        "colab": {
          "base_uri": "https://localhost:8080/"
        },
        "id": "9evj6Ulw1kY4",
        "outputId": "9b5674eb-e976-4583-c19c-e1c031571eaf"
      },
      "execution_count": null,
      "outputs": [
        {
          "output_type": "execute_result",
          "data": {
            "text/plain": [
              "['Date', 'Account_id', 'Product_id', 'Category', 'Quantity', 'Year', 'Month']"
            ]
          },
          "metadata": {},
          "execution_count": 21
        }
      ]
    },
    {
      "cell_type": "code",
      "source": [
        "# Diagnóstico descriptivo de mis datos\n",
        "data['Quantity'].describe()"
      ],
      "metadata": {
        "colab": {
          "base_uri": "https://localhost:8080/",
          "height": 335
        },
        "id": "hrDb2MUj1xp_",
        "outputId": "58707d64-808b-43a0-cd4d-d3f73945651a"
      },
      "execution_count": null,
      "outputs": [
        {
          "output_type": "execute_result",
          "data": {
            "text/plain": [
              "count    970538.000000\n",
              "mean        272.409711\n",
              "std         255.107602\n",
              "min           0.000000\n",
              "25%          89.000000\n",
              "50%         178.000000\n",
              "75%         405.000000\n",
              "max        1200.000000\n",
              "Name: Quantity, dtype: float64"
            ],
            "text/html": [
              "<div>\n",
              "<style scoped>\n",
              "    .dataframe tbody tr th:only-of-type {\n",
              "        vertical-align: middle;\n",
              "    }\n",
              "\n",
              "    .dataframe tbody tr th {\n",
              "        vertical-align: top;\n",
              "    }\n",
              "\n",
              "    .dataframe thead th {\n",
              "        text-align: right;\n",
              "    }\n",
              "</style>\n",
              "<table border=\"1\" class=\"dataframe\">\n",
              "  <thead>\n",
              "    <tr style=\"text-align: right;\">\n",
              "      <th></th>\n",
              "      <th>Quantity</th>\n",
              "    </tr>\n",
              "  </thead>\n",
              "  <tbody>\n",
              "    <tr>\n",
              "      <th>count</th>\n",
              "      <td>970538.000000</td>\n",
              "    </tr>\n",
              "    <tr>\n",
              "      <th>mean</th>\n",
              "      <td>272.409711</td>\n",
              "    </tr>\n",
              "    <tr>\n",
              "      <th>std</th>\n",
              "      <td>255.107602</td>\n",
              "    </tr>\n",
              "    <tr>\n",
              "      <th>min</th>\n",
              "      <td>0.000000</td>\n",
              "    </tr>\n",
              "    <tr>\n",
              "      <th>25%</th>\n",
              "      <td>89.000000</td>\n",
              "    </tr>\n",
              "    <tr>\n",
              "      <th>50%</th>\n",
              "      <td>178.000000</td>\n",
              "    </tr>\n",
              "    <tr>\n",
              "      <th>75%</th>\n",
              "      <td>405.000000</td>\n",
              "    </tr>\n",
              "    <tr>\n",
              "      <th>max</th>\n",
              "      <td>1200.000000</td>\n",
              "    </tr>\n",
              "  </tbody>\n",
              "</table>\n",
              "</div><br><label><b>dtype:</b> float64</label>"
            ]
          },
          "metadata": {},
          "execution_count": 22
        }
      ]
    },
    {
      "cell_type": "code",
      "source": [
        "# Diagnóstico descriptivo de mis datos\n",
        "data['Category'].describe()"
      ],
      "metadata": {
        "colab": {
          "base_uri": "https://localhost:8080/",
          "height": 209
        },
        "id": "iGTyYGhT2qFv",
        "outputId": "ee9b1801-3743-40d8-9d8f-c70be9d1ae61"
      },
      "execution_count": null,
      "outputs": [
        {
          "output_type": "execute_result",
          "data": {
            "text/plain": [
              "count       970538\n",
              "unique           7\n",
              "top       Gaseosas\n",
              "freq        512850\n",
              "Name: Category, dtype: object"
            ],
            "text/html": [
              "<div>\n",
              "<style scoped>\n",
              "    .dataframe tbody tr th:only-of-type {\n",
              "        vertical-align: middle;\n",
              "    }\n",
              "\n",
              "    .dataframe tbody tr th {\n",
              "        vertical-align: top;\n",
              "    }\n",
              "\n",
              "    .dataframe thead th {\n",
              "        text-align: right;\n",
              "    }\n",
              "</style>\n",
              "<table border=\"1\" class=\"dataframe\">\n",
              "  <thead>\n",
              "    <tr style=\"text-align: right;\">\n",
              "      <th></th>\n",
              "      <th>Category</th>\n",
              "    </tr>\n",
              "  </thead>\n",
              "  <tbody>\n",
              "    <tr>\n",
              "      <th>count</th>\n",
              "      <td>970538</td>\n",
              "    </tr>\n",
              "    <tr>\n",
              "      <th>unique</th>\n",
              "      <td>7</td>\n",
              "    </tr>\n",
              "    <tr>\n",
              "      <th>top</th>\n",
              "      <td>Gaseosas</td>\n",
              "    </tr>\n",
              "    <tr>\n",
              "      <th>freq</th>\n",
              "      <td>512850</td>\n",
              "    </tr>\n",
              "  </tbody>\n",
              "</table>\n",
              "</div><br><label><b>dtype:</b> object</label>"
            ]
          },
          "metadata": {},
          "execution_count": 23
        }
      ]
    },
    {
      "cell_type": "markdown",
      "source": [
        "## [4] Leer un archivo parquet"
      ],
      "metadata": {
        "id": "DHuEPAUX3Xki"
      }
    },
    {
      "cell_type": "code",
      "source": [
        "dataset = 'dataset_test.parquet'"
      ],
      "metadata": {
        "id": "OcC5hLEo2KXb"
      },
      "execution_count": null,
      "outputs": []
    },
    {
      "cell_type": "code",
      "source": [
        "data = pd.read_parquet(ruta+dataset,engine='pyarrow')"
      ],
      "metadata": {
        "id": "kYPb7gOY3f_D"
      },
      "execution_count": null,
      "outputs": []
    },
    {
      "cell_type": "code",
      "source": [
        "print(f\"El archivo tiene {data.shape[0]} filas y {data.shape[1]} columnas.\")"
      ],
      "metadata": {
        "colab": {
          "base_uri": "https://localhost:8080/"
        },
        "id": "6PF44AZh3pwv",
        "outputId": "a73bc288-0ee5-4ded-82eb-b66febbbaeae"
      },
      "execution_count": null,
      "outputs": [
        {
          "output_type": "stream",
          "name": "stdout",
          "text": [
            "El archivo tiene 116211465 filas y 5 columnas.\n"
          ]
        }
      ]
    },
    {
      "cell_type": "code",
      "source": [
        "data.head(3)"
      ],
      "metadata": {
        "colab": {
          "base_uri": "https://localhost:8080/",
          "height": 143
        },
        "id": "RzFQre3_30cS",
        "outputId": "af2715aa-c398-4b60-edb6-913b57477210"
      },
      "execution_count": null,
      "outputs": [
        {
          "output_type": "execute_result",
          "data": {
            "text/plain": [
              "         Date  Account_id  Product_id  Category  Quantity\n",
              "0  2022-01-03    33236916        8350  Gaseosas         1\n",
              "1  2022-01-03    33237477       15354    Maltas         5\n",
              "2  2022-01-03    33229164       14016  Cervezas        25"
            ],
            "text/html": [
              "\n",
              "  <div id=\"df-2805eaeb-c80d-4dc9-bf03-4fa657f3d6bb\" class=\"colab-df-container\">\n",
              "    <div>\n",
              "<style scoped>\n",
              "    .dataframe tbody tr th:only-of-type {\n",
              "        vertical-align: middle;\n",
              "    }\n",
              "\n",
              "    .dataframe tbody tr th {\n",
              "        vertical-align: top;\n",
              "    }\n",
              "\n",
              "    .dataframe thead th {\n",
              "        text-align: right;\n",
              "    }\n",
              "</style>\n",
              "<table border=\"1\" class=\"dataframe\">\n",
              "  <thead>\n",
              "    <tr style=\"text-align: right;\">\n",
              "      <th></th>\n",
              "      <th>Date</th>\n",
              "      <th>Account_id</th>\n",
              "      <th>Product_id</th>\n",
              "      <th>Category</th>\n",
              "      <th>Quantity</th>\n",
              "    </tr>\n",
              "  </thead>\n",
              "  <tbody>\n",
              "    <tr>\n",
              "      <th>0</th>\n",
              "      <td>2022-01-03</td>\n",
              "      <td>33236916</td>\n",
              "      <td>8350</td>\n",
              "      <td>Gaseosas</td>\n",
              "      <td>1</td>\n",
              "    </tr>\n",
              "    <tr>\n",
              "      <th>1</th>\n",
              "      <td>2022-01-03</td>\n",
              "      <td>33237477</td>\n",
              "      <td>15354</td>\n",
              "      <td>Maltas</td>\n",
              "      <td>5</td>\n",
              "    </tr>\n",
              "    <tr>\n",
              "      <th>2</th>\n",
              "      <td>2022-01-03</td>\n",
              "      <td>33229164</td>\n",
              "      <td>14016</td>\n",
              "      <td>Cervezas</td>\n",
              "      <td>25</td>\n",
              "    </tr>\n",
              "  </tbody>\n",
              "</table>\n",
              "</div>\n",
              "    <div class=\"colab-df-buttons\">\n",
              "\n",
              "  <div class=\"colab-df-container\">\n",
              "    <button class=\"colab-df-convert\" onclick=\"convertToInteractive('df-2805eaeb-c80d-4dc9-bf03-4fa657f3d6bb')\"\n",
              "            title=\"Convert this dataframe to an interactive table.\"\n",
              "            style=\"display:none;\">\n",
              "\n",
              "  <svg xmlns=\"http://www.w3.org/2000/svg\" height=\"24px\" viewBox=\"0 -960 960 960\">\n",
              "    <path d=\"M120-120v-720h720v720H120Zm60-500h600v-160H180v160Zm220 220h160v-160H400v160Zm0 220h160v-160H400v160ZM180-400h160v-160H180v160Zm440 0h160v-160H620v160ZM180-180h160v-160H180v160Zm440 0h160v-160H620v160Z\"/>\n",
              "  </svg>\n",
              "    </button>\n",
              "\n",
              "  <style>\n",
              "    .colab-df-container {\n",
              "      display:flex;\n",
              "      gap: 12px;\n",
              "    }\n",
              "\n",
              "    .colab-df-convert {\n",
              "      background-color: #E8F0FE;\n",
              "      border: none;\n",
              "      border-radius: 50%;\n",
              "      cursor: pointer;\n",
              "      display: none;\n",
              "      fill: #1967D2;\n",
              "      height: 32px;\n",
              "      padding: 0 0 0 0;\n",
              "      width: 32px;\n",
              "    }\n",
              "\n",
              "    .colab-df-convert:hover {\n",
              "      background-color: #E2EBFA;\n",
              "      box-shadow: 0px 1px 2px rgba(60, 64, 67, 0.3), 0px 1px 3px 1px rgba(60, 64, 67, 0.15);\n",
              "      fill: #174EA6;\n",
              "    }\n",
              "\n",
              "    .colab-df-buttons div {\n",
              "      margin-bottom: 4px;\n",
              "    }\n",
              "\n",
              "    [theme=dark] .colab-df-convert {\n",
              "      background-color: #3B4455;\n",
              "      fill: #D2E3FC;\n",
              "    }\n",
              "\n",
              "    [theme=dark] .colab-df-convert:hover {\n",
              "      background-color: #434B5C;\n",
              "      box-shadow: 0px 1px 3px 1px rgba(0, 0, 0, 0.15);\n",
              "      filter: drop-shadow(0px 1px 2px rgba(0, 0, 0, 0.3));\n",
              "      fill: #FFFFFF;\n",
              "    }\n",
              "  </style>\n",
              "\n",
              "    <script>\n",
              "      const buttonEl =\n",
              "        document.querySelector('#df-2805eaeb-c80d-4dc9-bf03-4fa657f3d6bb button.colab-df-convert');\n",
              "      buttonEl.style.display =\n",
              "        google.colab.kernel.accessAllowed ? 'block' : 'none';\n",
              "\n",
              "      async function convertToInteractive(key) {\n",
              "        const element = document.querySelector('#df-2805eaeb-c80d-4dc9-bf03-4fa657f3d6bb');\n",
              "        const dataTable =\n",
              "          await google.colab.kernel.invokeFunction('convertToInteractive',\n",
              "                                                    [key], {});\n",
              "        if (!dataTable) return;\n",
              "\n",
              "        const docLinkHtml = 'Like what you see? Visit the ' +\n",
              "          '<a target=\"_blank\" href=https://colab.research.google.com/notebooks/data_table.ipynb>data table notebook</a>'\n",
              "          + ' to learn more about interactive tables.';\n",
              "        element.innerHTML = '';\n",
              "        dataTable['output_type'] = 'display_data';\n",
              "        await google.colab.output.renderOutput(dataTable, element);\n",
              "        const docLink = document.createElement('div');\n",
              "        docLink.innerHTML = docLinkHtml;\n",
              "        element.appendChild(docLink);\n",
              "      }\n",
              "    </script>\n",
              "  </div>\n",
              "\n",
              "\n",
              "    <div id=\"df-b0d41b78-03d2-4312-ac4e-92d724b89e61\">\n",
              "      <button class=\"colab-df-quickchart\" onclick=\"quickchart('df-b0d41b78-03d2-4312-ac4e-92d724b89e61')\"\n",
              "                title=\"Suggest charts\"\n",
              "                style=\"display:none;\">\n",
              "\n",
              "<svg xmlns=\"http://www.w3.org/2000/svg\" height=\"24px\"viewBox=\"0 0 24 24\"\n",
              "     width=\"24px\">\n",
              "    <g>\n",
              "        <path d=\"M19 3H5c-1.1 0-2 .9-2 2v14c0 1.1.9 2 2 2h14c1.1 0 2-.9 2-2V5c0-1.1-.9-2-2-2zM9 17H7v-7h2v7zm4 0h-2V7h2v10zm4 0h-2v-4h2v4z\"/>\n",
              "    </g>\n",
              "</svg>\n",
              "      </button>\n",
              "\n",
              "<style>\n",
              "  .colab-df-quickchart {\n",
              "      --bg-color: #E8F0FE;\n",
              "      --fill-color: #1967D2;\n",
              "      --hover-bg-color: #E2EBFA;\n",
              "      --hover-fill-color: #174EA6;\n",
              "      --disabled-fill-color: #AAA;\n",
              "      --disabled-bg-color: #DDD;\n",
              "  }\n",
              "\n",
              "  [theme=dark] .colab-df-quickchart {\n",
              "      --bg-color: #3B4455;\n",
              "      --fill-color: #D2E3FC;\n",
              "      --hover-bg-color: #434B5C;\n",
              "      --hover-fill-color: #FFFFFF;\n",
              "      --disabled-bg-color: #3B4455;\n",
              "      --disabled-fill-color: #666;\n",
              "  }\n",
              "\n",
              "  .colab-df-quickchart {\n",
              "    background-color: var(--bg-color);\n",
              "    border: none;\n",
              "    border-radius: 50%;\n",
              "    cursor: pointer;\n",
              "    display: none;\n",
              "    fill: var(--fill-color);\n",
              "    height: 32px;\n",
              "    padding: 0;\n",
              "    width: 32px;\n",
              "  }\n",
              "\n",
              "  .colab-df-quickchart:hover {\n",
              "    background-color: var(--hover-bg-color);\n",
              "    box-shadow: 0 1px 2px rgba(60, 64, 67, 0.3), 0 1px 3px 1px rgba(60, 64, 67, 0.15);\n",
              "    fill: var(--button-hover-fill-color);\n",
              "  }\n",
              "\n",
              "  .colab-df-quickchart-complete:disabled,\n",
              "  .colab-df-quickchart-complete:disabled:hover {\n",
              "    background-color: var(--disabled-bg-color);\n",
              "    fill: var(--disabled-fill-color);\n",
              "    box-shadow: none;\n",
              "  }\n",
              "\n",
              "  .colab-df-spinner {\n",
              "    border: 2px solid var(--fill-color);\n",
              "    border-color: transparent;\n",
              "    border-bottom-color: var(--fill-color);\n",
              "    animation:\n",
              "      spin 1s steps(1) infinite;\n",
              "  }\n",
              "\n",
              "  @keyframes spin {\n",
              "    0% {\n",
              "      border-color: transparent;\n",
              "      border-bottom-color: var(--fill-color);\n",
              "      border-left-color: var(--fill-color);\n",
              "    }\n",
              "    20% {\n",
              "      border-color: transparent;\n",
              "      border-left-color: var(--fill-color);\n",
              "      border-top-color: var(--fill-color);\n",
              "    }\n",
              "    30% {\n",
              "      border-color: transparent;\n",
              "      border-left-color: var(--fill-color);\n",
              "      border-top-color: var(--fill-color);\n",
              "      border-right-color: var(--fill-color);\n",
              "    }\n",
              "    40% {\n",
              "      border-color: transparent;\n",
              "      border-right-color: var(--fill-color);\n",
              "      border-top-color: var(--fill-color);\n",
              "    }\n",
              "    60% {\n",
              "      border-color: transparent;\n",
              "      border-right-color: var(--fill-color);\n",
              "    }\n",
              "    80% {\n",
              "      border-color: transparent;\n",
              "      border-right-color: var(--fill-color);\n",
              "      border-bottom-color: var(--fill-color);\n",
              "    }\n",
              "    90% {\n",
              "      border-color: transparent;\n",
              "      border-bottom-color: var(--fill-color);\n",
              "    }\n",
              "  }\n",
              "</style>\n",
              "\n",
              "      <script>\n",
              "        async function quickchart(key) {\n",
              "          const quickchartButtonEl =\n",
              "            document.querySelector('#' + key + ' button');\n",
              "          quickchartButtonEl.disabled = true;  // To prevent multiple clicks.\n",
              "          quickchartButtonEl.classList.add('colab-df-spinner');\n",
              "          try {\n",
              "            const charts = await google.colab.kernel.invokeFunction(\n",
              "                'suggestCharts', [key], {});\n",
              "          } catch (error) {\n",
              "            console.error('Error during call to suggestCharts:', error);\n",
              "          }\n",
              "          quickchartButtonEl.classList.remove('colab-df-spinner');\n",
              "          quickchartButtonEl.classList.add('colab-df-quickchart-complete');\n",
              "        }\n",
              "        (() => {\n",
              "          let quickchartButtonEl =\n",
              "            document.querySelector('#df-b0d41b78-03d2-4312-ac4e-92d724b89e61 button');\n",
              "          quickchartButtonEl.style.display =\n",
              "            google.colab.kernel.accessAllowed ? 'block' : 'none';\n",
              "        })();\n",
              "      </script>\n",
              "    </div>\n",
              "\n",
              "    </div>\n",
              "  </div>\n"
            ],
            "application/vnd.google.colaboratory.intrinsic+json": {
              "type": "dataframe",
              "variable_name": "data"
            }
          },
          "metadata": {},
          "execution_count": 27
        }
      ]
    },
    {
      "cell_type": "code",
      "source": [],
      "metadata": {
        "id": "kgSfXCEioJC2"
      },
      "execution_count": null,
      "outputs": []
    }
  ]
}