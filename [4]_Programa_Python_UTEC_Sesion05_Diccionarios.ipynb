{
  "nbformat": 4,
  "nbformat_minor": 0,
  "metadata": {
    "colab": {
      "provenance": [],
      "include_colab_link": true
    },
    "kernelspec": {
      "name": "python3",
      "display_name": "Python 3"
    },
    "language_info": {
      "name": "python"
    }
  },
  "cells": [
    {
      "cell_type": "markdown",
      "metadata": {
        "id": "view-in-github",
        "colab_type": "text"
      },
      "source": [
        "<a href=\"https://colab.research.google.com/github/evaristo2020/Python-Clases-UTEC-2025/blob/main/%5B4%5D_Programa_Python_UTEC_Sesion05_Diccionarios.ipynb\" target=\"_parent\"><img src=\"https://colab.research.google.com/assets/colab-badge.svg\" alt=\"Open In Colab\"/></a>"
      ]
    },
    {
      "cell_type": "markdown",
      "source": [
        "# Diccionarios"
      ],
      "metadata": {
        "id": "FJ-tqOCBf5l8"
      }
    },
    {
      "cell_type": "markdown",
      "source": [
        "A partir de un resultado de la librería collections"
      ],
      "metadata": {
        "id": "LD8f8tEvVeeD"
      }
    },
    {
      "cell_type": "code",
      "execution_count": null,
      "metadata": {
        "id": "9b6dksRZfwcO"
      },
      "outputs": [],
      "source": [
        "texto = \"banana\""
      ]
    },
    {
      "cell_type": "code",
      "source": [
        "from collections import Counter\n",
        "\n",
        "frecuencia = Counter(texto)\n",
        "\n",
        "d_frecuencia = dict(frecuencia) # convertir un objeto a diccionario"
      ],
      "metadata": {
        "id": "v4V24XIQf7UV"
      },
      "execution_count": null,
      "outputs": []
    },
    {
      "cell_type": "code",
      "source": [
        "print(f\"El objeto resultante de Counter es \\n{frecuencia}\")\n",
        "print(f\"El tipo de objeto es {type(frecuencia)}\")"
      ],
      "metadata": {
        "colab": {
          "base_uri": "https://localhost:8080/"
        },
        "id": "qSlw30CATwWj",
        "outputId": "3d8e8b21-a7a3-498f-9185-9698033a7ce0"
      },
      "execution_count": null,
      "outputs": [
        {
          "output_type": "stream",
          "name": "stdout",
          "text": [
            "El objeto resultante de Counter es \n",
            "Counter({'a': 3, 'n': 2, 'b': 1})\n",
            "El tipo de objeto es <class 'collections.Counter'>\n"
          ]
        }
      ]
    },
    {
      "cell_type": "code",
      "source": [
        "print(f\"El diccionario d_frecuencia es \\n{d_frecuencia}\")\n",
        "print(f\"El tipo de objeto es {type(d_frecuencia)}\")"
      ],
      "metadata": {
        "colab": {
          "base_uri": "https://localhost:8080/"
        },
        "id": "HcssaSi7geQr",
        "outputId": "90f78ace-95f4-41db-a41d-4eaef74f4a73"
      },
      "execution_count": null,
      "outputs": [
        {
          "output_type": "stream",
          "name": "stdout",
          "text": [
            "El diccionario d_frecuencia es \n",
            "{'b': 1, 'a': 3, 'n': 2}\n",
            "El tipo de objeto es <class 'dict'>\n"
          ]
        }
      ]
    },
    {
      "cell_type": "code",
      "source": [
        "print(f\"El valor relacionado a la clave 'b' es \\n{d_frecuencia['b']}\")"
      ],
      "metadata": {
        "colab": {
          "base_uri": "https://localhost:8080/"
        },
        "id": "8_Rd7KyTUyg8",
        "outputId": "df29d6d6-9351-4e6a-a3c5-258f0654e637"
      },
      "execution_count": null,
      "outputs": [
        {
          "output_type": "stream",
          "name": "stdout",
          "text": [
            "El valor relacionado a la clave 'b' es \n",
            "1\n"
          ]
        }
      ]
    },
    {
      "cell_type": "code",
      "source": [
        "print(f\"La clave U del Diccionario es {d_frecuencia['U']}\")"
      ],
      "metadata": {
        "colab": {
          "base_uri": "https://localhost:8080/",
          "height": 144
        },
        "id": "2S-htzuygqYG",
        "outputId": "cca73142-c1b0-40ec-ae0d-b3742e2097a1"
      },
      "execution_count": null,
      "outputs": [
        {
          "output_type": "error",
          "ename": "KeyError",
          "evalue": "'U'",
          "traceback": [
            "\u001b[0;31m---------------------------------------------------------------------------\u001b[0m",
            "\u001b[0;31mKeyError\u001b[0m                                  Traceback (most recent call last)",
            "\u001b[0;32m/tmp/ipython-input-3589077759.py\u001b[0m in \u001b[0;36m<cell line: 0>\u001b[0;34m()\u001b[0m\n\u001b[0;32m----> 1\u001b[0;31m \u001b[0mprint\u001b[0m\u001b[0;34m(\u001b[0m\u001b[0;34mf\"La clave U del Diccionario es {d_frecuencia['U']}\"\u001b[0m\u001b[0;34m)\u001b[0m\u001b[0;34m\u001b[0m\u001b[0;34m\u001b[0m\u001b[0m\n\u001b[0m",
            "\u001b[0;31mKeyError\u001b[0m: 'U'"
          ]
        }
      ]
    },
    {
      "cell_type": "markdown",
      "source": [
        "A partir del uso de la librería pandas"
      ],
      "metadata": {
        "id": "jSdRcMu3VkR0"
      }
    },
    {
      "cell_type": "code",
      "source": [
        "import pandas as pd\n",
        "\n",
        "df = pd.read_csv(\"clientes.csv\", sep=';')"
      ],
      "metadata": {
        "id": "Spmc733-hEgD"
      },
      "execution_count": null,
      "outputs": []
    },
    {
      "cell_type": "code",
      "source": [
        "print(f\"El objeto es del tipo {type(df)}\")"
      ],
      "metadata": {
        "colab": {
          "base_uri": "https://localhost:8080/"
        },
        "id": "CxXK1gOKWBnI",
        "outputId": "b6cfe4af-af4b-4261-da30-e4f331fbeaea"
      },
      "execution_count": null,
      "outputs": [
        {
          "output_type": "stream",
          "name": "stdout",
          "text": [
            "El objeto es del tipo <class 'pandas.core.frame.DataFrame'>\n"
          ]
        }
      ]
    },
    {
      "cell_type": "code",
      "source": [
        "df"
      ],
      "metadata": {
        "colab": {
          "base_uri": "https://localhost:8080/",
          "height": 300
        },
        "id": "M4uUCx1kXAlo",
        "outputId": "e4813b61-c9f6-4421-f7e2-75138726013f"
      },
      "execution_count": null,
      "outputs": [
        {
          "output_type": "execute_result",
          "data": {
            "text/plain": [
              "    ID  EDAD  INGRESOS RIESGO  LINEA_TC\n",
              "0  123    36      1348      A     49924\n",
              "1  234    52      9479      A     28454\n",
              "2  345    60      7511      B     14250\n",
              "3  456    40      7992      C     32064\n",
              "4  567    58      2675      C      1485\n",
              "5  678    47      7086      D     29157\n",
              "6  789    31      4704      E     14945\n",
              "7  999    42      6245      E      8798"
            ],
            "text/html": [
              "\n",
              "  <div id=\"df-39db39a8-8c79-4103-9c83-4274bcc9d84f\" class=\"colab-df-container\">\n",
              "    <div>\n",
              "<style scoped>\n",
              "    .dataframe tbody tr th:only-of-type {\n",
              "        vertical-align: middle;\n",
              "    }\n",
              "\n",
              "    .dataframe tbody tr th {\n",
              "        vertical-align: top;\n",
              "    }\n",
              "\n",
              "    .dataframe thead th {\n",
              "        text-align: right;\n",
              "    }\n",
              "</style>\n",
              "<table border=\"1\" class=\"dataframe\">\n",
              "  <thead>\n",
              "    <tr style=\"text-align: right;\">\n",
              "      <th></th>\n",
              "      <th>ID</th>\n",
              "      <th>EDAD</th>\n",
              "      <th>INGRESOS</th>\n",
              "      <th>RIESGO</th>\n",
              "      <th>LINEA_TC</th>\n",
              "    </tr>\n",
              "  </thead>\n",
              "  <tbody>\n",
              "    <tr>\n",
              "      <th>0</th>\n",
              "      <td>123</td>\n",
              "      <td>36</td>\n",
              "      <td>1348</td>\n",
              "      <td>A</td>\n",
              "      <td>49924</td>\n",
              "    </tr>\n",
              "    <tr>\n",
              "      <th>1</th>\n",
              "      <td>234</td>\n",
              "      <td>52</td>\n",
              "      <td>9479</td>\n",
              "      <td>A</td>\n",
              "      <td>28454</td>\n",
              "    </tr>\n",
              "    <tr>\n",
              "      <th>2</th>\n",
              "      <td>345</td>\n",
              "      <td>60</td>\n",
              "      <td>7511</td>\n",
              "      <td>B</td>\n",
              "      <td>14250</td>\n",
              "    </tr>\n",
              "    <tr>\n",
              "      <th>3</th>\n",
              "      <td>456</td>\n",
              "      <td>40</td>\n",
              "      <td>7992</td>\n",
              "      <td>C</td>\n",
              "      <td>32064</td>\n",
              "    </tr>\n",
              "    <tr>\n",
              "      <th>4</th>\n",
              "      <td>567</td>\n",
              "      <td>58</td>\n",
              "      <td>2675</td>\n",
              "      <td>C</td>\n",
              "      <td>1485</td>\n",
              "    </tr>\n",
              "    <tr>\n",
              "      <th>5</th>\n",
              "      <td>678</td>\n",
              "      <td>47</td>\n",
              "      <td>7086</td>\n",
              "      <td>D</td>\n",
              "      <td>29157</td>\n",
              "    </tr>\n",
              "    <tr>\n",
              "      <th>6</th>\n",
              "      <td>789</td>\n",
              "      <td>31</td>\n",
              "      <td>4704</td>\n",
              "      <td>E</td>\n",
              "      <td>14945</td>\n",
              "    </tr>\n",
              "    <tr>\n",
              "      <th>7</th>\n",
              "      <td>999</td>\n",
              "      <td>42</td>\n",
              "      <td>6245</td>\n",
              "      <td>E</td>\n",
              "      <td>8798</td>\n",
              "    </tr>\n",
              "  </tbody>\n",
              "</table>\n",
              "</div>\n",
              "    <div class=\"colab-df-buttons\">\n",
              "\n",
              "  <div class=\"colab-df-container\">\n",
              "    <button class=\"colab-df-convert\" onclick=\"convertToInteractive('df-39db39a8-8c79-4103-9c83-4274bcc9d84f')\"\n",
              "            title=\"Convert this dataframe to an interactive table.\"\n",
              "            style=\"display:none;\">\n",
              "\n",
              "  <svg xmlns=\"http://www.w3.org/2000/svg\" height=\"24px\" viewBox=\"0 -960 960 960\">\n",
              "    <path d=\"M120-120v-720h720v720H120Zm60-500h600v-160H180v160Zm220 220h160v-160H400v160Zm0 220h160v-160H400v160ZM180-400h160v-160H180v160Zm440 0h160v-160H620v160ZM180-180h160v-160H180v160Zm440 0h160v-160H620v160Z\"/>\n",
              "  </svg>\n",
              "    </button>\n",
              "\n",
              "  <style>\n",
              "    .colab-df-container {\n",
              "      display:flex;\n",
              "      gap: 12px;\n",
              "    }\n",
              "\n",
              "    .colab-df-convert {\n",
              "      background-color: #E8F0FE;\n",
              "      border: none;\n",
              "      border-radius: 50%;\n",
              "      cursor: pointer;\n",
              "      display: none;\n",
              "      fill: #1967D2;\n",
              "      height: 32px;\n",
              "      padding: 0 0 0 0;\n",
              "      width: 32px;\n",
              "    }\n",
              "\n",
              "    .colab-df-convert:hover {\n",
              "      background-color: #E2EBFA;\n",
              "      box-shadow: 0px 1px 2px rgba(60, 64, 67, 0.3), 0px 1px 3px 1px rgba(60, 64, 67, 0.15);\n",
              "      fill: #174EA6;\n",
              "    }\n",
              "\n",
              "    .colab-df-buttons div {\n",
              "      margin-bottom: 4px;\n",
              "    }\n",
              "\n",
              "    [theme=dark] .colab-df-convert {\n",
              "      background-color: #3B4455;\n",
              "      fill: #D2E3FC;\n",
              "    }\n",
              "\n",
              "    [theme=dark] .colab-df-convert:hover {\n",
              "      background-color: #434B5C;\n",
              "      box-shadow: 0px 1px 3px 1px rgba(0, 0, 0, 0.15);\n",
              "      filter: drop-shadow(0px 1px 2px rgba(0, 0, 0, 0.3));\n",
              "      fill: #FFFFFF;\n",
              "    }\n",
              "  </style>\n",
              "\n",
              "    <script>\n",
              "      const buttonEl =\n",
              "        document.querySelector('#df-39db39a8-8c79-4103-9c83-4274bcc9d84f button.colab-df-convert');\n",
              "      buttonEl.style.display =\n",
              "        google.colab.kernel.accessAllowed ? 'block' : 'none';\n",
              "\n",
              "      async function convertToInteractive(key) {\n",
              "        const element = document.querySelector('#df-39db39a8-8c79-4103-9c83-4274bcc9d84f');\n",
              "        const dataTable =\n",
              "          await google.colab.kernel.invokeFunction('convertToInteractive',\n",
              "                                                    [key], {});\n",
              "        if (!dataTable) return;\n",
              "\n",
              "        const docLinkHtml = 'Like what you see? Visit the ' +\n",
              "          '<a target=\"_blank\" href=https://colab.research.google.com/notebooks/data_table.ipynb>data table notebook</a>'\n",
              "          + ' to learn more about interactive tables.';\n",
              "        element.innerHTML = '';\n",
              "        dataTable['output_type'] = 'display_data';\n",
              "        await google.colab.output.renderOutput(dataTable, element);\n",
              "        const docLink = document.createElement('div');\n",
              "        docLink.innerHTML = docLinkHtml;\n",
              "        element.appendChild(docLink);\n",
              "      }\n",
              "    </script>\n",
              "  </div>\n",
              "\n",
              "\n",
              "    <div id=\"df-b6e4da66-7236-4e8d-b719-cda2ff89ac88\">\n",
              "      <button class=\"colab-df-quickchart\" onclick=\"quickchart('df-b6e4da66-7236-4e8d-b719-cda2ff89ac88')\"\n",
              "                title=\"Suggest charts\"\n",
              "                style=\"display:none;\">\n",
              "\n",
              "<svg xmlns=\"http://www.w3.org/2000/svg\" height=\"24px\"viewBox=\"0 0 24 24\"\n",
              "     width=\"24px\">\n",
              "    <g>\n",
              "        <path d=\"M19 3H5c-1.1 0-2 .9-2 2v14c0 1.1.9 2 2 2h14c1.1 0 2-.9 2-2V5c0-1.1-.9-2-2-2zM9 17H7v-7h2v7zm4 0h-2V7h2v10zm4 0h-2v-4h2v4z\"/>\n",
              "    </g>\n",
              "</svg>\n",
              "      </button>\n",
              "\n",
              "<style>\n",
              "  .colab-df-quickchart {\n",
              "      --bg-color: #E8F0FE;\n",
              "      --fill-color: #1967D2;\n",
              "      --hover-bg-color: #E2EBFA;\n",
              "      --hover-fill-color: #174EA6;\n",
              "      --disabled-fill-color: #AAA;\n",
              "      --disabled-bg-color: #DDD;\n",
              "  }\n",
              "\n",
              "  [theme=dark] .colab-df-quickchart {\n",
              "      --bg-color: #3B4455;\n",
              "      --fill-color: #D2E3FC;\n",
              "      --hover-bg-color: #434B5C;\n",
              "      --hover-fill-color: #FFFFFF;\n",
              "      --disabled-bg-color: #3B4455;\n",
              "      --disabled-fill-color: #666;\n",
              "  }\n",
              "\n",
              "  .colab-df-quickchart {\n",
              "    background-color: var(--bg-color);\n",
              "    border: none;\n",
              "    border-radius: 50%;\n",
              "    cursor: pointer;\n",
              "    display: none;\n",
              "    fill: var(--fill-color);\n",
              "    height: 32px;\n",
              "    padding: 0;\n",
              "    width: 32px;\n",
              "  }\n",
              "\n",
              "  .colab-df-quickchart:hover {\n",
              "    background-color: var(--hover-bg-color);\n",
              "    box-shadow: 0 1px 2px rgba(60, 64, 67, 0.3), 0 1px 3px 1px rgba(60, 64, 67, 0.15);\n",
              "    fill: var(--button-hover-fill-color);\n",
              "  }\n",
              "\n",
              "  .colab-df-quickchart-complete:disabled,\n",
              "  .colab-df-quickchart-complete:disabled:hover {\n",
              "    background-color: var(--disabled-bg-color);\n",
              "    fill: var(--disabled-fill-color);\n",
              "    box-shadow: none;\n",
              "  }\n",
              "\n",
              "  .colab-df-spinner {\n",
              "    border: 2px solid var(--fill-color);\n",
              "    border-color: transparent;\n",
              "    border-bottom-color: var(--fill-color);\n",
              "    animation:\n",
              "      spin 1s steps(1) infinite;\n",
              "  }\n",
              "\n",
              "  @keyframes spin {\n",
              "    0% {\n",
              "      border-color: transparent;\n",
              "      border-bottom-color: var(--fill-color);\n",
              "      border-left-color: var(--fill-color);\n",
              "    }\n",
              "    20% {\n",
              "      border-color: transparent;\n",
              "      border-left-color: var(--fill-color);\n",
              "      border-top-color: var(--fill-color);\n",
              "    }\n",
              "    30% {\n",
              "      border-color: transparent;\n",
              "      border-left-color: var(--fill-color);\n",
              "      border-top-color: var(--fill-color);\n",
              "      border-right-color: var(--fill-color);\n",
              "    }\n",
              "    40% {\n",
              "      border-color: transparent;\n",
              "      border-right-color: var(--fill-color);\n",
              "      border-top-color: var(--fill-color);\n",
              "    }\n",
              "    60% {\n",
              "      border-color: transparent;\n",
              "      border-right-color: var(--fill-color);\n",
              "    }\n",
              "    80% {\n",
              "      border-color: transparent;\n",
              "      border-right-color: var(--fill-color);\n",
              "      border-bottom-color: var(--fill-color);\n",
              "    }\n",
              "    90% {\n",
              "      border-color: transparent;\n",
              "      border-bottom-color: var(--fill-color);\n",
              "    }\n",
              "  }\n",
              "</style>\n",
              "\n",
              "      <script>\n",
              "        async function quickchart(key) {\n",
              "          const quickchartButtonEl =\n",
              "            document.querySelector('#' + key + ' button');\n",
              "          quickchartButtonEl.disabled = true;  // To prevent multiple clicks.\n",
              "          quickchartButtonEl.classList.add('colab-df-spinner');\n",
              "          try {\n",
              "            const charts = await google.colab.kernel.invokeFunction(\n",
              "                'suggestCharts', [key], {});\n",
              "          } catch (error) {\n",
              "            console.error('Error during call to suggestCharts:', error);\n",
              "          }\n",
              "          quickchartButtonEl.classList.remove('colab-df-spinner');\n",
              "          quickchartButtonEl.classList.add('colab-df-quickchart-complete');\n",
              "        }\n",
              "        (() => {\n",
              "          let quickchartButtonEl =\n",
              "            document.querySelector('#df-b6e4da66-7236-4e8d-b719-cda2ff89ac88 button');\n",
              "          quickchartButtonEl.style.display =\n",
              "            google.colab.kernel.accessAllowed ? 'block' : 'none';\n",
              "        })();\n",
              "      </script>\n",
              "    </div>\n",
              "\n",
              "  <div id=\"id_d52b5fa9-0e3b-4b8c-90cf-70761e3d2056\">\n",
              "    <style>\n",
              "      .colab-df-generate {\n",
              "        background-color: #E8F0FE;\n",
              "        border: none;\n",
              "        border-radius: 50%;\n",
              "        cursor: pointer;\n",
              "        display: none;\n",
              "        fill: #1967D2;\n",
              "        height: 32px;\n",
              "        padding: 0 0 0 0;\n",
              "        width: 32px;\n",
              "      }\n",
              "\n",
              "      .colab-df-generate:hover {\n",
              "        background-color: #E2EBFA;\n",
              "        box-shadow: 0px 1px 2px rgba(60, 64, 67, 0.3), 0px 1px 3px 1px rgba(60, 64, 67, 0.15);\n",
              "        fill: #174EA6;\n",
              "      }\n",
              "\n",
              "      [theme=dark] .colab-df-generate {\n",
              "        background-color: #3B4455;\n",
              "        fill: #D2E3FC;\n",
              "      }\n",
              "\n",
              "      [theme=dark] .colab-df-generate:hover {\n",
              "        background-color: #434B5C;\n",
              "        box-shadow: 0px 1px 3px 1px rgba(0, 0, 0, 0.15);\n",
              "        filter: drop-shadow(0px 1px 2px rgba(0, 0, 0, 0.3));\n",
              "        fill: #FFFFFF;\n",
              "      }\n",
              "    </style>\n",
              "    <button class=\"colab-df-generate\" onclick=\"generateWithVariable('df')\"\n",
              "            title=\"Generate code using this dataframe.\"\n",
              "            style=\"display:none;\">\n",
              "\n",
              "  <svg xmlns=\"http://www.w3.org/2000/svg\" height=\"24px\"viewBox=\"0 0 24 24\"\n",
              "       width=\"24px\">\n",
              "    <path d=\"M7,19H8.4L18.45,9,17,7.55,7,17.6ZM5,21V16.75L18.45,3.32a2,2,0,0,1,2.83,0l1.4,1.43a1.91,1.91,0,0,1,.58,1.4,1.91,1.91,0,0,1-.58,1.4L9.25,21ZM18.45,9,17,7.55Zm-12,3A5.31,5.31,0,0,0,4.9,8.1,5.31,5.31,0,0,0,1,6.5,5.31,5.31,0,0,0,4.9,4.9,5.31,5.31,0,0,0,6.5,1,5.31,5.31,0,0,0,8.1,4.9,5.31,5.31,0,0,0,12,6.5,5.46,5.46,0,0,0,6.5,12Z\"/>\n",
              "  </svg>\n",
              "    </button>\n",
              "    <script>\n",
              "      (() => {\n",
              "      const buttonEl =\n",
              "        document.querySelector('#id_d52b5fa9-0e3b-4b8c-90cf-70761e3d2056 button.colab-df-generate');\n",
              "      buttonEl.style.display =\n",
              "        google.colab.kernel.accessAllowed ? 'block' : 'none';\n",
              "\n",
              "      buttonEl.onclick = () => {\n",
              "        google.colab.notebook.generateWithVariable('df');\n",
              "      }\n",
              "      })();\n",
              "    </script>\n",
              "  </div>\n",
              "\n",
              "    </div>\n",
              "  </div>\n"
            ],
            "application/vnd.google.colaboratory.intrinsic+json": {
              "type": "dataframe",
              "variable_name": "df",
              "summary": "{\n  \"name\": \"df\",\n  \"rows\": 8,\n  \"fields\": [\n    {\n      \"column\": \"ID\",\n      \"properties\": {\n        \"dtype\": \"number\",\n        \"std\": 293,\n        \"min\": 123,\n        \"max\": 999,\n        \"num_unique_values\": 8,\n        \"samples\": [\n          234,\n          678,\n          123\n        ],\n        \"semantic_type\": \"\",\n        \"description\": \"\"\n      }\n    },\n    {\n      \"column\": \"EDAD\",\n      \"properties\": {\n        \"dtype\": \"number\",\n        \"std\": 10,\n        \"min\": 31,\n        \"max\": 60,\n        \"num_unique_values\": 8,\n        \"samples\": [\n          52,\n          47,\n          36\n        ],\n        \"semantic_type\": \"\",\n        \"description\": \"\"\n      }\n    },\n    {\n      \"column\": \"INGRESOS\",\n      \"properties\": {\n        \"dtype\": \"number\",\n        \"std\": 2773,\n        \"min\": 1348,\n        \"max\": 9479,\n        \"num_unique_values\": 8,\n        \"samples\": [\n          9479,\n          7086,\n          1348\n        ],\n        \"semantic_type\": \"\",\n        \"description\": \"\"\n      }\n    },\n    {\n      \"column\": \"RIESGO\",\n      \"properties\": {\n        \"dtype\": \"string\",\n        \"num_unique_values\": 5,\n        \"samples\": [\n          \"B\",\n          \"E\",\n          \"C\"\n        ],\n        \"semantic_type\": \"\",\n        \"description\": \"\"\n      }\n    },\n    {\n      \"column\": \"LINEA_TC\",\n      \"properties\": {\n        \"dtype\": \"number\",\n        \"std\": 15481,\n        \"min\": 1485,\n        \"max\": 49924,\n        \"num_unique_values\": 8,\n        \"samples\": [\n          28454,\n          29157,\n          49924\n        ],\n        \"semantic_type\": \"\",\n        \"description\": \"\"\n      }\n    }\n  ]\n}"
            }
          },
          "metadata": {},
          "execution_count": 12
        }
      ]
    },
    {
      "cell_type": "code",
      "source": [
        "d_df = df.to_dict() # Convertimos el objeto DataFrame en un diccionario"
      ],
      "metadata": {
        "id": "KHswj3N6WMAj"
      },
      "execution_count": null,
      "outputs": []
    },
    {
      "cell_type": "code",
      "source": [
        "print(f\"El diccionario resultante es \\n{d_df}\")"
      ],
      "metadata": {
        "colab": {
          "base_uri": "https://localhost:8080/"
        },
        "id": "2HsljNUxb4PV",
        "outputId": "2f9ca02d-d3b1-4108-9f37-da36c54c6c47"
      },
      "execution_count": null,
      "outputs": [
        {
          "output_type": "stream",
          "name": "stdout",
          "text": [
            "El diccionario resultante es \n",
            "{'ID': {0: 123, 1: 234, 2: 345, 3: 456, 4: 567, 5: 678, 6: 789, 7: 999}, 'EDAD': {0: 36, 1: 52, 2: 60, 3: 40, 4: 58, 5: 47, 6: 31, 7: 42}, 'INGRESOS': {0: 1348, 1: 9479, 2: 7511, 3: 7992, 4: 2675, 5: 7086, 6: 4704, 7: 6245}, 'RIESGO': {0: 'A', 1: 'A', 2: 'B', 3: 'C', 4: 'C', 5: 'D', 6: 'E', 7: 'E'}, 'LINEA_TC': {0: 49924, 1: 28454, 2: 14250, 3: 32064, 4: 1485, 5: 29157, 6: 14945, 7: 8798}}\n"
          ]
        }
      ]
    },
    {
      "cell_type": "code",
      "source": [
        "print(f\"El valor de la clave ID del diccionario es {d_df['ID']}\")"
      ],
      "metadata": {
        "colab": {
          "base_uri": "https://localhost:8080/"
        },
        "id": "TJzy4nG5WUx0",
        "outputId": "432b1c62-922c-41e9-c469-135a41ac03a7"
      },
      "execution_count": null,
      "outputs": [
        {
          "output_type": "stream",
          "name": "stdout",
          "text": [
            "El valor de la clave ID del diccionario es {0: 123, 1: 234, 2: 345, 3: 456, 4: 567, 5: 678, 6: 789, 7: 999}\n"
          ]
        }
      ]
    },
    {
      "cell_type": "code",
      "source": [
        "print(f\"El valor de la clave ID del diccionario es {d_df['EDAD']}\")"
      ],
      "metadata": {
        "colab": {
          "base_uri": "https://localhost:8080/"
        },
        "id": "e7dpY4_XYbLB",
        "outputId": "5763e01f-1b23-4e5f-9346-af37af435ffc"
      },
      "execution_count": null,
      "outputs": [
        {
          "output_type": "stream",
          "name": "stdout",
          "text": [
            "El valor de la clave ID del diccionario es {0: 36, 1: 52, 2: 60, 3: 40, 4: 58, 5: 47, 6: 31, 7: 42}\n"
          ]
        }
      ]
    },
    {
      "cell_type": "code",
      "source": [
        "print(f\"El valor de la clave ID del diccionario es {type(d_df['EDAD'])}\")"
      ],
      "metadata": {
        "colab": {
          "base_uri": "https://localhost:8080/"
        },
        "id": "iDWEjcrvYe9C",
        "outputId": "8357b918-653c-43e2-d5c0-d1973adf9304"
      },
      "execution_count": null,
      "outputs": [
        {
          "output_type": "stream",
          "name": "stdout",
          "text": [
            "El valor de la clave ID del diccionario es <class 'dict'>\n"
          ]
        }
      ]
    },
    {
      "cell_type": "code",
      "source": [
        "print(f\"El valor es {d_df['EDAD'][2]}\")"
      ],
      "metadata": {
        "colab": {
          "base_uri": "https://localhost:8080/"
        },
        "id": "omQ3ZZQvYjd2",
        "outputId": "2e826cad-bda2-4955-98ed-ba344ba564d8"
      },
      "execution_count": null,
      "outputs": [
        {
          "output_type": "stream",
          "name": "stdout",
          "text": [
            "El valor es 60\n"
          ]
        }
      ]
    },
    {
      "cell_type": "code",
      "source": [
        "dic_1 = d_df['EDAD']\n",
        "print(f\"El tipo de objeto es {type(dic_1)}\")"
      ],
      "metadata": {
        "colab": {
          "base_uri": "https://localhost:8080/"
        },
        "id": "7vZjytdEZ7pc",
        "outputId": "5d7f4e72-7a5a-440c-9149-644cf20b9c0c"
      },
      "execution_count": null,
      "outputs": [
        {
          "output_type": "stream",
          "name": "stdout",
          "text": [
            "El tipo de objeto es <class 'dict'>\n"
          ]
        }
      ]
    },
    {
      "cell_type": "code",
      "source": [
        "print(f\"El nuevo diccionario es {dic_1}\")"
      ],
      "metadata": {
        "colab": {
          "base_uri": "https://localhost:8080/"
        },
        "id": "wUkIsUk4a7Gp",
        "outputId": "e7b4c979-2030-4a90-9c14-483320b03efe"
      },
      "execution_count": null,
      "outputs": [
        {
          "output_type": "stream",
          "name": "stdout",
          "text": [
            "El nuevo diccionario es {0: 36, 1: 52, 2: 60, 3: 40, 4: 58, 5: 47, 6: 31, 7: 42}\n"
          ]
        }
      ]
    },
    {
      "cell_type": "code",
      "source": [
        "print(f\"El resultado es {dic_1[7]}\")"
      ],
      "metadata": {
        "colab": {
          "base_uri": "https://localhost:8080/"
        },
        "id": "RHP9ILr8bAkA",
        "outputId": "f52c4af0-b9a5-47d5-c5c3-f4766a4084dd"
      },
      "execution_count": null,
      "outputs": [
        {
          "output_type": "stream",
          "name": "stdout",
          "text": [
            "El resultado es 42\n"
          ]
        }
      ]
    },
    {
      "cell_type": "markdown",
      "source": [
        "## [1] Crear un diccionario"
      ],
      "metadata": {
        "id": "urp4ReM7cLBR"
      }
    },
    {
      "cell_type": "code",
      "source": [
        "dc_0 = {} # Diccionario vacío"
      ],
      "metadata": {
        "id": "QSYIRSO_bNzB"
      },
      "execution_count": null,
      "outputs": []
    },
    {
      "cell_type": "code",
      "source": [
        "print(f\"El tipo de objeto dc_0 es {type(dc_0)}\")"
      ],
      "metadata": {
        "colab": {
          "base_uri": "https://localhost:8080/"
        },
        "id": "IYWtmcXacPAU",
        "outputId": "22525e9d-8e78-438a-ada6-665f31a98d67"
      },
      "execution_count": null,
      "outputs": [
        {
          "output_type": "stream",
          "name": "stdout",
          "text": [
            "El tipo de objeto dc_0 es <class 'dict'>\n"
          ]
        }
      ]
    },
    {
      "cell_type": "markdown",
      "source": [
        "Diccionario Homogéneo: Diccionario con claves (caracteres) y valores (enteros)"
      ],
      "metadata": {
        "id": "0JTBSehAcr7I"
      }
    },
    {
      "cell_type": "code",
      "source": [
        "dc_1 = {\n",
        "    \"a\":1,\n",
        "    \"b\":2,\n",
        "    \"c\":3\n",
        "}\n",
        "\n",
        "print(f\"El objeto es {dc_1}\")\n",
        "print(f\"El objeto es {type(dc_1)}\")"
      ],
      "metadata": {
        "colab": {
          "base_uri": "https://localhost:8080/"
        },
        "id": "WYEkOwudcPPc",
        "outputId": "42d8e4ff-f013-40a7-f18f-3d3e37349202"
      },
      "execution_count": null,
      "outputs": [
        {
          "output_type": "stream",
          "name": "stdout",
          "text": [
            "El objeto es {'a': 1, 'b': 2, 'c': 3}\n",
            "El objeto es <class 'dict'>\n"
          ]
        }
      ]
    },
    {
      "cell_type": "markdown",
      "source": [
        "Diccionario Heterogénero: Diccionario con claves (caracteres) y los valores (distinto tipo)"
      ],
      "metadata": {
        "id": "3OJlw9J5dF5H"
      }
    },
    {
      "cell_type": "code",
      "source": [
        "dc_2 = {\n",
        "    \"a\":{\"x\":100},\n",
        "    \"b\":[10,20,30],\n",
        "    \"c\":(1,2,3,4,5)\n",
        "}"
      ],
      "metadata": {
        "id": "mpLrPPwccPfx"
      },
      "execution_count": null,
      "outputs": []
    },
    {
      "cell_type": "code",
      "source": [
        "print(f\"El elemento es {dc_2[\"a\"][\"x\"]}\")"
      ],
      "metadata": {
        "colab": {
          "base_uri": "https://localhost:8080/"
        },
        "id": "q7ig_va7cPqa",
        "outputId": "11c172f8-1a3f-4da2-ee1a-bc7992171496"
      },
      "execution_count": null,
      "outputs": [
        {
          "output_type": "stream",
          "name": "stdout",
          "text": [
            "El elemento es 100\n"
          ]
        }
      ]
    },
    {
      "cell_type": "markdown",
      "source": [
        "¿Los diccionarios pueden tener claves repetidas?"
      ],
      "metadata": {
        "id": "yaG5kCBnefkV"
      }
    },
    {
      "cell_type": "code",
      "source": [
        "dc_3 = {\n",
        "    \"a\":100,\n",
        "    \"b\":200,\n",
        "    \"a\":300\n",
        "}\n",
        "\n",
        "print(f\"El diccionario es {dc_3}\")"
      ],
      "metadata": {
        "colab": {
          "base_uri": "https://localhost:8080/"
        },
        "id": "3D4z3-2ecP7_",
        "outputId": "481954fd-569c-4573-ba8f-8437f0e5d415"
      },
      "execution_count": null,
      "outputs": [
        {
          "output_type": "stream",
          "name": "stdout",
          "text": [
            "El diccionario es {'a': 300, 'b': 200}\n"
          ]
        }
      ]
    },
    {
      "cell_type": "code",
      "source": [
        "dc_3 = {\n",
        "    \"a\":1000,\n",
        "    \"b\":200,\n",
        "    \"a\":300\n",
        "}\n",
        "\n",
        "print(f\"El diccionario es {dc_3}\")"
      ],
      "metadata": {
        "colab": {
          "base_uri": "https://localhost:8080/"
        },
        "id": "zLKTJWGVe6qm",
        "outputId": "458b8da1-177e-4d89-cc41-fb2a4634b708"
      },
      "execution_count": null,
      "outputs": [
        {
          "output_type": "stream",
          "name": "stdout",
          "text": [
            "El diccionario es {'a': 300, 'b': 200}\n"
          ]
        }
      ]
    },
    {
      "cell_type": "code",
      "source": [
        "# Diccionario dic_info\n",
        "\n",
        "dic_info = {\n",
        "    \"nombre\":\"david\",\n",
        "    \"apellido\":\"allende\",\n",
        "    \"edad\":37,\n",
        "    \"profesion\":\"ingeniero\"\n",
        "}"
      ],
      "metadata": {
        "id": "rEtOjgHLfCRV"
      },
      "execution_count": null,
      "outputs": []
    },
    {
      "cell_type": "code",
      "source": [
        "dc_4 = {\n",
        "    1:1,\n",
        "    2:2,\n",
        "    3:3,\n",
        "    4:4,\n",
        "    5:5\n",
        "}\n",
        "\n",
        "print(f\"El diccionario es {dc_4}\")\n",
        "print(f\"El tipo de objeto es {type(dc_4)}\")"
      ],
      "metadata": {
        "colab": {
          "base_uri": "https://localhost:8080/"
        },
        "id": "4W_ZUqVkfl6-",
        "outputId": "c98d7ba7-53b9-4406-fc48-bd33c6070d96"
      },
      "execution_count": null,
      "outputs": [
        {
          "output_type": "stream",
          "name": "stdout",
          "text": [
            "El diccionario es {1: 1, 2: 2, 3: 3, 4: 4, 5: 5}\n",
            "El tipo de objeto es <class 'dict'>\n"
          ]
        }
      ]
    },
    {
      "cell_type": "code",
      "source": [
        "dc_5 = {\n",
        "    1:100,\n",
        "    \"b\":200,\n",
        "    \"David\":\"instructor\"\n",
        "}\n",
        "\n",
        "print(f\"El diccionario es {dc_5}\")\n",
        "print(f\"El diccionario es {type(dc_5)}\")"
      ],
      "metadata": {
        "colab": {
          "base_uri": "https://localhost:8080/"
        },
        "id": "gwzKsqRJf1ZI",
        "outputId": "21e32aaa-bbcd-4a02-e2d6-2aef9974d62d"
      },
      "execution_count": null,
      "outputs": [
        {
          "output_type": "stream",
          "name": "stdout",
          "text": [
            "El diccionario es {1: 100, 'b': 200, 'David': 'instructor'}\n",
            "El diccionario es <class 'dict'>\n"
          ]
        }
      ]
    },
    {
      "cell_type": "code",
      "source": [
        "dc_6 ={\n",
        "    \"david\":1,\n",
        "    \"pedro\":2,\n",
        "    \"maria\":3,\n",
        "    \"jose\":4\n",
        "}\n",
        "\n",
        "print(f\"El diccionario es {dc_6}\")\n",
        "print(f\"El diccionario es {type(dc_6)}\")"
      ],
      "metadata": {
        "colab": {
          "base_uri": "https://localhost:8080/"
        },
        "id": "CJWdimcAgu8-",
        "outputId": "8dec062e-4a86-4a76-ee54-59434585f9c8"
      },
      "execution_count": null,
      "outputs": [
        {
          "output_type": "stream",
          "name": "stdout",
          "text": [
            "El diccionario es {'david': 1, 'pedro': 2, 'maria': 3, 'jose': 4}\n",
            "El diccionario es <class 'dict'>\n"
          ]
        }
      ]
    },
    {
      "cell_type": "markdown",
      "source": [
        "## Actividad N028"
      ],
      "metadata": {
        "id": "GvoFlwxnipvf"
      }
    },
    {
      "cell_type": "markdown",
      "source": [
        "Crear un diccionario con la información de los 5 productos que compra con frecuencia en un supermercado.\n",
        "Considere las siguientes claves: ítem, cantidad, precio\n"
      ],
      "metadata": {
        "id": "kou1CGveiudW"
      }
    },
    {
      "cell_type": "code",
      "source": [
        "dict_super = {\n",
        "    \"item\":[\"agua\", \"menestras\", \"azúcar\", \"carne\", \"manzanas\"],\n",
        "    \"cantidad\":[2, 4, 3, 4, 7],\n",
        "    \"precio\":[20, 10, 10, 30, 7]\n",
        "}\n",
        "\n",
        "print(f\"El diccionario de mis compras en el supermercado es \\n{dict_super}\")\n",
        "print(f\"El tipo de objeto es \\n{type(dict_super)}\")"
      ],
      "metadata": {
        "colab": {
          "base_uri": "https://localhost:8080/"
        },
        "id": "FCW9BD6Tg-Mc",
        "outputId": "34f8e684-e295-4222-fd6e-06801746e3d4"
      },
      "execution_count": null,
      "outputs": [
        {
          "output_type": "stream",
          "name": "stdout",
          "text": [
            "El diccionario de mis compras en el supermercado es \n",
            "{'item': ['agua', 'menestras', 'azúcar', 'carne', 'manzanas'], 'cantidad': [2, 4, 3, 4, 7], 'precio': [20, 10, 10, 30, 7]}\n",
            "El tipo de objeto es \n",
            "<class 'dict'>\n"
          ]
        }
      ]
    },
    {
      "cell_type": "markdown",
      "source": [
        "## [2] Acceder a los valores de un diccionario"
      ],
      "metadata": {
        "id": "f2CB-ZdVkNZb"
      }
    },
    {
      "cell_type": "code",
      "source": [
        "productos = {\n",
        "    \"producto_1\": {\"item\": \"Shampoo\", \"cantidad\": 1, \"precio\": 19.50},\n",
        "    \"producto_2\": {\"item\": \"Leche\", \"cantidad\": 6, \"precio\": 23.20},\n",
        "    \"producto_3\": {\"item\": \"pasta dental\", \"cantidad\": 2, \"precio\": 12.50},\n",
        "    \"producto_4\": {\"item\": \"Pan\", \"cantidad\": 5, \"precio\": 4.00},\n",
        "    \"producto_5\": {\"item\": \"Aceite\", \"cantidad\": 1, \"precio\": 10.90}\n",
        "}\n",
        "\n",
        "print(productos)\n",
        "type(productos)"
      ],
      "metadata": {
        "colab": {
          "base_uri": "https://localhost:8080/"
        },
        "id": "rM3tDmPHjR7h",
        "outputId": "29f1554e-be28-4fa3-897e-9451d21507bd"
      },
      "execution_count": null,
      "outputs": [
        {
          "output_type": "stream",
          "name": "stdout",
          "text": [
            "{'producto_1': {'item': 'Shampoo', 'cantidad': 1, 'precio': 19.5}, 'producto_2': {'item': 'Leche', 'cantidad': 6, 'precio': 23.2}, 'producto_3': {'item': 'pasta dental', 'cantidad': 2, 'precio': 12.5}, 'producto_4': {'item': 'Pan', 'cantidad': 5, 'precio': 4.0}, 'producto_5': {'item': 'Aceite', 'cantidad': 1, 'precio': 10.9}}\n"
          ]
        },
        {
          "output_type": "execute_result",
          "data": {
            "text/plain": [
              "dict"
            ]
          },
          "metadata": {},
          "execution_count": 36
        }
      ]
    },
    {
      "cell_type": "code",
      "source": [
        "productos"
      ],
      "metadata": {
        "colab": {
          "base_uri": "https://localhost:8080/"
        },
        "id": "CObn2h1YjsHl",
        "outputId": "dfbc77b7-81fd-4537-b57f-14c048474ed8"
      },
      "execution_count": null,
      "outputs": [
        {
          "output_type": "execute_result",
          "data": {
            "text/plain": [
              "{'producto_1': {'item': 'Shampoo', 'cantidad': 1, 'precio': 19.5},\n",
              " 'producto_2': {'item': 'Leche', 'cantidad': 6, 'precio': 23.2},\n",
              " 'producto_3': {'item': 'pasta dental', 'cantidad': 2, 'precio': 12.5},\n",
              " 'producto_4': {'item': 'Pan', 'cantidad': 5, 'precio': 4.0},\n",
              " 'producto_5': {'item': 'Aceite', 'cantidad': 1, 'precio': 10.9}}"
            ]
          },
          "metadata": {},
          "execution_count": 37
        }
      ]
    },
    {
      "cell_type": "code",
      "source": [
        "productos['producto_5']"
      ],
      "metadata": {
        "colab": {
          "base_uri": "https://localhost:8080/"
        },
        "id": "vS_LtSR2kVAT",
        "outputId": "579cc5a0-dbd6-47da-c4d6-2948b85b58c5"
      },
      "execution_count": null,
      "outputs": [
        {
          "output_type": "execute_result",
          "data": {
            "text/plain": [
              "{'item': 'Aceite', 'cantidad': 1, 'precio': 10.9}"
            ]
          },
          "metadata": {},
          "execution_count": 38
        }
      ]
    },
    {
      "cell_type": "code",
      "source": [
        "type(productos['producto_5'])"
      ],
      "metadata": {
        "colab": {
          "base_uri": "https://localhost:8080/"
        },
        "id": "zEjVu3bilMl3",
        "outputId": "dd5dfb82-6095-4970-acb9-0c56229aeeb4"
      },
      "execution_count": null,
      "outputs": [
        {
          "output_type": "execute_result",
          "data": {
            "text/plain": [
              "dict"
            ]
          },
          "metadata": {},
          "execution_count": 39
        }
      ]
    },
    {
      "cell_type": "code",
      "source": [
        "# Forma directa\n",
        "\n",
        "productos['producto_5']['precio']"
      ],
      "metadata": {
        "colab": {
          "base_uri": "https://localhost:8080/"
        },
        "id": "Esgp2v2clYjY",
        "outputId": "5cb409e7-9926-496d-a0b7-365139eae26d"
      },
      "execution_count": null,
      "outputs": [
        {
          "output_type": "execute_result",
          "data": {
            "text/plain": [
              "10.9"
            ]
          },
          "metadata": {},
          "execution_count": 40
        }
      ]
    },
    {
      "cell_type": "code",
      "source": [
        "# Por pasos\n",
        "# Paso 1: accedo al diccionario \"productos\" a través de la clave(producto_5)\n",
        "# Paso 2: crear un objeto que contenga el resultado del Paso 1\n",
        "tmp = productos['producto_5']\n",
        "# Paso 3: accedo a través de la clave del nuevo diccionario (tmp)\n",
        "tmp['precio']"
      ],
      "metadata": {
        "colab": {
          "base_uri": "https://localhost:8080/"
        },
        "id": "8CYIBBC_lmHE",
        "outputId": "9e9b69b6-ef79-41ef-a342-1545d0aeb4e2"
      },
      "execution_count": null,
      "outputs": [
        {
          "output_type": "execute_result",
          "data": {
            "text/plain": [
              "10.9"
            ]
          },
          "metadata": {},
          "execution_count": 41
        }
      ]
    },
    {
      "cell_type": "code",
      "source": [
        "productos_ = {\n",
        "    \"producto_1\": {\"item\": \"Shampoo\", \"cantidad\": 1, \"precio\": 19.50},\n",
        "    \"producto_2\": ['Leche',6,23],\n",
        "    \"producto_3\": ('pasta dental',2,13)\n",
        "    }"
      ],
      "metadata": {
        "id": "2ow-1Ttzl1j3"
      },
      "execution_count": null,
      "outputs": []
    },
    {
      "cell_type": "code",
      "source": [
        "print(f\"El diccionario resultante es {productos_}\")"
      ],
      "metadata": {
        "colab": {
          "base_uri": "https://localhost:8080/"
        },
        "id": "lyQn6jBAl11O",
        "outputId": "41710e8e-6746-4820-d030-8e276971f4bf"
      },
      "execution_count": null,
      "outputs": [
        {
          "output_type": "stream",
          "name": "stdout",
          "text": [
            "El diccionario resultante es {'producto_1': {'item': 'Shampoo', 'cantidad': 1, 'precio': 19.5}, 'producto_2': ['Leche', 6, 23], 'producto_3': ('pasta dental', 2, 13)}\n"
          ]
        }
      ]
    },
    {
      "cell_type": "code",
      "source": [
        "productos_"
      ],
      "metadata": {
        "colab": {
          "base_uri": "https://localhost:8080/"
        },
        "id": "4j2ie8K8l2Aw",
        "outputId": "086d7aec-97a3-4580-e501-bab65e8c6cd3"
      },
      "execution_count": null,
      "outputs": [
        {
          "output_type": "execute_result",
          "data": {
            "text/plain": [
              "{'producto_1': {'item': 'Shampoo', 'cantidad': 1, 'precio': 19.5},\n",
              " 'producto_2': ['Leche', 6, 23],\n",
              " 'producto_3': ('pasta dental', 2, 13)}"
            ]
          },
          "metadata": {},
          "execution_count": 44
        }
      ]
    },
    {
      "cell_type": "code",
      "source": [
        "print(f\"El resultado es {productos_['producto_1']}\")\n",
        "print(f\"El tipo de dato es {type(productos_['producto_1'])}\")"
      ],
      "metadata": {
        "colab": {
          "base_uri": "https://localhost:8080/"
        },
        "id": "6-jdgrhMnSiM",
        "outputId": "7d26308d-6827-4bd5-8503-97a0aa31e852"
      },
      "execution_count": null,
      "outputs": [
        {
          "output_type": "stream",
          "name": "stdout",
          "text": [
            "El resultado es {'item': 'Shampoo', 'cantidad': 1, 'precio': 19.5}\n",
            "El tipo de dato es <class 'dict'>\n"
          ]
        }
      ]
    },
    {
      "cell_type": "code",
      "source": [
        "print(f\"El resultado es {productos_['producto_2']}\")\n",
        "print(f\"El tipo de dato es {type(productos_['producto_2'])}\")"
      ],
      "metadata": {
        "colab": {
          "base_uri": "https://localhost:8080/"
        },
        "id": "4xCQoNGznQri",
        "outputId": "4c86c5c2-b5df-4086-e234-22e8f1c71ab3"
      },
      "execution_count": null,
      "outputs": [
        {
          "output_type": "stream",
          "name": "stdout",
          "text": [
            "El resultado es ['Leche', 6, 23]\n",
            "El tipo de dato es <class 'list'>\n"
          ]
        }
      ]
    },
    {
      "cell_type": "code",
      "source": [
        "productos_['producto_2'][1]"
      ],
      "metadata": {
        "colab": {
          "base_uri": "https://localhost:8080/"
        },
        "id": "NLoBIdG8n3-m",
        "outputId": "ab2c5d44-5c00-4f99-f169-685953ce0f84"
      },
      "execution_count": null,
      "outputs": [
        {
          "output_type": "execute_result",
          "data": {
            "text/plain": [
              "6"
            ]
          },
          "metadata": {},
          "execution_count": 49
        }
      ]
    },
    {
      "cell_type": "code",
      "source": [
        "print(f\"El resultado es {productos_['producto_3']}\")\n",
        "print(f\"El tipo de dato es {type(productos_['producto_3'])}\")"
      ],
      "metadata": {
        "colab": {
          "base_uri": "https://localhost:8080/"
        },
        "id": "ja1MdK4SnrCs",
        "outputId": "7fc3c5d5-0861-4e25-8fe6-2ae820487e38"
      },
      "execution_count": null,
      "outputs": [
        {
          "output_type": "stream",
          "name": "stdout",
          "text": [
            "El resultado es ('pasta dental', 2, 13)\n",
            "El tipo de dato es <class 'tuple'>\n"
          ]
        }
      ]
    },
    {
      "cell_type": "code",
      "source": [
        "productos_['producto_3'][1]"
      ],
      "metadata": {
        "colab": {
          "base_uri": "https://localhost:8080/"
        },
        "id": "9z_IMewknt0j",
        "outputId": "47c56506-c083-436f-d72d-3fe77a6531ba"
      },
      "execution_count": null,
      "outputs": [
        {
          "output_type": "execute_result",
          "data": {
            "text/plain": [
              "2"
            ]
          },
          "metadata": {},
          "execution_count": 50
        }
      ]
    },
    {
      "cell_type": "markdown",
      "source": [
        "## Actividad N029"
      ],
      "metadata": {
        "id": "eCRCQsz8rMgr"
      }
    },
    {
      "cell_type": "markdown",
      "source": [
        "Acceder al último valor del diccionario productos, creado en la actividad #028."
      ],
      "metadata": {
        "id": "tFHak_qGrTxf"
      }
    },
    {
      "cell_type": "code",
      "source": [
        "print(f\"El diccionario productos es {productos}\")"
      ],
      "metadata": {
        "colab": {
          "base_uri": "https://localhost:8080/"
        },
        "id": "IWZFxiDYoBH0",
        "outputId": "906e1cd9-f6d8-447b-fc51-278f14d9038e"
      },
      "execution_count": null,
      "outputs": [
        {
          "output_type": "stream",
          "name": "stdout",
          "text": [
            "El diccionario productos es {'producto_1': {'item': 'Shampoo', 'cantidad': 1, 'precio': 19.5}, 'producto_2': {'item': 'Leche', 'cantidad': 6, 'precio': 23.2}, 'producto_3': {'item': 'pasta dental', 'cantidad': 2, 'precio': 12.5}, 'producto_4': {'item': 'Pan', 'cantidad': 5, 'precio': 4.0}, 'producto_5': {'item': 'Aceite', 'cantidad': 1, 'precio': 10.9}}\n"
          ]
        }
      ]
    },
    {
      "cell_type": "code",
      "source": [
        "print(f\"El último valor del diccionario productos es {productos['producto_5']}\")"
      ],
      "metadata": {
        "colab": {
          "base_uri": "https://localhost:8080/"
        },
        "id": "0k6KvPScrZr_",
        "outputId": "5ce488cf-5e02-4a1a-cfe5-8846a9a8ce4d"
      },
      "execution_count": null,
      "outputs": [
        {
          "output_type": "stream",
          "name": "stdout",
          "text": [
            "El último valor del diccionario productos es {'item': 'Aceite', 'cantidad': 1, 'precio': 10.9}\n"
          ]
        }
      ]
    },
    {
      "cell_type": "markdown",
      "source": [
        "## [3] Método items()"
      ],
      "metadata": {
        "id": "j7nrWy5LryJf"
      }
    },
    {
      "cell_type": "code",
      "source": [
        "dc_1"
      ],
      "metadata": {
        "colab": {
          "base_uri": "https://localhost:8080/"
        },
        "id": "L-s4MDJ8rq4a",
        "outputId": "476501fe-7484-4edc-b4df-2a42e5f8afff"
      },
      "execution_count": null,
      "outputs": [
        {
          "output_type": "execute_result",
          "data": {
            "text/plain": [
              "{'a': 1, 'b': 2, 'c': 3}"
            ]
          },
          "metadata": {},
          "execution_count": 53
        }
      ]
    },
    {
      "cell_type": "code",
      "source": [
        "dc_1.items()"
      ],
      "metadata": {
        "colab": {
          "base_uri": "https://localhost:8080/"
        },
        "id": "tBg0n_DhsRdY",
        "outputId": "9eb2f9f8-e71e-4112-9ab8-a1f7d342c96e"
      },
      "execution_count": null,
      "outputs": [
        {
          "output_type": "execute_result",
          "data": {
            "text/plain": [
              "dict_items([('a', 1), ('b', 2), ('c', 3)])"
            ]
          },
          "metadata": {},
          "execution_count": 54
        }
      ]
    },
    {
      "cell_type": "code",
      "source": [
        "type(dc_1.items())"
      ],
      "metadata": {
        "colab": {
          "base_uri": "https://localhost:8080/"
        },
        "id": "5g-mfY8asTmT",
        "outputId": "74936c8d-6c10-493d-cff8-0c87950407b7"
      },
      "execution_count": null,
      "outputs": [
        {
          "output_type": "execute_result",
          "data": {
            "text/plain": [
              "dict_items"
            ]
          },
          "metadata": {},
          "execution_count": 55
        }
      ]
    },
    {
      "cell_type": "code",
      "source": [
        "for c,v in dc_1.items():\n",
        "  print(f\"La clave {c} tiene el valor {v}.\")"
      ],
      "metadata": {
        "colab": {
          "base_uri": "https://localhost:8080/"
        },
        "id": "QLKtwtTLsVzd",
        "outputId": "4e49a96f-ad1a-4089-950f-f132570c2105"
      },
      "execution_count": null,
      "outputs": [
        {
          "output_type": "stream",
          "name": "stdout",
          "text": [
            "La clave a tiene el valor 1.\n",
            "La clave b tiene el valor 2.\n",
            "La clave c tiene el valor 3.\n"
          ]
        }
      ]
    },
    {
      "cell_type": "code",
      "source": [
        "l_dc_3 = list(dc_3.items())\n",
        "print(f\"La lista resultante es {l_dc_3}\")\n",
        "print(f\"El tipo de objeto es {type(l_dc_3)}\")"
      ],
      "metadata": {
        "colab": {
          "base_uri": "https://localhost:8080/"
        },
        "id": "xeL0LGF1svJO",
        "outputId": "b9d99037-fed3-464d-a83f-2d25f32b521f"
      },
      "execution_count": null,
      "outputs": [
        {
          "output_type": "stream",
          "name": "stdout",
          "text": [
            "La lista resultante es [('a', 300), ('b', 200)]\n",
            "El tipo de objeto es <class 'list'>\n"
          ]
        }
      ]
    },
    {
      "cell_type": "code",
      "source": [
        "for c,v in l_dc_3:\n",
        "  print(f\"La clave {c} tiene el valor {v}.\")"
      ],
      "metadata": {
        "colab": {
          "base_uri": "https://localhost:8080/"
        },
        "id": "eljNv0oTs-mh",
        "outputId": "a8e7bb36-a3ff-4f07-95ee-7298d6c80559"
      },
      "execution_count": null,
      "outputs": [
        {
          "output_type": "stream",
          "name": "stdout",
          "text": [
            "La clave a tiene el valor 300.\n",
            "La clave b tiene el valor 200.\n"
          ]
        }
      ]
    },
    {
      "cell_type": "markdown",
      "source": [
        "## Actividad N030"
      ],
      "metadata": {
        "id": "IrAkbB2Vt8N3"
      }
    },
    {
      "cell_type": "code",
      "source": [
        "for c,v in productos.items():\n",
        "  print(f\"La clave {c} tiene el valor {v}\")"
      ],
      "metadata": {
        "colab": {
          "base_uri": "https://localhost:8080/"
        },
        "id": "1AP2US-gtntg",
        "outputId": "c4d30551-eb39-49ca-cdc8-4b437f704ec8"
      },
      "execution_count": null,
      "outputs": [
        {
          "output_type": "stream",
          "name": "stdout",
          "text": [
            "La clave producto_1 tiene el valor {'item': 'Shampoo', 'cantidad': 1, 'precio': 19.5}\n",
            "La clave producto_2 tiene el valor {'item': 'Leche', 'cantidad': 6, 'precio': 23.2}\n",
            "La clave producto_3 tiene el valor {'item': 'pasta dental', 'cantidad': 2, 'precio': 12.5}\n",
            "La clave producto_4 tiene el valor {'item': 'Pan', 'cantidad': 5, 'precio': 4.0}\n",
            "La clave producto_5 tiene el valor {'item': 'Aceite', 'cantidad': 1, 'precio': 10.9}\n"
          ]
        }
      ]
    },
    {
      "cell_type": "markdown",
      "source": [
        "## [4] Método clear()"
      ],
      "metadata": {
        "id": "7BhlyylLuviA"
      }
    },
    {
      "cell_type": "code",
      "source": [
        "print(f\"El diccionario es {dic_info}\")"
      ],
      "metadata": {
        "colab": {
          "base_uri": "https://localhost:8080/"
        },
        "id": "4MVutZZCuFUZ",
        "outputId": "dd0e0b47-6e75-457b-bffb-07d0cb663585"
      },
      "execution_count": null,
      "outputs": [
        {
          "output_type": "stream",
          "name": "stdout",
          "text": [
            "El diccionario es {'nombre': 'david', 'apellido': 'allende', 'edad': 37, 'profesion': 'ingeniero'}\n"
          ]
        }
      ]
    },
    {
      "cell_type": "code",
      "source": [
        "# El método clear() permite eliminar todos los pares clave:valor del diccionario\n",
        "dic_info.clear()\n",
        "print(f\"El diccionario es {dic_info}\")"
      ],
      "metadata": {
        "colab": {
          "base_uri": "https://localhost:8080/"
        },
        "id": "bM8QFvIRu8ns",
        "outputId": "f3611f1a-07ed-4e2d-f867-8ea6ca5f6ad6"
      },
      "execution_count": null,
      "outputs": [
        {
          "output_type": "stream",
          "name": "stdout",
          "text": [
            "El diccionario es {}\n"
          ]
        }
      ]
    },
    {
      "cell_type": "markdown",
      "source": [
        "## [5] Copia de un diccionario"
      ],
      "metadata": {
        "id": "0vW1KjNsv0yg"
      }
    },
    {
      "cell_type": "code",
      "source": [
        "original = {\n",
        "    \"nombre\":\"david\",\n",
        "    \"hobbies\":[\"artes marciales\",\"música\",\"lectura\"]\n",
        "}\n",
        "\n",
        "print(f\"El diccionario es {original}\")"
      ],
      "metadata": {
        "colab": {
          "base_uri": "https://localhost:8080/"
        },
        "id": "bZmcfiRCvBo-",
        "outputId": "abb0319a-1f82-47ff-e38b-8bd6fce44c5d"
      },
      "execution_count": null,
      "outputs": [
        {
          "output_type": "stream",
          "name": "stdout",
          "text": [
            "El diccionario es {'nombre': 'david', 'hobbies': ['artes marciales', 'música', 'lectura']}\n"
          ]
        }
      ]
    },
    {
      "cell_type": "markdown",
      "source": [
        "Crear una copia simple"
      ],
      "metadata": {
        "id": "o8t9KmL8wTQe"
      }
    },
    {
      "cell_type": "code",
      "source": [
        "copia_s = original.copy()\n",
        "print(f\"El diccionario es {copia_s}\")\n",
        "print(f\"El tipo de objeto es {type(copia_s)}\")"
      ],
      "metadata": {
        "colab": {
          "base_uri": "https://localhost:8080/"
        },
        "id": "rB7c7X6Mv8Hc",
        "outputId": "f0ce5336-ff85-4d03-8bcf-d24c85794942"
      },
      "execution_count": null,
      "outputs": [
        {
          "output_type": "stream",
          "name": "stdout",
          "text": [
            "El diccionario es {'nombre': 'david', 'hobbies': ['artes marciales', 'música', 'lectura']}\n",
            "El tipo de objeto es <class 'dict'>\n"
          ]
        }
      ]
    },
    {
      "cell_type": "markdown",
      "source": [
        "Crear una copia profunda"
      ],
      "metadata": {
        "id": "tfnX66QRwmVF"
      }
    },
    {
      "cell_type": "code",
      "source": [
        "import copy\n",
        "\n",
        "copia_p = copy.deepcopy(original)\n",
        "print(f\"El diccionario es {copia_p}\")\n",
        "print(f\"El tipo de objeto es {type(copia_p)}\")"
      ],
      "metadata": {
        "colab": {
          "base_uri": "https://localhost:8080/"
        },
        "id": "3M5KsrDuwV8m",
        "outputId": "487bc90c-3749-4b3e-fb95-2dc563decb8b"
      },
      "execution_count": null,
      "outputs": [
        {
          "output_type": "stream",
          "name": "stdout",
          "text": [
            "El diccionario es {'nombre': 'david', 'hobbies': ['artes marciales', 'música', 'lectura']}\n",
            "El tipo de objeto es <class 'dict'>\n"
          ]
        }
      ]
    },
    {
      "cell_type": "code",
      "source": [
        "copia_s"
      ],
      "metadata": {
        "colab": {
          "base_uri": "https://localhost:8080/"
        },
        "id": "RoetjIbwxKXS",
        "outputId": "41ce0c41-3101-461b-d97c-6f73cad65b58"
      },
      "execution_count": null,
      "outputs": [
        {
          "output_type": "execute_result",
          "data": {
            "text/plain": [
              "{'nombre': 'david', 'hobbies': ['artes marciales', 'música', 'lectura']}"
            ]
          },
          "metadata": {},
          "execution_count": 70
        }
      ]
    },
    {
      "cell_type": "code",
      "source": [
        "copia_s['hobbies']"
      ],
      "metadata": {
        "colab": {
          "base_uri": "https://localhost:8080/"
        },
        "id": "hTQ5lR7Rw_9i",
        "outputId": "49e44fd0-fb98-45ef-b020-3a0f2443dd49"
      },
      "execution_count": null,
      "outputs": [
        {
          "output_type": "execute_result",
          "data": {
            "text/plain": [
              "['artes marciales', 'música', 'lectura']"
            ]
          },
          "metadata": {},
          "execution_count": 69
        }
      ]
    },
    {
      "cell_type": "code",
      "source": [
        "type(copia_s['hobbies'])"
      ],
      "metadata": {
        "colab": {
          "base_uri": "https://localhost:8080/"
        },
        "id": "GEmLH32ywWTq",
        "outputId": "2c1ea817-6837-415f-d600-e644556eda97"
      },
      "execution_count": null,
      "outputs": [
        {
          "output_type": "execute_result",
          "data": {
            "text/plain": [
              "list"
            ]
          },
          "metadata": {},
          "execution_count": 71
        }
      ]
    },
    {
      "cell_type": "code",
      "source": [
        "copia_s['hobbies'].append('caminata')\n",
        "print(f\"El diccionario actualizado es {copia_s}\")"
      ],
      "metadata": {
        "colab": {
          "base_uri": "https://localhost:8080/"
        },
        "id": "jfRge_MEv8NK",
        "outputId": "fc85bda7-e612-4c45-94ca-ad05f83f852b"
      },
      "execution_count": null,
      "outputs": [
        {
          "output_type": "stream",
          "name": "stdout",
          "text": [
            "El diccionario actualizado es {'nombre': 'david', 'hobbies': ['artes marciales', 'música', 'lectura', 'caminata']}\n"
          ]
        }
      ]
    },
    {
      "cell_type": "code",
      "source": [
        "copia_p['hobbies'].append('natación')\n",
        "print(f\"El diccionario actualizado es {copia_p}\")"
      ],
      "metadata": {
        "colab": {
          "base_uri": "https://localhost:8080/"
        },
        "id": "LAMEhoqhv8TG",
        "outputId": "2ebae8ce-550a-4bbb-8ebf-407c0d2747c1"
      },
      "execution_count": null,
      "outputs": [
        {
          "output_type": "stream",
          "name": "stdout",
          "text": [
            "El diccionario actualizado es {'nombre': 'david', 'hobbies': ['artes marciales', 'música', 'lectura', 'natación']}\n"
          ]
        }
      ]
    },
    {
      "cell_type": "code",
      "source": [
        "print(f\"El diccionario actualizado es {original}\")"
      ],
      "metadata": {
        "colab": {
          "base_uri": "https://localhost:8080/"
        },
        "id": "WHue1Tnuv8eQ",
        "outputId": "e73fd370-df64-4c17-9d88-8cf37365eb96"
      },
      "execution_count": null,
      "outputs": [
        {
          "output_type": "stream",
          "name": "stdout",
          "text": [
            "El diccionario actualizado es {'nombre': 'david', 'hobbies': ['artes marciales', 'música', 'lectura', 'caminata']}\n"
          ]
        }
      ]
    },
    {
      "cell_type": "markdown",
      "source": [
        "## Actividad N031"
      ],
      "metadata": {
        "id": "7VNSH7DG0F6v"
      }
    },
    {
      "cell_type": "markdown",
      "source": [
        "Crear una copia del diccionario dict_info y renombrarlo como dict_info_copy, en el diccionario dict_info_copy cambiar el valor de la profesion por otra."
      ],
      "metadata": {
        "id": "YXuTyrU00IXF"
      }
    },
    {
      "cell_type": "code",
      "source": [
        "dic_info = {\n",
        "    \"nombre\":\"david\",\n",
        "    \"apellido\":\"allende\",\n",
        "    \"edad\":37,\n",
        "    \"profesion\":\"ingeniero\"\n",
        "}"
      ],
      "metadata": {
        "id": "cqxSgz6U1niF"
      },
      "execution_count": null,
      "outputs": []
    },
    {
      "cell_type": "code",
      "source": [
        "print(f\"El diccionario con mi info personal es\\n{dic_info}\")\n",
        "dic_info_copy = dic_info.copy()\n",
        "dic_info_copy['profesion'] = 'arqueólogo'\n",
        "print(f\"El diccionario con mi info personal modificado es\\n{dic_info_copy}\")"
      ],
      "metadata": {
        "colab": {
          "base_uri": "https://localhost:8080/"
        },
        "id": "fw1pfQeWyapa",
        "outputId": "54cd79c5-c7b5-4dd6-b093-6ac8aee2207d"
      },
      "execution_count": null,
      "outputs": [
        {
          "output_type": "stream",
          "name": "stdout",
          "text": [
            "El diccionario con mi info personal es\n",
            "{'nombre': 'david', 'apellido': 'allende', 'edad': 37, 'profesion': 'ingeniero'}\n",
            "El diccionario con mi info personal modificado es\n",
            "{'nombre': 'david', 'apellido': 'allende', 'edad': 37, 'profesion': 'arqueólogo'}\n"
          ]
        }
      ]
    },
    {
      "cell_type": "markdown",
      "source": [
        "## [6] Método keys()"
      ],
      "metadata": {
        "id": "25V9yT_52KQZ"
      }
    },
    {
      "cell_type": "code",
      "source": [
        "dic_prod = {\n",
        "    \"detergente\":70,\n",
        "    \"arroz\":20,\n",
        "    \"aceite\":10\n",
        "}\n",
        "\n",
        "print(f\"El diccionario es {dic_prod}\")"
      ],
      "metadata": {
        "colab": {
          "base_uri": "https://localhost:8080/"
        },
        "id": "MPGP2F1_2SmO",
        "outputId": "b3604d23-11e5-4b06-d57f-89cacb5ccabe"
      },
      "execution_count": null,
      "outputs": [
        {
          "output_type": "stream",
          "name": "stdout",
          "text": [
            "El diccionario es {'detergente': 70, 'arroz': 20, 'aceite': 10}\n"
          ]
        }
      ]
    },
    {
      "cell_type": "code",
      "source": [
        "dic_prod.items()"
      ],
      "metadata": {
        "colab": {
          "base_uri": "https://localhost:8080/"
        },
        "id": "EvdBGGgx1vkZ",
        "outputId": "e7d7e34d-f02b-4b8d-bd56-a5927ab438b5"
      },
      "execution_count": null,
      "outputs": [
        {
          "output_type": "execute_result",
          "data": {
            "text/plain": [
              "dict_items([('detergente', 70), ('arroz', 20), ('aceite', 10)])"
            ]
          },
          "metadata": {},
          "execution_count": 78
        }
      ]
    },
    {
      "cell_type": "code",
      "source": [
        "dic_prod.keys()"
      ],
      "metadata": {
        "colab": {
          "base_uri": "https://localhost:8080/"
        },
        "id": "2G8kXqDK2pzO",
        "outputId": "9b1d1ff4-866a-4761-a796-157c44ac5f74"
      },
      "execution_count": null,
      "outputs": [
        {
          "output_type": "execute_result",
          "data": {
            "text/plain": [
              "dict_keys(['detergente', 'arroz', 'aceite'])"
            ]
          },
          "metadata": {},
          "execution_count": 79
        }
      ]
    },
    {
      "cell_type": "code",
      "source": [
        "for i in dic_prod.keys():\n",
        "  print(f\"La clave es {i}.\")"
      ],
      "metadata": {
        "colab": {
          "base_uri": "https://localhost:8080/"
        },
        "id": "K4M0c9ym2xcl",
        "outputId": "08ca311c-97c8-47e6-e738-075df8926719"
      },
      "execution_count": null,
      "outputs": [
        {
          "output_type": "stream",
          "name": "stdout",
          "text": [
            "La clave es detergente.\n",
            "La clave es arroz.\n",
            "La clave es aceite.\n"
          ]
        }
      ]
    },
    {
      "cell_type": "code",
      "source": [
        "l_keys_dic_prod = list(dic_prod.keys())\n",
        "print(f\"La lista es {l_keys_dic_prod}.\")"
      ],
      "metadata": {
        "colab": {
          "base_uri": "https://localhost:8080/"
        },
        "id": "OXQ3ANMq2m0n",
        "outputId": "f6415fdf-2abc-492f-acc2-4ce3b6dd7dc3"
      },
      "execution_count": null,
      "outputs": [
        {
          "output_type": "stream",
          "name": "stdout",
          "text": [
            "La lista es ['detergente', 'arroz', 'aceite'].\n"
          ]
        }
      ]
    },
    {
      "cell_type": "code",
      "source": [
        "prod = 'arroz'\n",
        "if prod in dic_prod.keys():\n",
        "  print(f\"El producto {prod} está incluído en el diccionario.\")\n",
        "else:\n",
        "  print(f\"El producto {prod} no está incluído en el diccionario.\")"
      ],
      "metadata": {
        "colab": {
          "base_uri": "https://localhost:8080/"
        },
        "id": "00JKUuJw3LW4",
        "outputId": "fdeaf053-36ca-46ad-bc46-b3bb96beb6aa"
      },
      "execution_count": null,
      "outputs": [
        {
          "output_type": "stream",
          "name": "stdout",
          "text": [
            "El producto arroz está incluído en el diccionario.\n"
          ]
        }
      ]
    },
    {
      "cell_type": "code",
      "source": [
        "prod = 'menestra'\n",
        "if prod in dic_prod.keys():\n",
        "  print(f\"El producto {prod} está incluído en el diccionario.\")\n",
        "else:\n",
        "  print(f\"El producto {prod} no está incluído en el diccionario.\")"
      ],
      "metadata": {
        "colab": {
          "base_uri": "https://localhost:8080/"
        },
        "id": "H-UE42NI3qHZ",
        "outputId": "ed0e6b6f-3e0b-4a6a-addf-37b857b6255e"
      },
      "execution_count": null,
      "outputs": [
        {
          "output_type": "stream",
          "name": "stdout",
          "text": [
            "El producto menestra no está incluído en el diccionario.\n"
          ]
        }
      ]
    },
    {
      "cell_type": "code",
      "source": [
        "print(f\"El diccionario es {dic_prod}\")"
      ],
      "metadata": {
        "colab": {
          "base_uri": "https://localhost:8080/"
        },
        "id": "crqP4Byp3qh8",
        "outputId": "42c4c802-9d37-4dae-81b4-7009f549e2c5"
      },
      "execution_count": null,
      "outputs": [
        {
          "output_type": "stream",
          "name": "stdout",
          "text": [
            "El diccionario es {'detergente': 70, 'arroz': 20, 'aceite': 10}\n"
          ]
        }
      ]
    },
    {
      "cell_type": "code",
      "source": [
        "dic_prod[\"cereal\"] = 20 # actualizando el diccionario\n",
        "\n",
        "print(f\"El diccionario es {dic_prod}\")"
      ],
      "metadata": {
        "colab": {
          "base_uri": "https://localhost:8080/"
        },
        "id": "ZXthzqIJ3qwJ",
        "outputId": "39fa5470-786f-4f23-c34a-fa6f33325425"
      },
      "execution_count": null,
      "outputs": [
        {
          "output_type": "stream",
          "name": "stdout",
          "text": [
            "El diccionario es {'detergente': 70, 'arroz': 20, 'aceite': 10, 'cereal': 20}\n"
          ]
        }
      ]
    },
    {
      "cell_type": "code",
      "source": [
        "for i in dic_prod.keys():\n",
        "  print(f\"La clave es {i}.\")"
      ],
      "metadata": {
        "colab": {
          "base_uri": "https://localhost:8080/"
        },
        "id": "WqyRUswY4MAG",
        "outputId": "c0166aa6-d069-4be7-c2f8-286636f28a22"
      },
      "execution_count": null,
      "outputs": [
        {
          "output_type": "stream",
          "name": "stdout",
          "text": [
            "La clave es detergente.\n",
            "La clave es arroz.\n",
            "La clave es aceite.\n",
            "La clave es cereal.\n"
          ]
        }
      ]
    },
    {
      "cell_type": "markdown",
      "source": [
        "## [7] Método values()"
      ],
      "metadata": {
        "id": "hGn0KMgQ4jo-"
      }
    },
    {
      "cell_type": "code",
      "source": [
        "dic_prod.values()"
      ],
      "metadata": {
        "colab": {
          "base_uri": "https://localhost:8080/"
        },
        "id": "UkQt3Bqk4XUS",
        "outputId": "11bd683f-605d-4840-9b89-edb6d91de097"
      },
      "execution_count": null,
      "outputs": [
        {
          "output_type": "execute_result",
          "data": {
            "text/plain": [
              "dict_values([70, 20, 10, 20])"
            ]
          },
          "metadata": {},
          "execution_count": 87
        }
      ]
    },
    {
      "cell_type": "code",
      "source": [
        "for i in dic_prod.values():\n",
        "  print(f\"El valor {i}\")"
      ],
      "metadata": {
        "colab": {
          "base_uri": "https://localhost:8080/"
        },
        "id": "1l1_1XcH4sAN",
        "outputId": "766ea8e1-70db-4b11-8c71-018c96920bf2"
      },
      "execution_count": null,
      "outputs": [
        {
          "output_type": "stream",
          "name": "stdout",
          "text": [
            "El valor 70\n",
            "El valor 20\n",
            "El valor 10\n",
            "El valor 20\n"
          ]
        }
      ]
    },
    {
      "cell_type": "markdown",
      "source": [
        "Crear un diccionario con la información de 5 deportistas, clave será el nombre del deportista y el valor será el deporte que practica.\n",
        "\n",
        "- Acceder a los pares clave valor usando la frase \"El {deportista} es reconocido en el {deporte}\".\n",
        "- Acceder a las claves usando la frase \"La lista de deportistas que conozco son:\"\n",
        "- Acceder a los valores usando la frase \"La lista de deportes de mi preferencia es:\""
      ],
      "metadata": {
        "id": "eTMtvix75M_O"
      }
    },
    {
      "cell_type": "code",
      "source": [
        "dic_deportes = {\n",
        "    \"Teofilo Cubillas\":\"fútbol\",\n",
        "    \"Gladys Tejeda\":\"maratón\",\n",
        "    \"Sofia Mulanovich\":\"surfing\"\n",
        "}"
      ],
      "metadata": {
        "id": "Sn2TGPY95KiI"
      },
      "execution_count": null,
      "outputs": []
    },
    {
      "cell_type": "code",
      "source": [
        "for c,v in dic_deportes.items():\n",
        "  print(f\"{c} es reconocido en {v}.\")"
      ],
      "metadata": {
        "colab": {
          "base_uri": "https://localhost:8080/"
        },
        "id": "6Mab_wpw69Z4",
        "outputId": "7d5fd7b5-1f84-46c0-eec3-9a61a849c489"
      },
      "execution_count": null,
      "outputs": [
        {
          "output_type": "stream",
          "name": "stdout",
          "text": [
            "Teofilo Cubillas es reconocido en fútbol.\n",
            "Gladys Tejeda es reconocido en maratón.\n",
            "Sofia Mulanovich es reconocido en surfing.\n"
          ]
        }
      ]
    },
    {
      "cell_type": "code",
      "source": [
        "print(f\"Los deportistas peruanos destacados que identifico son: \")\n",
        "for i in dic_deportes.keys():\n",
        "  print(\"-\",i)"
      ],
      "metadata": {
        "colab": {
          "base_uri": "https://localhost:8080/"
        },
        "id": "G5Ev0KpK7Is2",
        "outputId": "6dd8c65c-384d-480e-beb1-0a2fd4548d03"
      },
      "execution_count": null,
      "outputs": [
        {
          "output_type": "stream",
          "name": "stdout",
          "text": [
            "Los deportistas peruanos destacados que identifico son: \n",
            "- Teofilo Cubillas\n",
            "- Gladys Tejeda\n",
            "- Sofia Mulanovich\n"
          ]
        }
      ]
    },
    {
      "cell_type": "code",
      "source": [
        "print(f\"Los deportes con los que me identifico son: \")\n",
        "for i in dic_deportes.values():\n",
        "  print(\"-\",i)"
      ],
      "metadata": {
        "colab": {
          "base_uri": "https://localhost:8080/"
        },
        "id": "77ZA-4-M7ZOo",
        "outputId": "1a02d214-5c64-4ea9-e524-1b7fe5beb19c"
      },
      "execution_count": null,
      "outputs": [
        {
          "output_type": "stream",
          "name": "stdout",
          "text": [
            "Los deportes con los que me identifico son: \n",
            "- fútbol\n",
            "- maratón\n",
            "- surfing\n"
          ]
        }
      ]
    },
    {
      "cell_type": "code",
      "source": [],
      "metadata": {
        "id": "ceiAn5n17idn"
      },
      "execution_count": null,
      "outputs": []
    }
  ]
}