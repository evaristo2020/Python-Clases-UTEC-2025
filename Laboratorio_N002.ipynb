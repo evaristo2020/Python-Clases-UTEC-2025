{
  "cells": [
    {
      "cell_type": "markdown",
      "metadata": {
        "id": "view-in-github",
        "colab_type": "text"
      },
      "source": [
        "<a href=\"https://colab.research.google.com/github/evaristo2020/Python-Clases-UTEC-2025/blob/main/Laboratorio_N002.ipynb\" target=\"_parent\"><img src=\"https://colab.research.google.com/assets/colab-badge.svg\" alt=\"Open In Colab\"/></a>"
      ]
    },
    {
      "cell_type": "markdown",
      "source": [
        "# Laboratorio 2"
      ],
      "metadata": {
        "id": "NrFSaaBpS0Dh"
      },
      "id": "NrFSaaBpS0Dh"
    },
    {
      "cell_type": "code",
      "source": [
        "from google.colab import drive\n",
        "drive.mount('/content/drive')"
      ],
      "metadata": {
        "id": "ugqUt8Gh5jkS"
      },
      "id": "ugqUt8Gh5jkS",
      "execution_count": null,
      "outputs": []
    },
    {
      "cell_type": "markdown",
      "id": "3ed9c90c",
      "metadata": {
        "id": "3ed9c90c"
      },
      "source": [
        "# Tokenización"
      ]
    },
    {
      "cell_type": "code",
      "execution_count": null,
      "id": "693658c6",
      "metadata": {
        "id": "693658c6"
      },
      "outputs": [],
      "source": [
        "#!pip install -U scikit-learn"
      ]
    },
    {
      "cell_type": "code",
      "execution_count": null,
      "id": "55ef9b22",
      "metadata": {
        "id": "55ef9b22"
      },
      "outputs": [],
      "source": [
        "# LLamado de Librerias\n",
        "import pandas as pd\n",
        "from sklearn.model_selection import train_test_split"
      ]
    },
    {
      "cell_type": "code",
      "execution_count": null,
      "id": "37810159",
      "metadata": {
        "id": "37810159"
      },
      "outputs": [],
      "source": [
        "df = pd.read_csv('df_texto.csv', encoding='UTF-8')"
      ]
    },
    {
      "cell_type": "code",
      "execution_count": null,
      "id": "b2611778",
      "metadata": {
        "id": "b2611778"
      },
      "outputs": [],
      "source": [
        "df.head(3)"
      ]
    },
    {
      "cell_type": "code",
      "source": [
        "df.shape"
      ],
      "metadata": {
        "id": "lLD8aWy8Uog9"
      },
      "id": "lLD8aWy8Uog9",
      "execution_count": null,
      "outputs": []
    },
    {
      "cell_type": "code",
      "execution_count": null,
      "id": "36073d3f",
      "metadata": {
        "id": "36073d3f"
      },
      "outputs": [],
      "source": [
        "df[\"news\"][0]"
      ]
    },
    {
      "cell_type": "code",
      "execution_count": null,
      "id": "f582402c",
      "metadata": {
        "id": "f582402c"
      },
      "outputs": [],
      "source": [
        "# Separamos los datos en variables de entrada y etiquetas\n",
        "X = df['news']\n",
        "y = df['Type']"
      ]
    },
    {
      "cell_type": "code",
      "execution_count": null,
      "id": "9d500693",
      "metadata": {
        "id": "9d500693"
      },
      "outputs": [],
      "source": [
        "print(df['Type'].value_counts())"
      ]
    },
    {
      "cell_type": "code",
      "execution_count": null,
      "id": "b84258f9",
      "metadata": {
        "id": "b84258f9"
      },
      "outputs": [],
      "source": [
        "X_train, X_test, y_train, y_test = train_test_split(X, y, test_size=0.2)"
      ]
    },
    {
      "cell_type": "code",
      "execution_count": null,
      "id": "48347a78",
      "metadata": {
        "id": "48347a78"
      },
      "outputs": [],
      "source": [
        "X_train"
      ]
    },
    {
      "cell_type": "code",
      "execution_count": null,
      "id": "eba6788e",
      "metadata": {
        "id": "eba6788e"
      },
      "outputs": [],
      "source": [
        "X_test"
      ]
    },
    {
      "cell_type": "code",
      "execution_count": null,
      "id": "8547d2a3",
      "metadata": {
        "id": "8547d2a3"
      },
      "outputs": [],
      "source": [
        "y_train"
      ]
    },
    {
      "cell_type": "code",
      "execution_count": null,
      "id": "d86fb42f",
      "metadata": {
        "id": "d86fb42f"
      },
      "outputs": [],
      "source": [
        "y_test"
      ]
    },
    {
      "cell_type": "code",
      "execution_count": null,
      "id": "09afddc3",
      "metadata": {
        "id": "09afddc3"
      },
      "outputs": [],
      "source": [
        "# Libreria que convierte un texto en una matriz de conteo de palabras.\n",
        "from sklearn.feature_extraction.text import CountVectorizer"
      ]
    },
    {
      "cell_type": "code",
      "execution_count": null,
      "id": "ea6b689c",
      "metadata": {
        "id": "ea6b689c"
      },
      "outputs": [],
      "source": [
        "# Crea una instancia del vectorizador. Aquí aún no se ha entrenado ni transformado nada.\n",
        "vectorizer = CountVectorizer()"
      ]
    },
    {
      "cell_type": "code",
      "execution_count": null,
      "id": "4d485f86",
      "metadata": {
        "id": "4d485f86"
      },
      "outputs": [],
      "source": [
        "# Entrenamos el vectorizer\n",
        "X_train_transformed = vectorizer.fit_transform(X_train)\n",
        "# transforma esos textos en una matriz dispersa (sparse matrix) donde:\n",
        "# Filas = documentos (XXX registros).\n",
        "# Columnas = vocabulario total (XXXXX palabras diferentes).\n",
        "# Valores = cantidad de veces que aparece cada palabra en cada documento.\n",
        "X_test_transformed = vectorizer.transform(X_test)"
      ]
    },
    {
      "cell_type": "code",
      "execution_count": null,
      "id": "d14954c6",
      "metadata": {
        "id": "d14954c6"
      },
      "outputs": [],
      "source": [
        "X_train_transformed"
      ]
    },
    {
      "cell_type": "code",
      "execution_count": null,
      "id": "0a24bca3",
      "metadata": {
        "id": "0a24bca3"
      },
      "outputs": [],
      "source": [
        "# Convierte la matriz dispersa a una matriz densa de NumPy, donde todos los valores (incluidos los ceros) están presentes explícitamente.\n",
        "X_train_transformed_dense = X_train_transformed.toarray()\n",
        "print(X_train_transformed_dense)"
      ]
    },
    {
      "cell_type": "code",
      "source": [
        "type(X_train_transformed_dense)"
      ],
      "metadata": {
        "id": "BnIlJFCkI3_b"
      },
      "id": "BnIlJFCkI3_b",
      "execution_count": null,
      "outputs": []
    },
    {
      "cell_type": "code",
      "execution_count": null,
      "id": "ed0fef7d",
      "metadata": {
        "id": "ed0fef7d"
      },
      "outputs": [],
      "source": [
        "# Importa el clasificador Naive Bayes Multinomial, ideal para características discretas como el conteo de palabras (tal como las produce CountVectorizer).\n",
        "from sklearn.naive_bayes import MultinomialNB\n",
        "# Importa el módulo metrics de sklearn, que permite evaluar el rendimiento del modelo (por ejemplo, usando accuracy, precisión, recall, etc.).\n",
        "from sklearn import metrics"
      ]
    },
    {
      "cell_type": "code",
      "execution_count": null,
      "id": "02f85114",
      "metadata": {
        "id": "02f85114"
      },
      "outputs": [],
      "source": [
        "# Crea una instancia del modelo Naive Bayes Multinomial.\n",
        "model = MultinomialNB()\n",
        "# Entrena el modelo con los datos de entrenamiento (X_train_transformed y y_train).\n",
        "model.fit(X_train_transformed, y_train)\n",
        "# Hace predicciones sobre el conjunto de prueba usando el modelo entrenado.\n",
        "y_pred = model.predict(X_test_transformed)\n",
        "# Calcula e imprime la exactitud (accuracy) del modelo, que es la proporción de predicciones correctas (NRO PREDICCIONES CORRECTAS / TOTAL PREDICCIONES )\n",
        "print(metrics.accuracy_score(y_test, y_pred))"
      ]
    },
    {
      "cell_type": "code",
      "source": [
        "y_test"
      ],
      "metadata": {
        "id": "OCt-Ymb4LWS7"
      },
      "id": "OCt-Ymb4LWS7",
      "execution_count": null,
      "outputs": []
    },
    {
      "cell_type": "code",
      "source": [
        "y_pred"
      ],
      "metadata": {
        "id": "O6f_YJPHLyCp"
      },
      "id": "O6f_YJPHLyCp",
      "execution_count": null,
      "outputs": []
    }
  ],
  "metadata": {
    "kernelspec": {
      "display_name": "Python 3 (ipykernel)",
      "language": "python",
      "name": "python3"
    },
    "language_info": {
      "codemirror_mode": {
        "name": "ipython",
        "version": 3
      },
      "file_extension": ".py",
      "mimetype": "text/x-python",
      "name": "python",
      "nbconvert_exporter": "python",
      "pygments_lexer": "ipython3",
      "version": "3.11.4"
    },
    "colab": {
      "provenance": [],
      "include_colab_link": true
    }
  },
  "nbformat": 4,
  "nbformat_minor": 5
}