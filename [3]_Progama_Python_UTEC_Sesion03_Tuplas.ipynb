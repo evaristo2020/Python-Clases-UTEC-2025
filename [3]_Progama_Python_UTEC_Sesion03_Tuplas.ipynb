{
  "nbformat": 4,
  "nbformat_minor": 0,
  "metadata": {
    "colab": {
      "provenance": [],
      "include_colab_link": true
    },
    "kernelspec": {
      "name": "python3",
      "display_name": "Python 3"
    },
    "language_info": {
      "name": "python"
    }
  },
  "cells": [
    {
      "cell_type": "markdown",
      "metadata": {
        "id": "view-in-github",
        "colab_type": "text"
      },
      "source": [
        "<a href=\"https://colab.research.google.com/github/evaristo2020/Python-Clases-UTEC-2025/blob/main/%5B3%5D_Progama_Python_UTEC_Sesion03_Tuplas.ipynb\" target=\"_parent\"><img src=\"https://colab.research.google.com/assets/colab-badge.svg\" alt=\"Open In Colab\"/></a>"
      ]
    },
    {
      "cell_type": "markdown",
      "source": [
        "## [1] Tuplas"
      ],
      "metadata": {
        "id": "PPS0lZeKcs0W"
      }
    },
    {
      "cell_type": "markdown",
      "source": [
        "### [1.1] Tuplas a partir de un DataFrame"
      ],
      "metadata": {
        "id": "dccU3CnJA61l"
      }
    },
    {
      "cell_type": "code",
      "source": [
        "import pandas as pd\n",
        "data = pd.read_csv(\"clientes.csv\",sep=';')\n",
        "dimensiones = data.shape # Conocer las dimensiones del DataFrame"
      ],
      "metadata": {
        "id": "Bvl3_er6A5u_"
      },
      "execution_count": null,
      "outputs": []
    },
    {
      "cell_type": "code",
      "source": [
        "type(data)"
      ],
      "metadata": {
        "id": "8vJIxmiJd9Ju",
        "colab": {
          "base_uri": "https://localhost:8080/",
          "height": 203
        },
        "outputId": "17acc73d-3505-46da-fe28-de44f676d160"
      },
      "execution_count": null,
      "outputs": [
        {
          "output_type": "execute_result",
          "data": {
            "text/plain": [
              "pandas.core.frame.DataFrame"
            ],
            "text/html": [
              "<div style=\"max-width:800px; border: 1px solid var(--colab-border-color);\"><style>\n",
              "      pre.function-repr-contents {\n",
              "        overflow-x: auto;\n",
              "        padding: 8px 12px;\n",
              "        max-height: 500px;\n",
              "      }\n",
              "\n",
              "      pre.function-repr-contents.function-repr-contents-collapsed {\n",
              "        cursor: pointer;\n",
              "        max-height: 100px;\n",
              "      }\n",
              "    </style>\n",
              "    <pre style=\"white-space: initial; background:\n",
              "         var(--colab-secondary-surface-color); padding: 8px 12px;\n",
              "         border-bottom: 1px solid var(--colab-border-color);\"><b>pandas.core.frame.DataFrame</b><br/>def __init__(data=None, index: Axes | None=None, columns: Axes | None=None, dtype: Dtype | None=None, copy: bool | None=None) -&gt; None</pre><pre class=\"function-repr-contents function-repr-contents-collapsed\" style=\"\"><a class=\"filepath\" style=\"display:none\" href=\"#\">/usr/local/lib/python3.12/dist-packages/pandas/core/frame.py</a>Two-dimensional, size-mutable, potentially heterogeneous tabular data.\n",
              "\n",
              "Data structure also contains labeled axes (rows and columns).\n",
              "Arithmetic operations align on both row and column labels. Can be\n",
              "thought of as a dict-like container for Series objects. The primary\n",
              "pandas data structure.\n",
              "\n",
              "Parameters\n",
              "----------\n",
              "data : ndarray (structured or homogeneous), Iterable, dict, or DataFrame\n",
              "    Dict can contain Series, arrays, constants, dataclass or list-like objects. If\n",
              "    data is a dict, column order follows insertion-order. If a dict contains Series\n",
              "    which have an index defined, it is aligned by its index. This alignment also\n",
              "    occurs if data is a Series or a DataFrame itself. Alignment is done on\n",
              "    Series/DataFrame inputs.\n",
              "\n",
              "    If data is a list of dicts, column order follows insertion-order.\n",
              "\n",
              "index : Index or array-like\n",
              "    Index to use for resulting frame. Will default to RangeIndex if\n",
              "    no indexing information part of input data and no index provided.\n",
              "columns : Index or array-like\n",
              "    Column labels to use for resulting frame when data does not have them,\n",
              "    defaulting to RangeIndex(0, 1, 2, ..., n). If data contains column labels,\n",
              "    will perform column selection instead.\n",
              "dtype : dtype, default None\n",
              "    Data type to force. Only a single dtype is allowed. If None, infer.\n",
              "copy : bool or None, default None\n",
              "    Copy data from inputs.\n",
              "    For dict data, the default of None behaves like ``copy=True``.  For DataFrame\n",
              "    or 2d ndarray input, the default of None behaves like ``copy=False``.\n",
              "    If data is a dict containing one or more Series (possibly of different dtypes),\n",
              "    ``copy=False`` will ensure that these inputs are not copied.\n",
              "\n",
              "    .. versionchanged:: 1.3.0\n",
              "\n",
              "See Also\n",
              "--------\n",
              "DataFrame.from_records : Constructor from tuples, also record arrays.\n",
              "DataFrame.from_dict : From dicts of Series, arrays, or dicts.\n",
              "read_csv : Read a comma-separated values (csv) file into DataFrame.\n",
              "read_table : Read general delimited file into DataFrame.\n",
              "read_clipboard : Read text from clipboard into DataFrame.\n",
              "\n",
              "Notes\n",
              "-----\n",
              "Please reference the :ref:`User Guide &lt;basics.dataframe&gt;` for more information.\n",
              "\n",
              "Examples\n",
              "--------\n",
              "Constructing DataFrame from a dictionary.\n",
              "\n",
              "&gt;&gt;&gt; d = {&#x27;col1&#x27;: [1, 2], &#x27;col2&#x27;: [3, 4]}\n",
              "&gt;&gt;&gt; df = pd.DataFrame(data=d)\n",
              "&gt;&gt;&gt; df\n",
              "   col1  col2\n",
              "0     1     3\n",
              "1     2     4\n",
              "\n",
              "Notice that the inferred dtype is int64.\n",
              "\n",
              "&gt;&gt;&gt; df.dtypes\n",
              "col1    int64\n",
              "col2    int64\n",
              "dtype: object\n",
              "\n",
              "To enforce a single dtype:\n",
              "\n",
              "&gt;&gt;&gt; df = pd.DataFrame(data=d, dtype=np.int8)\n",
              "&gt;&gt;&gt; df.dtypes\n",
              "col1    int8\n",
              "col2    int8\n",
              "dtype: object\n",
              "\n",
              "Constructing DataFrame from a dictionary including Series:\n",
              "\n",
              "&gt;&gt;&gt; d = {&#x27;col1&#x27;: [0, 1, 2, 3], &#x27;col2&#x27;: pd.Series([2, 3], index=[2, 3])}\n",
              "&gt;&gt;&gt; pd.DataFrame(data=d, index=[0, 1, 2, 3])\n",
              "   col1  col2\n",
              "0     0   NaN\n",
              "1     1   NaN\n",
              "2     2   2.0\n",
              "3     3   3.0\n",
              "\n",
              "Constructing DataFrame from numpy ndarray:\n",
              "\n",
              "&gt;&gt;&gt; df2 = pd.DataFrame(np.array([[1, 2, 3], [4, 5, 6], [7, 8, 9]]),\n",
              "...                    columns=[&#x27;a&#x27;, &#x27;b&#x27;, &#x27;c&#x27;])\n",
              "&gt;&gt;&gt; df2\n",
              "   a  b  c\n",
              "0  1  2  3\n",
              "1  4  5  6\n",
              "2  7  8  9\n",
              "\n",
              "Constructing DataFrame from a numpy ndarray that has labeled columns:\n",
              "\n",
              "&gt;&gt;&gt; data = np.array([(1, 2, 3), (4, 5, 6), (7, 8, 9)],\n",
              "...                 dtype=[(&quot;a&quot;, &quot;i4&quot;), (&quot;b&quot;, &quot;i4&quot;), (&quot;c&quot;, &quot;i4&quot;)])\n",
              "&gt;&gt;&gt; df3 = pd.DataFrame(data, columns=[&#x27;c&#x27;, &#x27;a&#x27;])\n",
              "...\n",
              "&gt;&gt;&gt; df3\n",
              "   c  a\n",
              "0  3  1\n",
              "1  6  4\n",
              "2  9  7\n",
              "\n",
              "Constructing DataFrame from dataclass:\n",
              "\n",
              "&gt;&gt;&gt; from dataclasses import make_dataclass\n",
              "&gt;&gt;&gt; Point = make_dataclass(&quot;Point&quot;, [(&quot;x&quot;, int), (&quot;y&quot;, int)])\n",
              "&gt;&gt;&gt; pd.DataFrame([Point(0, 0), Point(0, 3), Point(2, 3)])\n",
              "   x  y\n",
              "0  0  0\n",
              "1  0  3\n",
              "2  2  3\n",
              "\n",
              "Constructing DataFrame from Series/DataFrame:\n",
              "\n",
              "&gt;&gt;&gt; ser = pd.Series([1, 2, 3], index=[&quot;a&quot;, &quot;b&quot;, &quot;c&quot;])\n",
              "&gt;&gt;&gt; df = pd.DataFrame(data=ser, index=[&quot;a&quot;, &quot;c&quot;])\n",
              "&gt;&gt;&gt; df\n",
              "   0\n",
              "a  1\n",
              "c  3\n",
              "\n",
              "&gt;&gt;&gt; df1 = pd.DataFrame([1, 2, 3], index=[&quot;a&quot;, &quot;b&quot;, &quot;c&quot;], columns=[&quot;x&quot;])\n",
              "&gt;&gt;&gt; df2 = pd.DataFrame(data=df1, index=[&quot;a&quot;, &quot;c&quot;])\n",
              "&gt;&gt;&gt; df2\n",
              "   x\n",
              "a  1\n",
              "c  3</pre>\n",
              "      <script>\n",
              "      if (google.colab.kernel.accessAllowed && google.colab.files && google.colab.files.view) {\n",
              "        for (const element of document.querySelectorAll('.filepath')) {\n",
              "          element.style.display = 'block'\n",
              "          element.onclick = (event) => {\n",
              "            event.preventDefault();\n",
              "            event.stopPropagation();\n",
              "            google.colab.files.view(element.textContent, 509);\n",
              "          };\n",
              "        }\n",
              "      }\n",
              "      for (const element of document.querySelectorAll('.function-repr-contents')) {\n",
              "        element.onclick = (event) => {\n",
              "          event.preventDefault();\n",
              "          event.stopPropagation();\n",
              "          element.classList.toggle('function-repr-contents-collapsed');\n",
              "        };\n",
              "      }\n",
              "      </script>\n",
              "      </div>"
            ]
          },
          "metadata": {},
          "execution_count": 2
        }
      ]
    },
    {
      "cell_type": "code",
      "source": [
        "# Tipo de dato del objeto dimensiones\n",
        "type(dimensiones)"
      ],
      "metadata": {
        "id": "ZJLF_iD1doov",
        "colab": {
          "base_uri": "https://localhost:8080/"
        },
        "outputId": "f777ec98-0d67-408a-d4bb-7b64f9ace241"
      },
      "execution_count": null,
      "outputs": [
        {
          "output_type": "execute_result",
          "data": {
            "text/plain": [
              "tuple"
            ]
          },
          "metadata": {},
          "execution_count": 3
        }
      ]
    },
    {
      "cell_type": "code",
      "source": [
        "print(f\"La tupla dimensiones es \\n{dimensiones}\")"
      ],
      "metadata": {
        "id": "bjl0VanveGMu",
        "colab": {
          "base_uri": "https://localhost:8080/"
        },
        "outputId": "15996051-fe68-4ed2-f3b3-7a87c81d05c3"
      },
      "execution_count": null,
      "outputs": [
        {
          "output_type": "stream",
          "name": "stdout",
          "text": [
            "La tupla dimensiones es \n",
            "(8, 5)\n"
          ]
        }
      ]
    },
    {
      "cell_type": "code",
      "source": [
        "# 8: número de filas\n",
        "# 5: número de columnas"
      ],
      "metadata": {
        "id": "yVYCUluUeLb2"
      },
      "execution_count": null,
      "outputs": []
    },
    {
      "cell_type": "markdown",
      "source": [
        "### [1.2] Tuplas a partir de enumerate"
      ],
      "metadata": {
        "id": "6Ga15KnUBjJ6"
      }
    },
    {
      "cell_type": "code",
      "source": [
        "paises = ['perú','colombia','venezuela','ecuador','chile']\n",
        "\n",
        "for i,pais in enumerate(paises):\n",
        "  print((i,pais))"
      ],
      "metadata": {
        "id": "uGif8EEGBvqM",
        "colab": {
          "base_uri": "https://localhost:8080/"
        },
        "outputId": "d15194d3-c174-4d8f-dd21-31e6aaa0c6d1"
      },
      "execution_count": null,
      "outputs": [
        {
          "output_type": "stream",
          "name": "stdout",
          "text": [
            "(0, 'perú')\n",
            "(1, 'colombia')\n",
            "(2, 'venezuela')\n",
            "(3, 'ecuador')\n",
            "(4, 'chile')\n"
          ]
        }
      ]
    },
    {
      "cell_type": "markdown",
      "source": [
        "### [1.3] Tuplas a partir de librería os"
      ],
      "metadata": {
        "id": "BadFpPR9CCTZ"
      }
    },
    {
      "cell_type": "code",
      "source": [
        "import os\n",
        "\n",
        "ruta = \"/home/usuario/archivo.txt\"\n",
        "resultado = os.path.split(ruta)\n",
        "print(resultado)"
      ],
      "metadata": {
        "id": "g7AqxAYmBwIM",
        "colab": {
          "base_uri": "https://localhost:8080/"
        },
        "outputId": "c3f817af-b4a0-4d7b-8de0-64f2ae8382e7"
      },
      "execution_count": null,
      "outputs": [
        {
          "output_type": "stream",
          "name": "stdout",
          "text": [
            "('/home/usuario', 'archivo.txt')\n"
          ]
        }
      ]
    },
    {
      "cell_type": "code",
      "source": [
        "type(resultado)"
      ],
      "metadata": {
        "id": "-hF026eDftA7",
        "colab": {
          "base_uri": "https://localhost:8080/"
        },
        "outputId": "ab52a051-ae39-44cf-938f-b1cb7a64d8dd"
      },
      "execution_count": null,
      "outputs": [
        {
          "output_type": "execute_result",
          "data": {
            "text/plain": [
              "tuple"
            ]
          },
          "metadata": {},
          "execution_count": 8
        }
      ]
    },
    {
      "cell_type": "code",
      "source": [
        "ruta_ = \"C:/David/Administrativos/HES/Abril25/Estados_Pagos/Reporte Estado Pago - MLE - Abril 2025.pdf\""
      ],
      "metadata": {
        "id": "6Z4RJW_Kf2nJ"
      },
      "execution_count": null,
      "outputs": []
    },
    {
      "cell_type": "code",
      "source": [
        "resultado_ = os.path.split(ruta_)\n",
        "print(resultado_)"
      ],
      "metadata": {
        "id": "rYTz4ppwgJV6",
        "colab": {
          "base_uri": "https://localhost:8080/"
        },
        "outputId": "e37b36ed-4ca8-4e6c-d07a-1dfc88bbc689"
      },
      "execution_count": null,
      "outputs": [
        {
          "output_type": "stream",
          "name": "stdout",
          "text": [
            "('C:/David/Administrativos/HES/Abril25/Estados_Pagos', 'Reporte Estado Pago - MLE - Abril 2025.pdf')\n"
          ]
        }
      ]
    },
    {
      "cell_type": "code",
      "source": [
        "type(resultado_)"
      ],
      "metadata": {
        "colab": {
          "base_uri": "https://localhost:8080/"
        },
        "id": "AnqMuzfbZJA0",
        "outputId": "75c21c51-df38-4100-9729-4b445b523092"
      },
      "execution_count": null,
      "outputs": [
        {
          "output_type": "execute_result",
          "data": {
            "text/plain": [
              "tuple"
            ]
          },
          "metadata": {},
          "execution_count": 11
        }
      ]
    },
    {
      "cell_type": "markdown",
      "source": [
        "## [2] Crear tuplas e identificar los tipos de tuplas"
      ],
      "metadata": {
        "id": "DWhuqqC-fj5G"
      }
    },
    {
      "cell_type": "code",
      "source": [
        "tupla_0 = ('ibk','bcp','bbva')\n",
        "print(f\"La tupla tiene los siguientes elementos \\n{tupla_0}\")"
      ],
      "metadata": {
        "id": "qzsv-0QWBf8c",
        "colab": {
          "base_uri": "https://localhost:8080/"
        },
        "outputId": "9492f27e-d801-437b-d6bc-c126e64e73b7"
      },
      "execution_count": null,
      "outputs": [
        {
          "output_type": "stream",
          "name": "stdout",
          "text": [
            "La tupla tiene los siguientes elementos \n",
            "('ibk', 'bcp', 'bbva')\n"
          ]
        }
      ]
    },
    {
      "cell_type": "code",
      "source": [
        "tupla_0 = () # Tupla vacía"
      ],
      "metadata": {
        "id": "g9w3MgKvbOYX"
      },
      "execution_count": null,
      "outputs": []
    },
    {
      "cell_type": "code",
      "source": [
        "type(tupla_0)"
      ],
      "metadata": {
        "id": "zRkTwen0c5XP",
        "colab": {
          "base_uri": "https://localhost:8080/"
        },
        "outputId": "9678f96c-0ced-4e62-f521-a657791bafb4"
      },
      "execution_count": null,
      "outputs": [
        {
          "output_type": "execute_result",
          "data": {
            "text/plain": [
              "tuple"
            ]
          },
          "metadata": {},
          "execution_count": 14
        }
      ]
    },
    {
      "cell_type": "code",
      "source": [
        "# Creado una lista con 1 elemento\n",
        "lista_0 = [1]\n",
        "type(lista_0)"
      ],
      "metadata": {
        "id": "g-OLavNHhpGx",
        "colab": {
          "base_uri": "https://localhost:8080/"
        },
        "outputId": "f316018f-db99-41d8-ce16-b2850e537016"
      },
      "execution_count": null,
      "outputs": [
        {
          "output_type": "execute_result",
          "data": {
            "text/plain": [
              "list"
            ]
          },
          "metadata": {},
          "execution_count": 15
        }
      ]
    },
    {
      "cell_type": "code",
      "source": [
        "# Creado una tupla con 1 elemento (ERROR!)\n",
        "tup_0 = (1)\n",
        "type(tup_0)"
      ],
      "metadata": {
        "id": "Ky079u08hykD",
        "colab": {
          "base_uri": "https://localhost:8080/"
        },
        "outputId": "21196388-1be9-4338-a5fb-e89e61b9b35e"
      },
      "execution_count": null,
      "outputs": [
        {
          "output_type": "execute_result",
          "data": {
            "text/plain": [
              "int"
            ]
          },
          "metadata": {},
          "execution_count": 16
        }
      ]
    },
    {
      "cell_type": "code",
      "source": [
        "tupla_1 = (5,) # CORRECTO: Tupla de 1 elemento\n",
        "type(tupla_1)"
      ],
      "metadata": {
        "id": "n5NnbgLMc7Al",
        "colab": {
          "base_uri": "https://localhost:8080/"
        },
        "outputId": "6c3c6976-3db5-4f44-a9ab-e5fc3a50f727"
      },
      "execution_count": null,
      "outputs": [
        {
          "output_type": "execute_result",
          "data": {
            "text/plain": [
              "tuple"
            ]
          },
          "metadata": {},
          "execution_count": 17
        }
      ]
    },
    {
      "cell_type": "markdown",
      "source": [
        "## Actividad N022"
      ],
      "metadata": {
        "id": "-qKSwJwWDkBd"
      }
    },
    {
      "cell_type": "markdown",
      "source": [
        "Crear una tupla con el nombre “equipos”, los elementos de la tupla serán 5 equipos de fútbol y vamos a mostrar en pantalla el resultado."
      ],
      "metadata": {
        "id": "7rk2mFtKDnSu"
      }
    },
    {
      "cell_type": "code",
      "source": [
        "equipos = (\"universitario\",\"alianza lima\",\"sporting cristal\",\"sport boys\",\"juan aurich\")\n",
        "\n",
        "print(f\"La tupla de equipos de fútbol peruano es \\n{equipos}\")"
      ],
      "metadata": {
        "id": "F7gJTCmX5I6F",
        "colab": {
          "base_uri": "https://localhost:8080/"
        },
        "outputId": "61e51a77-b6ba-44da-9b43-0a4521798d48"
      },
      "execution_count": null,
      "outputs": [
        {
          "output_type": "stream",
          "name": "stdout",
          "text": [
            "La tupla de equipos de fútbol peruano es \n",
            "('universitario', 'alianza lima', 'sporting cristal', 'sport boys', 'juan aurich')\n"
          ]
        }
      ]
    },
    {
      "cell_type": "code",
      "source": [
        "print(f\"El segundo elemento de la tupla equipos es {equipos[1].capitalize()}\")"
      ],
      "metadata": {
        "colab": {
          "base_uri": "https://localhost:8080/"
        },
        "id": "mcKdPLrgcxEm",
        "outputId": "52f9e639-dfa0-4159-ec7a-651705304734"
      },
      "execution_count": null,
      "outputs": [
        {
          "output_type": "stream",
          "name": "stdout",
          "text": [
            "El segundo elemento de la tupla equipos es Alianza lima\n"
          ]
        }
      ]
    },
    {
      "cell_type": "code",
      "source": [
        "equipos[1] = 'real madrid'"
      ],
      "metadata": {
        "colab": {
          "base_uri": "https://localhost:8080/",
          "height": 144
        },
        "id": "qAKyVhobdggt",
        "outputId": "da11b208-4623-4558-93a6-10042e46d7d2"
      },
      "execution_count": null,
      "outputs": [
        {
          "output_type": "error",
          "ename": "TypeError",
          "evalue": "'tuple' object does not support item assignment",
          "traceback": [
            "\u001b[0;31m---------------------------------------------------------------------------\u001b[0m",
            "\u001b[0;31mTypeError\u001b[0m                                 Traceback (most recent call last)",
            "\u001b[0;32m/tmp/ipython-input-3996648876.py\u001b[0m in \u001b[0;36m<cell line: 0>\u001b[0;34m()\u001b[0m\n\u001b[0;32m----> 1\u001b[0;31m \u001b[0mequipos\u001b[0m\u001b[0;34m[\u001b[0m\u001b[0;36m1\u001b[0m\u001b[0;34m]\u001b[0m \u001b[0;34m=\u001b[0m \u001b[0;34m'real madrid'\u001b[0m\u001b[0;34m\u001b[0m\u001b[0;34m\u001b[0m\u001b[0m\n\u001b[0m",
            "\u001b[0;31mTypeError\u001b[0m: 'tuple' object does not support item assignment"
          ]
        }
      ]
    },
    {
      "cell_type": "markdown",
      "source": [
        "## [3] Tipos de tuplas"
      ],
      "metadata": {
        "id": "i2YPNZCzDyWg"
      }
    },
    {
      "cell_type": "code",
      "source": [
        "# Tupla homogénea => elementos son del mismo tipo\n",
        "\n",
        "tupla_2 = (2.0, 2.5, 3.2, 4.3, 4.5, 6.5, 7.0)\n",
        "print(f\"La tupla es \\n{tupla_2}\")\n",
        "print(f\"\\nEl objeto tupla_2 es del tipo {type(tupla_2)}\")"
      ],
      "metadata": {
        "id": "6jSfoLLvdHSY"
      },
      "execution_count": null,
      "outputs": []
    },
    {
      "cell_type": "markdown",
      "source": [
        "## Actividad N023"
      ],
      "metadata": {
        "id": "5OCfITR2FNXH"
      }
    },
    {
      "cell_type": "markdown",
      "source": [
        "(2,5.5,'UTEC',True)\n",
        "\n",
        "Crear una tupla con la información de la imagen superior y nombrar como “info_personal”.\n",
        "¿Qué tipo de tupla es “info_personal”?"
      ],
      "metadata": {
        "id": "qz4HAITeFPe7"
      }
    },
    {
      "cell_type": "code",
      "source": [],
      "metadata": {
        "id": "pKHgIEWO5N51"
      },
      "execution_count": null,
      "outputs": []
    },
    {
      "cell_type": "markdown",
      "source": [
        "## [4] Acceder a los elementos de las tuplas"
      ],
      "metadata": {
        "id": "MY9xSd-qfgkS"
      }
    },
    {
      "cell_type": "code",
      "source": [
        "materias = ('química','aritmética','razonamiento verbal','trigonometría','geometría')"
      ],
      "metadata": {
        "id": "eRYIY_eEEEd3"
      },
      "execution_count": null,
      "outputs": []
    },
    {
      "cell_type": "code",
      "source": [
        "print(f\"El tercer elemento de la tupla materias es {materias[2]}\")"
      ],
      "metadata": {
        "id": "PIz7aCaJEZHj"
      },
      "execution_count": null,
      "outputs": []
    },
    {
      "cell_type": "code",
      "source": [
        "type(materias[2])"
      ],
      "metadata": {
        "id": "GyVjXooDpwbw"
      },
      "execution_count": null,
      "outputs": []
    },
    {
      "cell_type": "code",
      "source": [
        "materias[1:3]"
      ],
      "metadata": {
        "id": "kIF8FIZqEdsw"
      },
      "execution_count": null,
      "outputs": []
    },
    {
      "cell_type": "code",
      "source": [
        "type(materias[1:3])"
      ],
      "metadata": {
        "id": "6tLPIBUrqAyL"
      },
      "execution_count": null,
      "outputs": []
    },
    {
      "cell_type": "code",
      "source": [
        "print(f\"La tupla es {tupla_2}\")\n",
        "print(f\"El elemento de índice 1 de la tupla es {tupla_2[1]}\")"
      ],
      "metadata": {
        "id": "G_AXXBySeEo4"
      },
      "execution_count": null,
      "outputs": []
    },
    {
      "cell_type": "code",
      "source": [
        "tupla_4 = (1,2,3,4,5,6,7,8,9,10)"
      ],
      "metadata": {
        "id": "ndnatYBSf6_V"
      },
      "execution_count": null,
      "outputs": []
    },
    {
      "cell_type": "code",
      "source": [
        "# Acceder a los elementos de la tupla por operadores de segmentación\n",
        "print(f\"Los elementos seleccionados de la tupla original son \\n{tupla_4[2:7]}\")"
      ],
      "metadata": {
        "id": "AQhKAo1Sjnjs"
      },
      "execution_count": null,
      "outputs": []
    },
    {
      "cell_type": "code",
      "source": [
        "print(f\"Los elementos seleccionados de la tupla original son \\n{tupla_4[-8:-3]}\")"
      ],
      "metadata": {
        "id": "ktb7WIwQq74F"
      },
      "execution_count": null,
      "outputs": []
    },
    {
      "cell_type": "code",
      "source": [
        "print(f\"Los elementos seleccionados de la tupla original son \\n{tupla_4[7:]}\")"
      ],
      "metadata": {
        "id": "ynldLm6JkrTS"
      },
      "execution_count": null,
      "outputs": []
    },
    {
      "cell_type": "code",
      "source": [
        "print(f\"Los elementos seleccionados de la tupla original son \\n{tupla_4[0:4]}\")"
      ],
      "metadata": {
        "id": "D-k3mMqWloTN"
      },
      "execution_count": null,
      "outputs": []
    },
    {
      "cell_type": "code",
      "source": [
        "print(f\"Los elementos seleccionados de la tupla original son \\n{tupla_4[:4]}\")"
      ],
      "metadata": {
        "id": "IScUIKDblsUM"
      },
      "execution_count": null,
      "outputs": []
    },
    {
      "cell_type": "markdown",
      "source": [
        "## Actividad N024"
      ],
      "metadata": {
        "id": "zxMMwTm5Es5v"
      }
    },
    {
      "cell_type": "code",
      "source": [],
      "metadata": {
        "id": "ss6YKSM95SG-"
      },
      "execution_count": null,
      "outputs": []
    },
    {
      "cell_type": "markdown",
      "source": [
        "Acceder al último elemento de la tupla (“equipos”)."
      ],
      "metadata": {
        "id": "VmmXpCP9Exf9"
      }
    },
    {
      "cell_type": "code",
      "source": [],
      "metadata": {
        "id": "i-nAzEdc5Vk6"
      },
      "execution_count": null,
      "outputs": []
    },
    {
      "cell_type": "markdown",
      "source": [
        "Acceder a los primeros 3 elementos de la tupla (“equipos”)."
      ],
      "metadata": {
        "id": "aBUdIPP8E8IQ"
      }
    },
    {
      "cell_type": "code",
      "source": [],
      "metadata": {
        "id": "fXB37V515Xk7"
      },
      "execution_count": null,
      "outputs": []
    },
    {
      "cell_type": "markdown",
      "source": [
        "## [5] Desempaquetado de tuplas"
      ],
      "metadata": {
        "id": "90beMxfqovaa"
      }
    },
    {
      "cell_type": "code",
      "source": [
        "var_1, var_2 = \"UTEC\",\"UPC\" # Desempaquetado de dos cadenas de caracteres en dos variables (var_1,var_2)"
      ],
      "metadata": {
        "id": "py4oDOQronuA"
      },
      "execution_count": null,
      "outputs": []
    },
    {
      "cell_type": "code",
      "source": [
        "print(f\"El valor del objeto var_1 es {var_1}\")\n",
        "print(f\"El valor del objeto var_2 es {var_2}\")"
      ],
      "metadata": {
        "id": "jzXde_wyo6mi"
      },
      "execution_count": null,
      "outputs": []
    },
    {
      "cell_type": "code",
      "source": [
        "t_vocales = (\"a\", \"e\", \"i\", \"o\", \"u\")\n",
        "print(f\"La tupla vocales es {t_vocales}\")"
      ],
      "metadata": {
        "id": "OnR3rrRvpBMJ"
      },
      "execution_count": null,
      "outputs": []
    },
    {
      "cell_type": "code",
      "source": [
        "print(f\"La selección de los primeros tres elementos es {t_vocales[0:3]}\")"
      ],
      "metadata": {
        "id": "7oXysCaZpVl-"
      },
      "execution_count": null,
      "outputs": []
    },
    {
      "cell_type": "code",
      "source": [
        "x, y, z = t_vocales[0:3] # Desempaquetar los elementos de la tupla en 3 variables"
      ],
      "metadata": {
        "id": "yygRS0qvqB9l"
      },
      "execution_count": null,
      "outputs": []
    },
    {
      "cell_type": "code",
      "source": [
        "print(f\"El primer elemento de la tupla vocales es {x}.\")\n",
        "print(f\"El segundo elemento de la tupla vocales es {y}.\")\n",
        "print(f\"El tercer elemento de la tupla vocales es {z}.\")"
      ],
      "metadata": {
        "id": "R1IwLShhqNaP"
      },
      "execution_count": null,
      "outputs": []
    },
    {
      "cell_type": "code",
      "source": [
        "print(f\"El primer elemento de la tupla vocales es {t_vocales[0]}.\")\n",
        "print(f\"El segundo elemento de la tupla vocales es {t_vocales[1]}.\")\n",
        "print(f\"El tercer elemento de la tupla vocales es {t_vocales[2]}.\")"
      ],
      "metadata": {
        "id": "uga058OHwqs5"
      },
      "execution_count": null,
      "outputs": []
    },
    {
      "cell_type": "code",
      "source": [
        "t_vocales[0] = \"A\" # Tuplas son inmutables"
      ],
      "metadata": {
        "id": "NNXZ16M5qfIv"
      },
      "execution_count": null,
      "outputs": []
    },
    {
      "cell_type": "code",
      "source": [
        "print(materias)"
      ],
      "metadata": {
        "id": "54h3b0goFxLE"
      },
      "execution_count": null,
      "outputs": []
    },
    {
      "cell_type": "code",
      "source": [
        "mat1,mat2,mat3 = materias[0:3]"
      ],
      "metadata": {
        "id": "XAelNq2gq_T5"
      },
      "execution_count": null,
      "outputs": []
    },
    {
      "cell_type": "code",
      "source": [
        "print(f\"La primera materia de mi programa es {mat1}\")\n",
        "print(f\"La segundo materia de mi programa es {mat2}\")\n",
        "print(f\"La tercera materia de mi programa es {mat3}\")"
      ],
      "metadata": {
        "id": "ZVDjGbGuxJsL"
      },
      "execution_count": null,
      "outputs": []
    },
    {
      "cell_type": "markdown",
      "source": [
        "## Actividad N025"
      ],
      "metadata": {
        "id": "L6mFLkVaF_Qw"
      }
    },
    {
      "cell_type": "markdown",
      "source": [
        "Desempaquetar los 2 últimos equipos de la tupla (“equipos”) y almacenarlos en los objetos equipo_A y equipo_B."
      ],
      "metadata": {
        "id": "cpSfGmfoGCZO"
      }
    },
    {
      "cell_type": "code",
      "source": [],
      "metadata": {
        "id": "uCKNdfpK5cI0"
      },
      "execution_count": null,
      "outputs": []
    },
    {
      "cell_type": "markdown",
      "source": [
        "## [6] Desempaquetado de tuplas con FOR"
      ],
      "metadata": {
        "id": "bYvov9PCrwZf"
      }
    },
    {
      "cell_type": "code",
      "source": [
        "t_prod = ((\"A0001\",\"manzana\",3.0),(\"A0002\",\"aceite\",7.5)) # Tupla de tuplas"
      ],
      "metadata": {
        "id": "ZBKicQLJre0p"
      },
      "execution_count": null,
      "outputs": []
    },
    {
      "cell_type": "code",
      "source": [
        "print(f\"La tupla de productos es \\n{t_prod}\")"
      ],
      "metadata": {
        "id": "N0IHEobWsEkJ"
      },
      "execution_count": null,
      "outputs": []
    },
    {
      "cell_type": "code",
      "source": [
        "for cod,prod,pre in t_prod:\n",
        "  print(f\"El producto {prod} con código {cod} tiene el precio vigente en S/.{pre}\")"
      ],
      "metadata": {
        "id": "rZt_NLthsI1k"
      },
      "execution_count": null,
      "outputs": []
    },
    {
      "cell_type": "markdown",
      "source": [
        "## [7] Función tuple"
      ],
      "metadata": {
        "id": "GKm73_I7supL"
      }
    },
    {
      "cell_type": "code",
      "source": [
        "pares = tuple(range(2,11,2)) # Función que me permite crear tuplas\n",
        "print(f\"La tupla pares es \\n{pares}\")"
      ],
      "metadata": {
        "id": "KXZ3pB0WGeXV"
      },
      "execution_count": null,
      "outputs": []
    },
    {
      "cell_type": "code",
      "source": [
        "lista_ = list(range(10)) # Función list me permite crear listas"
      ],
      "metadata": {
        "id": "FqYvb0BestuV"
      },
      "execution_count": null,
      "outputs": []
    },
    {
      "cell_type": "code",
      "source": [
        "print(f\"La lista {lista_} es del tipo {type(lista_)}\")"
      ],
      "metadata": {
        "id": "-9Dcr5ursiYC"
      },
      "execution_count": null,
      "outputs": []
    },
    {
      "cell_type": "code",
      "source": [
        "tupla_ = tuple(lista_) # Función tuple me permite crear tuplas, crear una tupla a partir de una lista\n",
        "print(f\"La tupla {tupla_} es del tipo {type(tupla_)}\")"
      ],
      "metadata": {
        "id": "p-5jW-BttDEa"
      },
      "execution_count": null,
      "outputs": []
    },
    {
      "cell_type": "code",
      "source": [
        "tuple(\"David\")"
      ],
      "metadata": {
        "id": "PCrzJ3y8tXrs"
      },
      "execution_count": null,
      "outputs": []
    },
    {
      "cell_type": "code",
      "source": [
        "tuple(\"Programa Python\")"
      ],
      "metadata": {
        "id": "PLoC_pyK1K5r"
      },
      "execution_count": null,
      "outputs": []
    },
    {
      "cell_type": "code",
      "source": [
        "tuple(\"Programa Python\")[:8]"
      ],
      "metadata": {
        "id": "K1MZdhHU1aJv"
      },
      "execution_count": null,
      "outputs": []
    },
    {
      "cell_type": "code",
      "source": [
        "list(\"Programa Python\")"
      ],
      "metadata": {
        "id": "DmEfcgVh1Roo"
      },
      "execution_count": null,
      "outputs": []
    },
    {
      "cell_type": "markdown",
      "source": [
        "## Actividad N026"
      ],
      "metadata": {
        "id": "eDbrnbWkGiLB"
      }
    },
    {
      "cell_type": "code",
      "source": [
        "from google.colab import files\n",
        "\n",
        "# Subir archivo desde tu máquina local\n",
        "uploaded = files.upload()"
      ],
      "metadata": {
        "id": "xL6kmHJI2TiE"
      },
      "execution_count": null,
      "outputs": []
    },
    {
      "cell_type": "code",
      "source": [
        "from IPython.display import Image, display\n",
        "\n",
        "# Mostrar la imagen en Colab\n",
        "display(Image(filename='minas.png'))"
      ],
      "metadata": {
        "id": "K2yqwT5Q2o48"
      },
      "execution_count": null,
      "outputs": []
    },
    {
      "cell_type": "markdown",
      "source": [
        "Crear la tupla cobre_prod, esta tupla estará compuesta por la información del cuadro."
      ],
      "metadata": {
        "id": "Y3aiPsbNGqQi"
      }
    },
    {
      "cell_type": "code",
      "source": [],
      "metadata": {
        "id": "1NUJm-s75m9E"
      },
      "execution_count": null,
      "outputs": []
    },
    {
      "cell_type": "markdown",
      "source": [
        "## Actividad N027"
      ],
      "metadata": {
        "id": "fyCkjmKrGvT4"
      }
    },
    {
      "cell_type": "markdown",
      "source": [
        "Desempaquetar la tupla cobre_prod, imprimir en pantalla los siguientes enunciados."
      ],
      "metadata": {
        "id": "OKnEoJyEGrrI"
      }
    },
    {
      "cell_type": "code",
      "source": [],
      "metadata": {
        "id": "ZD6P6-Bv5otM"
      },
      "execution_count": null,
      "outputs": []
    }
  ]
}