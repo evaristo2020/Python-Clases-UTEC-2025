{
  "nbformat": 4,
  "nbformat_minor": 0,
  "metadata": {
    "colab": {
      "provenance": [],
      "include_colab_link": true
    },
    "kernelspec": {
      "name": "python3",
      "display_name": "Python 3"
    },
    "language_info": {
      "name": "python"
    }
  },
  "cells": [
    {
      "cell_type": "markdown",
      "metadata": {
        "id": "view-in-github",
        "colab_type": "text"
      },
      "source": [
        "<a href=\"https://colab.research.google.com/github/evaristo2020/Python-Clases-UTEC-2025/blob/main/Trabajo_calificado_sep25_ecampos.ipynb\" target=\"_parent\"><img src=\"https://colab.research.google.com/assets/colab-badge.svg\" alt=\"Open In Colab\"/></a>"
      ]
    },
    {
      "cell_type": "markdown",
      "source": [
        "**Trabajo Calificado de Cierre – Python aplicado a la Agroindustria**"
      ],
      "metadata": {
        "id": "YHmrZzcJ1UPK"
      }
    },
    {
      "cell_type": "markdown",
      "source": [
        "La empresa AgroAndes S.A. se dedica a la exportación de frutas (mango, palta y uva).\n",
        "La gerencia quiere implementar un sistema en Python para analizar datos de ventas, costos y eficiencia de producción.\n",
        "Se te ha pedido construir pequeñas piezas de código que luego se integrarán en un sistema más grande.\n",
        "Los datos iniciales que se usarán son los siguientes:"
      ],
      "metadata": {
        "id": "dPpKboGo1kwh"
      }
    },
    {
      "cell_type": "code",
      "execution_count": null,
      "metadata": {
        "id": "kC_1miyB1SrH"
      },
      "outputs": [],
      "source": [
        "productos = [\"Mango\", \"Palta\", \"Uva\"]\n",
        "precios = [2.5, 3.0, 4.2]  # precio por kilo en USD\n",
        "costos = [1.2, 1.5, 2.8]   # costo por kilo en USD\n",
        "ventas_mensuales = {\n",
        "    \"Enero\": {\"Mango\": 1200, \"Palta\": 800, \"Uva\": 950},\n",
        "    \"Febrero\": {\"Mango\": 1500, \"Palta\": 950, \"Uva\": 1100},\n",
        "    \"Marzo\": {\"Mango\": 1700, \"Palta\": 1000, \"Uva\": 1200}\n",
        "}"
      ]
    },
    {
      "cell_type": "code",
      "source": [],
      "metadata": {
        "id": "NGTueJuj-6FT"
      },
      "execution_count": null,
      "outputs": []
    },
    {
      "cell_type": "markdown",
      "source": [
        "1. Calcular y mostrar la ganancia unitaria de cada producto (precio – costo)."
      ],
      "metadata": {
        "id": "QH4Kw9DY11zM"
      }
    },
    {
      "cell_type": "code",
      "source": [
        "# Lista de productos\n",
        "print(\"Ganancia unitaria por producto:\")\n",
        "for i in range(len(productos)):\n",
        "    nombre = productos[i]\n",
        "    precio = precios[i]\n",
        "    costo = costos[i]\n",
        "    ganancia = precio - costo\n",
        "    print(f\"{nombre}: ${ganancia:.2f} por kilo\")"
      ],
      "metadata": {
        "id": "NxU47YAp_ZIg",
        "outputId": "4120eba0-29db-49dd-f78f-6f46dd56470f",
        "colab": {
          "base_uri": "https://localhost:8080/"
        }
      },
      "execution_count": 7,
      "outputs": [
        {
          "output_type": "stream",
          "name": "stdout",
          "text": [
            "Ganancia unitaria por producto:\n",
            "Mango: $1.30 por kilo\n",
            "Palta: $1.50 por kilo\n",
            "Uva: $1.40 por kilo\n"
          ]
        }
      ]
    },
    {
      "cell_type": "markdown",
      "source": [
        "2.  Imprimir el nombre y el precio del segundo producto en la lista productos."
      ],
      "metadata": {
        "id": "KYDKjy6S19S9"
      }
    },
    {
      "cell_type": "code",
      "source": [
        "\n",
        "nombre_segundo = productos[1]\n",
        "precio_segundo = precios[1]\n",
        "\n",
        "\n",
        "print(\"Segundo producto:\", nombre_segundo)\n",
        "print(\"Precio:\", precio_segundo)\n"
      ],
      "metadata": {
        "id": "eSEv7DYYAJ7X",
        "outputId": "d487e5e5-b8ed-4c4b-96b8-cc869c0940a3",
        "colab": {
          "base_uri": "https://localhost:8080/"
        }
      },
      "execution_count": 8,
      "outputs": [
        {
          "output_type": "stream",
          "name": "stdout",
          "text": [
            "Segundo producto: Palta\n",
            "Precio: 3.0\n"
          ]
        }
      ]
    },
    {
      "cell_type": "markdown",
      "source": [
        "3. Un cliente pide crédito para comprar fruta al por mayor.\n",
        "Si el monto total de compra es mayor a 5000 USD → imprimir \"Crédito aprobado\", de lo contrario → \"Crédito denegado\"."
      ],
      "metadata": {
        "id": "KG9SMmjU2Jbu"
      }
    },
    {
      "cell_type": "code",
      "source": [
        "# Supongamos que el cliente quiere comprar estas cantidades:\n",
        "kilos_mango = 1000\n",
        "kilos_palta = 800\n",
        "kilos_uva = 700\n",
        "\n",
        "# Precios por kilo\n",
        "precio_mango = 2.5\n",
        "precio_palta = 3.0\n",
        "precio_uva = 4.2\n",
        "\n",
        "total_mango = kilos_mango * precio_mango\n",
        "total_palta = kilos_palta * precio_palta\n",
        "total_uva = kilos_uva * precio_uva\n",
        "\n",
        "monto_total = total_mango + total_palta + total_uva\n",
        "\n",
        "\n",
        "if monto_total > 5000:\n",
        "    print(\"Crédito aprobado\")\n",
        "else:\n",
        "    print(\"Crédito denegado\")\n",
        "\n",
        "print(f\"Monto total de la compra: ${monto_total:.2f}\")"
      ],
      "metadata": {
        "id": "7SzgZ6zpAVzv",
        "outputId": "86f4397c-84a6-47ba-b129-c96fe18b8b0a",
        "colab": {
          "base_uri": "https://localhost:8080/"
        }
      },
      "execution_count": 9,
      "outputs": [
        {
          "output_type": "stream",
          "name": "stdout",
          "text": [
            "Crédito aprobado\n",
            "Monto total de la compra: $7840.00\n"
          ]
        }
      ]
    },
    {
      "cell_type": "markdown",
      "source": [
        "4. La empresa clasifica la rentabilidad de un producto según su margen unitario:\n",
        "*  \"Alta\" si margen ≥ 2\n",
        "*  \"Media\" si margen entre 1 y 2\n",
        "*  \"Baja\" si margen < 1\n",
        "Mostrar la clasificación de cada producto."
      ],
      "metadata": {
        "id": "yCSqWIUG336s"
      }
    },
    {
      "cell_type": "code",
      "source": [
        "\n",
        "print(\"Clasificación de rentabilidad por producto:\")\n",
        "for i in range(len(productos)):\n",
        "    nombre = productos[i]\n",
        "    precio = precios[i]\n",
        "    costo = costos[i]\n",
        "    margen = precio - costo\n",
        "\n",
        "    if margen >= 2:\n",
        "        clasificacion = \"Alta\"\n",
        "    elif margen >= 1:\n",
        "        clasificacion = \"Media\"\n",
        "    else:\n",
        "        clasificacion = \"Baja\"\n",
        "\n",
        "    print(f\"{nombre}: Margen ${margen:.2f} → Rentabilidad {clasificacion}\")"
      ],
      "metadata": {
        "id": "C0GwP8AxAjRZ",
        "outputId": "4700b412-cf79-49bf-d89c-5072d3999d82",
        "colab": {
          "base_uri": "https://localhost:8080/"
        }
      },
      "execution_count": 10,
      "outputs": [
        {
          "output_type": "stream",
          "name": "stdout",
          "text": [
            "Clasificación de rentabilidad por producto:\n",
            "Mango: Margen $1.30 → Rentabilidad Media\n",
            "Palta: Margen $1.50 → Rentabilidad Media\n",
            "Uva: Margen $1.40 → Rentabilidad Media\n"
          ]
        }
      ]
    },
    {
      "cell_type": "markdown",
      "source": [
        "pista: margen unitario = precio unitario - costo unitario"
      ],
      "metadata": {
        "id": "8KbZJ2PJ6HuK"
      }
    },
    {
      "cell_type": "markdown",
      "source": [
        "5. Usar un ciclo for para imprimir el total de ventas (en kilos) de cada producto en el trimestre."
      ],
      "metadata": {
        "id": "GtvI7MF44F_J"
      }
    },
    {
      "cell_type": "code",
      "source": [
        "ventas_totales = {\"Mango\": 0, \"Palta\": 0, \"Uva\": 0}\n",
        "\n",
        "# Sumar ventas de cada mes\n",
        "for mes in ventas_mensuales:\n",
        "    datos_mes = ventas_mensuales[mes]\n",
        "    for producto in productos:\n",
        "        ventas_totales[producto] += datos_mes[producto]\n",
        "\n",
        "# Imprimir resultados\n",
        "print(\"Total de ventas por producto en el trimestre:\")\n",
        "for producto in productos:\n",
        "    print(f\"{producto}: {ventas_totales[producto]} kilos\")"
      ],
      "metadata": {
        "id": "JLOM5JK5A_dP",
        "outputId": "d0cc23e4-b121-4da3-ba76-6b3f755f3274",
        "colab": {
          "base_uri": "https://localhost:8080/"
        }
      },
      "execution_count": 12,
      "outputs": [
        {
          "output_type": "stream",
          "name": "stdout",
          "text": [
            "Total de ventas por producto en el trimestre:\n",
            "Mango: 4400 kilos\n",
            "Palta: 2750 kilos\n",
            "Uva: 3250 kilos\n"
          ]
        }
      ]
    },
    {
      "cell_type": "markdown",
      "source": [
        "6. Simular el crecimiento de la producción de mangos:\n",
        "La empresa produce 1000 kg en el primer mes y crece un 10% mensual.\n",
        "Usar while para calcular en cuántos meses la producción superará los 2000 kg."
      ],
      "metadata": {
        "id": "w1R7UbwX4Ym3"
      }
    },
    {
      "cell_type": "code",
      "source": [
        "# Producción inicial\n",
        "produccion = 1000\n",
        "\n",
        "# Meta de producción\n",
        "meta = 2000\n",
        "\n",
        "# Contador de meses\n",
        "meses = 0\n",
        "\n",
        "# Simulación de crecimiento mensual\n",
        "while produccion <= meta:\n",
        "    produccion = produccion * 1.10  # Aumenta 10%\n",
        "    meses = meses + 1\n",
        "\n",
        "# Mostrar resultado\n",
        "print(\"La producción superará los 2000 kg en\", meses, \"meses.\")"
      ],
      "metadata": {
        "id": "A1MpzC1mBVjH",
        "outputId": "447650ed-04c9-4593-d504-7c0578189b8e",
        "colab": {
          "base_uri": "https://localhost:8080/"
        }
      },
      "execution_count": 13,
      "outputs": [
        {
          "output_type": "stream",
          "name": "stdout",
          "text": [
            "La producción superará los 2000 kg en 8 meses.\n"
          ]
        }
      ]
    },
    {
      "cell_type": "markdown",
      "source": [
        "7. Calcular el ingreso total por producto en el trimestre (ventas * precio) usando el diccionario ventas_mensuales."
      ],
      "metadata": {
        "id": "xfsZ9jbB4uGR"
      }
    },
    {
      "cell_type": "code",
      "source": [
        "# Crear diccionario para guardar ingresos\n",
        "ingresos_totales = {\"Mango\": 0, \"Palta\": 0, \"Uva\": 0}\n",
        "\n",
        "# Calcular ingresos por producto\n",
        "for mes in ventas_mensuales:\n",
        "    datos_mes = ventas_mensuales[mes]\n",
        "    for i in range(len(productos)):\n",
        "        nombre = productos[i]\n",
        "        precio = precios[i]\n",
        "        kilos_vendidos = datos_mes[nombre]\n",
        "        ingreso_mes = kilos_vendidos * precio\n",
        "        ingresos_totales[nombre] += ingreso_mes\n",
        "\n",
        "# Mostrar resultados\n",
        "print(\"Ingreso total por producto en el trimestre:\")\n",
        "for producto in productos:\n",
        "    print(f\"{producto}: ${ingresos_totales[producto]:.2f}\")"
      ],
      "metadata": {
        "id": "J36Zaj_aBZlW",
        "outputId": "d9516e13-8882-4e6f-d2b5-c56eba2c65f4",
        "colab": {
          "base_uri": "https://localhost:8080/"
        }
      },
      "execution_count": 15,
      "outputs": [
        {
          "output_type": "stream",
          "name": "stdout",
          "text": [
            "Ingreso total por producto en el trimestre:\n",
            "Mango: $11000.00\n",
            "Palta: $8250.00\n",
            "Uva: $13650.00\n"
          ]
        }
      ]
    },
    {
      "cell_type": "markdown",
      "source": [
        "8. Crear una función calcular_utilidad(producto) que reciba el nombre de un producto y retorne su utilidad total del trimestre (ingresos – costos)."
      ],
      "metadata": {
        "id": "dG-o3wVW44x8"
      }
    },
    {
      "cell_type": "code",
      "source": [
        "# Función para calcular utilidad\n",
        "def calcular_utilidad(producto):\n",
        "    utilidad_total = 0\n",
        "\n",
        "    # Buscar el índice del producto\n",
        "    if producto in productos:\n",
        "        i = productos.index(producto)\n",
        "        precio = precios[i]\n",
        "        costo = costos[i]\n",
        "\n",
        "        # Sumar utilidad mes a mes\n",
        "        for mes in ventas_mensuales:\n",
        "            kilos = ventas_mensuales[mes][producto]\n",
        "            ingreso = kilos * precio\n",
        "            gasto = kilos * costo\n",
        "            utilidad = ingreso - gasto\n",
        "            utilidad_total += utilidad\n",
        "\n",
        "        return utilidad_total\n",
        "    else:\n",
        "        return \"Producto no encontrado\"\n",
        "\n",
        "\n",
        "print(\"Utilidad de Mango:\", calcular_utilidad(\"Mango\"))"
      ],
      "metadata": {
        "id": "Q9KdBxL0Bv-x",
        "outputId": "ee54442a-91ef-4345-8de2-b14fb82a6d89",
        "colab": {
          "base_uri": "https://localhost:8080/"
        }
      },
      "execution_count": 19,
      "outputs": [
        {
          "output_type": "stream",
          "name": "stdout",
          "text": [
            "Utilidad de Mango: 5720.0\n"
          ]
        }
      ]
    },
    {
      "cell_type": "markdown",
      "source": [
        "9. Separar la función del ejercicio anterior en un archivo utilidades.py e importarla desde el programa principal."
      ],
      "metadata": {
        "id": "WkLlB6_75Hop"
      }
    },
    {
      "cell_type": "code",
      "source": [
        "# Archivo: utilidades.py\n",
        "def calcular_utilidad(producto):\n",
        "    utilidad_total = 0\n",
        "\n",
        "    if producto in productos:\n",
        "        i = productos.index(producto)\n",
        "        precio = precios[i]\n",
        "        costo = costos[i]\n",
        "\n",
        "        for mes in ventas_mensuales:\n",
        "            kilos = ventas_mensuales[mes][producto]\n",
        "            ingreso = kilos * precio\n",
        "            gasto = kilos * costo\n",
        "            utilidad_total += ingreso - gasto\n",
        "\n",
        "        return utilidad_total\n",
        "    else:\n",
        "        return \"Producto no encontrado\"\n"
      ],
      "metadata": {
        "id": "jhfboYFJCBDh"
      },
      "execution_count": 28,
      "outputs": []
    },
    {
      "cell_type": "code",
      "source": [
        "# Archivo: programa_principal.py\n",
        "\n",
        "from utilidades import calcular_utilidad\n",
        "\n",
        "# Usar la función\n",
        "print(\"Utilidad de Mango:\", calcular_utilidad(\"Mango\"))\n",
        "print(\"Utilidad de Palta:\", calcular_utilidad(\"Palta\"))\n",
        "print(\"Utilidad de Uva:\", calcular_utilidad(\"Uva\"))\n"
      ],
      "metadata": {
        "id": "x28RHQRhCkxs",
        "outputId": "d5c1a3d5-554a-430b-fe6e-52facf6ca812",
        "colab": {
          "base_uri": "https://localhost:8080/",
          "height": 385
        }
      },
      "execution_count": 30,
      "outputs": [
        {
          "output_type": "error",
          "ename": "ModuleNotFoundError",
          "evalue": "No module named 'utilidades'",
          "traceback": [
            "\u001b[0;31m---------------------------------------------------------------------------\u001b[0m",
            "\u001b[0;31mModuleNotFoundError\u001b[0m                       Traceback (most recent call last)",
            "\u001b[0;32m/tmp/ipython-input-2319249896.py\u001b[0m in \u001b[0;36m<cell line: 0>\u001b[0;34m()\u001b[0m\n\u001b[1;32m      1\u001b[0m \u001b[0;31m# Archivo: programa_principal.py\u001b[0m\u001b[0;34m\u001b[0m\u001b[0;34m\u001b[0m\u001b[0m\n\u001b[1;32m      2\u001b[0m \u001b[0;34m\u001b[0m\u001b[0m\n\u001b[0;32m----> 3\u001b[0;31m \u001b[0;32mfrom\u001b[0m \u001b[0mutilidades\u001b[0m \u001b[0;32mimport\u001b[0m \u001b[0mcalcular_utilidad\u001b[0m\u001b[0;34m\u001b[0m\u001b[0;34m\u001b[0m\u001b[0m\n\u001b[0m\u001b[1;32m      4\u001b[0m \u001b[0;34m\u001b[0m\u001b[0m\n\u001b[1;32m      5\u001b[0m \u001b[0;31m# Usar la función\u001b[0m\u001b[0;34m\u001b[0m\u001b[0;34m\u001b[0m\u001b[0m\n",
            "\u001b[0;31mModuleNotFoundError\u001b[0m: No module named 'utilidades'",
            "",
            "\u001b[0;31m---------------------------------------------------------------------------\u001b[0;32m\nNOTE: If your import is failing due to a missing package, you can\nmanually install dependencies using either !pip or !apt.\n\nTo view examples of installing some common dependencies, click the\n\"Open Examples\" button below.\n\u001b[0;31m---------------------------------------------------------------------------\u001b[0m\n"
          ],
          "errorDetails": {
            "actions": [
              {
                "action": "open_url",
                "actionText": "Open Examples",
                "url": "/notebooks/snippets/importing_libraries.ipynb"
              }
            ]
          }
        }
      ]
    },
    {
      "cell_type": "markdown",
      "source": [
        "10. Construir un reporte de rentabilidad trimestral que muestre:\n",
        "* Producto\n",
        "* Total de ventas (kg)\n",
        "* Ingreso total (USD)\n",
        "* Costo total (USD)\n",
        "* Utilidad total (USD)\n",
        "* Clasificación de rentabilidad (alta, media o baja, según el margen)\n"
      ],
      "metadata": {
        "id": "-RNitDWN5SX2"
      }
    }
  ]
}