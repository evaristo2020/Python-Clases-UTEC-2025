{
  "nbformat": 4,
  "nbformat_minor": 0,
  "metadata": {
    "colab": {
      "provenance": [],
      "include_colab_link": true
    },
    "kernelspec": {
      "name": "python3",
      "display_name": "Python 3"
    },
    "language_info": {
      "name": "python"
    }
  },
  "cells": [
    {
      "cell_type": "markdown",
      "metadata": {
        "id": "view-in-github",
        "colab_type": "text"
      },
      "source": [
        "<a href=\"https://colab.research.google.com/github/evaristo2020/Python-Clases-UTEC-2025/blob/main/Trabajo_calificado_sep25_ecampos.ipynb\" target=\"_parent\"><img src=\"https://colab.research.google.com/assets/colab-badge.svg\" alt=\"Open In Colab\"/></a>"
      ]
    },
    {
      "cell_type": "markdown",
      "source": [
        "**Trabajo Calificado de Cierre – Python aplicado a la Agroindustria**"
      ],
      "metadata": {
        "id": "YHmrZzcJ1UPK"
      }
    },
    {
      "cell_type": "markdown",
      "source": [
        "La empresa AgroAndes S.A. se dedica a la exportación de frutas (mango, palta y uva).\n",
        "La gerencia quiere implementar un sistema en Python para analizar datos de ventas, costos y eficiencia de producción.\n",
        "Se te ha pedido construir pequeñas piezas de código que luego se integrarán en un sistema más grande.\n",
        "Los datos iniciales que se usarán son los siguientes:"
      ],
      "metadata": {
        "id": "dPpKboGo1kwh"
      }
    },
    {
      "cell_type": "code",
      "execution_count": null,
      "metadata": {
        "id": "kC_1miyB1SrH"
      },
      "outputs": [],
      "source": [
        "productos = [\"Mango\", \"Palta\", \"Uva\"]\n",
        "precios = [2.5, 3.0, 4.2]  # precio por kilo en USD\n",
        "costos = [1.2, 1.5, 2.8]   # costo por kilo en USD\n",
        "ventas_mensuales = {\n",
        "    \"Enero\": {\"Mango\": 1200, \"Palta\": 800, \"Uva\": 950},\n",
        "    \"Febrero\": {\"Mango\": 1500, \"Palta\": 950, \"Uva\": 1100},\n",
        "    \"Marzo\": {\"Mango\": 1700, \"Palta\": 1000, \"Uva\": 1200}\n",
        "}"
      ]
    },
    {
      "cell_type": "markdown",
      "source": [
        "1. Calcular y mostrar la ganancia unitaria de cada producto (precio – costo)."
      ],
      "metadata": {
        "id": "QH4Kw9DY11zM"
      }
    },
    {
      "cell_type": "markdown",
      "source": [
        "2.  Imprimir el nombre y el precio del segundo producto en la lista productos."
      ],
      "metadata": {
        "id": "KYDKjy6S19S9"
      }
    },
    {
      "cell_type": "markdown",
      "source": [
        "3. Un cliente pide crédito para comprar fruta al por mayor.\n",
        "Si el monto total de compra es mayor a 5000 USD → imprimir \"Crédito aprobado\", de lo contrario → \"Crédito denegado\"."
      ],
      "metadata": {
        "id": "KG9SMmjU2Jbu"
      }
    },
    {
      "cell_type": "markdown",
      "source": [
        "4. La empresa clasifica la rentabilidad de un producto según su margen unitario:\n",
        "*  \"Alta\" si margen ≥ 2\n",
        "*  \"Media\" si margen entre 1 y 2\n",
        "*  \"Baja\" si margen < 1\n",
        "Mostrar la clasificación de cada producto."
      ],
      "metadata": {
        "id": "yCSqWIUG336s"
      }
    },
    {
      "cell_type": "markdown",
      "source": [
        "pista: margen unitario = precio unitario - costo unitario"
      ],
      "metadata": {
        "id": "8KbZJ2PJ6HuK"
      }
    },
    {
      "cell_type": "markdown",
      "source": [
        "5. Usar un ciclo for para imprimir el total de ventas (en kilos) de cada producto en el trimestre."
      ],
      "metadata": {
        "id": "GtvI7MF44F_J"
      }
    },
    {
      "cell_type": "markdown",
      "source": [
        "6. Simular el crecimiento de la producción de mangos:\n",
        "La empresa produce 1000 kg en el primer mes y crece un 10% mensual.\n",
        "Usar while para calcular en cuántos meses la producción superará los 2000 kg."
      ],
      "metadata": {
        "id": "w1R7UbwX4Ym3"
      }
    },
    {
      "cell_type": "markdown",
      "source": [
        "7. Calcular el ingreso total por producto en el trimestre (ventas * precio) usando el diccionario ventas_mensuales."
      ],
      "metadata": {
        "id": "xfsZ9jbB4uGR"
      }
    },
    {
      "cell_type": "markdown",
      "source": [
        "8. Crear una función calcular_utilidad(producto) que reciba el nombre de un producto y retorne su utilidad total del trimestre (ingresos – costos)."
      ],
      "metadata": {
        "id": "dG-o3wVW44x8"
      }
    },
    {
      "cell_type": "markdown",
      "source": [
        "9. Separar la función del ejercicio anterior en un archivo utilidades.py e importarla desde el programa principal."
      ],
      "metadata": {
        "id": "WkLlB6_75Hop"
      }
    },
    {
      "cell_type": "markdown",
      "source": [
        "10. Construir un reporte de rentabilidad trimestral que muestre:\n",
        "* Producto\n",
        "* Total de ventas (kg)\n",
        "* Ingreso total (USD)\n",
        "* Costo total (USD)\n",
        "* Utilidad total (USD)\n",
        "* Clasificación de rentabilidad (alta, media o baja, según el margen)\n"
      ],
      "metadata": {
        "id": "-RNitDWN5SX2"
      }
    }
  ]
}