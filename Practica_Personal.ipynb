{
  "nbformat": 4,
  "nbformat_minor": 0,
  "metadata": {
    "colab": {
      "provenance": [],
      "authorship_tag": "ABX9TyNqvv9+O3U5jp0/b5Jh94kX",
      "include_colab_link": true
    },
    "kernelspec": {
      "name": "python3",
      "display_name": "Python 3"
    },
    "language_info": {
      "name": "python"
    }
  },
  "cells": [
    {
      "cell_type": "markdown",
      "metadata": {
        "id": "view-in-github",
        "colab_type": "text"
      },
      "source": [
        "<a href=\"https://colab.research.google.com/github/evaristo2020/Python-Clases-UTEC-2025/blob/main/Practica_Personal.ipynb\" target=\"_parent\"><img src=\"https://colab.research.google.com/assets/colab-badge.svg\" alt=\"Open In Colab\"/></a>"
      ]
    },
    {
      "cell_type": "code",
      "execution_count": 1,
      "metadata": {
        "colab": {
          "base_uri": "https://localhost:8080/"
        },
        "id": "Vj4xNLLR8f6o",
        "outputId": "e3310cc8-0598-44f4-df70-ed7e9af7bd90"
      },
      "outputs": [
        {
          "output_type": "stream",
          "name": "stdout",
          "text": [
            "Hello Python world\n"
          ]
        }
      ],
      "source": [
        "# Usando y aprendiendo el libro de python crash course\n",
        "print(\"Hello Python world\")"
      ]
    },
    {
      "cell_type": "code",
      "source": [
        "message=\"Hello Python world\"\n",
        "print(message)"
      ],
      "metadata": {
        "colab": {
          "base_uri": "https://localhost:8080/"
        },
        "id": "MR2yD_Sr8rUv",
        "outputId": "f8858cbe-ded9-4f45-83cf-c8da7cd8e23d"
      },
      "execution_count": 2,
      "outputs": [
        {
          "output_type": "stream",
          "name": "stdout",
          "text": [
            "Hello Python world\n"
          ]
        }
      ]
    },
    {
      "cell_type": "code",
      "source": [
        "message=\"Hello Python world\"\n",
        "print(message)\n",
        "\n",
        "message=\"Hello python Crash course world\"\n",
        "print(message)"
      ],
      "metadata": {
        "colab": {
          "base_uri": "https://localhost:8080/"
        },
        "id": "XZpYR6Yp8qkT",
        "outputId": "d14b11da-d3f4-409d-cb22-3c42ec754653"
      },
      "execution_count": 3,
      "outputs": [
        {
          "output_type": "stream",
          "name": "stdout",
          "text": [
            "Hello Python world\n",
            "Hello python Crash course world\n"
          ]
        }
      ]
    },
    {
      "cell_type": "code",
      "source": [],
      "metadata": {
        "id": "DYYPB-q48qY0"
      },
      "execution_count": null,
      "outputs": []
    }
  ]
}